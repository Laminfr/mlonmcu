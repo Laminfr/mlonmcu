{
 "cells": [
  {
   "cell_type": "markdown",
   "id": "9478e4b0",
   "metadata": {},
   "source": [
    "# MLonMCU"
   ]
  },
  {
   "cell_type": "markdown",
   "id": "8f7d087d",
   "metadata": {},
   "source": [
    "## Prerequisites"
   ]
  },
  {
   "cell_type": "markdown",
   "id": "f5afa492",
   "metadata": {},
   "source": [
    "Before running this notebook, make sure to run the following steps:\n",
    "\n",
    "1. Install the required software for your distribution:\n",
    "\n",
    "   See main `README.md` file!\n",
    "   \n",
    "2. Clone this repository\n",
    "\n",
    "   ```\n",
    "   git clone https://github.com/tum-ei-eda/mlonmcu.git\n",
    "   cd mlonmcu  # enter cloned repository\n",
    "   ```\n",
    "   \n",
    "3. Setup and enter a new virtualenv (Python 3.7+) for using `mlonmcu`:\n",
    "\n",
    "   ```\n",
    "   python -m venv .venv\n",
    "   source .venv/bin/activate\n",
    "   ```\n",
    "   \n",
    "   Hint: You can also use a `conda` environment for this.\n",
    "   \n",
    "4. Install mlonmcu package\n",
    "\n",
    "   ```\n",
    "   make install  # alternative: python setup.py install\n",
    "   ```\n",
    "   \n",
    "5. Install the required python packages:\n",
    "\n",
    "   ``` \n",
    "   # pip install -r requirements.txt  # Done automatically via setup.py?\n",
    "   pip install -r ipynb/requirements.txt\n",
    "   ```\n",
    "   \n",
    "6. Launch this notebook in jupyter:\n",
    "\n",
    "   ```\n",
    "   jupyter notebook ipynb/Demo.ipynb\n",
    "   ```"
   ]
  },
  {
   "cell_type": "markdown",
   "id": "ade663bb",
   "metadata": {},
   "source": [
    "*Hint for Developers:* If you do not want to install MLonMCU first, you can just replace `mlonmcu` with `python -m mlonmcu.cli.main` in every command to just use the latest development version."
   ]
  },
  {
   "cell_type": "markdown",
   "id": "b6d2c1cf",
   "metadata": {},
   "source": [
    "## Demonstration (Command Line)"
   ]
  },
  {
   "cell_type": "markdown",
   "id": "0a460dde",
   "metadata": {},
   "source": [
    "### Preface"
   ]
  },
  {
   "cell_type": "markdown",
   "id": "71105f6a",
   "metadata": {},
   "source": [
    "This guide should give an idea on the required steps to setup and use MLonMCU using the command line interface. Usage examples are provided as well."
   ]
  },
  {
   "cell_type": "markdown",
   "id": "3744822c",
   "metadata": {},
   "source": [
    "### Initialize a MLonMCU environment"
   ]
  },
  {
   "cell_type": "markdown",
   "id": "7113f996",
   "metadata": {},
   "source": [
    "As MLonMCU requires a directory where dependencies, configurations, intermediate artifacts and results are stored, an environment needs to be initialized first. This also allows to use different configuration (e.g. enabled backends or supported features) for multiple environments."
   ]
  },
  {
   "cell_type": "markdown",
   "id": "23edf711",
   "metadata": {},
   "source": [
    "Create and enter an environment diretcory first to initialize it afterwards:"
   ]
  },
  {
   "cell_type": "code",
   "execution_count": 1,
   "id": "167656d8",
   "metadata": {},
   "outputs": [
    {
     "name": "stdout",
     "output_type": "stream",
     "text": [
      "Initializing ML on MCU environment\r\n",
      "Selected target directory: /tmp/mlonmcu_env\r\n",
      "The directory does not exist! - Created directory.\r\n",
      "Creating environment.yml based on template 'default'.\r\n",
      "Skipping creation of virtual environment. (already inside one)\r\n",
      "Initializing directories in environment: deps models\r\n",
      "Finished. Please add `export MLONMCU_HOME=/tmp/mlonmcu_env` to your shell configuration to use it anywhere\r\n"
     ]
    }
   ],
   "source": [
    "# WARNING: execute this only once! Alternatively remove the environment directory beforehand to start from scratch.\n",
    "!test -d /tmp/mlonmcu_env && echo \"Skipped initialization on environment\" \\\n",
    "  || mlonmcu init /tmp/mlonmcu_env --non-interactive --clone-models"
   ]
  },
  {
   "cell_type": "markdown",
   "id": "099ed602",
   "metadata": {},
   "source": [
    "When not using a notebook, the option `--non-interactive` can be omitted which allows to customize the initialization process interactively."
   ]
  },
  {
   "cell_type": "markdown",
   "id": "cc331474",
   "metadata": {},
   "source": [
    "If the environment directory is not passed to the `mlonmcu` script, it will try to setup a `default` environment in the users home directory (On Ubuntu: `~/.config/mlonmcu/environments/default/`) instead. By providing a `--name` of the virtual environment if will be automatically registered in `~/.config/mlonmcy/environments.ini` for the current user which helps to find and distinguish multiple installed environments on a machine."
   ]
  },
  {
   "cell_type": "markdown",
   "id": "be4527e6",
   "metadata": {},
   "source": [
    "In the following the actual environment which should be used by the `mlonmcu` program has to be defined by the user either by defining the environment variable `MLONMCU_HOME` or by using the `-H` (`--home` or `--hint`) command line option. If none of this was done, the following rules are following to look for a suitable environment:\n",
    "\n",
    "1. Check if `$MLONMCU_HOME` points to a valid environment\n",
    "2. Use environment provided via the `-H` flag (path or registered name) if available\n",
    "3. If the local working directory is the root of an environment, use this directory\n",
    "4. If there is a default environment for the current user, fall back to this one instead"
   ]
  },
  {
   "cell_type": "code",
   "execution_count": 1,
   "id": "43e841d3",
   "metadata": {},
   "outputs": [
    {
     "name": "stdout",
     "output_type": "stream",
     "text": [
      "env: MLONMCU_HOME=/tmp/mlonmcu_env\n"
     ]
    }
   ],
   "source": [
    "# Use this for bash: `export MLONMCU_HOME=/tmp/mlonmcu_env`\n",
    "%env MLONMCU_HOME=/tmp/mlonmcu_env"
   ]
  },
  {
   "cell_type": "markdown",
   "id": "9f59427f",
   "metadata": {},
   "source": [
    "Registered environment can be listed via the command `mlonmcu env`. In addition there are possibilities to manually update entires in the environments file."
   ]
  },
  {
   "cell_type": "code",
   "execution_count": 2,
   "id": "8838f071",
   "metadata": {},
   "outputs": [
    {
     "name": "stdout",
     "output_type": "stream",
     "text": [
      "Looking for user environments config file: /home/ga87puy/.config/mlonmcu/environments.ini\r\n",
      "Found 7 mlonmcu environment(s):\r\n",
      "    - default (/home/ga87puy/.config/mlonmcu/environments/default)\r\n",
      "    - unamed (/work/git/prj/mlonmcu_open_source/workspace/new)\r\n",
      "    - unamed_0 (/tmp/mlonmcu_env)\r\n",
      "    - unamed_1 (/tmp/mlonmcu_env)\r\n",
      "    - bla2 (/home/ga87puy/.config/mlonmcu/environments/bla2)\r\n",
      "    - unamed_2 (/tmp/mlonmcu_env2)\r\n",
      "    - unamed_3 (/tmp/mlonmcu_env_test)\r\n",
      "Point the environment variable MLONMCU_HOME to a environment directory to get started\r\n"
     ]
    }
   ],
   "source": [
    "!mlonmcu env"
   ]
  },
  {
   "cell_type": "markdown",
   "id": "789b567d",
   "metadata": {},
   "source": [
    "### Customizing the created MLonMCU environment (optional)"
   ]
  },
  {
   "cell_type": "markdown",
   "id": "404b3bb1",
   "metadata": {},
   "source": [
    "The environment was initialized by a template which can be found in the `templates/` directory of the repository chosen via the `--template` flag. Lets inspect the generated configuration file first:"
   ]
  },
  {
   "cell_type": "code",
   "execution_count": 3,
   "id": "64f1a4d5",
   "metadata": {
    "scrolled": true
   },
   "outputs": [
    {
     "name": "stdout",
     "output_type": "stream",
     "text": [
      "---\r\n",
      "# The MLONMCU_HOME is filled in automatically when creating the environment\r\n",
      "home: \"/tmp/mlonmcu_env\"\r\n",
      "logging:\r\n",
      "  level: DEBUG\r\n",
      "  to_file: false\r\n",
      "  rotate: false\r\n",
      "# Default locations for certain directoriescan be changed here\r\n",
      "# Non-absolute paths will always be threated relative to the MLONMCU_HOME\r\n",
      "paths:\r\n",
      "  # Where the dependencies are downloaded and installed\r\n",
      "  deps: deps\r\n",
      "  # If logging to file is used keep logs in this directory\r\n",
      "  logs: logs\r\n",
      "  # Location where reports and artifacts are written to\r\n",
      "  results: results\r\n",
      "  # Directory for intermediate build products, should be located on a large enough drive\r\n",
      "  temp: temp\r\n",
      "  # A collection of models which will be used to look for models\r\n",
      "  # The paths will be checked in the order defined here stopping at the first match\r\n",
      "  # Non-existant paths will be skipped without throwing an error\r\n",
      "  models:\r\n",
      "    - \"/tmp/mlonmcu_env/models\"\r\n",
      "    - \"/home/ga87puy/.config/mlonmcu/models\"\r\n",
      "# Here default clone_urls\r\n",
      "repos:\r\n",
      "  tensorflow:\r\n",
      "    url: \"https://github.com/tensorflow/tflite-micro.git\"\r\n",
      "    ref: 746f880a405aeca2db6d005fd9fb8e451f3cea34\r\n",
      "  tflite_micro_compiler:\r\n",
      "    url: \"https://github.com/PhilippvK/tflite_micro_compiler.git\"\r\n",
      "    ref: 0e4b533a7a9e8ad30cf81fd24c77d12639431615\r\n",
      "  tvm:\r\n",
      "    url: \"https://github.com/apache/tvm.git\"\r\n",
      "    ref: 779dc51e1332f417fa4c304b595ce76891dfc33a\r\n",
      "  utvm_staticrt_codegen:\r\n",
      "    url: \"https://github.com/tum-ei-eda/utvm_staticrt_codegen.git\"\r\n",
      "    ref: 1b296f1efcc28671ee21ccbe86a81b968db8b1e5\r\n",
      "  etiss:\r\n",
      "    url: \"https://github.com/tum-ei-eda/etiss.git\"\r\n",
      "    ref: 36902d32ae760aa3c413ca06189e6515bc28d79c\r\n",
      "# Here all supported frameworks with their specific features are defined\r\n",
      "# Optionally disable unwanted or incomatible backends or features here\r\n",
      "# The configured defaults are used if no backend was specified in the command line options\r\n",
      "frameworks:\r\n",
      "  default: tvm\r\n",
      "  tflite:\r\n",
      "    enabled: true\r\n",
      "    backends:\r\n",
      "      default: tflmi\r\n",
      "      tflmc:\r\n",
      "        enabled: false\r\n",
      "      tflmi:\r\n",
      "        enabled: true\r\n",
      "        features:\r\n",
      "          debug_arena: true\r\n",
      "  tvm:\r\n",
      "    enabled: true\r\n",
      "    backends:\r\n",
      "      default: tvmaot\r\n",
      "      tvmrt:\r\n",
      "        enabled: true\r\n",
      "        features:\r\n",
      "          debug_arena: true\r\n",
      "      tvmaot:\r\n",
      "        enabled: true\r\n",
      "        features:\r\n",
      "          debug_arena: true\r\n",
      "          unpacked_api: true\r\n",
      "      tvmcg:\r\n",
      "        enabled: true\r\n",
      "# Some frontends are eperimental and therefore disabled here\r\n",
      "# Features like packing are only available in certain environments\r\n",
      "# \r\n",
      "frontends:\r\n",
      "  tflite:\r\n",
      "    enabled: true\r\n",
      "  packed:\r\n",
      "    enabled: false\r\n",
      "    features:\r\n",
      "      packing: true\r\n",
      "      packed: true\r\n",
      "  onnx:\r\n",
      "    enabled: false\r\n",
      "  # TODO: saved_model (TF->TFLITE), ipynb (IPYNB->?)\r\n",
      "# List of supported targets in the environment\r\n",
      "targets:\r\n",
      "  default: etiss_pulpino\r\n",
      "  etiss_pulpino:\r\n",
      "    enabled: true\r\n",
      "    features:\r\n",
      "      gdbserver: true\r\n",
      "      etissdbg: true\r\n",
      "      trace: true\r\n",
      "  host_x86:\r\n",
      "    enabled: true\r\n",
      "    features:\r\n",
      "      gdbserver: true\r\n",
      "# This is where further options such as specific versions of dependencies can be set in the furture\r\n",
      "vars:\r\n",
      "  tvm.make_tool: \"ninja\"\r\n",
      "  llvm.version: \"11.1.0\"\r\n",
      "  runs_per_stage: true\r\n"
     ]
    }
   ],
   "source": [
    "!cat $MLONMCU_HOME/environment.yml"
   ]
  },
  {
   "cell_type": "markdown",
   "id": "78b9eb23",
   "metadata": {},
   "source": [
    "The environment should work out of the box, but feel free to update the contents of the `environment.yml` file to achieve one of the following:\n",
    "\n",
    "- Change the default paths used for dependencies, results, models,...\n",
    "- Use different forks/versions of a repository\n",
    "- Disable certain frameworks/backends to reduce the installation time in the next step.\n",
    "- Define which features are supported for the given repositories\n",
    "- Set default backends and targets\n",
    "- Define a set of default configuration variables\n",
    "\n",
    "To learn more about this, check out this document: `ENVIRONMENTS.md`"
   ]
  },
  {
   "cell_type": "markdown",
   "id": "10e74d0f",
   "metadata": {},
   "source": [
    "### Setting up all MLonMCU dependencies"
   ]
  },
  {
   "cell_type": "markdown",
   "id": "fbc32554",
   "metadata": {},
   "source": [
    "Depending on the enabled backends and features, a different set of dependencies has to be installed. To reduce the management effort for the user, all these versions are installed and managed automatically using MLonMCU. To trigger this process, run the following in the command line. (This will take a very long time with all frameworks/targets/features enabled when invoked for the first time)"
   ]
  },
  {
   "cell_type": "code",
   "execution_count": 4,
   "id": "6ecce763",
   "metadata": {
    "scrolled": true
   },
   "outputs": [
    {
     "name": "stdout",
     "output_type": "stream",
     "text": [
      "INFO - No cache found in deps directory\n",
      "INFO - Installing dependencies...\n",
      "INFO - Processing task: clone_tensorflow\n",
      "INFO - Processing task: clone_muriscvnn\n",
      "INFO - Processing task: clone_tflite_micro_compiler\n",
      "INFO - Processing task: clone_etiss\n",
      "INFO - Processing task: install_llvm\n",
      "INFO - Processing task: clone_tvm\n",
      "INFO - Processing task: clone_utvm_staticrt_codegen\n",
      "INFO - Processing task: install_riscv_gcc{'vext': False}\n",
      "INFO - Processing task: clone_spike_pk\n",
      "INFO - Processing task: clone_spike\n",
      "INFO - Processing task: install_arm_gcc\n",
      "INFO - Processing task: clone_cmsis\n",
      "INFO - Processing task: install_corstone300\n",
      "INFO - Processing task: build_tensorflow{'dbg': True}\n",
      "INFO - Processing task: build_etiss{'dbg': False}\n",
      "INFO - Processing task: build_tvm{'dbg': False}\n",
      "INFO - Processing task: build_utvm_staticrt_codegen{'dbg': False}\n",
      "INFO - Processing task: build_muriscvnn\n",
      "INFO - Processing task: build_spike_pk\n",
      "INFO - Processing task: build_spike\n",
      "INFO - Processing task: build_cmsisnn\n",
      "INFO - Processing task: install_etiss{'dbg': False}\n",
      "INFO - Processing task: build_tflite_micro_compiler\n",
      "INFO - Processing task: build_etissvp{'dbg': False}\n",
      "INFO - Finished installing dependencies\n"
     ]
    }
   ],
   "source": [
    "!mlonmcu setup"
   ]
  },
  {
   "cell_type": "markdown",
   "id": "5b47bbba",
   "metadata": {},
   "source": [
    "Some things need to be considered here:\n",
    "- Repositories are only cloned once, so upstream changes or updated urls/branches in the `environments.yml` are not detected automatically\n",
    "- The flag `--rebuild` can be passed to `mlonmcu setup` to ensure that the setup routine of every dependency is triggered again. However this does not guarentee that all artifacts are properly updated. Also there is a `--task` option which allows to invoke individual tasks manually.\n",
    "- To guarantee that the latest versions of a dependency are installed you can remove the `deps` directory manually or alternative use the provided `mlonmcu cleanup` utility. (Execute `mlonmcu cleanup --help` to learn more)\n",
    "- In addition to the installed dependencies, a file named `cache.ini` can be found in the environments `deps/` directory. Here all paths to relevant dependencies are stored with their different sets of flags."
   ]
  },
  {
   "cell_type": "markdown",
   "id": "8daa9d4a",
   "metadata": {},
   "source": [
    "### Adding models to MLonMCU"
   ]
  },
  {
   "cell_type": "markdown",
   "id": "55518b0e",
   "metadata": {},
   "source": [
    "By default, the `mlonmcu-models` repository (https://github.com/tum-ei-eda/mlonmcu-models) is cloned to each environment as its contents are designed to perfectly integrate into the MLonMCU flow. In addition a location in the users home directory (`~/.config/mlonmcu/models/` for Ubuntu) is also added to the search path as defined in the `environments.yml`. Feel free to add further model manually or alternatively clone a model-zoo (e.g. https://github.com/ARM-software/ML-zoo) to a random location on the disc and updating the list of model-paths in the environments' config file."
   ]
  },
  {
   "cell_type": "markdown",
   "id": "25d49e86",
   "metadata": {},
   "source": [
    "To list all available models in a environment, the `mlonmcu models` subcommand can be used:"
   ]
  },
  {
   "cell_type": "code",
   "execution_count": 5,
   "id": "32db9a74",
   "metadata": {
    "scrolled": true
   },
   "outputs": [
    {
     "name": "stdout",
     "output_type": "stream",
     "text": [
      "INFO - Loading environment cache from file\n",
      "INFO - Successfully initialized cache\n",
      "Models Summary\n",
      "\n",
      "Paths:\n",
      "    /work/git/prj/mlonmcu_open_source/mlonmcu_newer/models\n",
      "    /nas/ei/home/ga87puy/.config/mlonmcu/models\n",
      "\n",
      "Models:\n",
      "    MobileNetV2\n",
      "    MobileNetV2/MobileNet_V2\n",
      "    aww\n",
      "    bigsine_quant\n",
      "    catdog\n",
      "    catdog/CNN_2L_model_quantized\n",
      "    catdog/CNN_full_quantized\n",
      "    catdog/CNN_full_quantized_70_\n",
      "    catdog/CNN_model\n",
      "    catdog2\n",
      "    cifar10\n",
      "    lstm2\n",
      "    magic_wand\n",
      "    micro_speech\n",
      "    mobilenetv1\n",
      "    resnet\n",
      "    simple_mnist\n",
      "    simple_mnist/MNIST_best_model\n",
      "    simple_mnist/MNIST_model\n",
      "    simple_mnist/MNIST_model_quantized\n",
      "    simple_mnist/model_data\n",
      "    simple_mnist/model_data_pruned\n",
      "    simple_mnist/model_data_size_optimized\n",
      "    sine_model\n",
      "    sine_model/hello_world\n",
      "    ssd\n",
      "    toycar\n",
      "    vww\n",
      "\n",
      "Groups:\n",
      "    tinymlperf [4 models]\n",
      "    minimal [1 models]\n",
      "    tinymlbook [3 models]\n"
     ]
    }
   ],
   "source": [
    "!mlonmcu models"
   ]
  },
  {
   "cell_type": "markdown",
   "id": "c38632a4",
   "metadata": {},
   "source": [
    "The listed \"Paths\" should match the search paths defined in the `environments.yml` and are processed in the provided order. If there are multiple models of the same name, only the first one will be added to MLonMCU. By passing the `--detailed` flag to the command, additional information will be shown for each entry.\n",
    "\n",
    "TODO: allow to search/filter for models by passing an extra arg"
   ]
  },
  {
   "cell_type": "markdown",
   "id": "7feedc70",
   "metadata": {},
   "source": [
    "In addition to individual models, predefined model-groups are also available. I.e. the MLPerf Tiny benchmark defined here:"
   ]
  },
  {
   "cell_type": "code",
   "execution_count": 6,
   "id": "aa765c5a",
   "metadata": {},
   "outputs": [
    {
     "name": "stdout",
     "output_type": "stream",
     "text": [
      "---\r\n",
      "tinymlperf:\r\n",
      "  - aww\r\n",
      "  - vww\r\n",
      "  - resnet\r\n",
      "  - toycar\r\n",
      "\r\n",
      "minimal:\r\n",
      "  - sine_model\r\n",
      "\r\n",
      "tinymlbook:\r\n",
      "  - hello_world\r\n",
      "  - micro_speech\r\n",
      "  - magic_wand\r\n"
     ]
    }
   ],
   "source": [
    "!cat $MLONMCU_HOME/models/modelgroups.yml"
   ]
  },
  {
   "cell_type": "markdown",
   "id": "fcf550a9",
   "metadata": {},
   "source": [
    "Feel free to manualy define further model-groups for your needs."
   ]
  },
  {
   "cell_type": "markdown",
   "id": "eda64a8c",
   "metadata": {},
   "source": [
    "### Running the MLonMCU flow"
   ]
  },
  {
   "cell_type": "markdown",
   "id": "15f53550",
   "metadata": {},
   "source": [
    "The MLonMCU flow is a major part of the tool and therefore explained by several examples, starting with minimal use cases before discussing more complex examples later."
   ]
  },
  {
   "cell_type": "markdown",
   "id": "b4584f0d",
   "metadata": {},
   "source": [
    "**Invoke a single model on the default backend/target**"
   ]
  },
  {
   "cell_type": "code",
   "execution_count": 2,
   "id": "d49d238e",
   "metadata": {},
   "outputs": [
    {
     "name": "stdout",
     "output_type": "stream",
     "text": [
      "INFO - Loading environment cache from file\n",
      "INFO - Successfully initialized cache\n",
      "INFO - [session-1] Processing stage NOP\n",
      "INFO - [session-1] Processing stage LOAD\n",
      "INFO - [session-1] Processing stage TUNE\n",
      "INFO - [session-1] Processing stage BUILD\n",
      "INFO - [session-1] Processing stage COMPILE\n",
      "INFO - [session-1] Processing stage RUN\n",
      "INFO - [session-1] Done processing runs\n",
      "INFO - Report:\n",
      "   Session  Run  ...                                             Config Comment\n",
      "0        1    0  ...  {'tvm.make_tool': 'ninja', 'riscv_gcc.name': '...       -\n",
      "\n",
      "[1 rows x 19 columns]\n"
     ]
    }
   ],
   "source": [
    "!mlonmcu flow run resnet"
   ]
  },
  {
   "cell_type": "markdown",
   "id": "fde27af0",
   "metadata": {},
   "source": [
    "While this looks pretty clean, in the background, there is a lot of thing being processed. You can find out more using the `--verbose` flag:"
   ]
  },
  {
   "cell_type": "code",
   "execution_count": 3,
   "id": "67b6fb50",
   "metadata": {
    "scrolled": true
   },
   "outputs": [
    {
     "name": "stdout",
     "output_type": "stream",
     "text": [
      "DEBUG - Restored 2 recent sessions\n",
      "DEBUG - Enter MlonMcuContext\n",
      "DEBUG - Locking context\n",
      "INFO - Loading environment cache from file\n",
      "INFO - Successfully initialized cache\n",
      "DEBUG - Found match. Ignoring other files\n",
      "DEBUG - Creating a new session with idx 2\n",
      "DEBUG - Creating a new run with id 0\n",
      "INFO - [session-2] Processing stage NOP\n",
      "DEBUG - [session-2] [run-0] Continuing run from stage LOAD until stage NOP\n",
      "DEBUG - [session-2] [run-0] Exporting run to disk\n",
      "DEBUG - [session-2] [run-0] Writing run file\n",
      "INFO - [session-2] Processing stage LOAD\n",
      "DEBUG - [session-2] [run-0] Continuing run from stage LOAD until stage LOAD\n",
      "DEBUG - [session-2] [run-0] Processing stage LOAD\n",
      "DEBUG - [session-2] [run-0] Exporting run to disk\n",
      "DEBUG - [session-2] [run-0] Writing run file\n",
      "INFO - [session-2] Processing stage TUNE\n",
      "DEBUG - [session-2] [run-0] Continuing run from stage TUNE until stage TUNE\n",
      "DEBUG - [session-2] [run-0] Processing stage TUNE\n",
      "DEBUG - [session-2] [run-0] Exporting run to disk\n",
      "DEBUG - [session-2] [run-0] Writing run file\n",
      "INFO - [session-2] Processing stage BUILD\n",
      "DEBUG - [session-2] [run-0] Continuing run from stage BUILD until stage BUILD\n",
      "DEBUG - [session-2] [run-0] Processing stage BUILD\n",
      "DEBUG - - Executing: ('/work/git/prj/mlonmcu_open_source/mlonmcu_newer/.venv/bin/python', '-m', 'tvm.driver.tvmc', 'compile', '/tmp/mlonmcu_env/temp/sessions/2/runs/0/resnet.tflite', '--target', 'c', '-f', 'mlf', '--executor', 'aot', '--runtime', 'crt', '--pass-config', 'tir.disable_vectorize=True', '--opt-level', '3', '--input-shapes', 'input_1_int8:[1,32,32,3]', '--runtime-crt-system-lib', '0', '--target-c-constants-byte-alignment', '4', '--target-c-workspace-byte-alignment', '4', '--target-c-executor', 'aot', '--target-c-unpacked-api', '0', '--target-c-interface-api', 'packed', '--output', '/tmp/tmpgl70uii4/default.tar')\n",
      "DEBUG - [session-2] [run-0] Exporting run to disk\n",
      "DEBUG - [session-2] [run-0] Writing run file\n",
      "INFO - [session-2] Processing stage COMPILE\n",
      "DEBUG - [session-2] [run-0] Continuing run from stage COMPILE until stage COMPILE\n",
      "DEBUG - [session-2] [run-0] Processing stage COMPILE\n",
      "DEBUG - - Executing: ('cmake', '/tmp/mlonmcu_env/sw', '-DCMAKE_BUILD_TYPE=Release', '-DFRAMEWORK=tvm', '-DTVM_SRC=/tmp/mlonmcu_env/deps/src/tvm', '-DBACKEND=tvmaot', '-DTARGET_SYSTEM=etiss_pulpino', '-DRISCV_ELF_GCC_PREFIX=/tmp/mlonmcu_env/deps/install/riscv_gcc', '-DRISCV_ELF_GCC_BASENAME=riscv64-unknown-elf', '-DRISCV_ARCH=rv32gc', '-DRISCV_ABI=ilp32d', '-DETISS_DIR=/tmp/mlonmcu_env/deps/install/etiss', '-DNUM_RUNS=1', '-DTOOLCHAIN=gcc', '-DMODEL_SUPPORT_DIR=/work/git/prj/mlonmcu_open_source/mlonmcu_newer/models/resnet/support', '-DSRC_DIR=/tmp/mlonmcu_env/temp/sessions/2/runs/0', '-DDATA_SRC=')\n",
      "DEBUG - - Executing: ('make', '-j4', 'generic_mlif')\n",
      "DEBUG - [session-2] [run-0] Exporting run to disk\n",
      "DEBUG - [session-2] [run-0] Writing run file\n",
      "INFO - [session-2] Processing stage RUN\n",
      "DEBUG - [session-2] [run-0] Continuing run from stage RUN until stage RUN\n",
      "DEBUG - [session-2] [run-0] Processing stage RUN\n",
      "DEBUG - - Executing: (PosixPath('/tmp/mlonmcu_env/deps/install/etiss/examples/bare_etiss_processor/run_helper.sh'), PosixPath('/tmp/mlonmcu_env/temp/sessions/2/runs/0/generic_mlif'), '-i/tmp/tmpzrvhenjq/custom.ini')\n",
      "DEBUG - - Executing: (PosixPath('/tmp/mlonmcu_env/deps/install/etiss/examples/bare_etiss_processor/get_metrics.py'), PosixPath('/tmp/mlonmcu_env/temp/sessions/2/runs/0/generic_mlif'), '--ini', '/tmp/tmpzrvhenjq/custom.ini', '--out', '/tmp/tmpzrvhenjq/metrics.csv')\n",
      "DEBUG - [session-2] [run-0] Exporting run to disk\n",
      "DEBUG - [session-2] [run-0] Writing run file\n",
      "INFO - [session-2] Done processing runs\n",
      "INFO - Report:\n",
      "   Session  Run  ...                                             Config Comment\n",
      "0        2    0  ...  {'tvm.make_tool': 'ninja', 'riscv_gcc.name': '...       -\n",
      "\n",
      "[1 rows x 19 columns]\n",
      "DEBUG - Exit MlonMcuContext\n",
      "DEBUG - Cleaning up active sessions\n",
      "DEBUG - Releasing lock on context\n"
     ]
    }
   ],
   "source": [
    "!mlonmcu flow run resnet --verbose"
   ]
  },
  {
   "cell_type": "markdown",
   "id": "4812f846",
   "metadata": {},
   "source": [
    "The report of a run is typically the first thing to check out after invoking MLonMCU. It will be automatically written to the `results` directory declared in the `environments.yml`:"
   ]
  },
  {
   "cell_type": "code",
   "execution_count": 6,
   "id": "a6e147f8",
   "metadata": {
    "scrolled": true
   },
   "outputs": [
    {
     "name": "stdout",
     "output_type": "stream",
     "text": [
      "/tmp/mlonmcu_env/results/unnamed_20220211T105937.csv\r\n",
      "/tmp/mlonmcu_env/results/unnamed_20220211T110103.csv\r\n",
      "/tmp/mlonmcu_env/results/unnamed_20220211T110124.csv\r\n"
     ]
    }
   ],
   "source": [
    "!ls $MLONMCU_HOME/results/*.csv"
   ]
  },
  {
   "cell_type": "markdown",
   "id": "f1ffb5b9",
   "metadata": {},
   "source": [
    "Let's define some helper functions to print these reports as a table. Of course you could also just open them i.e. with Excel! "
   ]
  },
  {
   "cell_type": "code",
   "execution_count": 2,
   "id": "3ca15186",
   "metadata": {},
   "outputs": [],
   "source": [
    "from helpers import tabularize_latest_report"
   ]
  },
  {
   "cell_type": "markdown",
   "id": "849d148a",
   "metadata": {},
   "source": [
    "In the following line the results or the latest run should be printed as a Pandas dataframe:"
   ]
  },
  {
   "cell_type": "code",
   "execution_count": 3,
   "id": "6d224b05",
   "metadata": {},
   "outputs": [
    {
     "data": {
      "text/html": [
       "<div>\n",
       "<style scoped>\n",
       "    .dataframe tbody tr th:only-of-type {\n",
       "        vertical-align: middle;\n",
       "    }\n",
       "\n",
       "    .dataframe tbody tr th {\n",
       "        vertical-align: top;\n",
       "    }\n",
       "\n",
       "    .dataframe thead th {\n",
       "        text-align: right;\n",
       "    }\n",
       "</style>\n",
       "<table border=\"1\" class=\"dataframe\">\n",
       "  <thead>\n",
       "    <tr style=\"text-align: right;\">\n",
       "      <th></th>\n",
       "      <th>Session</th>\n",
       "      <th>Run</th>\n",
       "      <th>Model</th>\n",
       "      <th>Frontend</th>\n",
       "      <th>Framework</th>\n",
       "      <th>Backend</th>\n",
       "      <th>Target</th>\n",
       "      <th>Num</th>\n",
       "      <th>Total Cycles</th>\n",
       "      <th>Total ROM</th>\n",
       "      <th>Total RAM</th>\n",
       "      <th>ROM read-only</th>\n",
       "      <th>ROM code</th>\n",
       "      <th>ROM misc</th>\n",
       "      <th>RAM data</th>\n",
       "      <th>RAM zero-init data</th>\n",
       "      <th>Features</th>\n",
       "      <th>Config</th>\n",
       "      <th>Comment</th>\n",
       "    </tr>\n",
       "  </thead>\n",
       "  <tbody>\n",
       "    <tr>\n",
       "      <th>0</th>\n",
       "      <td>2</td>\n",
       "      <td>0</td>\n",
       "      <td>resnet</td>\n",
       "      <td>tflite</td>\n",
       "      <td>tvm</td>\n",
       "      <td>tvmaot</td>\n",
       "      <td>etiss_pulpino</td>\n",
       "      <td>1</td>\n",
       "      <td>119217000</td>\n",
       "      <td>188684</td>\n",
       "      <td>124437</td>\n",
       "      <td>164800</td>\n",
       "      <td>23740</td>\n",
       "      <td>144</td>\n",
       "      <td>2137</td>\n",
       "      <td>122300</td>\n",
       "      <td>[]</td>\n",
       "      <td>{'tvm.make_tool': 'ninja', 'riscv_gcc.name': '...</td>\n",
       "      <td>-</td>\n",
       "    </tr>\n",
       "  </tbody>\n",
       "</table>\n",
       "</div>"
      ],
      "text/plain": [
       "   Session  Run   Model Frontend Framework Backend         Target  Num  \\\n",
       "0        2    0  resnet   tflite       tvm  tvmaot  etiss_pulpino    1   \n",
       "\n",
       "   Total Cycles  Total ROM  Total RAM  ROM read-only  ROM code  ROM misc  \\\n",
       "0     119217000     188684     124437         164800     23740       144   \n",
       "\n",
       "   RAM data  RAM zero-init data Features  \\\n",
       "0      2137              122300       []   \n",
       "\n",
       "                                              Config Comment  \n",
       "0  {'tvm.make_tool': 'ninja', 'riscv_gcc.name': '...       -  "
      ]
     },
     "execution_count": 3,
     "metadata": {},
     "output_type": "execute_result"
    }
   ],
   "source": [
    "tabularize_latest_report()"
   ]
  },
  {
   "cell_type": "markdown",
   "id": "c769e10e",
   "metadata": {},
   "source": [
    "The artifacts for every invocation of the MLonMCU flow can be found in directory inside the environment. Your can find the latest files like this:"
   ]
  },
  {
   "cell_type": "code",
   "execution_count": 4,
   "id": "6483d068",
   "metadata": {},
   "outputs": [
    {
     "name": "stdout",
     "output_type": "stream",
     "text": [
      "\u001b[01;34m/tmp/mlonmcu_env/temp/sessions/latest/\u001b[00m\r\n",
      "├── report.csv\r\n",
      "└── \u001b[01;34mruns\u001b[00m\r\n",
      "    ├── \u001b[01;34m0\u001b[00m\r\n",
      "    │   ├── aot_wrapper.c\r\n",
      "    │   ├── \u001b[01;34mcodegen\u001b[00m\r\n",
      "    │   ├── generic_mlif\r\n",
      "    │   ├── metadata.json\r\n",
      "    │   ├── metrics.csv\r\n",
      "    │   ├── \u001b[01;34mmlif\u001b[00m\r\n",
      "    │   ├── \u001b[01;34mparameters\u001b[00m\r\n",
      "    │   ├── report.csv\r\n",
      "    │   ├── resnet.tflite\r\n",
      "    │   ├── run.txt\r\n",
      "    │   ├── \u001b[01;34msrc\u001b[00m\r\n",
      "    │   └── tvm_wrapper.h\r\n",
      "    └── \u001b[01;36mlatest\u001b[00m -> \u001b[01;34m/tmp/mlonmcu_env/temp/sessions/2/runs/0\u001b[00m\r\n",
      "\r\n",
      "7 directories, 9 files\r\n"
     ]
    }
   ],
   "source": [
    "!tree -L 3 $MLONMCU_HOME/temp/sessions/latest/"
   ]
  },
  {
   "cell_type": "markdown",
   "id": "857b4a47",
   "metadata": {},
   "source": [
    "However there is a more comfortable way to do this: `mlonmcu export`"
   ]
  },
  {
   "cell_type": "code",
   "execution_count": 5,
   "id": "a03858fa",
   "metadata": {},
   "outputs": [],
   "source": [
    "#!mkdir -p /tmp/some_directory\n",
    "#!mlonmcu export /tmp/some_directory --run # By default this exports the latest run of the latest session"
   ]
  },
  {
   "cell_type": "markdown",
   "id": "18969447",
   "metadata": {},
   "source": [
    "Check out `mlonmcu export --help` to learn learn how to get the most out of this command. There is also a utility called `mlonmcu cleanup` which helps to get rid of old files after exporting the useful ones."
   ]
  },
  {
   "cell_type": "markdown",
   "id": "d5ee098e",
   "metadata": {},
   "source": [
    "There exist multiple stages which can be processed. The subcommand passed to `mlonmcu flow` defines the stage where the flow should stop. If you are only interested in intermediate artifacts of the process, use one of the following:\n",
    "\n",
    "```\n",
    "mlonmcu flow load  # only process the model with the frontend\n",
    "mlonmcu flow build  # invoke the chosen backend to generate code\n",
    "mlonmcu flow compile  # (cross-)compile the code for the chosen target\n",
    "```\n",
    "\n",
    "Further commands are available to achive further behavior:\n",
    "\n",
    "```\n",
    "mlonmcu flow test  # use provided model-data to invoke the models comparing their outputs with a golden reference\n",
    "```"
   ]
  },
  {
   "cell_type": "markdown",
   "id": "48ce915e",
   "metadata": {},
   "source": [
    "**Explicitly specify the backend and target to use for the flow**"
   ]
  },
  {
   "cell_type": "code",
   "execution_count": 2,
   "id": "47621bbc",
   "metadata": {},
   "outputs": [
    {
     "name": "stdout",
     "output_type": "stream",
     "text": [
      "INFO - Loading environment cache from file\n",
      "INFO - Successfully initialized cache\n",
      "INFO - [session-6] Processing stage NOP\n",
      "INFO - [session-6] Processing stage LOAD\n",
      "INFO - [session-6] Processing stage TUNE\n",
      "INFO - [session-6] Processing stage BUILD\n",
      "INFO - [session-6] Processing stage COMPILE\n",
      "INFO - [session-6] Processing stage RUN\n",
      "INFO - [session-6] Done processing runs\n",
      "INFO - Report:\n",
      "   Session  Run       Model  ... Features                      Config Comment\n",
      "0        6    0  sine_model  ...       []  {'tvm.make_tool': 'ninja'}       -\n",
      "\n",
      "[1 rows x 19 columns]\n"
     ]
    }
   ],
   "source": [
    "!mlonmcu flow run sine_model --backend tvmaot --target host_x86"
   ]
  },
  {
   "cell_type": "markdown",
   "id": "b048c328",
   "metadata": {},
   "source": [
    "**Enable certain features for all defined runs**"
   ]
  },
  {
   "cell_type": "code",
   "execution_count": 4,
   "id": "4dcda1a6",
   "metadata": {},
   "outputs": [
    {
     "name": "stdout",
     "output_type": "stream",
     "text": [
      "INFO - Loading environment cache from file\n",
      "INFO - Successfully initialized cache\n",
      "INFO - [session-8] Processing stage NOP\n",
      "INFO - [session-8] Processing stage LOAD\n",
      "INFO - [session-8] Processing stage TUNE\n",
      "INFO - [session-8] Processing stage BUILD\n",
      "INFO - [session-8] Processing stage COMPILE\n",
      "INFO - [session-8] Processing stage RUN\n",
      "INFO - [session-8] Done processing runs\n",
      "INFO - Report:\n",
      "   Session  Run  ...                                             Config Comment\n",
      "0        8    0  ...  {'tvmaot.unpacked_api': True, 'tvm.make_tool':...       -\n",
      "\n",
      "[1 rows x 19 columns]\n"
     ]
    }
   ],
   "source": [
    "!mlonmcu flow run toycar --backend tvmaot --target etiss_pulpino --feature unpacked_api"
   ]
  },
  {
   "cell_type": "markdown",
   "id": "c539c1bb",
   "metadata": {},
   "source": [
    "**Add additional configuration options to customize internal components**"
   ]
  },
  {
   "cell_type": "code",
   "execution_count": 5,
   "id": "61835423",
   "metadata": {},
   "outputs": [
    {
     "name": "stdout",
     "output_type": "stream",
     "text": [
      "INFO - Loading environment cache from file\n",
      "INFO - Successfully initialized cache\n",
      "INFO - [session-9] Processing stage NOP\n",
      "INFO - [session-9] Processing stage LOAD\n",
      "INFO - [session-9] Processing stage TUNE\n",
      "INFO - [session-9] Processing stage BUILD\n",
      "INFO - [session-9] Processing stage COMPILE\n",
      "INFO - [session-9] Processing stage RUN\n",
      "INFO - [session-9] Done processing runs\n",
      "INFO - Report:\n",
      "   Session  Run  ...                                             Config Comment\n",
      "0        9    0  ...  {'tvmaot.target_device': 'arm_cpu', 'tvm.make_...       -\n",
      "\n",
      "[1 rows x 19 columns]\n"
     ]
    }
   ],
   "source": [
    "!mlonmcu flow run resnet --backend tvmaot --config tvmaot.target_device=arm_cpu"
   ]
  },
  {
   "cell_type": "markdown",
   "id": "40f38f8f",
   "metadata": {},
   "source": [
    "Instead of defining certain key-value pass on aeach command line, feel free to use the `vars:` property defined in the `environment.yml` to achieve the same result."
   ]
  },
  {
   "cell_type": "markdown",
   "id": "dde2adc5",
   "metadata": {},
   "source": [
    "**Invoke multiple models on multiple backends/targets**"
   ]
  },
  {
   "cell_type": "code",
   "execution_count": 7,
   "id": "acb86cc3",
   "metadata": {},
   "outputs": [
    {
     "name": "stdout",
     "output_type": "stream",
     "text": [
      "INFO - Loading environment cache from file\n",
      "INFO - Successfully initialized cache\n",
      "INFO - [session-11] Processing stage NOP\n",
      "INFO - [session-11] Processing stage LOAD\n",
      "INFO - [session-11] Processing stage TUNE\n",
      "INFO - [session-11] Processing stage BUILD\n",
      "INFO - [session-11] Processing stage COMPILE\n",
      "INFO - [session-11] Processing stage RUN\n",
      "INFO - [session-11] Done processing runs\n",
      "INFO - Report:\n",
      "   Session  Run  ...                                             Config Comment\n",
      "0       11    0  ...  {'tvm.make_tool': 'ninja', 'riscv_gcc.name': '...       -\n",
      "0       11    1  ...  {'tflmi.ops': ['CONV_2D', 'ADD', 'AVERAGE_POOL...       -\n",
      "0       11    2  ...  {'tvm.make_tool': 'ninja', 'riscv_gcc.name': '...       -\n",
      "0       11    3  ...  {'tflmi.arena_size': 16384, 'tflmi.ops': ['FUL...       -\n",
      "\n",
      "[4 rows x 19 columns]\n",
      "\n",
      "real\t1m22.657s\n",
      "user\t3m55.819s\n",
      "sys\t0m11.396s\n"
     ]
    }
   ],
   "source": [
    "!time mlonmcu flow run resnet toycar --backend tvmaot --backend tflmi  --target etiss_pulpino"
   ]
  },
  {
   "cell_type": "markdown",
   "id": "a0a94aef",
   "metadata": {},
   "source": [
    "**Exploit parallelism to reduce the processing time**"
   ]
  },
  {
   "cell_type": "code",
   "execution_count": 9,
   "id": "a2cd60e3",
   "metadata": {},
   "outputs": [
    {
     "name": "stdout",
     "output_type": "stream",
     "text": [
      "INFO - Loading environment cache from file\n",
      "INFO - Successfully initialized cache\n",
      "INFO - [session-13] Processing stage NOP\n",
      "INFO - [session-13] Processing stage LOAD\n",
      "INFO - [session-13] Processing stage TUNE\n",
      "INFO - [session-13] Processing stage BUILD\n",
      "INFO - [session-13] Processing stage COMPILE\n",
      "INFO - [session-13] Processing stage RUN\n",
      "INFO - [session-13] Done processing runs\n",
      "INFO - Report:\n",
      "   Session  Run  ...                                             Config Comment\n",
      "0       13    0  ...  {'tvm.make_tool': 'ninja', 'riscv_gcc.name': '...       -\n",
      "0       13    1  ...  {'tflmi.ops': ['CONV_2D', 'ADD', 'AVERAGE_POOL...       -\n",
      "0       13    2  ...  {'tvm.make_tool': 'ninja', 'riscv_gcc.name': '...       -\n",
      "0       13    3  ...  {'tflmi.arena_size': 16384, 'tflmi.ops': ['FUL...       -\n",
      "\n",
      "[4 rows x 19 columns]\n",
      "\n",
      "real\t1m17.566s\n",
      "user\t4m4.543s\n",
      "sys\t0m12.655s\n"
     ]
    }
   ],
   "source": [
    "!time mlonmcu flow run resnet toycar --backend tvmaot --backend tflmi --target etiss_pulpino --parallel 4 --config runs_per_stage=0 --config mlif.num_threads=2"
   ]
  },
  {
   "cell_type": "markdown",
   "id": "35b41326",
   "metadata": {},
   "source": [
    "**Display progress information for long-running benchmarks**"
   ]
  },
  {
   "cell_type": "markdown",
   "id": "eb4df598",
   "metadata": {},
   "source": [
    "**WARNING:** The progress output looks bit broken inside the Jupyter Notebook but should look fine on the command-line."
   ]
  },
  {
   "cell_type": "code",
   "execution_count": 16,
   "id": "6fe3057f",
   "metadata": {},
   "outputs": [
    {
     "name": "stdout",
     "output_type": "stream",
     "text": [
      "INFO - Loading environment cache from file\n",
      "INFO - Successfully initialized cache\n",
      "Processing stages:   0%|                                                              | 0/6 [00:00s]\n",
      "Processing stage NOP:   0%|                                                          | 0/12 [00:00s]\u001b[A\n",
      "                                                                                                    \u001b[A\n",
      "Processing stage LOAD:   0%|                                                         | 0/12 [00:00s]\u001b[A\n",
      "                                                                                                    \u001b[A\n",
      "Processing stage TUNE:   0%|                                                         | 0/12 [00:00s]\u001b[A\n",
      "                                                                                                    \u001b[A\n",
      "Processing stage BUILD:   0%|                                                        | 0/12 [00:00s]\u001b[A\n",
      "Processing stage BUILD:  25%|██████████████                                          | 3/12 [00:08s]\u001b[A\n",
      "Processing stage BUILD:  42%|███████████████████████▎                                | 5/12 [00:09s]\u001b[A\n",
      "Processing stage BUILD:  50%|████████████████████████████                            | 6/12 [00:09s]\u001b[A\n",
      "Processing stage BUILD:  58%|████████████████████████████████▋                       | 7/12 [00:11s]\u001b[A\n",
      "Processing stage BUILD:  83%|█████████████████████████████████████████████▊         | 10/12 [00:12s]\u001b[A\n",
      "Processing stage BUILD: 100%|███████████████████████████████████████████████████████| 12/12 [00:12s]\u001b[A\n",
      "Processing stages:  67%|█████████████████████████████████████████▎                    | 4/6 [00:13s]\u001b[A\n",
      "Processing stage COMPILE:   0%|                                                      | 0/12 [00:00s]\u001b[A\n",
      "Processing stage COMPILE:   8%|████▌                                                 | 1/12 [00:04s]\u001b[A\n",
      "Processing stage COMPILE:  17%|█████████                                             | 2/12 [00:04s]\u001b[A\n",
      "Processing stage COMPILE:  25%|█████████████▌                                        | 3/12 [00:09s]\u001b[A\n",
      "Processing stage COMPILE:  33%|██████████████████                                    | 4/12 [00:10s]\u001b[A\n",
      "Processing stage COMPILE:  42%|██████████████████████▌                               | 5/12 [01:25s]\u001b[A\n",
      "Processing stage COMPILE:  50%|███████████████████████████                           | 6/12 [01:30s]\u001b[A\n",
      "Processing stage COMPILE:  58%|███████████████████████████████▌                      | 7/12 [01:35s]\u001b[A\n",
      "Processing stage COMPILE:  67%|████████████████████████████████████                  | 8/12 [01:41s]\u001b[A\n",
      "Processing stage COMPILE:  75%|████████████████████████████████████████▌             | 9/12 [01:53s]\u001b[A\n",
      "Processing stage COMPILE:  83%|████████████████████████████████████████████▏        | 10/12 [02:05s]\u001b[A\n",
      "Processing stage COMPILE:  92%|████████████████████████████████████████████████▌    | 11/12 [02:33s]\u001b[A\n",
      "Processing stage COMPILE: 100%|█████████████████████████████████████████████████████| 12/12 [02:46s]\u001b[A\n",
      "Processing stages:  83%|███████████████████████████████████████████████████▋          | 5/6 [02:59s]\u001b[A\n",
      "Processing stage RUN:   0%|                                                          | 0/12 [00:00s]\u001b[A\n",
      "Processing stage RUN:  33%|███████████████████▎                                      | 4/12 [00:00s]\u001b[A\n",
      "\n",
      "Processing stage RUN:  50%|█████████████████████████████                             | 6/12 [00:00s]\u001b[A\n",
      "\n",
      "Processing stage RUN:  67%|██████████████████████████████████████▋                   | 8/12 [00:00s]\u001b[A\n",
      "\n",
      "Processing stage RUN:  83%|███████████████████████████████████████████████▌         | 10/12 [00:01s]\u001b[A\n",
      "Processing stage RUN:  92%|████████████████████████████████████████████████████▎    | 11/12 [00:01s]\u001b[A\n",
      "Processing stage RUN: 100%|█████████████████████████████████████████████████████████| 12/12 [00:06s]\u001b[A\n",
      "Processing stages: 100%|██████████████████████████████████████████████████████████████| 6/6 [03:05s]\u001b[A\n",
      "INFO - [session-16] Done processing runs\n",
      "INFO - Report:\n",
      "   Session  Run  ... Comment           Runtime [s]\n",
      "0       16    0  ...       -                   NaN\n",
      "0       16    1  ...       -   0.01432490348815918\n",
      "0       16    2  ...       -                   NaN\n",
      "0       16    3  ...       -  0.045065879821777344\n",
      "0       16    4  ...       -                   NaN\n",
      "0       16    5  ...       -  0.004174709320068359\n",
      "0       16    6  ...       -                   NaN\n",
      "0       16    7  ...       -  0.004216432571411133\n",
      "0       16    8  ...       -                   NaN\n",
      "0       16    9  ...       -  0.003936290740966797\n",
      "0       16   10  ...       -                   NaN\n",
      "0       16   11  ...       -      0.00604248046875\n",
      "\n",
      "[12 rows x 20 columns]\n"
     ]
    }
   ],
   "source": [
    "!mlonmcu flow run resnet toycar micro_speech --progress --backend tvmaot --backend tflmi --target etiss_pulpino --target host_x86 --parallel --config mlif.num_threads=2"
   ]
  },
  {
   "cell_type": "markdown",
   "id": "0f7d4429",
   "metadata": {},
   "source": [
    "**Inspecting and exporting results and intermediate artifacts**"
   ]
  },
  {
   "cell_type": "code",
   "execution_count": 10,
   "id": "19f7a6d6",
   "metadata": {},
   "outputs": [],
   "source": [
    "# !mlonmcu export --session 0 --run 0 run.zip  # Export run 0 from session 0 to a zip archive \n",
    "# !mlonmcu export --session 1 session.zip  # Export every run of session 1 to a zip archive\n",
    "# !mlonmcu export session/  # Export the latest session to a directory"
   ]
  },
  {
   "cell_type": "markdown",
   "id": "9772e9f6",
   "metadata": {},
   "source": [
    "**Cleanup an MLonMCU environment**"
   ]
  },
  {
   "cell_type": "code",
   "execution_count": 11,
   "id": "879eb342",
   "metadata": {},
   "outputs": [],
   "source": [
    "# !mlonmcu cleanup  # Interactively clean sessions\n",
    "# !mlonmcu cleanup --force  # Clean all sessions\n",
    "# !mlonmcu cleanup --keep 10 --force  # Keep only the latest 10 sessions\n",
    "# !mlonmcu cleanup --dependencies  # Remove every installed dependency"
   ]
  },
  {
   "cell_type": "markdown",
   "id": "c542489c",
   "metadata": {},
   "source": [
    "## Demonstration (Python API)"
   ]
  },
  {
   "cell_type": "markdown",
   "id": "05e8646f",
   "metadata": {},
   "source": [
    "### Preface"
   ]
  },
  {
   "cell_type": "markdown",
   "id": "665848cb",
   "metadata": {},
   "source": [
    "While it is also possible to initialize and setup an MLonMCU environment via Python, it is highly recommended to use the provided command line interfaces for these steps. The following examples demonstrate how to use the MLonMCU flow from within a Python program which enables more customizations of the internal features via scripting."
   ]
  },
  {
   "cell_type": "code",
   "execution_count": 1,
   "id": "6d4cc4f5",
   "metadata": {},
   "outputs": [
    {
     "name": "stdout",
     "output_type": "stream",
     "text": [
      "env: MLONMCU_HOME=/tmp/mlonmcu_env\n"
     ]
    }
   ],
   "source": [
    "%env MLONMCU_HOME=/tmp/mlonmcu_env"
   ]
  },
  {
   "cell_type": "markdown",
   "id": "cdc59158",
   "metadata": {},
   "source": [
    "### Open a MLonMCU context to load the environment"
   ]
  },
  {
   "cell_type": "code",
   "execution_count": 2,
   "id": "faae27e4",
   "metadata": {},
   "outputs": [
    {
     "name": "stdout",
     "output_type": "stream",
     "text": [
      "INFO - Loading environment cache from file\n",
      "INFO - Successfully initialized cache\n"
     ]
    }
   ],
   "source": [
    "import mlonmcu.context\n",
    "\n",
    "with mlonmcu.context.MlonMcuContext() as context:\n",
    "    pass"
   ]
  },
  {
   "cell_type": "markdown",
   "id": "c6046d79",
   "metadata": {},
   "source": [
    "### Running the MLonMCU flow"
   ]
  },
  {
   "cell_type": "code",
   "execution_count": 3,
   "id": "98d6bb90",
   "metadata": {},
   "outputs": [
    {
     "name": "stdout",
     "output_type": "stream",
     "text": [
      "INFO - Loading environment cache from file\n",
      "INFO - Successfully initialized cache\n",
      "INFO - [session-34] Processing all stages\n",
      "INFO - [session-34] Done processing runs\n",
      "INFO - Report:\n",
      "   Session  Run         Model Frontend Framework Backend         Target  Num  \\\n",
      "0       34    0    magic_wand   tflite       tvm  tvmaot  etiss_pulpino    1   \n",
      "0       34    1  micro_speech   tflite       tvm  tvmaot  etiss_pulpino    1   \n",
      "0       34    2        toycar   tflite       tvm  tvmaot  etiss_pulpino    1   \n",
      "\n",
      "  Total Cycles Total ROM Total RAM ROM read-only ROM code ROM misc RAM data  \\\n",
      "0       690479     33394     20185         17752    15498      144     2137   \n",
      "0      3367240     49466     21573         34100    15222      144     2137   \n",
      "0      2440540    554468      5477        535596    18728      144     2137   \n",
      "\n",
      "  RAM zero-init data Features                                     Config  \\\n",
      "0              18048       []  {'riscv_gcc.name': 'riscv64-unknown-elf'}   \n",
      "0              19436       []  {'riscv_gcc.name': 'riscv64-unknown-elf'}   \n",
      "0               3340       []  {'riscv_gcc.name': 'riscv64-unknown-elf'}   \n",
      "\n",
      "  Comment  \n",
      "0       -  \n",
      "0       -  \n",
      "0       -  \n"
     ]
    }
   ],
   "source": [
    "import mlonmcu.context\n",
    "from mlonmcu.session.run import RunStage\n",
    "\n",
    "MODEL_NAMES = [\"magic_wand\", \"micro_speech\", \"toycar\"]\n",
    "\n",
    "with mlonmcu.context.MlonMcuContext() as context:\n",
    "    session = context.create_session()\n",
    "    for model_name in MODEL_NAMES:\n",
    "        run = session.create_run(features=[], config={})\n",
    "        run.add_frontend_by_name(\"tflite\", context=context)\n",
    "        run.add_model_by_name(model_name, context=context)\n",
    "        run.add_backend_by_name(\"tvmaot\", context=context)\n",
    "        run.add_target_by_name(\"etiss_pulpino\", context=context)\n",
    "    session.process_runs(until=RunStage.RUN, context=context)\n",
    "    report = session.get_reports()"
   ]
  },
  {
   "cell_type": "markdown",
   "id": "73795038",
   "metadata": {},
   "source": [
    "Now we have the dataframe of the run we just defined and right in out python environment so we can have more fun with it."
   ]
  },
  {
   "cell_type": "code",
   "execution_count": 4,
   "id": "8aa95a0b",
   "metadata": {},
   "outputs": [
    {
     "data": {
      "text/html": [
       "<div>\n",
       "<style scoped>\n",
       "    .dataframe tbody tr th:only-of-type {\n",
       "        vertical-align: middle;\n",
       "    }\n",
       "\n",
       "    .dataframe tbody tr th {\n",
       "        vertical-align: top;\n",
       "    }\n",
       "\n",
       "    .dataframe thead th {\n",
       "        text-align: right;\n",
       "    }\n",
       "</style>\n",
       "<table border=\"1\" class=\"dataframe\">\n",
       "  <thead>\n",
       "    <tr style=\"text-align: right;\">\n",
       "      <th></th>\n",
       "      <th>Session</th>\n",
       "      <th>Run</th>\n",
       "      <th>Model</th>\n",
       "      <th>Frontend</th>\n",
       "      <th>Framework</th>\n",
       "      <th>Backend</th>\n",
       "      <th>Target</th>\n",
       "      <th>Num</th>\n",
       "      <th>Total Cycles</th>\n",
       "      <th>Total ROM</th>\n",
       "      <th>Total RAM</th>\n",
       "      <th>ROM read-only</th>\n",
       "      <th>ROM code</th>\n",
       "      <th>ROM misc</th>\n",
       "      <th>RAM data</th>\n",
       "      <th>RAM zero-init data</th>\n",
       "      <th>Features</th>\n",
       "      <th>Config</th>\n",
       "      <th>Comment</th>\n",
       "    </tr>\n",
       "  </thead>\n",
       "  <tbody>\n",
       "    <tr>\n",
       "      <th>0</th>\n",
       "      <td>34</td>\n",
       "      <td>0</td>\n",
       "      <td>magic_wand</td>\n",
       "      <td>tflite</td>\n",
       "      <td>tvm</td>\n",
       "      <td>tvmaot</td>\n",
       "      <td>etiss_pulpino</td>\n",
       "      <td>1</td>\n",
       "      <td>690479</td>\n",
       "      <td>33394</td>\n",
       "      <td>20185</td>\n",
       "      <td>17752</td>\n",
       "      <td>15498</td>\n",
       "      <td>144</td>\n",
       "      <td>2137</td>\n",
       "      <td>18048</td>\n",
       "      <td>[]</td>\n",
       "      <td>{'riscv_gcc.name': 'riscv64-unknown-elf'}</td>\n",
       "      <td>-</td>\n",
       "    </tr>\n",
       "    <tr>\n",
       "      <th>0</th>\n",
       "      <td>34</td>\n",
       "      <td>1</td>\n",
       "      <td>micro_speech</td>\n",
       "      <td>tflite</td>\n",
       "      <td>tvm</td>\n",
       "      <td>tvmaot</td>\n",
       "      <td>etiss_pulpino</td>\n",
       "      <td>1</td>\n",
       "      <td>3367240</td>\n",
       "      <td>49466</td>\n",
       "      <td>21573</td>\n",
       "      <td>34100</td>\n",
       "      <td>15222</td>\n",
       "      <td>144</td>\n",
       "      <td>2137</td>\n",
       "      <td>19436</td>\n",
       "      <td>[]</td>\n",
       "      <td>{'riscv_gcc.name': 'riscv64-unknown-elf'}</td>\n",
       "      <td>-</td>\n",
       "    </tr>\n",
       "    <tr>\n",
       "      <th>0</th>\n",
       "      <td>34</td>\n",
       "      <td>2</td>\n",
       "      <td>toycar</td>\n",
       "      <td>tflite</td>\n",
       "      <td>tvm</td>\n",
       "      <td>tvmaot</td>\n",
       "      <td>etiss_pulpino</td>\n",
       "      <td>1</td>\n",
       "      <td>2440540</td>\n",
       "      <td>554468</td>\n",
       "      <td>5477</td>\n",
       "      <td>535596</td>\n",
       "      <td>18728</td>\n",
       "      <td>144</td>\n",
       "      <td>2137</td>\n",
       "      <td>3340</td>\n",
       "      <td>[]</td>\n",
       "      <td>{'riscv_gcc.name': 'riscv64-unknown-elf'}</td>\n",
       "      <td>-</td>\n",
       "    </tr>\n",
       "  </tbody>\n",
       "</table>\n",
       "</div>"
      ],
      "text/plain": [
       "   Session  Run         Model Frontend Framework Backend         Target  Num  \\\n",
       "0       34    0    magic_wand   tflite       tvm  tvmaot  etiss_pulpino    1   \n",
       "0       34    1  micro_speech   tflite       tvm  tvmaot  etiss_pulpino    1   \n",
       "0       34    2        toycar   tflite       tvm  tvmaot  etiss_pulpino    1   \n",
       "\n",
       "  Total Cycles Total ROM Total RAM ROM read-only ROM code ROM misc RAM data  \\\n",
       "0       690479     33394     20185         17752    15498      144     2137   \n",
       "0      3367240     49466     21573         34100    15222      144     2137   \n",
       "0      2440540    554468      5477        535596    18728      144     2137   \n",
       "\n",
       "  RAM zero-init data Features                                     Config  \\\n",
       "0              18048       []  {'riscv_gcc.name': 'riscv64-unknown-elf'}   \n",
       "0              19436       []  {'riscv_gcc.name': 'riscv64-unknown-elf'}   \n",
       "0               3340       []  {'riscv_gcc.name': 'riscv64-unknown-elf'}   \n",
       "\n",
       "  Comment  \n",
       "0       -  \n",
       "0       -  \n",
       "0       -  "
      ]
     },
     "execution_count": 4,
     "metadata": {},
     "output_type": "execute_result"
    }
   ],
   "source": [
    "report.df"
   ]
  },
  {
   "cell_type": "markdown",
   "id": "c437f1cf",
   "metadata": {},
   "source": [
    "Let's add a quick visualization:"
   ]
  },
  {
   "cell_type": "code",
   "execution_count": 7,
   "id": "d9eb1414",
   "metadata": {},
   "outputs": [
    {
     "data": {
      "image/png": "[encoded data removed]",
      "text/plain": [
       "<Figure size 1080x216 with 3 Axes>"
      ]
     },
     "metadata": {
      "needs_background": "light"
     },
     "output_type": "display_data"
    }
   ],
   "source": [
    "import matplotlib.pyplot as plt\n",
    "\n",
    "COLS = [\"Total Cycles\", \"Total ROM\", \"Total RAM\"]\n",
    "\n",
    "fig, axes = plt.subplots(ncols=len(COLS))\n",
    "plt.rcParams[\"figure.figsize\"] = (15, 3) # (w, h)\n",
    "\n",
    "\n",
    "for i, col in enumerate(COLS):\n",
    "    new_df = report.df[[col]].astype(float)\n",
    "    new_df.index = MODEL_NAMES\n",
    "    new_df.plot(kind=\"bar\", ax=axes[i])"
   ]
  },
  {
   "cell_type": "markdown",
   "id": "31f10075",
   "metadata": {},
   "source": [
    "### Futher low level APIs"
   ]
  },
  {
   "cell_type": "code",
   "execution_count": null,
   "id": "ac2f9e5d",
   "metadata": {},
   "outputs": [],
   "source": [
    "# TODO"
   ]
  },
  {
   "cell_type": "markdown",
   "id": "f1b6f99e",
   "metadata": {},
   "source": [
    "Core components of MLonMC (Frontends, Backends, Targets) can also be invoked individually as demonstrated in the following examples:"
   ]
  },
  {
   "cell_type": "code",
   "execution_count": null,
   "id": "659e0dfd",
   "metadata": {},
   "outputs": [],
   "source": [
    "# TODO"
   ]
  }
 ],
 "metadata": {
  "kernelspec": {
   "display_name": "Python 3 (ipykernel)",
   "language": "python",
   "name": "python3"
  },
  "language_info": {
   "codemirror_mode": {
    "name": "ipython",
    "version": 3
   },
   "file_extension": ".py",
   "mimetype": "text/x-python",
   "name": "python",
   "nbconvert_exporter": "python",
   "pygments_lexer": "ipython3",
   "version": "3.8.10"
  }
 },
 "nbformat": 4,
 "nbformat_minor": 5
}
