{
 "cells": [
  {
   "cell_type": "markdown",
   "id": "9478e4b0",
   "metadata": {},
   "source": [
    "# MLonMCU"
   ]
  },
  {
   "cell_type": "markdown",
   "id": "8f7d087d",
   "metadata": {},
   "source": [
    "## Prerequisites"
   ]
  },
  {
   "cell_type": "markdown",
   "id": "f5afa492",
   "metadata": {},
   "source": [
    "Before running this notebook, make sure to run the following steps:\n",
    "\n",
    "1. Install the required software for your distribution:\n",
    "\n",
    "   See main `README.md` file!\n",
    "   \n",
    "2. Clone this repository\n",
    "\n",
    "   ```\n",
    "   git clone TODO\n",
    "   cd mlonmcu  # enter cloned repository\n",
    "   ```\n",
    "   \n",
    "3. Setup and enter a new virtualenv (Python 3.7+) for using `mlonmcu`:\n",
    "\n",
    "   ```\n",
    "   Bla!\n",
    "   source .venv/bin/activate\n",
    "   ```\n",
    "   \n",
    "   Hint: You can also use a `conda` environment for this.\n",
    "   \n",
    "4. Install mlonmcu package\n",
    "\n",
    "   ```\n",
    "   make install  # alternative: python setup.py install\n",
    "   ```\n",
    "   \n",
    "5. Install the required python packages:\n",
    "\n",
    "   ``` \n",
    "   # pip install -r requirements.txt  # Done automatically via setup.py?\n",
    "   pip install -r ipynb/requirements.txt\n",
    "   ```\n",
    "   \n",
    "6. Launch this notebook in jupyter:\n",
    "\n",
    "   ```\n",
    "   jupyter notebook ipynb/Demo.ipynb\n",
    "   ```"
   ]
  },
  {
   "cell_type": "markdown",
   "id": "b6d2c1cf",
   "metadata": {},
   "source": [
    "## Demonstration (Command Line)"
   ]
  },
  {
   "cell_type": "markdown",
   "id": "0a460dde",
   "metadata": {},
   "source": [
    "### Preface"
   ]
  },
  {
   "cell_type": "markdown",
   "id": "71105f6a",
   "metadata": {},
   "source": [
    "This guide should give an idea on the required steps to setup and use MLonMCU using the command line interface. Usage examples are provided as well."
   ]
  },
  {
   "cell_type": "markdown",
   "id": "3744822c",
   "metadata": {},
   "source": [
    "### Initialize a MLonMCU environment"
   ]
  },
  {
   "cell_type": "markdown",
   "id": "7113f996",
   "metadata": {},
   "source": [
    "As MLonMCU requires a directory where dependencies, configurations, intermediate artifacts and results are stored, an environment needs to be initialized first. This also allows to use different configuration (e.g. enabled backends or supported features) for multiple environments."
   ]
  },
  {
   "cell_type": "markdown",
   "id": "23edf711",
   "metadata": {},
   "source": [
    "Create and enter an environment diretcory first to initialize it afterwards:"
   ]
  },
  {
   "cell_type": "code",
   "execution_count": 10,
   "id": "167656d8",
   "metadata": {},
   "outputs": [
    {
     "name": "stdout",
     "output_type": "stream",
     "text": [
      "Initializing ML on MCU environment\r\n",
      "Selected target directory: /tmp/mlonmcu_env\r\n",
      "The directory does not exist! - Created directory.\r\n",
      "Creating environment.yml based on template 'default'.\r\n",
      "Skipping creation of virtual environment. (already inside one)\r\n",
      "Initializing directories in environment: deps models\r\n",
      "Finished. Please add `export MLONMCU_HOME=/tmp/mlonmcu_env` to your shell configuration to use it anywhere\r\n"
     ]
    }
   ],
   "source": [
    "# WARNING: execute this only once! Alternatively remove the environment directory beforehand to start from scratch.\n",
    "!test -d /tmp/mlonmcu_env && echo \"Skipped initialization on environment\" \\\n",
    "  || mlonmcu init /tmp/mlonmcu_env --non-interactive --skip-sw"
   ]
  },
  {
   "cell_type": "code",
   "execution_count": 9,
   "id": "47b3553b",
   "metadata": {},
   "outputs": [],
   "source": [
    "rm -rf /tmp/mlonmcu_env"
   ]
  },
  {
   "cell_type": "code",
   "execution_count": 27,
   "id": "2adc84da",
   "metadata": {},
   "outputs": [],
   "source": [
    "cp -r ../sw/* /tmp/mlonmcu_env/sw"
   ]
  },
  {
   "cell_type": "code",
   "execution_count": 28,
   "id": "ae5d4a63",
   "metadata": {},
   "outputs": [],
   "source": [
    "cp -r ../models/* /tmp/mlonmcu_env/models"
   ]
  },
  {
   "cell_type": "markdown",
   "id": "099ed602",
   "metadata": {},
   "source": [
    "When not using a notebook, the option `--non-interactive` can be omitted which allows to customize the initialization process interactively."
   ]
  },
  {
   "cell_type": "markdown",
   "id": "cc331474",
   "metadata": {},
   "source": [
    "If the environment directory is not passed to the `mlonmcu` script, it will try to setup a `default` environment in the users home directory (On Ubuntu: `~/.config/mlonmcu/environments/default/`) instead. By providing a `--name` of the virtual environment if will be automatically registered in `~/.config/mlonmcy/environments.ini` for the current user which helps to find and distinguish multiple installed environments on a machine."
   ]
  },
  {
   "cell_type": "markdown",
   "id": "be4527e6",
   "metadata": {},
   "source": [
    "In the following the actual environment which should be used by the `mlonmcu` program has to be defined by the user either by defining the environment variable `MLONMCU_HOME` or by using the `-H` (`--home` or `--hint`) command line option. If none of this was done, the following rules are following to look for a suitable environment:\n",
    "\n",
    "1. Check if `$MLONMCU_HOME` points to a valid environment\n",
    "2. Use environment provided via the `-H` flag (path or registered name) if available\n",
    "3. If the local working directory is the root of an environment, use this directory\n",
    "4. If there is a default environment for the current user, fall back to this one instead"
   ]
  },
  {
   "cell_type": "code",
   "execution_count": 1,
   "id": "43e841d3",
   "metadata": {},
   "outputs": [
    {
     "name": "stdout",
     "output_type": "stream",
     "text": [
      "env: MLONMCU_HOME=/tmp/mlonmcu_env\n"
     ]
    }
   ],
   "source": [
    "# Use this for bash: `export MLONMCU_HOME=/tmp/mlonmcu_env`\n",
    "%env MLONMCU_HOME=/tmp/mlonmcu_env"
   ]
  },
  {
   "cell_type": "markdown",
   "id": "9f59427f",
   "metadata": {},
   "source": [
    "Registered environment can be listed via the command `mlonmcu env list`. In addition there are possibilities to manually update entires in the environments file."
   ]
  },
  {
   "cell_type": "markdown",
   "id": "789b567d",
   "metadata": {},
   "source": [
    "### Customizing the created MLonMCU environment (optional)"
   ]
  },
  {
   "cell_type": "markdown",
   "id": "404b3bb1",
   "metadata": {},
   "source": [
    "The environment was initialized by a template which can be found in the `templates/` directory of the repository chosen via the `--template` flag. Lets inspect the generated configuration file first:"
   ]
  },
  {
   "cell_type": "code",
   "execution_count": 2,
   "id": "64f1a4d5",
   "metadata": {
    "scrolled": true
   },
   "outputs": [
    {
     "name": "stdout",
     "output_type": "stream",
     "text": [
      "---\r\n",
      "# The MLONMCU_HOME is filled in automatically when creating the environment\r\n",
      "home: \"/tmp/mlonmcu_env\"\r\n",
      "logging:\r\n",
      "  level: DEBUG\r\n",
      "  to_file: false\r\n",
      "  rotate: false\r\n",
      "# Default locations for certain directoriescan be changed here\r\n",
      "# Non-absolute paths will always be threated relative to the MLONMCU_HOME\r\n",
      "paths:\r\n",
      "  # Where the dependencies are downloaded and installed\r\n",
      "  deps: deps\r\n",
      "  # If logging to file is used keep logs in this directory\r\n",
      "  logs: logs\r\n",
      "  # Location where reports and artifacts are written to\r\n",
      "  results: out\r\n",
      "  # Directory for intermediate build products, should be located on a large enough drive\r\n",
      "  temp: temp\r\n",
      "  # A collection of models which will be used to look for models\r\n",
      "  # The paths will be checked in the order defined here stopping at the first match\r\n",
      "  # Non-existant paths will be skipped without throwing an error\r\n",
      "  models:\r\n",
      "    - \"/tmp/mlonmcu_env/models\"\r\n",
      "    - \"/home/philipp/.config/mlonmcu/models\"\r\n",
      "# Here default clone_urls\r\n",
      "repos:\r\n",
      "  tensorflow:\r\n",
      "    url: \"https://github.com/tum-ei-eda/tensorflow.git\"\r\n",
      "    ref: tumeda\r\n",
      "  tflite_micro_compiler:\r\n",
      "    url: \"https://github.com/PhilippvK/tflite_micro_compiler.git\"\r\n",
      "    ref: patches\r\n",
      "  tvm:\r\n",
      "    url: \"https://github.com/apache/tvm.git\"\r\n",
      "    ref: main\r\n",
      "  utvm_staticrt_codegen:\r\n",
      "    url: \"https://github.com/tum-ei-eda/utvm_staticrt_codegen.git\"\r\n",
      "    ref: master\r\n",
      "  etiss:\r\n",
      "    url: \"https://github.com/tum-ei-eda/etiss.git\"\r\n",
      "    ref: master\r\n",
      "# Here all supported frameworks with their specific features are defined\r\n",
      "# Optionally disable unwanted or incomatible backends or features here\r\n",
      "# The configured defaults are used if no backend was specified in the command line options\r\n",
      "frameworks:\r\n",
      "  default: tvm\r\n",
      "  tflm:\r\n",
      "    enabled: true\r\n",
      "    backends:\r\n",
      "      default: tflmc\r\n",
      "      tflmc:\r\n",
      "        enabled: true\r\n",
      "      tflmi:\r\n",
      "        enabled: true\r\n",
      "    features:\r\n",
      "      packing: false\r\n",
      "      riscv_nn: false\r\n",
      "  tvm:\r\n",
      "    enabled: true\r\n",
      "    backends:\r\n",
      "      default: tvmaot\r\n",
      "      tvmrt:\r\n",
      "        enabled: true\r\n",
      "      tvmaot:\r\n",
      "        enabled: true\r\n",
      "      tvmcg:\r\n",
      "        enabled: true\r\n",
      "# Some frontends are eperimental and therefore disabled here\r\n",
      "# Features like packing are only available in certain environments\r\n",
      "# \r\n",
      "frontends:\r\n",
      "  tflite:\r\n",
      "    enabled: true\r\n",
      "  packed:\r\n",
      "    enabled: false\r\n",
      "    features:\r\n",
      "      packing: true\r\n",
      "      packed: true\r\n",
      "  onnx:\r\n",
      "    enabled: false\r\n",
      "  # TODO: saved_model (TF->TFLITE), ipynb (IPYNB->?)\r\n",
      "# List of supported targets in the environment\r\n",
      "targets:\r\n",
      "  default: etiss_pulpino\r\n",
      "  etiss_pulpino:\r\n",
      "    enabled: true\r\n",
      "  host_x86:\r\n",
      "    enabled: true\r\n",
      "# This is where further options such as specific versions of dependencies can be set in the furture\r\n",
      "vars:\r\n",
      "  tvm.make_tool: \"ninja\"\r\n",
      "  llvm.version: \"11.1.0\""
     ]
    }
   ],
   "source": [
    "!cat $MLONMCU_HOME/environment.yml"
   ]
  },
  {
   "cell_type": "markdown",
   "id": "78b9eb23",
   "metadata": {},
   "source": [
    "The environment should work out of the box, but feel free to update the contents of the `environment.yml` file to achieve one of the following:\n",
    "\n",
    "- Change the default paths used for dependencies, results, models,...\n",
    "- Use different forks/versions of a repository\n",
    "- Disable certain frameworks/backends to reduce the installation time in the next step.\n",
    "- Define which features are supported for the given repositories\n",
    "- Set default backends and targets\n",
    "- Define a set of default configuration variables\n",
    "\n",
    "To learn more about this, check out this document: `docs/ENVIRONMENTS.md` (TODO)"
   ]
  },
  {
   "cell_type": "markdown",
   "id": "10e74d0f",
   "metadata": {},
   "source": [
    "### Setting up all MLonMCU dependencies"
   ]
  },
  {
   "cell_type": "markdown",
   "id": "fbc32554",
   "metadata": {},
   "source": [
    "Depending on the enabled backends and features, a different set of dependencies has to be installed. To reduce the management effort for the user, all these versions are installed and managed automatically using MLonMCU. To trigger this process, run the following in the command line. (This will take a very long time with all frameworks/targets/features enabled when invoked for the first time)"
   ]
  },
  {
   "cell_type": "code",
   "execution_count": 3,
   "id": "6ecce763",
   "metadata": {
    "scrolled": true
   },
   "outputs": [
    {
     "name": "stdout",
     "output_type": "stream",
     "text": [
      "INFO - Loading environment cache from file\n",
      "INFO - Successfully initialized cache\n",
      "INFO - Installing dependencies...\n",
      "INFO - Processing task: clone_tensorflow\n",
      "INFO - Processing task: clone_tflite_micro_compiler\n",
      "INFO - Processing task: clone_etiss\n",
      "INFO - Processing task: install_llvm\n",
      "INFO - Processing task: clone_tvm\n",
      "INFO - Processing task: clone_utvm_staticrt_codegen\n",
      "INFO - Processing task: clone_muriscvnn\n",
      "INFO - Processing task: install_riscv_gcc{'vext': False}\n",
      "INFO - Processing task: install_riscv_gcc{'vext': True}\n",
      "INFO - Processing task: build_tensorflow{'dbg': True}\n",
      "INFO - Processing task: build_etiss{'dbg': False}\n",
      "INFO - Processing task: build_tvm{'dbg': False}\n",
      "INFO - Processing task: build_utvm_staticrt_codegen{'dbg': False}\n",
      "INFO - Processing task: install_etiss{'dbg': False}\n",
      "INFO - Processing task: build_etissvp{'dbg': False}\n",
      "INFO - Processing task: build_muriscvnn\n",
      "INFO - Processing task: build_tflite_micro_compiler{'dbg': False, 'muriscvnn': False}\n",
      "INFO - Processing task: build_tflite_micro_compiler{'dbg': False, 'muriscvnn': True}\n",
      "INFO - Finished installing dependencies\n"
     ]
    }
   ],
   "source": [
    "!mlonmcu setup"
   ]
  },
  {
   "cell_type": "markdown",
   "id": "5b47bbba",
   "metadata": {},
   "source": [
    "Some things need to be considered here:\n",
    "- Repositories are only cloned once, so upstream changes or updated urls/branches in the `environments.yml` are not detected automatically\n",
    "- The flag `--rebuild` can be passed to `mlonmcu setup` to ensure that the setup routine of every dependency is triggered again. However this does not guarentee that all artifacts are properly updated\n",
    "- To guarantee that the latest versions of a dependency are installed you can remove the `deps` directory manually or alternative use the provided `mlonmcu cleanup` utility. (Execute `mlonmcu cleanup --help` to learn more) "
   ]
  },
  {
   "cell_type": "markdown",
   "id": "8daa9d4a",
   "metadata": {},
   "source": [
    "### Adding models to MLonMCU"
   ]
  },
  {
   "cell_type": "markdown",
   "id": "55518b0e",
   "metadata": {},
   "source": [
    "By default, the `mlonmcu-models` repository (https://github.com/tum-ei-eda/mlonmcu-models) is cloned to each environment as its contents are designed to perfectly integrate into the MLonMCU flow. In addition a location in the users home directory (`~/.config/mlonmcu/models/` for Ubuntu) is also added to the search path as defined in the `environments.yml`. Feel free to add further model manually or alternatively clone a model-zoo (e.g. https://github.com/ARM-software/ML-zoo) to a random location on the disc and updating the list of model-paths in the environments' config file."
   ]
  },
  {
   "cell_type": "markdown",
   "id": "25d49e86",
   "metadata": {},
   "source": [
    "To list all available models in a environment, the `mlonmcu models` subcommand can be used:"
   ]
  },
  {
   "cell_type": "code",
   "execution_count": 4,
   "id": "32db9a74",
   "metadata": {
    "scrolled": true
   },
   "outputs": [
    {
     "name": "stdout",
     "output_type": "stream",
     "text": [
      "INFO - Loading environment cache from file\r\n",
      "INFO - Successfully initialized cache\r\n",
      "Models Summary\r\n",
      "\r\n",
      "Paths:\r\n",
      "    /tmp/mlonmcu_env/models\r\n",
      "    /home/philipp/.config/mlonmcu/models\r\n",
      "\r\n",
      "Models:\r\n",
      "    MobileNetV2\r\n",
      "    MobileNetV2/MobileNet_V2\r\n",
      "    aww\r\n",
      "    bigsine_quant\r\n",
      "    catdog\r\n",
      "    catdog/CNN_2L_model_quantized\r\n",
      "    catdog/CNN_full_quantized\r\n",
      "    catdog/CNN_full_quantized_70_\r\n",
      "    catdog/CNN_model\r\n",
      "    catdog2\r\n",
      "    cifar10\r\n",
      "    lstm2\r\n",
      "    magic_wand\r\n",
      "    micro_speech\r\n",
      "    mobilenetv1\r\n",
      "    resnet\r\n",
      "    simple_mnist\r\n",
      "    simple_mnist/MNIST_best_model\r\n",
      "    simple_mnist/MNIST_model\r\n",
      "    simple_mnist/MNIST_model_quantized\r\n",
      "    simple_mnist/model_data\r\n",
      "    simple_mnist/model_data_pruned\r\n",
      "    simple_mnist/model_data_size_optimized\r\n",
      "    simple_mnist/test_model3_alex\r\n",
      "    sine_model\r\n",
      "    sine_model/sine_model_dummyquant\r\n",
      "    sine_model/sine_model_dummyquant_packed\r\n",
      "    ssd\r\n",
      "    toycar\r\n",
      "    vww\r\n",
      "\r\n",
      "Groups:\r\n",
      "    tinymlperf [4 models]\r\n",
      "    minimal [1 models]\r\n",
      "    tinymlbook [3 models]\r\n"
     ]
    }
   ],
   "source": [
    "!mlonmcu models  # TODO: cleanup!"
   ]
  },
  {
   "cell_type": "markdown",
   "id": "c38632a4",
   "metadata": {},
   "source": [
    "The listed \"Paths\" should match the search paths defined in the `environments.yml` and are processed in the provided order. If there are multiple models of the same name, only the first one will be added to MLonMCU. By passing the `--detailed` flag to the command, additional information will be shown for each entry.\n",
    "\n",
    "TODO: allow to search/filter for models by passing an extra arg"
   ]
  },
  {
   "cell_type": "markdown",
   "id": "7feedc70",
   "metadata": {},
   "source": [
    "In addition to individual models, predefined model-groups are also available. I.e. the MLPerf Tiny benchmark defined here:"
   ]
  },
  {
   "cell_type": "code",
   "execution_count": 5,
   "id": "aa765c5a",
   "metadata": {},
   "outputs": [
    {
     "name": "stdout",
     "output_type": "stream",
     "text": [
      "---\r\n",
      "tinymlperf:\r\n",
      "  - aww\r\n",
      "  - vww\r\n",
      "  - resnet\r\n",
      "  - toycar\r\n",
      "\r\n",
      "minimal:\r\n",
      "  - sine_model\r\n",
      "\r\n",
      "tinymlbook:\r\n",
      "  - hello_world\r\n",
      "  - micro_speech\r\n",
      "  - magic_wand\r\n",
      "  # - ?"
     ]
    }
   ],
   "source": [
    "!cat $MLONMCU_HOME/models/modelgroups.yml"
   ]
  },
  {
   "cell_type": "markdown",
   "id": "fcf550a9",
   "metadata": {},
   "source": [
    "Feel free to manualy define further model-groups for your needs."
   ]
  },
  {
   "cell_type": "markdown",
   "id": "eda64a8c",
   "metadata": {},
   "source": [
    "### Running the MLonMCU flow"
   ]
  },
  {
   "cell_type": "markdown",
   "id": "15f53550",
   "metadata": {},
   "source": [
    "The MLonMCU flow is a major part of the tool and therefore explained by several examples, starting with minimal use cases before discussing more complex examples later."
   ]
  },
  {
   "cell_type": "markdown",
   "id": "b4584f0d",
   "metadata": {},
   "source": [
    "**Invoke a single model on the default backend/target**"
   ]
  },
  {
   "cell_type": "code",
   "execution_count": 7,
   "id": "d49d238e",
   "metadata": {},
   "outputs": [
    {
     "name": "stdout",
     "output_type": "stream",
     "text": [
      "INFO - Loading environment cache from file\n",
      "INFO - Successfully initialized cache\n",
      "INFO - [session-76] Processing stage NOP\n",
      "INFO - [session-76] Processing stage LOAD\n",
      "INFO - [session-76] Processing stage BUILD\n",
      "INFO - [session-76] Processing stage COMPILE\n",
      "INFO - [session-76] Processing stage RUN\n",
      "INFO - [session-76] Done processing runs\n"
     ]
    }
   ],
   "source": [
    "!mlonmcu flow run resnet"
   ]
  },
  {
   "cell_type": "markdown",
   "id": "fde27af0",
   "metadata": {},
   "source": [
    "While this looks pretty clean, in the background, there is a lot of thing being processed. You can find out more using the `--verbose` flag:"
   ]
  },
  {
   "cell_type": "code",
   "execution_count": 2,
   "id": "67b6fb50",
   "metadata": {
    "scrolled": true
   },
   "outputs": [
    {
     "name": "stdout",
     "output_type": "stream",
     "text": [
      "DEBUG - Restored 83 recent sessions\n",
      "DEBUG - Enter MlonMcuContext\n",
      "DEBUG - Locking context\n",
      "INFO - Loading environment cache from file\n",
      "INFO - Successfully initialized cache\n",
      "DEBUG - Found match. Ignoring other files\n",
      "DEBUG - Creating a new session with idx 83\n",
      "DEBUG - Creating a new run with id 0\n",
      "DEBUG - [session-83] [run-0] Processing stage LOAD\n",
      "INFO - [session-83] Processing stage NOP\n",
      "DEBUG - [session-83] [run-0] Continuing run from stage BUILD until stage NOP\n",
      "DEBUG - [session-83] [run-0] Exporting run to disk\n",
      "DEBUG - [session-83] [run-0] Writing run file\n",
      "INFO - [session-83] Processing stage LOAD\n",
      "DEBUG - [session-83] [run-0] Continuing run from stage BUILD until stage LOAD\n",
      "DEBUG - [session-83] [run-0] Exporting run to disk\n",
      "DEBUG - [session-83] [run-0] Writing run file\n",
      "INFO - [session-83] Processing stage BUILD\n",
      "DEBUG - [session-83] [run-0] Continuing run from stage BUILD until stage BUILD\n",
      "DEBUG - [session-83] [run-0] Processing stage BUILD\n",
      "DEBUG - - Executing: ('/mnt/c/Users/ga87puy/src/mlonmcu/.venv/bin/python', '-m', 'tvm.driver.tvmc', 'compile', '/tmp/mlonmcu_env/temp/sessions/83/runs/0/resnet.tflite', '-f', 'mlf', '--target', 'c', '--executor', 'aot', '--runtime', 'crt', '--pass-config', 'tir.disable_vectorize=True', '--opt-level', '3', '--input-shapes', 'input_1_int8:[1,32,32,3]', '--runtime-crt-system-lib', '0', '--target-c-constants-byte-alignment', '4', '--target-c-workspace-byte-alignment', '4', '--target-c-executor', 'aot', '--target-c-unpacked-api', '0', '--target-c-interface-api', 'packed', '--output', '/tmp/tmp_9q6g61w/default.tar')\n",
      "DEBUG - conv2d NHWC layout is not optimized for x86 with autotvm.\n",
      "conv2d NHWC layout is not optimized for x86 with autotvm.\n",
      "conv2d NHWC layout is not optimized for x86 with autotvm.\n",
      "conv2d NHWC layout is not optimized for x86 with autotvm.\n",
      "conv2d NHWC layout is not optimized for x86 with autotvm.\n",
      "conv2d NHWC layout is not optimized for x86 with autotvm.\n",
      "conv2d NHWC layout is not optimized for x86 with autotvm.\n",
      "conv2d NHWC layout is not optimized for x86 with autotvm.\n",
      "conv2d NHWC layout is not optimized for x86 with autotvm.\n",
      "One or more operators have not been tuned. Please tune your model for better performance. Use DEBUG logging level to see more details.\n",
      "conv2d NHWC layout is not optimized for x86 with autotvm.\n",
      "conv2d NHWC layout is not optimized for x86 with autotvm.\n",
      "conv2d NHWC layout is not optimized for x86 with autotvm.\n",
      "conv2d NHWC layout is not optimized for x86 with autotvm.\n",
      "conv2d NHWC layout is not optimized for x86 with autotvm.\n",
      "conv2d NHWC layout is not optimized for x86 with autotvm.\n",
      "conv2d NHWC layout is not optimized for x86 with autotvm.\n",
      "conv2d NHWC layout is not optimized for x86 with autotvm.\n",
      "conv2d NHWC layout is not optimized for x86 with autotvm.\n",
      "\n",
      "DEBUG - [session-83] [run-0] Exporting run to disk\n",
      "DEBUG - [session-83] [run-0] Writing run file\n",
      "INFO - [session-83] Processing stage COMPILE\n",
      "DEBUG - [session-83] [run-0] Continuing run from stage COMPILE until stage COMPILE\n",
      "DEBUG - [session-83] [run-0] Processing stage COMPILE\n",
      "DEBUG - - Executing: ('cmake', '/tmp/mlonmcu_env/sw', '-DCMAKE_BUILD_TYPE=Release', '-DFRAMEWORK=tvm', '-DTVM_SRC=/tmp/mlonmcu_env/deps/src/tvm', '-DBACKEND=tvmaot', '-DTARGET_SYSTEM=etiss_pulpino', '-DETISS_DIR=/tmp/mlonmcu_env/deps/install/etiss', '-DRISCV_ELF_GCC_PREFIX=/tmp/mlonmcu_env/deps/install/riscv_gcc', '-DSRC_DIR=/tmp/mlonmcu_env/temp/sessions/83/runs/0', '-DDATA_SRC=/tmp/mlonmcu_env/temp/mlif_tvm_tvmaot_etiss_pulpino/data/data.c')\n",
      "DEBUG - - Executing: ('make', '-j8', 'generic_mlif')\n",
      "DEBUG - [session-83] [run-0] Exporting run to disk\n",
      "DEBUG - [session-83] [run-0] Writing run file\n",
      "INFO - [session-83] Processing stage RUN\n",
      "DEBUG - [session-83] [run-0] Continuing run from stage RUN until stage RUN\n",
      "DEBUG - [session-83] [run-0] Processing stage RUN\n",
      "DEBUG - - Executing: (PosixPath('/tmp/mlonmcu_env/deps/install/etiss/examples/bare_etiss_processor/run_helper.sh'), PosixPath('/tmp/mlonmcu_env/temp/sessions/83/runs/0/generic_mlif'), '-i/tmp/tmpmg6brdv5/custom.ini')\n",
      "DEBUG - - Executing: (PosixPath('/tmp/mlonmcu_env/deps/install/etiss/examples/bare_etiss_processor/get_metrics.py'), PosixPath('/tmp/mlonmcu_env/temp/sessions/83/runs/0/generic_mlif'), '--ini', '/tmp/tmpmg6brdv5/custom.ini', '--out', '/tmp/tmpmg6brdv5/metrics.csv')\n",
      "DEBUG - [session-83] [run-0] Exporting run to disk\n",
      "DEBUG - [session-83] [run-0] Writing run file\n",
      "INFO - [session-83] Done processing runs\n",
      "DEBUG - Exit MlonMcuContext\n",
      "DEBUG - Cleaning up active sessions\n",
      "DEBUG - Releasing lock on context\n"
     ]
    }
   ],
   "source": [
    "!mlonmcu flow run resnet --verbose"
   ]
  },
  {
   "cell_type": "markdown",
   "id": "4812f846",
   "metadata": {},
   "source": [
    "The report of a run is typically the first thing to check out after invoking MLonMCU. It will be automatically written to the `results` directory declared in the `environments.yml`:"
   ]
  },
  {
   "cell_type": "code",
   "execution_count": 4,
   "id": "a6e147f8",
   "metadata": {
    "scrolled": true
   },
   "outputs": [
    {
     "name": "stdout",
     "output_type": "stream",
     "text": [
      "==> /tmp/mlonmcu_env/out/unnamed_20220125T165508.csv <==\r\n",
      "Session,Run,Model,Frontend,Framework,Backend,Target,Total Cyles,Total ROM,Total RAM,ROM read-only,ROM code,ROM misc,RAM data,RAM zero-init data,Features,Config,Comment\r\n",
      "74,0,sine_model,tflite,tvm,tvmaot,etiss_pulpino,3855,7178,1293,1728,5306,144,1097,196,,,\r\n",
      "74,1,sine_model,tflite,tvm,tvmrt,etiss_pulpino,1258950,86946,1052253,14112,72690,144,2517,1049736,,,\r\n",
      "74,2,toycar,tflite,tvm,tvmaot,etiss_pulpino,2436320,545882,4373,535556,10182,144,1097,3276,,,\r\n",
      "74,3,toycar,tflite,tvm,tvmrt,etiss_pulpino,6520170,638650,1053557,562656,75850,144,2549,1051008,,,\r\n",
      "\r\n",
      "==> /tmp/mlonmcu_env/out/unnamed_20220125T174523.csv <==\r\n",
      "Session,Run,Model,Frontend,Framework,Backend,Target,Total Cyles,Total ROM,Total RAM,ROM read-only,ROM code,ROM misc,RAM data,RAM zero-init data,Features,Config,Comment\r\n",
      "76,0,resnet,tflite,tvm,tvmaot,etiss_pulpino,119212000,180430,123337,164776,15510,144,1097,122240,,,\r\n",
      "\r\n",
      "==> /tmp/mlonmcu_env/out/unnamed_20220125T180427.csv <==\r\n",
      "Session,Run,Model,Frontend,Framework,Backend,Target,Total Cyles,Total ROM,Total RAM,ROM read-only,ROM code,ROM misc,RAM data,RAM zero-init data,Features,Config,Comment\r\n",
      "77,0,sine_model,tflite,tvm,tvmaot,etiss_pulpino,3855,7178,1293,1728,5306,144,1097,196,,,\r\n",
      "77,1,sine_model,tflite,tvm,tvmrt,etiss_pulpino,1258490,86946,1052253,14112,72690,144,2517,1049736,,,\r\n",
      "77,2,sine_model,tflite,tvm,tvmcg,etiss_pulpino,3328,6236,1285,1540,4552,144,1101,184,,,\r\n",
      "77,3,toycar,tflite,tvm,tvmaot,etiss_pulpino,2436320,545880,4373,535556,10180,144,1097,3276,,,\r\n",
      "77,4,toycar,tflite,tvm,tvmrt,etiss_pulpino,6402340,638650,1053557,562656,75850,144,2549,1051008,,,\r\n",
      "77,5,toycar,tflite,tvm,tvmcg,etiss_pulpino,2435340,543430,4277,535332,7954,144,1137,3140,,,\r\n",
      "\r\n",
      "==> /tmp/mlonmcu_env/out/unnamed_20220125T235545.csv <==\r\n",
      "Session,Run,Model,Frontend,Framework,Backend,Target,Total Cyles,Total ROM,Total RAM,ROM read-only,ROM code,ROM misc,RAM data,RAM zero-init data,Features,Config,Comment\r\n",
      "83,0,resnet,tflite,tvm,tvmaot,etiss_pulpino,119212000,180430,123337,164776,15510,144,1097,122240,,,\r\n"
     ]
    }
   ],
   "source": [
    "!tail $MLONMCU_HOME/out/*.csv"
   ]
  },
  {
   "cell_type": "markdown",
   "id": "34d74b1a",
   "metadata": {},
   "source": [
    "In the future (when postprocesses have been implemented) your will also find some visualizations there."
   ]
  },
  {
   "cell_type": "markdown",
   "id": "c769e10e",
   "metadata": {},
   "source": [
    "The artifacts for every invocation of the MLonMCU flow can be found in directory inside the environment. Your can find the latest files like this:"
   ]
  },
  {
   "cell_type": "code",
   "execution_count": 5,
   "id": "6483d068",
   "metadata": {},
   "outputs": [
    {
     "name": "stdout",
     "output_type": "stream",
     "text": [
      "\u001b[01;34m/tmp/mlonmcu_env/temp/sessions/latest/\u001b[00m\r\n",
      "├── report.csv\r\n",
      "└── \u001b[01;34mruns\u001b[00m\r\n",
      "    ├── \u001b[01;34m0\u001b[00m\r\n",
      "    │   ├── aot_wrapper.c\r\n",
      "    │   ├── \u001b[01;34mcodegen\u001b[00m\r\n",
      "    │   │   └── \u001b[01;34mhost\u001b[00m\r\n",
      "    │   │       └── \u001b[01;34msrc\u001b[00m\r\n",
      "    │   │           ├── default_lib0.c\r\n",
      "    │   │           └── default_lib1.c\r\n",
      "    │   ├── generic_mlif\r\n",
      "    │   ├── metadata.json\r\n",
      "    │   ├── metrics.csv\r\n",
      "    │   ├── \u001b[01;34mparameters\u001b[00m\r\n",
      "    │   │   └── default.params\r\n",
      "    │   ├── report.csv\r\n",
      "    │   ├── resnet.tflite\r\n",
      "    │   ├── run.txt\r\n",
      "    │   ├── \u001b[01;34msrc\u001b[00m\r\n",
      "    │   │   └── relay.txt\r\n",
      "    │   └── tvm_wrapper.h\r\n",
      "    └── \u001b[01;36mlatest\u001b[00m -> \u001b[01;34m/tmp/mlonmcu_env/temp/sessions/83/runs/0\u001b[00m\r\n",
      "\r\n",
      "8 directories, 13 files\r\n"
     ]
    }
   ],
   "source": [
    "!tree $MLONMCU_HOME/temp/sessions/latest/"
   ]
  },
  {
   "cell_type": "markdown",
   "id": "857b4a47",
   "metadata": {},
   "source": [
    "However there is a more komfortable way to do this: `mlonmcu export`"
   ]
  },
  {
   "cell_type": "code",
   "execution_count": 6,
   "id": "a03858fa",
   "metadata": {},
   "outputs": [
    {
     "name": "stdout",
     "output_type": "stream",
     "text": [
      "usage: mlonmcu [-h] [-V] {init,setup,flow,cleanup,check,env,models} ...\r\n",
      "mlonmcu: error: argument subcommand: invalid choice: 'export' (choose from 'init', 'setup', 'flow', 'cleanup', 'check', 'env', 'models')\r\n"
     ]
    }
   ],
   "source": [
    "!mkdir -p /tmp/some_directory\n",
    "!mlonmcu export /tmp/some_directory  # By default this exports the last run of the lastest session"
   ]
  },
  {
   "cell_type": "markdown",
   "id": "18969447",
   "metadata": {},
   "source": [
    "Check out `mlonmcu export --help` to learn learn how to get the most out of this command. There is also a utility called `mlonmcu cleanup` which helps to get rid of old files after exporting the useful ones."
   ]
  },
  {
   "cell_type": "markdown",
   "id": "d5ee098e",
   "metadata": {},
   "source": [
    "There exist multiple stages which can be processed. The subcommand passed to `mlonmcu flow` defines the stage where the flow should stop. If you are only interested in intermediate artifacts of the process, use one of the following:\n",
    "\n",
    "```\n",
    "mlonmcu flow load  # only process the model with the frontend\n",
    "mlonmcu flow build  # invoke the chosen backend to generate code\n",
    "mlonmcu flow compile  # (cross-)compile the code for the chosen target\n",
    "```\n",
    "\n",
    "Further commands are available to achive further behavior:\n",
    "\n",
    "```\n",
    "mlonmcu flow test  # use provided model-data to invoke the models comparing their outputs with a golden reference\n",
    "```"
   ]
  },
  {
   "cell_type": "markdown",
   "id": "48ce915e",
   "metadata": {},
   "source": [
    "**Explicitly specify the backend and target to use for the flow**"
   ]
  },
  {
   "cell_type": "code",
   "execution_count": 8,
   "id": "47621bbc",
   "metadata": {},
   "outputs": [
    {
     "name": "stdout",
     "output_type": "stream",
     "text": [
      "INFO - Loading environment cache from file\n",
      "INFO - Successfully initialized cache\n",
      "INFO - [session-85] Processing stage NOP\n",
      "INFO - [session-85] Processing stage LOAD\n",
      "INFO - [session-85] Processing stage BUILD\n",
      "INFO - [session-85] Processing stage COMPILE\n",
      "INFO - [session-85] Processing stage RUN\n",
      "INFO - [session-85] Done processing runs\n"
     ]
    }
   ],
   "source": [
    "!mlonmcu flow run sine_model --backend tvmaot --target host_x86"
   ]
  },
  {
   "cell_type": "markdown",
   "id": "b048c328",
   "metadata": {},
   "source": [
    "**Enable certain features for all defined runs**"
   ]
  },
  {
   "cell_type": "code",
   "execution_count": 9,
   "id": "4dcda1a6",
   "metadata": {},
   "outputs": [
    {
     "name": "stdout",
     "output_type": "stream",
     "text": [
      "INFO - Loading environment cache from file\n",
      "INFO - Successfully initialized cache\n",
      "INFO - [session-86] Processing stage NOP\n",
      "INFO - [session-86] Processing stage LOAD\n",
      "INFO - [session-86] Processing stage BUILD\n",
      "ERROR - local variable 'header' referenced before assignment\n",
      "Traceback (most recent call last):\n",
      "  File \"/mnt/c/Users/ga87puy/src/mlonmcu/.venv/lib/python3.8/site-packages/mlonmcu-0.1.0-py3.8.egg/mlonmcu/session/session.py\", line 145, in _join_workers\n",
      "    results.append(w.result())\n",
      "  File \"/usr/lib/python3.8/concurrent/futures/_base.py\", line 444, in result\n",
      "    return self.__get_result()\n",
      "  File \"/usr/lib/python3.8/concurrent/futures/_base.py\", line 389, in __get_result\n",
      "    raise self._exception\n",
      "  File \"/usr/lib/python3.8/concurrent/futures/thread.py\", line 57, in run\n",
      "    result = self.fn(*self.args, **self.kwargs)\n",
      "  File \"/mnt/c/Users/ga87puy/src/mlonmcu/.venv/lib/python3.8/site-packages/mlonmcu-0.1.0-py3.8.egg/mlonmcu/session/session.py\", line 136, in _process\n",
      "    run.process(until=until, export=export, context=context)\n",
      "  File \"/mnt/c/Users/ga87puy/src/mlonmcu/.venv/lib/python3.8/site-packages/mlonmcu-0.1.0-py3.8.egg/mlonmcu/session/run.py\", line 268, in process\n",
      "    func(context=context)\n",
      "  File \"/mnt/c/Users/ga87puy/src/mlonmcu/.venv/lib/python3.8/site-packages/mlonmcu-0.1.0-py3.8.egg/mlonmcu/session/run.py\", line 218, in build\n",
      "    self.backend.generate_code()\n",
      "  File \"/mnt/c/Users/ga87puy/src/mlonmcu/.venv/lib/python3.8/site-packages/mlonmcu-0.1.0-py3.8.egg/mlonmcu/flow/tvm/backend/tvmaot.py\", line 146, in generate_code\n",
      "    wrapper_src = generate_tvmaot_wrapper(\n",
      "  File \"/mnt/c/Users/ga87puy/src/mlonmcu/.venv/lib/python3.8/site-packages/mlonmcu-0.1.0-py3.8.egg/mlonmcu/flow/tvm/backend/wrapper.py\", line 384, in generate_tvmaot_wrapper\n",
      "    header += '#include \"${modPrefix}.h\"\\n'\n",
      "UnboundLocalError: local variable 'header' referenced before assignment\n",
      "ERROR - An exception was thrown by a worker during simulation\n",
      "INFO - [session-86] Processing stage COMPILE\n",
      "ERROR - Parallel processing of the same run is not allowed\n",
      "Traceback (most recent call last):\n",
      "  File \"/mnt/c/Users/ga87puy/src/mlonmcu/.venv/lib/python3.8/site-packages/mlonmcu-0.1.0-py3.8.egg/mlonmcu/session/session.py\", line 145, in _join_workers\n",
      "    results.append(w.result())\n",
      "  File \"/usr/lib/python3.8/concurrent/futures/_base.py\", line 444, in result\n",
      "    return self.__get_result()\n",
      "  File \"/usr/lib/python3.8/concurrent/futures/_base.py\", line 389, in __get_result\n",
      "    raise self._exception\n",
      "  File \"/usr/lib/python3.8/concurrent/futures/thread.py\", line 57, in run\n",
      "    result = self.fn(*self.args, **self.kwargs)\n",
      "  File \"/mnt/c/Users/ga87puy/src/mlonmcu/.venv/lib/python3.8/site-packages/mlonmcu-0.1.0-py3.8.egg/mlonmcu/session/session.py\", line 136, in _process\n",
      "    run.process(until=until, export=export, context=context)\n",
      "  File \"/mnt/c/Users/ga87puy/src/mlonmcu/.venv/lib/python3.8/site-packages/mlonmcu-0.1.0-py3.8.egg/mlonmcu/session/run.py\", line 268, in process\n",
      "    func(context=context)\n",
      "  File \"/mnt/c/Users/ga87puy/src/mlonmcu/.venv/lib/python3.8/site-packages/mlonmcu-0.1.0-py3.8.egg/mlonmcu/session/run.py\", line 207, in build\n",
      "    assert not self.active, \"Parallel processing of the same run is not allowed\"\n",
      "AssertionError: Parallel processing of the same run is not allowed\n",
      "ERROR - An exception was thrown by a worker during simulation\n",
      "INFO - [session-86] Processing stage RUN\n",
      "ERROR - Parallel processing of the same run is not allowed\n",
      "Traceback (most recent call last):\n",
      "  File \"/mnt/c/Users/ga87puy/src/mlonmcu/.venv/lib/python3.8/site-packages/mlonmcu-0.1.0-py3.8.egg/mlonmcu/session/session.py\", line 145, in _join_workers\n",
      "    results.append(w.result())\n",
      "  File \"/usr/lib/python3.8/concurrent/futures/_base.py\", line 444, in result\n",
      "    return self.__get_result()\n",
      "  File \"/usr/lib/python3.8/concurrent/futures/_base.py\", line 389, in __get_result\n",
      "    raise self._exception\n",
      "  File \"/usr/lib/python3.8/concurrent/futures/thread.py\", line 57, in run\n",
      "    result = self.fn(*self.args, **self.kwargs)\n",
      "  File \"/mnt/c/Users/ga87puy/src/mlonmcu/.venv/lib/python3.8/site-packages/mlonmcu-0.1.0-py3.8.egg/mlonmcu/session/session.py\", line 136, in _process\n",
      "    run.process(until=until, export=export, context=context)\n",
      "  File \"/mnt/c/Users/ga87puy/src/mlonmcu/.venv/lib/python3.8/site-packages/mlonmcu-0.1.0-py3.8.egg/mlonmcu/session/run.py\", line 268, in process\n",
      "    func(context=context)\n",
      "  File \"/mnt/c/Users/ga87puy/src/mlonmcu/.venv/lib/python3.8/site-packages/mlonmcu-0.1.0-py3.8.egg/mlonmcu/session/run.py\", line 207, in build\n",
      "    assert not self.active, \"Parallel processing of the same run is not allowed\"\n",
      "AssertionError: Parallel processing of the same run is not allowed\n",
      "ERROR - An exception was thrown by a worker during simulation\n",
      "INFO - [session-86] Done processing runs\n"
     ]
    }
   ],
   "source": [
    "!mlonmcu flow run toycar --backend tvmaot --target etiss_pulpino --feature unpacked_api"
   ]
  },
  {
   "cell_type": "markdown",
   "id": "c539c1bb",
   "metadata": {},
   "source": [
    "**Add additional configuration options to customize internal components**"
   ]
  },
  {
   "cell_type": "code",
   "execution_count": 10,
   "id": "61835423",
   "metadata": {},
   "outputs": [
    {
     "name": "stdout",
     "output_type": "stream",
     "text": [
      "INFO - Loading environment cache from file\n",
      "INFO - Successfully initialized cache\n",
      "INFO - [session-87] Processing stage NOP\n",
      "INFO - [session-87] Processing stage LOAD\n",
      "INFO - [session-87] Processing stage BUILD\n",
      "INFO - [session-87] Processing stage COMPILE\n",
      "INFO - [session-87] Processing stage RUN\n",
      "INFO - [session-87] Done processing runs\n"
     ]
    }
   ],
   "source": [
    "!mlonmcu flow run resnet --backend tvmaot --config tvmaot.target_device=arm_cpu"
   ]
  },
  {
   "cell_type": "markdown",
   "id": "40f38f8f",
   "metadata": {},
   "source": [
    "Instead of defining certain key-value pass on aeach command line, feel free to use the `vars:` property defined in the `environment.yml` to achieve the same result."
   ]
  },
  {
   "cell_type": "markdown",
   "id": "dde2adc5",
   "metadata": {},
   "source": [
    "**Invoke multiple models on multiple backends/targets**"
   ]
  },
  {
   "cell_type": "code",
   "execution_count": null,
   "id": "acb86cc3",
   "metadata": {},
   "outputs": [],
   "source": [
    "!mlonmcu flow run resnet toycar --backend tvmaot --backend tflmi --target host_x86 --target etiss_pulpino"
   ]
  },
  {
   "cell_type": "markdown",
   "id": "a0a94aef",
   "metadata": {},
   "source": [
    "**Exploit parallelism to reduce the processing time**"
   ]
  },
  {
   "cell_type": "code",
   "execution_count": null,
   "id": "a2cd60e3",
   "metadata": {},
   "outputs": [],
   "source": [
    "!mlonmcu flow run resnet toycar --backend tvmaot --backend tflmi --target host_x86 --target etiss_pulpino --parallel 4"
   ]
  },
  {
   "cell_type": "markdown",
   "id": "24174401",
   "metadata": {},
   "source": [
    "???"
   ]
  },
  {
   "cell_type": "markdown",
   "id": "0f7d4429",
   "metadata": {},
   "source": [
    "**Inspecting and exporting results and intermediate artifacts**"
   ]
  },
  {
   "cell_type": "markdown",
   "id": "91c749df",
   "metadata": {},
   "source": [
    "TODO"
   ]
  },
  {
   "cell_type": "code",
   "execution_count": null,
   "id": "19f7a6d6",
   "metadata": {},
   "outputs": [],
   "source": [
    "!mlonmcu export --session 0 --run 0 run.zip\n",
    "!mlonmcu export --session 0 session.zip\n",
    "!mlonmcu export session/"
   ]
  },
  {
   "cell_type": "markdown",
   "id": "c966fd54",
   "metadata": {},
   "source": [
    "### Further MLonMCU usage"
   ]
  },
  {
   "cell_type": "code",
   "execution_count": null,
   "id": "53defd29",
   "metadata": {},
   "outputs": [],
   "source": [
    "see below?"
   ]
  },
  {
   "cell_type": "markdown",
   "id": "c542489c",
   "metadata": {},
   "source": [
    "## Demonstration (Python API)"
   ]
  },
  {
   "cell_type": "markdown",
   "id": "05e8646f",
   "metadata": {},
   "source": [
    "### Preface"
   ]
  },
  {
   "cell_type": "markdown",
   "id": "665848cb",
   "metadata": {},
   "source": [
    "While it is also possible to initialize and setup an MLonMCU environment via Python, it is highly recommended to use the provided command line interfaces for these steps. The following examples demonstrate how to use the MLonMCU flow from within a Python program which enables more customizations of the internal features via scripting."
   ]
  },
  {
   "cell_type": "markdown",
   "id": "cdc59158",
   "metadata": {},
   "source": [
    "### Open a MLonMCU context to load the environment"
   ]
  },
  {
   "cell_type": "markdown",
   "id": "c6046d79",
   "metadata": {},
   "source": [
    "### Running the MLonMCU flow"
   ]
  },
  {
   "cell_type": "code",
   "execution_count": null,
   "id": "98d6bb90",
   "metadata": {},
   "outputs": [],
   "source": []
  },
  {
   "cell_type": "markdown",
   "id": "31f10075",
   "metadata": {},
   "source": [
    "### Low level APIs"
   ]
  },
  {
   "cell_type": "markdown",
   "id": "f1b6f99e",
   "metadata": {},
   "source": [
    "Core components of MLonMC (Frontends, Backends, Targets) can also be invoked individually as demonstrated in the following examples:"
   ]
  },
  {
   "cell_type": "code",
   "execution_count": null,
   "id": "659e0dfd",
   "metadata": {},
   "outputs": [],
   "source": []
  }
 ],
 "metadata": {
  "kernelspec": {
   "display_name": "Python 3 (ipykernel)",
   "language": "python",
   "name": "python3"
  },
  "language_info": {
   "codemirror_mode": {
    "name": "ipython",
    "version": 3
   },
   "file_extension": ".py",
   "mimetype": "text/x-python",
   "name": "python",
   "nbconvert_exporter": "python",
   "pygments_lexer": "ipython3",
   "version": "3.8.10"
  }
 },
 "nbformat": 4,
 "nbformat_minor": 5
}
