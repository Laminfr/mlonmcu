{
 "cells": [
  {
   "cell_type": "markdown",
   "id": "9478e4b0",
   "metadata": {},
   "source": [
    "# MLonMCU"
   ]
  },
  {
   "cell_type": "markdown",
   "id": "8f7d087d",
   "metadata": {},
   "source": [
    "## Prerequisites"
   ]
  },
  {
   "cell_type": "markdown",
   "id": "f5afa492",
   "metadata": {},
   "source": [
    "Before running this notebook, make sure to run the following steps:\n",
    "\n",
    "1. Install the required software for your distribution:\n",
    "\n",
    "   See main `README.md` file!\n",
    "   \n",
    "2. Clone this repository\n",
    "\n",
    "   ```\n",
    "   git clone TODO\n",
    "   cd mlonmcu  # enter cloned repository\n",
    "   ```\n",
    "   \n",
    "3. Setup and enter a new virtualenv (Python 3.7+) for using `mlonmcu`:\n",
    "\n",
    "   ```\n",
    "   Bla!\n",
    "   source .venv/bin/activate\n",
    "   ```\n",
    "   \n",
    "   Hint: You can also use a `conda` environment for this.\n",
    "   \n",
    "4. Install mlonmcu package\n",
    "\n",
    "   ```\n",
    "   make install  # alternative: python setup.py install\n",
    "   ```\n",
    "   \n",
    "5. Install the required python packages:\n",
    "\n",
    "   ``` \n",
    "   # pip install -r requirements.txt  # Done automatically via setup.py?\n",
    "   pip install -r ipynb/requirements.txt\n",
    "   ```\n",
    "   \n",
    "6. Launch this notebook in jupyter:\n",
    "\n",
    "   ```\n",
    "   jupyter notebook ipynb/Demo.ipynb\n",
    "   ```"
   ]
  },
  {
   "cell_type": "markdown",
   "id": "b6d2c1cf",
   "metadata": {},
   "source": [
    "## Demonstration (Command Line)"
   ]
  },
  {
   "cell_type": "markdown",
   "id": "0a460dde",
   "metadata": {},
   "source": [
    "### Preface"
   ]
  },
  {
   "cell_type": "markdown",
   "id": "71105f6a",
   "metadata": {},
   "source": [
    "This guide should give an idea on the required steps to setup and use MLonMCU using the command line interface. Usage examples are provided as well."
   ]
  },
  {
   "cell_type": "markdown",
   "id": "3744822c",
   "metadata": {},
   "source": [
    "### Initialize a MLonMCU environment"
   ]
  },
  {
   "cell_type": "markdown",
   "id": "7113f996",
   "metadata": {},
   "source": [
    "As MLonMCU requires a directory where dependencies, configurations, intermediate artifacts and results are stored, an environment needs to be initialized first. This also allows to use different configuration (e.g. enabled backends or supported features) for multiple environments."
   ]
  },
  {
   "cell_type": "markdown",
   "id": "23edf711",
   "metadata": {},
   "source": [
    "Create and enter an environment diretcory first to initialize it afterwards:"
   ]
  },
  {
   "cell_type": "code",
   "execution_count": 4,
   "id": "167656d8",
   "metadata": {},
   "outputs": [
    {
     "name": "stdout",
     "output_type": "stream",
     "text": [
      "Initializing ML on MCU environment\r\n",
      "Selected target directory: /tmp/mlonmcu_env\r\n",
      "The directory does not exist! - Created directory.\r\n",
      "Creating environment.yml based on template 'default'.\r\n",
      "Skipping creation of virtual environment. (already inside one)\r\n",
      "Initializing directories in environment: deps\r\n",
      "Finished. Please add `export MLONMCU_HOME=/tmp/mlonmcu_env` to your shell configuration to use it anywhere\r\n"
     ]
    }
   ],
   "source": [
    "# WARNING: execute this only once! Alternatively remove the environment directory beforehand to start from scratch.\n",
    "!test -d /tmp/mlonmcu_env && echo \"Skipped initialization on environment\" \\\n",
    "  || mlonmcu init /tmp/mlonmcu_env --non-interactive"
   ]
  },
  {
   "cell_type": "markdown",
   "id": "099ed602",
   "metadata": {},
   "source": [
    "When not using a notebook, the option `--non-interactive` can be omitted which allows to customize the initialization process interactively."
   ]
  },
  {
   "cell_type": "markdown",
   "id": "cc331474",
   "metadata": {},
   "source": [
    "If the environment directory is not passed to the `mlonmcu` script, it will try to setup a `default` environment in the users home directory (On Ubuntu: `~/.config/mlonmcu/environments/default/`) instead. By providing a `--name` of the virtual environment if will be automatically registered in `~/.config/mlonmcy/environments.ini` for the current user which helps to find and distinguish multiple installed environments on a machine."
   ]
  },
  {
   "cell_type": "markdown",
   "id": "be4527e6",
   "metadata": {},
   "source": [
    "In the following the actual environment which should be used by the `mlonmcu` program has to be defined by the user either by defining the environment variable `MLONMCU_HOME` or by using the `-H` (`--home` or `--hint`) command line option. If none of this was done, the following rules are following to look for a suitable environment:\n",
    "\n",
    "1. Check if `$MLONMCU_HOME` points to a valid environment\n",
    "2. Use environment provided via the `-H` flag (path or registered name) if available\n",
    "3. If the local working directory is the root of an environment, use this directory\n",
    "4. If there is a default environment for the current user, fall back to this one instead"
   ]
  },
  {
   "cell_type": "code",
   "execution_count": 5,
   "id": "43e841d3",
   "metadata": {},
   "outputs": [
    {
     "name": "stdout",
     "output_type": "stream",
     "text": [
      "env: MLONMCU_HOME=/tmp/mlonmcu_env\n"
     ]
    }
   ],
   "source": [
    "# Use this for bash: `export MLONMCU_HOME=/tmp/mlonmcu_env`\n",
    "%env MLONMCU_HOME=/tmp/mlonmcu_env"
   ]
  },
  {
   "cell_type": "markdown",
   "id": "9f59427f",
   "metadata": {},
   "source": [
    "Registered environment can be listed via the command `mlonmcu env list`. In addition there are possibilities to manually update entires in the environments file."
   ]
  },
  {
   "cell_type": "markdown",
   "id": "789b567d",
   "metadata": {},
   "source": [
    "### Customizing the created MLonMCU environment (optional)"
   ]
  },
  {
   "cell_type": "markdown",
   "id": "404b3bb1",
   "metadata": {},
   "source": [
    "The environment was initialized by a template which can be found in the `templates/` directory of the repository chosen via the `--template` flag. Lets inspect the generated configuration file first:"
   ]
  },
  {
   "cell_type": "code",
   "execution_count": 6,
   "id": "64f1a4d5",
   "metadata": {
    "scrolled": true
   },
   "outputs": [
    {
     "name": "stdout",
     "output_type": "stream",
     "text": [
      "---\r\n",
      "# The MLONMCU_HOME is filled in automatically when creating the environment\r\n",
      "home: \"/tmp/mlonmcu_env\"\r\n",
      "logging:\r\n",
      "  level: DEBUG\r\n",
      "  to_file: False\r\n",
      "# Default locations for certain directoriescan be changed here\r\n",
      "# Non-absolute paths will always be threated relative to the MLONMCU_HOME\r\n",
      "paths:\r\n",
      "  # Where the dependencies are downloaded and installed\r\n",
      "  deps: deps\r\n",
      "  # If logging to file is used keep logs in this directory\r\n",
      "  logs: logs\r\n",
      "  # Location where reports and artifacts are written to\r\n",
      "  results: out\r\n",
      "  # Directory for intermediate build products, should be located on a large enough drive\r\n",
      "  temp: temp\r\n",
      "  # A collection of models which will be used to look for models\r\n",
      "  # The paths will be checked in the order defined here stopping at the first match\r\n",
      "  # Non-existant paths will be skipped without throwing an error\r\n",
      "  models:\r\n",
      "    - \"/tmp/mlonmcu_env/models\"\r\n",
      "    - \"/home/ga87puy/.config/mlonmcu/models\"\r\n",
      "# Here default clone_urls\r\n",
      "repos:\r\n",
      "  tensorflow:\r\n",
      "    url: \"https://github.com/tum-ei-eda/tensorflow.git\"\r\n",
      "    ref: tumeda\r\n",
      "  tflite_micro_compiler:\r\n",
      "    url: \"https://github.com/PhilippvK/tflite_micro_compiler.git\"\r\n",
      "    ref: patches\r\n",
      "  tvm:\r\n",
      "    url: \"https://github.com/tum-ei-eda/tvm.git\"\r\n",
      "    ref: tumeda\r\n",
      "  utvm_staticrt_codegen:\r\n",
      "    url: \"https://github.com/tum-ei-eda/utvm_staticrt_codegen.git\"\r\n",
      "    ref: master\r\n",
      "  etiss:\r\n",
      "    url: \"https://github.com/tum-ei-eda/etiss.git\"\r\n",
      "    ref: master\r\n",
      "# Here all supported frameworks with their specific features are defined\r\n",
      "# Optionally disable unwanted or incomatible backends or features here\r\n",
      "# The configured defaults are used if no backend was specified in the command line options\r\n",
      "frameworks:\r\n",
      "  default: tvm\r\n",
      "  tflm:\r\n",
      "    enabled: true\r\n",
      "    backends:\r\n",
      "      default: tflmc\r\n",
      "      tflmc:\r\n",
      "        enabled: true\r\n",
      "      tflmi:\r\n",
      "        enabled: true\r\n",
      "    features:\r\n",
      "      packing: false\r\n",
      "      riscv_nn: false\r\n",
      "  tvm:\r\n",
      "    enabled: true\r\n",
      "    backends:\r\n",
      "      default: tvmaot\r\n",
      "      tvmrt:\r\n",
      "        enabled: true\r\n",
      "      tvmaot:\r\n",
      "        enabled: true\r\n",
      "      tvmcg:\r\n",
      "        enabled: true\r\n",
      "# Some frontends are eperimental and therefore disabled here\r\n",
      "# Features like packing are only available in certain environments\r\n",
      "frontends:\r\n",
      "  saved_model:\r\n",
      "    enabled: false\r\n",
      "  ipynb:\r\n",
      "    enabled: false\r\n",
      "  tflite:\r\n",
      "    enabled: true\r\n",
      "    features:\r\n",
      "      packing: false\r\n",
      "# List of supported targets in the environment\r\n",
      "targets:\r\n",
      "  default: etiss_pulpino\r\n",
      "  etiss_pulpino:\r\n",
      "    enabled: true\r\n",
      "  host_x86:\r\n",
      "    enabled: true\r\n",
      "# This is where further options such as specific versions of dependencies can be set in the furture\r\n",
      "vars:\r\n",
      "  packer.name: \"tflite_pack\"\r\n",
      "  tvm.make_tool: \"ninja\"\r\n",
      "  # llvm.version: \"11.1.0\""
     ]
    }
   ],
   "source": [
    "!cat $MLONMCU_HOME/environment.yml"
   ]
  },
  {
   "cell_type": "markdown",
   "id": "78b9eb23",
   "metadata": {},
   "source": [
    "The environment should work out of the box, but feel free to update the contents of the `environment.yml` file to achieve one of the following:\n",
    "\n",
    "- Change the default paths used for dependencies, results, models,...\n",
    "- Use different forks/versions of a repository\n",
    "- Disable certain frameworks/backends to reduce the installation time in the next step.\n",
    "- Define which features are supported for the given repositories\n",
    "- Set default backends and targets\n",
    "- Define a set of default configuration variables\n",
    "\n",
    "To learn more about this, check out this document: `docs/ENVIRONMENTS.md` (TODO)"
   ]
  },
  {
   "cell_type": "markdown",
   "id": "10e74d0f",
   "metadata": {},
   "source": [
    "### Setting up all MLonMCU dependencies"
   ]
  },
  {
   "cell_type": "markdown",
   "id": "fbc32554",
   "metadata": {},
   "source": [
    "Depending on the enabled backends and features, a different set of dependencies has to be installed. To reduce the management effort for the user, all these versions are installed and managed automatically using MLonMCU. To trigger this process, run the following in the command line. (This will take a very long time with all frameworks/targets/features enabled when invoked for the first time)"
   ]
  },
  {
   "cell_type": "code",
   "execution_count": 8,
   "id": "6ecce763",
   "metadata": {
    "scrolled": false
   },
   "outputs": [
    {
     "name": "stdout",
     "output_type": "stream",
     "text": [
      "[2022-01-17 15:34:08]::DEBUG - Enter MlonMcuContext\n",
      "[2022-01-17 15:34:08]::DEBUG - Locking context\n",
      "[2022-01-17 15:34:08]::INFO - No cache found in deps directory\n",
      "[2022-01-17 15:34:09]::DEBUG - Determined dependency order: clone_tensorflow -> clone_tflite_micro_compiler -> clone_etiss -> clone_tvm -> install_llvm -> clone_utvm_staticrt_codegen -> clone_muriscvnn -> install_riscv_gcc -> build_tensorflow -> build_etiss -> install_etiss -> build_tvm -> build_utvm_staticrt_codegen -> build_muriscvnn -> build_etissvp -> build_tflite_micro_compiler\n",
      "[2022-01-17 15:34:09]::INFO - Processing task: clone_tensorflow\n",
      "[2022-01-17 15:34:09]::INFO - Processing task: clone_tflite_micro_compiler\n",
      "[2022-01-17 15:34:09]::INFO - Processing task: clone_etiss\n",
      "[2022-01-17 15:34:09]::INFO - Processing task: clone_tvm\n",
      "[2022-01-17 15:34:09]::INFO - Processing task: install_llvm\n",
      "[2022-01-17 15:34:10]::INFO - Processing task: clone_utvm_staticrt_codegen\n",
      "[2022-01-17 15:34:10]::INFO - Processing task: clone_muriscvnn\n",
      "[2022-01-17 15:34:10]::INFO - Processing task: install_riscv_gcc{'vext': False}\n",
      "[2022-01-17 15:34:10]::INFO - Processing task: install_riscv_gcc{'vext': True}\n",
      "[2022-01-17 15:34:10]::INFO - Processing task: build_tensorflow{'dbg': True}\n",
      "exec_getout ('make', '-j4', '-f', '/tmp/mlonmcu_env/deps/src/tf/tensorflow/lite/micro/tools/make/Makefile', 'third_party_downloads', 'BUILD_TYPE=debug') False False\n",
      "[2022-01-17 15:34:10]::INFO - - Executing: ('make', '-j4', '-f', '/tmp/mlonmcu_env/deps/src/tf/tensorflow/lite/micro/tools/make/Makefile', 'third_party_downloads', 'BUILD_TYPE=debug')\n",
      "[2022-01-17 15:34:10]::DEBUG - Exit MlonMcuContext\n",
      "[2022-01-17 15:34:10]::DEBUG - Cleaning up active sessions\n",
      "[2022-01-17 15:34:10]::DEBUG - Releasing lock on context\n",
      "Traceback (most recent call last):\n",
      "  File \"/work/git/prj/mlonmcu_open_source/venv/bin/mlonmcu\", line 11, in <module>\n",
      "    load_entry_point('mlonmcu==0.1.0', 'console_scripts', 'mlonmcu')()\n",
      "  File \"/work/git/prj/mlonmcu_open_source/venv/lib/python3.8/site-packages/mlonmcu-0.1.0-py3.8.egg/mlonmcu/cli/main.py\", line 59, in main\n",
      "    args.func(args)\n",
      "  File \"/work/git/prj/mlonmcu_open_source/venv/lib/python3.8/site-packages/mlonmcu-0.1.0-py3.8.egg/mlonmcu/cli/setup.py\", line 32, in handle\n",
      "    mlonmcu.setup.install.install_dependencies(context=context, progress=progress)\n",
      "  File \"/work/git/prj/mlonmcu_open_source/venv/lib/python3.8/site-packages/mlonmcu-0.1.0-py3.8.egg/mlonmcu/setup/install.py\", line 47, in install_dependencies\n",
      "    func(context, progress=progress)\n",
      "  File \"/work/git/prj/mlonmcu_open_source/venv/lib/python3.8/site-packages/mlonmcu-0.1.0-py3.8.egg/mlonmcu/setup/task.py\", line 204, in wrapper\n",
      "    retval = function(*args, **kwargs)\n",
      "  File \"/work/git/prj/mlonmcu_open_source/venv/lib/python3.8/site-packages/mlonmcu-0.1.0-py3.8.egg/mlonmcu/setup/task.py\", line 234, in wrapper\n",
      "    retval = function(*args, **kwargs)\n",
      "  File \"/work/git/prj/mlonmcu_open_source/venv/lib/python3.8/site-packages/mlonmcu-0.1.0-py3.8.egg/mlonmcu/setup/task.py\", line 329, in wrapper\n",
      "    retval = process(extended_name, params=comb)\n",
      "  File \"/work/git/prj/mlonmcu_open_source/venv/lib/python3.8/site-packages/mlonmcu-0.1.0-py3.8.egg/mlonmcu/setup/task.py\", line 282, in process\n",
      "    retval = function(*args, params=params, rebuild=rebuild, **kwargs)\n",
      "  File \"/work/git/prj/mlonmcu_open_source/venv/lib/python3.8/site-packages/mlonmcu-0.1.0-py3.8.egg/mlonmcu/setup/tasks.py\", line 108, in build_tensorflow\n",
      "    utils.make(\n",
      "  File \"/work/git/prj/mlonmcu_open_source/venv/lib/python3.8/site-packages/mlonmcu-0.1.0-py3.8.egg/mlonmcu/setup/utils.py\", line 187, in make\n",
      "    exec_getout(*cmd, cwd=cwd, print_output=False, **kwargs)\n",
      "  File \"/work/git/prj/mlonmcu_open_source/venv/lib/python3.8/site-packages/mlonmcu-0.1.0-py3.8.egg/mlonmcu/setup/utils.py\", line 122, in exec_getout\n",
      "    stdout=subprocess.NULL,\n",
      "AttributeError: module 'subprocess' has no attribute 'NULL'\n"
     ]
    }
   ],
   "source": [
    "!mlonmcu setup"
   ]
  },
  {
   "cell_type": "markdown",
   "id": "5b47bbba",
   "metadata": {},
   "source": [
    "Some things need to be considered here:\n",
    "- Repositories are only cloned once, so upstream changes or updated urls/branches in the `environments.yml` are not detected automatically\n",
    "- The flag `--rebuild` can be passed to `mlonmcu setup` to ensure that the setup routine of every dependency is triggered again. However this does not guarentee that all artifacts are properly updated\n",
    "- To guarantee that the latest versions of a dependency are installed you can remove the `deps` directory manually or alternative use the provided `mlonmcu cleanup` utility. (Execute `mlonmcu cleanup --help` to learn more) "
   ]
  },
  {
   "cell_type": "markdown",
   "id": "8daa9d4a",
   "metadata": {},
   "source": [
    "### Adding models to MLonMCU"
   ]
  },
  {
   "cell_type": "markdown",
   "id": "55518b0e",
   "metadata": {},
   "source": [
    "By default, the `mlonmcu-models` repository (TODO: url) is cloned to each environment as its contents are designed to perfectly integrate into the MLonMCU flow. In addition a location in the users home directory (`~/.config/mlonmcu/models/` for Ubuntu) is also added to the search path as defined in the `environments.yml`. Feel free to add further model manually or alternatively clone a model-zoo (e.g. TODO:arm) to a random location on the disc and updating the list of model-paths in the environments' config file."
   ]
  },
  {
   "cell_type": "markdown",
   "id": "25d49e86",
   "metadata": {},
   "source": [
    "To list all available models in a environment, the `mlonmcu models` subcommand can be used:"
   ]
  },
  {
   "cell_type": "code",
   "execution_count": null,
   "id": "32db9a74",
   "metadata": {},
   "outputs": [],
   "source": [
    "!mlonmcu models  # TODO: cleanup!"
   ]
  },
  {
   "cell_type": "markdown",
   "id": "c38632a4",
   "metadata": {},
   "source": [
    "The listed \"Paths\" should match the search paths defined in the `environments.yml` and are processed in the provided order. If there are multiple models of the same name, only the first one will be added to MLonMCU. By passing the `--detailed` flag to the command, additional information will be shown for each entry.\n",
    "\n",
    "TODO: allow to search/filter for models by passing an extra arg"
   ]
  },
  {
   "cell_type": "markdown",
   "id": "7feedc70",
   "metadata": {},
   "source": [
    "In addition to individual models, predefined model-groups are also available. I.e. the MLPerf Tiny benchmark defined here:"
   ]
  },
  {
   "cell_type": "code",
   "execution_count": null,
   "id": "aa765c5a",
   "metadata": {},
   "outputs": [],
   "source": [
    "!cat $MLONMCU_HOME/models/groups.yml"
   ]
  },
  {
   "cell_type": "markdown",
   "id": "fcf550a9",
   "metadata": {},
   "source": [
    "Feel free to manualy define further model-groups for your needs."
   ]
  },
  {
   "cell_type": "markdown",
   "id": "eda64a8c",
   "metadata": {},
   "source": [
    "### Running the MLonMCU flow"
   ]
  },
  {
   "cell_type": "markdown",
   "id": "15f53550",
   "metadata": {},
   "source": [
    "The MLonMCU flow is a major part of the tool and therefore explained by several examples, starting with minimal use cases before discussing more complex examples later."
   ]
  },
  {
   "cell_type": "markdown",
   "id": "b4584f0d",
   "metadata": {},
   "source": [
    "**Invoke a single model on the default backend/target**"
   ]
  },
  {
   "cell_type": "code",
   "execution_count": null,
   "id": "d49d238e",
   "metadata": {},
   "outputs": [],
   "source": [
    "!mlonmcu flow run resnet"
   ]
  },
  {
   "cell_type": "markdown",
   "id": "d5ee098e",
   "metadata": {},
   "source": [
    "There exist multiple stages which can be processed. The subcommand passed to `mlonmcu flow` defines the stage where the flow should stop. If you are only interested in intermediate artifacts of the process, use one of the following:\n",
    "\n",
    "```\n",
    "mlonmcu flow load  # only process the model with the frontend\n",
    "mlonmcu flow build  # invoke the chosen backend to generate code\n",
    "mlonmcu flow compile  # (cross-)compile the code for the chosen target\n",
    "```\n",
    "\n",
    "Further commands are available to achive further behavior:\n",
    "\n",
    "```\n",
    "mlonmcu flow test  # use provided model-data to invoke the models comparing their outputs with a golden reference\n",
    "```"
   ]
  },
  {
   "cell_type": "markdown",
   "id": "48ce915e",
   "metadata": {},
   "source": [
    "**Explicitly specify the backend and target to use for the flow**"
   ]
  },
  {
   "cell_type": "code",
   "execution_count": null,
   "id": "47621bbc",
   "metadata": {},
   "outputs": [],
   "source": [
    "!mlonmcu flow run resnet --backend tvmaot --target host_x86"
   ]
  },
  {
   "cell_type": "markdown",
   "id": "b048c328",
   "metadata": {},
   "source": [
    "**Enable certain features for all defined runs**"
   ]
  },
  {
   "cell_type": "code",
   "execution_count": null,
   "id": "4dcda1a6",
   "metadata": {},
   "outputs": [],
   "source": [
    "!mlonmcu flow run resnet --backend tvmaot --target etiss_pulpino --feature unpacked_api"
   ]
  },
  {
   "cell_type": "markdown",
   "id": "c539c1bb",
   "metadata": {},
   "source": [
    "**Add additional configuration options to customize internal components**"
   ]
  },
  {
   "cell_type": "code",
   "execution_count": null,
   "id": "61835423",
   "metadata": {},
   "outputs": [],
   "source": [
    "!mlonmcu flow run resnet --backend tvmaot --config tvmaot.target_device=arm_cpu"
   ]
  },
  {
   "cell_type": "markdown",
   "id": "40f38f8f",
   "metadata": {},
   "source": [
    "Instead of defining certain key-value pass on aeach command line, feel free to use the `vars:` property defined in the `environment.yml` to achieve the same result."
   ]
  },
  {
   "cell_type": "markdown",
   "id": "dde2adc5",
   "metadata": {},
   "source": [
    "**Invoke multiple models on multiple backends/targets**"
   ]
  },
  {
   "cell_type": "code",
   "execution_count": null,
   "id": "acb86cc3",
   "metadata": {},
   "outputs": [],
   "source": [
    "!mlonmcu flow run resnet toycar --backend tvmaot --backend tflmi --target host_x86 --target etiss_pulpino"
   ]
  },
  {
   "cell_type": "markdown",
   "id": "a0a94aef",
   "metadata": {},
   "source": [
    "**Exploit parallelism to reduce the processing time**"
   ]
  },
  {
   "cell_type": "code",
   "execution_count": null,
   "id": "a2cd60e3",
   "metadata": {},
   "outputs": [],
   "source": [
    "!mlonmcu flow run resnet toycar --backend tvmaot --backend tflmi --target host_x86 --target etiss_pulpino --parallel 4"
   ]
  },
  {
   "cell_type": "markdown",
   "id": "24174401",
   "metadata": {},
   "source": [
    "???"
   ]
  },
  {
   "cell_type": "markdown",
   "id": "0f7d4429",
   "metadata": {},
   "source": [
    "**Inspecting and exporting results and intermediate artifacts**"
   ]
  },
  {
   "cell_type": "markdown",
   "id": "91c749df",
   "metadata": {},
   "source": [
    "TODO"
   ]
  },
  {
   "cell_type": "code",
   "execution_count": null,
   "id": "57cc9909",
   "metadata": {},
   "outputs": [],
   "source": [
    "mlonmcu sess or mlonmcu export -l?"
   ]
  },
  {
   "cell_type": "code",
   "execution_count": null,
   "id": "19f7a6d6",
   "metadata": {},
   "outputs": [],
   "source": [
    "!mlonmcu export --session 0 --run 0 run.zip\n",
    "!mlonmcu export --session 0 session.zip\n",
    "!mlonmcu export session/"
   ]
  },
  {
   "cell_type": "markdown",
   "id": "c966fd54",
   "metadata": {},
   "source": [
    "### Further MLonMCU usage"
   ]
  },
  {
   "cell_type": "code",
   "execution_count": null,
   "id": "53defd29",
   "metadata": {},
   "outputs": [],
   "source": [
    "see below?"
   ]
  },
  {
   "cell_type": "markdown",
   "id": "c542489c",
   "metadata": {},
   "source": [
    "## Demonstration (Python API)"
   ]
  },
  {
   "cell_type": "markdown",
   "id": "05e8646f",
   "metadata": {},
   "source": [
    "### Preface"
   ]
  },
  {
   "cell_type": "markdown",
   "id": "665848cb",
   "metadata": {},
   "source": [
    "While it is also possible to initialize and setup an MLonMCU environment via Python, it is highly recommended to use the provided command line interfaces for these steps. The following examples demonstrate how to use the MLonMCU flow from within a Python program which enables more customizations of the internal features via scripting."
   ]
  },
  {
   "cell_type": "markdown",
   "id": "cdc59158",
   "metadata": {},
   "source": [
    "### Open a MLonMCU context to load the environment"
   ]
  },
  {
   "cell_type": "markdown",
   "id": "c6046d79",
   "metadata": {},
   "source": [
    "### Running the MLonMCU flow"
   ]
  },
  {
   "cell_type": "code",
   "execution_count": null,
   "id": "98d6bb90",
   "metadata": {},
   "outputs": [],
   "source": []
  },
  {
   "cell_type": "markdown",
   "id": "31f10075",
   "metadata": {},
   "source": [
    "### Low level APIs"
   ]
  },
  {
   "cell_type": "markdown",
   "id": "f1b6f99e",
   "metadata": {},
   "source": [
    "Core components of MLonMC (Frontends, Backends, Targets) can also be invoked individually as demonstrated in the following examples:"
   ]
  },
  {
   "cell_type": "code",
   "execution_count": null,
   "id": "659e0dfd",
   "metadata": {},
   "outputs": [],
   "source": []
  }
 ],
 "metadata": {
  "kernelspec": {
   "display_name": "Python 3 (ipykernel)",
   "language": "python",
   "name": "python3"
  },
  "language_info": {
   "codemirror_mode": {
    "name": "ipython",
    "version": 3
   },
   "file_extension": ".py",
   "mimetype": "text/x-python",
   "name": "python",
   "nbconvert_exporter": "python",
   "pygments_lexer": "ipython3",
   "version": "3.8.10"
  }
 },
 "nbformat": 4,
 "nbformat_minor": 5
}
