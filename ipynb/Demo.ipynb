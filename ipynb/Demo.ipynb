{
 "cells": [
  {
   "cell_type": "markdown",
   "id": "9478e4b0",
   "metadata": {},
   "source": [
    "# MLonMCU"
   ]
  },
  {
   "cell_type": "markdown",
   "id": "32435a5e",
   "metadata": {},
   "source": [
    "<table class=\"tfo-notebook-buttons\" align=\"left\">\n",
    "  <td>\n",
    "    <a target=\"_blank\" href=\"https://colab.research.google.com/github/tum-ei-eda/mlonmcu/blob/main/ipynb/Demo.ipynb\"><img src=\"https://quantumai.google/site-assets/images/buttons/colab_logo_1x.png\" />Run in Google Colab</a>\n",
    "  </td>\n",
    "  <td>\n",
    "    <a target=\"_blank\" href=\"https://github.com/tum-ei-eda/mlonmcu/blob/main/ipynb/Demo.ipynb\"><img src=\"https://quantumai.google/site-assets/images/buttons/github_logo_1x.png\" />View source on GitHub</a>\n",
    "  </td>\n",
    "</table>"
   ]
  },
  {
   "cell_type": "markdown",
   "id": "8f7d087d",
   "metadata": {},
   "source": [
    "## Prerequisites"
   ]
  },
  {
   "cell_type": "markdown",
   "id": "f5afa492",
   "metadata": {},
   "source": [
    "Before running this notebook, make sure to run the following steps:\n",
    "\n",
    "1. Install the required software for your distribution:\n",
    "\n",
    "   See main `README.md` file!\n",
    "   \n",
    "2. Clone this repository\n",
    "\n",
    "   ```\n",
    "   git clone https://github.com/tum-ei-eda/mlonmcu.git\n",
    "   cd mlonmcu  # enter cloned repository\n",
    "   ```\n",
    "   \n",
    "3. Setup and enter a new virtualenv (Python 3.7+) for using `mlonmcu`:\n",
    "\n",
    "   ```\n",
    "   python -m venv .venv\n",
    "   source .venv/bin/activate\n",
    "   ```\n",
    "   \n",
    "   Hint: You can also use a `conda` environment for this.\n",
    "   \n",
    "4. Install mlonmcu package\n",
    "\n",
    "   ```\n",
    "   make install  # alternative: python setup.py install\n",
    "   ```\n",
    "   \n",
    "5. Install the required python packages:\n",
    "\n",
    "   ``` \n",
    "   # pip install -r requirements.txt  # Done automatically via setup.py?\n",
    "   pip install -r ipynb/requirements.txt\n",
    "   ```\n",
    "   \n",
    "6. Launch this notebook in jupyter:\n",
    "\n",
    "   ```\n",
    "   jupyter notebook ipynb/Demo.ipynb\n",
    "   ```"
   ]
  },
  {
   "cell_type": "markdown",
   "id": "ade663bb",
   "metadata": {},
   "source": [
    "*Hint for Developers:* If you do not want to install MLonMCU first, you can just replace `mlonmcu` with `python -m mlonmcu.cli.main` in every command to just use the latest development version."
   ]
  },
  {
   "cell_type": "markdown",
   "id": "b6d2c1cf",
   "metadata": {},
   "source": [
    "## Demonstration (Command Line)"
   ]
  },
  {
   "cell_type": "markdown",
   "id": "0a460dde",
   "metadata": {},
   "source": [
    "### Preface"
   ]
  },
  {
   "cell_type": "markdown",
   "id": "71105f6a",
   "metadata": {},
   "source": [
    "This guide should give an idea on the required steps to setup and use MLonMCU using the command line interface. Usage examples are provided as well."
   ]
  },
  {
   "cell_type": "markdown",
   "id": "3744822c",
   "metadata": {},
   "source": [
    "### Initialize a MLonMCU environment"
   ]
  },
  {
   "cell_type": "markdown",
   "id": "7113f996",
   "metadata": {},
   "source": [
    "As MLonMCU requires a directory where dependencies, configurations, intermediate artifacts and results are stored, an environment needs to be initialized first. This also allows to use different configuration (e.g. enabled backends or supported features) for multiple environments."
   ]
  },
  {
   "cell_type": "markdown",
   "id": "23edf711",
   "metadata": {},
   "source": [
    "Create and enter an environment diretcory first to initialize it afterwards:"
   ]
  },
  {
   "cell_type": "code",
   "execution_count": 1,
   "id": "167656d8",
   "metadata": {},
   "outputs": [
    {
     "name": "stdout",
     "output_type": "stream",
     "text": [
      "Initializing ML on MCU environment\n",
      "Selected target directory: /tmp/mlonmcu_env\n",
      "The directory does not exist! - Created directory.\n",
      "Creating environment.yml based on template 'default'.\n",
      "Skipping creation of virtual environment. (already inside one)\n",
      "Initializing directories in environment: deps plugins\n",
      "Finished. Please add `export MLONMCU_HOME=/tmp/mlonmcu_env` to your shell configuration to use it anywhere\n"
     ]
    }
   ],
   "source": [
    "# WARNING: execute this only once! Alternatively remove the environment directory beforehand to start from scratch.\n",
    "!test -d /tmp/mlonmcu_env && echo \"Skipped initialization on environment\" \\\n",
    "  || mlonmcu init /tmp/mlonmcu_env --non-interactive"
   ]
  },
  {
   "cell_type": "markdown",
   "id": "099ed602",
   "metadata": {},
   "source": [
    "When not using a notebook, the option `--non-interactive` can be omitted which allows to customize the initialization process interactively."
   ]
  },
  {
   "cell_type": "markdown",
   "id": "cc331474",
   "metadata": {},
   "source": [
    "If the environment directory is not passed to the `mlonmcu` script, it will try to setup a `default` environment in the users home directory (On Ubuntu: `~/.config/mlonmcu/environments/default/`) instead. By providing a `--name` of the virtual environment if will be automatically registered in `~/.config/mlonmcy/environments.ini` for the current user which helps to find and distinguish multiple installed environments on a machine."
   ]
  },
  {
   "cell_type": "markdown",
   "id": "be4527e6",
   "metadata": {},
   "source": [
    "In the following the actual environment which should be used by the `mlonmcu` program has to be defined by the user either by defining the environment variable `MLONMCU_HOME` or by using the `-H` (`--home` or `--hint`) command line option. If none of this was done, the following rules are following to look for a suitable environment:\n",
    "\n",
    "1. Check if `$MLONMCU_HOME` points to a valid environment\n",
    "2. Use environment provided via the `-H` flag (path or registered name) if available\n",
    "3. If the local working directory is the root of an environment, use this directory\n",
    "4. If there is a default environment for the current user, fall back to this one instead"
   ]
  },
  {
   "cell_type": "code",
   "execution_count": 2,
   "id": "43e841d3",
   "metadata": {},
   "outputs": [
    {
     "name": "stdout",
     "output_type": "stream",
     "text": [
      "env: MLONMCU_HOME=/tmp/mlonmcu_env\n"
     ]
    }
   ],
   "source": [
    "# Use this for bash: `export MLONMCU_HOME=/tmp/mlonmcu_env`\n",
    "%env MLONMCU_HOME=/tmp/mlonmcu_env"
   ]
  },
  {
   "cell_type": "markdown",
   "id": "9f59427f",
   "metadata": {},
   "source": [
    "Registered environment can be listed via the command `mlonmcu env`. In addition there are possibilities to manually update entires in the environments file."
   ]
  },
  {
   "cell_type": "code",
   "execution_count": 3,
   "id": "8838f071",
   "metadata": {},
   "outputs": [
    {
     "name": "stdout",
     "output_type": "stream",
     "text": [
      "Looking for user environments config file: /home/ga87puy/.config/mlonmcu/environments.ini\r\n",
      "Found 2 mlonmcu environment(s):\r\n",
      "    - default (/home/ga87puy/.config/mlonmcu/environments/default)\r\n",
      "    - unnamed (/nfs/TUEIEDAscratch/ga87puy/mlonmcu_research)\r\n",
      "Point the environment variable MLONMCU_HOME to a environment directory to get started\r\n"
     ]
    }
   ],
   "source": [
    "!mlonmcu env"
   ]
  },
  {
   "cell_type": "markdown",
   "id": "789b567d",
   "metadata": {},
   "source": [
    "### Customizing the created MLonMCU environment (optional)"
   ]
  },
  {
   "cell_type": "markdown",
   "id": "404b3bb1",
   "metadata": {},
   "source": [
    "The environment was initialized by a template which can be found in the `templates/` directory of the repository chosen via the `--template` flag. Lets inspect the generated configuration file first:"
   ]
  },
  {
   "cell_type": "code",
   "execution_count": 4,
   "id": "64f1a4d5",
   "metadata": {
    "scrolled": true
   },
   "outputs": [
    {
     "name": "stdout",
     "output_type": "stream",
     "text": [
      "---\r\n",
      "# The MLONMCU_HOME is filled in automatically when creating the environment\r\n",
      "home: \"/tmp/mlonmcu_env\"\r\n",
      "logging:\r\n",
      "  level: DEBUG\r\n",
      "  to_file: false\r\n",
      "  rotate: false\r\n",
      "cleanup:\r\n",
      "  auto: true\r\n",
      "  keep: 50\r\n",
      "# Default locations for certain directoriescan be changed here\r\n",
      "# Non-absolute paths will always be threated relative to the MLONMCU_HOME\r\n",
      "paths:\r\n",
      "  # Where the dependencies are downloaded and installed\r\n",
      "  deps: deps\r\n",
      "  # If logging to file is used keep logs in this directory\r\n",
      "  logs: logs\r\n",
      "  # Location where reports and artifacts are written to\r\n",
      "  results: results\r\n",
      "  # Directory for intermediate build products, should be located on a large enough drive\r\n",
      "  temp: temp\r\n",
      "  # A collection of models which will be used to look for models\r\n",
      "  # The paths will be checked in the order defined here stopping at the first match\r\n",
      "  # Non-existant paths will be skipped without throwing an error\r\n",
      "  models:\r\n",
      "    - \"/tmp/mlonmcu_env/models\"\r\n",
      "    - \"/home/ga87puy/.config/mlonmcu/models\"\r\n",
      "# Here default clone_urls\r\n",
      "repos:\r\n",
      "  tensorflow:\r\n",
      "    url: \"https://github.com/tensorflow/tflite-micro.git\"\r\n",
      "    ref: f868a900f1f788fd0a55b5655b47fc352f9a0239\r\n",
      "  tflite_micro_compiler:\r\n",
      "    url: \"https://github.com/PhilippvK/tflite_micro_compiler.git\"\r\n",
      "    ref: 0e4b533a7a9e8ad30cf81fd24c77d12639431615\r\n",
      "  tvm:\r\n",
      "    url: \"https://github.com/apache/tvm.git\"\r\n",
      "    ref: 76b9ce9b1f7d2b7e64b4b9c9d456a02b8a010473\r\n",
      "  utvm_staticrt_codegen:\r\n",
      "    url: \"https://github.com/tum-ei-eda/utvm_staticrt_codegen.git\"\r\n",
      "    ref: 1b296f1efcc28671ee21ccbe86a81b968db8b1e5\r\n",
      "  tvm_extensions:\r\n",
      "    url: \"https://github.com/tum-ei-eda/tvm_extensions.git\"\r\n",
      "    ref: 3ccd1ad8e4eed0cd86bfbd866d066833fd174dcb\r\n",
      "  muriscvnn:\r\n",
      "    url: \"https://github.com/tum-ei-eda/muriscv-nn.git\"\r\n",
      "    ref: 04bda19e1d2a829d35394c630878d578eac27b0b\r\n",
      "  etiss:\r\n",
      "    url: \"https://github.com/tum-ei-eda/etiss.git\"\r\n",
      "    ref: 78716e7f8e9ee0be0b15d41815d75b35fa2ecaa5\r\n",
      "  spike:\r\n",
      "    url: \"https://github.com/riscv-software-src/riscv-isa-sim.git\"\r\n",
      "    ref: caf5a420ef7414031368739e16d60f3f418aa6ac\r\n",
      "  spikepk:\r\n",
      "    url: \"https://github.com/riscv-software-src/riscv-pk.git\"\r\n",
      "    ref: 2efabd3e6604b8a9e8f70baf52f57696680c7855\r\n",
      "  cmsis:\r\n",
      "    url: \"https://github.com/PhilippvK/CMSIS_5.git\"\r\n",
      "    ref: 4a52cabc5830b4666589d4c63f3a228eef5b4efb\r\n",
      "  mlif:\r\n",
      "    url: \"https://github.com/tum-ei-eda/mlonmcu-sw.git\"\r\n",
      "    ref: 3f8e66b956fe1cf0d85a18d39d684816e92e2751\r\n",
      "  espidf:\r\n",
      "    url: \"https://github.com/espressif/esp-idf.git\"\r\n",
      "    ref: release/v4.4\r\n",
      "  microtvm_etissvp:\r\n",
      "    url: \"https://github.com/PhilippvK/microtvm-etissvp-template.git\"\r\n",
      "    ref: 8b48a897ed4354602454f18cdd890aef6df4a554\r\n",
      "# Here all supported frameworks with their specific features are defined\r\n",
      "# Optionally disable unwanted or incomatible backends or features here\r\n",
      "# The configured defaults are used if no backend was specified in the command line options\r\n",
      "frameworks:\r\n",
      "  default: tvm\r\n",
      "  tflm:\r\n",
      "    enabled: true\r\n",
      "    backends:\r\n",
      "      default: tflmi\r\n",
      "      tflmc:\r\n",
      "        enabled: false\r\n",
      "      tflmi:\r\n",
      "        enabled: true\r\n",
      "        features:\r\n",
      "          debug_arena: true\r\n",
      "    features:\r\n",
      "      muriscvnn: true\r\n",
      "      cmsisnn: true\r\n",
      "  tvm:\r\n",
      "    enabled: true\r\n",
      "    backends:\r\n",
      "      default: tvmaot\r\n",
      "      tvmrt:\r\n",
      "        enabled: true\r\n",
      "        features:\r\n",
      "          debug_arena: true\r\n",
      "          disable_legalize: true\r\n",
      "          autotune: true\r\n",
      "          autotuned: true\r\n",
      "      tvmaot:\r\n",
      "        enabled: true\r\n",
      "        features:\r\n",
      "          debug_arena: true\r\n",
      "          unpacked_api: true\r\n",
      "          usmp: true\r\n",
      "          disable_legalize: true\r\n",
      "          autotune: true\r\n",
      "          autotuned: true\r\n",
      "      tvmllvm:\r\n",
      "        enabled: false\r\n",
      "        features:\r\n",
      "          # unpacked_api: true\r\n",
      "          disable_legalize: true\r\n",
      "          autotune: true\r\n",
      "          autotuned: true\r\n",
      "      tvmcg:\r\n",
      "        enabled: true\r\n",
      "        features:\r\n",
      "          debug_arena: true\r\n",
      "          disable_legalize: true\r\n",
      "          autotune: true\r\n",
      "          autotuned: true\r\n",
      "    features:\r\n",
      "      cmsisnnbyoc: true\r\n",
      "      muriscvnnbyoc: true\r\n",
      "# Some frontends are experimental and therefore disabled here\r\n",
      "# Features like packing are only available in certain environments\r\n",
      "frontends:\r\n",
      "  tflite:\r\n",
      "    enabled: true\r\n",
      "    features:\r\n",
      "      validate: true\r\n",
      "      visualize: true\r\n",
      "  relay:\r\n",
      "    enabled: false\r\n",
      "    features:\r\n",
      "      relayviz: true\r\n",
      "  packed:\r\n",
      "    enabled: false\r\n",
      "    features:\r\n",
      "      packing: true\r\n",
      "      packed: true\r\n",
      "  onnx:\r\n",
      "    enabled: false\r\n",
      "  # TODO: saved_model (TF->TFLITE), ipynb (IPYNB->?)\r\n",
      "# Platform extend the number of supported targets\r\n",
      "platforms:\r\n",
      "  mlif:\r\n",
      "    enabled: true\r\n",
      "    features:\r\n",
      "      debug: true\r\n",
      "      validate: true\r\n",
      "  espidf:\r\n",
      "    enabled: true\r\n",
      "    features:\r\n",
      "      debug: true\r\n",
      "  tvm:\r\n",
      "    enabled: false\r\n",
      "    features: []\r\n",
      "      # rpc: true\r\n",
      "      # validate: true\r\n",
      "  microtvm:\r\n",
      "    enabled: false\r\n",
      "    features:\r\n",
      "      # validate: true\r\n",
      "      microtvm_etissvp: true\r\n",
      "# List of supported targets in the environment\r\n",
      "targets:\r\n",
      "  default: etiss_pulpino\r\n",
      "  etiss_pulpino:\r\n",
      "    enabled: true\r\n",
      "    features:\r\n",
      "      gdbserver: true\r\n",
      "      etissdbg: true\r\n",
      "      trace: true\r\n",
      "      log_instrs: true\r\n",
      "      # vext: true\r\n",
      "      # pext: true\r\n",
      "  host_x86:\r\n",
      "    enabled: true\r\n",
      "    features:\r\n",
      "      gdbserver: true\r\n",
      "  spike:\r\n",
      "    enabled: true\r\n",
      "    features:\r\n",
      "      vext: true\r\n",
      "      pext: true\r\n",
      "      cachesim: true\r\n",
      "      log_instrs: true\r\n",
      "  ovpsim:\r\n",
      "    enabled: false\r\n",
      "    features:\r\n",
      "      vext: true\r\n",
      "      pext: true\r\n",
      "  corstone300:\r\n",
      "    enabled: true\r\n",
      "    features:\r\n",
      "      ethosu: false\r\n",
      "      arm_mvei: false\r\n",
      "      arm_dsp: false\r\n",
      "postprocesses:\r\n",
      "  use:\r\n",
      "  # - detailed_cycles\r\n",
      "  # - average_cycles\r\n",
      "  # - filter_cols\r\n",
      "  # - features2cols\r\n",
      "  # - config2cols\r\n",
      "  # - bytes2kb\r\n",
      "  # - visualize\r\n",
      "# This is where further options such as specific versions of dependencies can be set in the furture\r\n",
      "vars:\r\n",
      "  # tvm.make_tool: \"ninja\"\r\n",
      "  llvm.version: \"11.1.0\"\r\n",
      "  runs_per_stage: true\r\n",
      "  riscv_gcc.dl_url: \"https://syncandshare.lrz.de/dl/fiD9HnHYkb2V8kNbVQYv242m/rv32gc.tar.gz\"\r\n",
      "  riscv_gcc.dl_url_vext: \"https://syncandshare.lrz.de/dl/fiPX7H4WRQL9GXbeoo2sEexj/rv32gcv.tar.gz\"\r\n",
      "  riscv_gcc.dl_url_pext: \"https://syncandshare.lrz.de/dl/fiNvP4mzVQ8uDvgT9Yf2bqNk/rv32gcp.tar.xz\""
     ]
    }
   ],
   "source": [
    "!cat $MLONMCU_HOME/environment.yml"
   ]
  },
  {
   "cell_type": "markdown",
   "id": "78b9eb23",
   "metadata": {},
   "source": [
    "The environment should work out of the box, but feel free to update the contents of the `environment.yml` file to achieve one of the following:\n",
    "\n",
    "- Change the default paths used for dependencies, results, models,...\n",
    "- Use different forks/versions of a repository\n",
    "- Disable certain frameworks/backends to reduce the installation time in the next step.\n",
    "- Define which features are supported for the given repositories\n",
    "- Set default backends and targets\n",
    "- Define a set of default configuration variables\n",
    "\n",
    "To learn more about this, check out this document: `ENVIRONMENTS.md`"
   ]
  },
  {
   "cell_type": "markdown",
   "id": "10e74d0f",
   "metadata": {},
   "source": [
    "### Setting up all MLonMCU dependencies"
   ]
  },
  {
   "cell_type": "markdown",
   "id": "fbc32554",
   "metadata": {},
   "source": [
    "Depending on the enabled backends and features, a different set of dependencies has to be installed. To reduce the management effort for the user, all these versions are installed and managed automatically using MLonMCU. To trigger this process, run the following in the command line. (This will take a very long time with all frameworks/targets/features enabled when invoked for the first time)"
   ]
  },
  {
   "cell_type": "code",
   "execution_count": 7,
   "id": "6ecce763",
   "metadata": {
    "scrolled": true
   },
   "outputs": [
    {
     "name": "stdout",
     "output_type": "stream",
     "text": [
      "INFO - No cache found in deps directory\n",
      "INFO - Loading extensions.py (User)\n",
      "INFO - Installing dependencies...\n",
      "INFO - Processing task: clone_tensorflow\n",
      "INFO - Processing task: clone_muriscvnn\n",
      "INFO - Processing task: clone_cmsis\n",
      "INFO - Processing task: clone_tflite_micro_compiler\n",
      "INFO - Processing task: clone_etiss\n",
      "INFO - Processing task: clone_tvm_extensions\n",
      "INFO - Processing task: install_llvm\n",
      "INFO - Processing task: clone_utvm_staticrt_codegen\n",
      "INFO - Processing task: install_riscv_gcc{'pext': False, 'vext': False}\n",
      "INFO - Processing task: install_riscv_gcc{'pext': False, 'vext': True}\n",
      "INFO - Processing task: install_riscv_gcc{'pext': True, 'vext': False}\n",
      "INFO - Processing task: clone_spike_pk\n",
      "INFO - Processing task: clone_spike\n",
      "INFO - Processing task: install_arm_gcc\n",
      "INFO - Processing task: clone_espidf\n",
      "INFO - Processing task: install_corstone300\n",
      "INFO - Processing task: clone_mlif\n",
      "INFO - Processing task: download_tflite_vizualize\n",
      "INFO - Processing task: clone_microtvm_etissvp\n",
      "INFO - Processing task: build_tensorflow{'dbg': True}\n",
      "INFO - Processing task: build_etiss{'dbg': False}\n",
      "INFO - Processing task: build_etiss{'dbg': True}\n",
      "INFO - Processing task: clone_tvm{'patch': False}\n",
      "INFO - Processing task: clone_tvm{'patch': True}\n",
      "INFO - Processing task: build_muriscvnn{'toolchain': 'gcc', 'pext': False, 'vext': False, 'dbg': False}\n",
      "INFO - Processing task: build_muriscvnn{'toolchain': 'gcc', 'pext': False, 'vext': False, 'dbg': True}\n",
      "INFO - Processing task: build_muriscvnn{'toolchain': 'gcc', 'pext': False, 'vext': True, 'dbg': False}\n",
      "INFO - Processing task: build_muriscvnn{'toolchain': 'gcc', 'pext': False, 'vext': True, 'dbg': True}\n",
      "INFO - Processing task: build_muriscvnn{'toolchain': 'gcc', 'pext': True, 'vext': False, 'dbg': False}\n",
      "INFO - Processing task: build_muriscvnn{'toolchain': 'gcc', 'pext': True, 'vext': False, 'dbg': True}\n",
      "INFO - Processing task: build_spike_pk{'pext': False, 'vext': False}\n",
      "INFO - Processing task: build_spike_pk{'pext': False, 'vext': True}\n",
      "INFO - Processing task: build_spike_pk{'pext': True, 'vext': False}\n",
      "INFO - Processing task: build_spike\n",
      "INFO - Processing task: build_cmsisnn{'dsp': False, 'mvei': False, 'target_arch': 'x86', 'dbg': False}\n",
      "INFO - Processing task: build_cmsisnn{'dsp': False, 'mvei': False, 'target_arch': 'x86', 'dbg': True}\n",
      "INFO - Processing task: build_cmsisnn{'dsp': False, 'mvei': False, 'target_arch': 'riscv', 'dbg': False}\n",
      "INFO - Processing task: build_cmsisnn{'dsp': False, 'mvei': False, 'target_arch': 'riscv', 'dbg': True}\n",
      "INFO - Processing task: build_cmsisnn{'dsp': False, 'mvei': False, 'target_arch': 'arm', 'dbg': False}\n",
      "INFO - Processing task: build_cmsisnn{'dsp': False, 'mvei': False, 'target_arch': 'arm', 'dbg': True}\n",
      "INFO - Processing task: install_espidf\n",
      "INFO - Processing task: install_etiss{'dbg': False}\n",
      "INFO - Processing task: install_etiss{'dbg': True}\n",
      "INFO - Processing task: build_tvm{'cmsisnn': False, 'dbg': False}\n",
      "INFO - Processing task: build_tvm{'cmsisnn': True, 'dbg': False}\n",
      "INFO - Processing task: build_utvm_staticrt_codegen{'dbg': False}\n",
      "INFO - Processing task: build_tflite_micro_compiler\n",
      "INFO - Finished installing dependencies\n"
     ]
    }
   ],
   "source": [
    "!mlonmcu setup"
   ]
  },
  {
   "cell_type": "markdown",
   "id": "5b47bbba",
   "metadata": {},
   "source": [
    "Some things need to be considered here:\n",
    "- Repositories are only cloned once, so upstream changes or updated urls/branches in the `environments.yml` are not detected automatically\n",
    "- The flag `--rebuild` can be passed to `mlonmcu setup` to ensure that the setup routine of every dependency is triggered again. However this does not guarentee that all artifacts are properly updated. Also there is a `--task` option which allows to invoke individual tasks manually.\n",
    "- To guarantee that the latest versions of a dependency are installed you can remove the `deps` directory manually or alternative use the provided `mlonmcu cleanup` utility. (Execute `mlonmcu cleanup --help` to learn more)\n",
    "- In addition to the installed dependencies, a file named `cache.ini` can be found in the environments `deps/` directory. Here all paths to relevant dependencies are stored with their different sets of flags."
   ]
  },
  {
   "cell_type": "markdown",
   "id": "8daa9d4a",
   "metadata": {},
   "source": [
    "### Adding models to MLonMCU"
   ]
  },
  {
   "cell_type": "markdown",
   "id": "55518b0e",
   "metadata": {},
   "source": [
    "By default, the `mlonmcu-models` repository (https://github.com/tum-ei-eda/mlonmcu-models) is cloned to each environment as its contents are designed to perfectly integrate into the MLonMCU flow. In addition a location in the users home directory (`~/.config/mlonmcu/models/` for Ubuntu) is also added to the search path as defined in the `environments.yml`. Feel free to add further model manually or alternatively clone a model-zoo (e.g. https://github.com/ARM-software/ML-zoo) to a random location on the disc and updating the list of model-paths in the environments' config file."
   ]
  },
  {
   "cell_type": "markdown",
   "id": "25d49e86",
   "metadata": {},
   "source": [
    "To list all available models in a environment, the `mlonmcu models` subcommand can be used:"
   ]
  },
  {
   "cell_type": "code",
   "execution_count": 8,
   "id": "32db9a74",
   "metadata": {
    "scrolled": true
   },
   "outputs": [
    {
     "name": "stdout",
     "output_type": "stream",
     "text": [
      "INFO - Loading environment cache from file\n",
      "INFO - Successfully initialized cache\n",
      "INFO - Loading extensions.py (User)\n",
      "Models Summary\n",
      "\n",
      "Paths:\n",
      "    /tmp/mlonmcu_env/models\n",
      "    /nas/ei/home/ga87puy/.config/mlonmcu/models\n",
      "\n",
      "Models:\n",
      "    MobileNetV2\n",
      "    MobileNetV2/MobileNet_V2\n",
      "    aww\n",
      "    bigsine_quant\n",
      "    catdog\n",
      "    catdog/CNN_2L_model_quantized\n",
      "    catdog/CNN_full_quantized\n",
      "    catdog/CNN_full_quantized_70_\n",
      "    catdog/CNN_model\n",
      "    catdog2\n",
      "    cifar10\n",
      "    cnn_s_quantized\n",
      "    lstm2\n",
      "    magic_wand\n",
      "    micro_speech (1 duplicates)\n",
      "    micro_speech_custom\n",
      "    micro_speech_custom_lr\n",
      "    micro_speech_custom_ud\n",
      "    micro_speech_ds_cnn_s_15000_2w\n",
      "    micro_speech_ds_cnn_s_15000_4w\n",
      "    micro_speech_micro_speech_15000_2w\n",
      "    micro_speech_micro_speech_15000_4w\n",
      "    mobilenet_v1_0_25_128\n",
      "    mobilenet_v1_10_224\n",
      "    mobilenet_v1_1_0_224_quant\n",
      "    mobilenetv1\n",
      "    person_detect\n",
      "    resnet\n",
      "    simple_mnist\n",
      "    simple_mnist/MNIST_best_model\n",
      "    simple_mnist/MNIST_model\n",
      "    simple_mnist/MNIST_model_quantized\n",
      "    simple_mnist/model_data\n",
      "    simple_mnist/model_data_pruned\n",
      "    simple_mnist/model_data_size_optimized\n",
      "    sine_model\n",
      "    sine_model/hello_world\n",
      "    ssd\n",
      "    text_class\n",
      "    toycar\n",
      "    vww\n",
      "\n",
      "Groups:\n",
      "    tinymlperf [4 models]\n",
      "    minimal [1 models]\n",
      "    tinymlbook [3 models]\n"
     ]
    }
   ],
   "source": [
    "!mlonmcu models"
   ]
  },
  {
   "cell_type": "markdown",
   "id": "c38632a4",
   "metadata": {},
   "source": [
    "The listed \"Paths\" should match the search paths defined in the `environments.yml` and are processed in the provided order. If there are multiple models of the same name, only the first one will be added to MLonMCU. By passing the `--detailed` flag to the command, additional information will be shown for each entry.\n",
    "\n",
    "TODO: allow to search/filter for models by passing an extra arg"
   ]
  },
  {
   "cell_type": "markdown",
   "id": "7feedc70",
   "metadata": {},
   "source": [
    "In addition to individual models, predefined model-groups are also available. I.e. the MLPerf Tiny benchmark defined here:"
   ]
  },
  {
   "cell_type": "code",
   "execution_count": 9,
   "id": "aa765c5a",
   "metadata": {},
   "outputs": [
    {
     "name": "stdout",
     "output_type": "stream",
     "text": [
      "---\r\n",
      "tinymlperf:\r\n",
      "  - aww\r\n",
      "  - vww\r\n",
      "  - resnet\r\n",
      "  - toycar\r\n",
      "\r\n",
      "minimal:\r\n",
      "  - sine_model\r\n",
      "\r\n",
      "tinymlbook:\r\n",
      "  - sine_model  # hello_world\r\n",
      "  - micro_speech\r\n",
      "  - magic_wand\r\n"
     ]
    }
   ],
   "source": [
    "!cat $MLONMCU_HOME/models/modelgroups.yml"
   ]
  },
  {
   "cell_type": "markdown",
   "id": "fcf550a9",
   "metadata": {},
   "source": [
    "Feel free to manualy define further model-groups for your needs."
   ]
  },
  {
   "cell_type": "markdown",
   "id": "eda64a8c",
   "metadata": {},
   "source": [
    "### Running the MLonMCU flow"
   ]
  },
  {
   "cell_type": "markdown",
   "id": "15f53550",
   "metadata": {},
   "source": [
    "The MLonMCU flow is a major part of the tool and therefore explained by several examples, starting with minimal use cases before discussing more complex examples later."
   ]
  },
  {
   "cell_type": "markdown",
   "id": "b4584f0d",
   "metadata": {},
   "source": [
    "**Invoke a single model on the default backend/target**"
   ]
  },
  {
   "cell_type": "code",
   "execution_count": 10,
   "id": "d49d238e",
   "metadata": {},
   "outputs": [
    {
     "name": "stdout",
     "output_type": "stream",
     "text": [
      "INFO - Loading environment cache from file\n",
      "INFO - Successfully initialized cache\n",
      "INFO - Loading extensions.py (User)\n",
      "INFO -  Processing stage LOAD\n",
      "INFO -  Processing stage BUILD\n",
      "INFO -  Processing stage COMPILE\n",
      "INFO -  Processing stage RUN\n",
      "INFO - All runs completed successfuly!\n",
      "INFO - Postprocessing session report\n",
      "INFO - Done processing runs\n",
      "INFO - Report:\n",
      "   Session  Run   Model Frontend Framework Backend Platform         Target    Cycles  MIPS  Total ROM  Total RAM  ROM read-only  ROM code  ROM misc  RAM data  RAM zero-init data Features                                             Config Postprocesses Comment\n",
      "0        0    0  resnet   tflite       tvm  tvmaot     mlif  etiss_pulpino  82445446    79     233114     124785         167424     65546       144      2485              122300       []  {'tflite.use_inout_data': False, 'tflite.visua...            []       -\n"
     ]
    }
   ],
   "source": [
    "!mlonmcu flow run resnet"
   ]
  },
  {
   "cell_type": "markdown",
   "id": "fde27af0",
   "metadata": {},
   "source": [
    "While this looks pretty clean, in the background, there is a lot of thing being processed. You can find out more using the `--verbose` flag:"
   ]
  },
  {
   "cell_type": "code",
   "execution_count": 11,
   "id": "67b6fb50",
   "metadata": {
    "scrolled": true
   },
   "outputs": [
    {
     "name": "stdout",
     "output_type": "stream",
     "text": [
      "DEBUG - Cleaning up old sessions automaticaly\n",
      "DEBUG - Restored 1 recent sessions\n",
      "DEBUG - Enter MlonMcuContext\n",
      "DEBUG - Locking context\n",
      "INFO - Loading environment cache from file\n",
      "INFO - Successfully initialized cache\n",
      "INFO - Loading extensions.py (User)\n",
      "DEBUG - Creating a new session with idx 1\n",
      "DEBUG - Found match. Ignoring other files\n",
      "DEBUG - Creating a new run with id 0\n",
      "DEBUG - Found match. Ignoring other files\n",
      "INFO - [session-1]  Processing stage LOAD\n",
      "DEBUG - [session-1] [run-0] Continuing run from stage LOAD until stage LOAD\n",
      "DEBUG - [session-1] [run-0] Processing stage LOAD\n",
      "DEBUG - [session-1] [run-0] Exporting run to disk\n",
      "DEBUG - [session-1] [run-0] Writing run file\n",
      "INFO - [session-1]  Processing stage BUILD\n",
      "DEBUG - [session-1] [run-0] Continuing run from stage BUILD until stage BUILD\n",
      "DEBUG - [session-1] [run-0] Processing stage BUILD\n",
      "DEBUG - - Executing: ('/tmp/vankempen/mlonmcu/.venv/bin/python', '-m', 'tvm.driver.tvmc', 'compile', PosixPath('/tmp/mlonmcu_env/temp/sessions/1/runs/0/resnet.tflite'), '--target', 'c', '--runtime', 'crt', '--executor', 'aot', '--pass-config', 'tir.disable_vectorize=True', '--input-shapes', 'input_1_int8:[1,32,32,3]', '--opt-level', '3', '--output', '/tmp/tmp1zzupes5/default.tar', '-f', 'mlf', '--model-format', 'tflite', '--runtime-crt-system-lib', '0', '--target-c-constants-byte-alignment', '4', '--target-c-workspace-byte-alignment', '4', '--executor-aot-unpacked-api', '0', '--executor-aot-interface-api', 'packed')\n",
      "DEBUG - [session-1] [run-0] Exporting run to disk\n",
      "DEBUG - [session-1] [run-0] Writing run file\n",
      "INFO - [session-1]  Processing stage COMPILE\n",
      "DEBUG - [session-1] [run-0] Continuing run from stage COMPILE until stage COMPILE\n",
      "DEBUG - [session-1] [run-0] Processing stage COMPILE\n",
      "DEBUG - - Executing: ('cmake', '/tmp/mlonmcu_env/deps/src/mlif', '-DCMAKE_BUILD_TYPE=Release', '-DMLONMCU_BACKEND=tvmaot', '-DMLONMCU_FRAMEWORK=tvm', '-DTVM_CRT_CONFIG_DIR=/tmp/vankempen/mlonmcu/.venv/lib/python3.8/site-packages/mlonmcu-0.2.0-py3.8.egg/mlonmcu/../resources/frameworks/tvm/crt_config', '-DTVM_DIR=/tmp/mlonmcu_env/deps/src/tvm', '-DRISCV_ELF_GCC_PREFIX=/tmp/mlonmcu_env/deps/install/riscv_gcc', '-DRISCV_ELF_GCC_BASENAME=riscv32-unknown-elf', '-DRISCV_ARCH=rv32gc', '-DRISCV_ABI=ilp32d', '-DRISCV_ATTR=+f,+d,+m,+a,+i,+c', '-DETISS_DIR=/tmp/mlonmcu_env/deps/install/etiss', '-DPULPINO_ROM_START=0', '-DPULPINO_ROM_SIZE=8388608', '-DPULPINO_RAM_START=8388608', '-DPULPINO_RAM_SIZE=67108864', '-DTARGET_SYSTEM=etiss_pulpino', '-DTOOLCHAIN=gcc', '-DLLVM_DIR=/tmp/mlonmcu_env/deps/install/llvm', '-DMODEL_SUPPORT_DIR=/tmp/mlonmcu_env/models/resnet/support', '-DSRC_DIR=/tmp/mlonmcu_env/temp/sessions/1/runs/0', '-DDATA_SRC=')\n",
      "DEBUG - - Executing: ('make', '-j4', 'generic_mlif')\n",
      "DEBUG - [session-1] [run-0] Exporting run to disk\n",
      "DEBUG - [session-1] [run-0] Writing run file\n",
      "INFO - [session-1]  Processing stage RUN\n",
      "DEBUG - [session-1] [run-0] Continuing run from stage RUN until stage RUN\n",
      "DEBUG - [session-1] [run-0] Processing stage RUN\n",
      "DEBUG - - Executing: (PosixPath('/tmp/mlonmcu_env/deps/install/etiss/bin/run_helper.sh'), PosixPath('/tmp/mlonmcu_env/temp/sessions/1/runs/0/generic_mlif'), '-i/tmp/tmprsuvsdhd/custom.ini')\n",
      "DEBUG - - Executing: (PosixPath('/tmp/mlonmcu_env/deps/src/etiss/src/bare_etiss_processor/get_metrics.py'), PosixPath('/tmp/mlonmcu_env/temp/sessions/1/runs/0/generic_mlif'), '--ini', '/tmp/tmprsuvsdhd/custom.ini', '--out', '/tmp/tmprsuvsdhd/metrics.csv')\n",
      "DEBUG - [session-1] [run-0] Exporting run to disk\n",
      "DEBUG - [session-1] [run-0] Writing run file\n",
      "INFO - All runs completed successfuly!\n",
      "INFO - Postprocessing session report\n",
      "INFO - [session-1] Done processing runs\n",
      "INFO - Report:\n",
      "   Session  Run   Model Frontend Framework Backend Platform         Target    Cycles  MIPS  Total ROM  Total RAM  ROM read-only  ROM code  ROM misc  RAM data  RAM zero-init data Features                                             Config Postprocesses Comment\n",
      "0        1    0  resnet   tflite       tvm  tvmaot     mlif  etiss_pulpino  82445446    84     233114     124785         167424     65546       144      2485              122300       []  {'tflite.use_inout_data': False, 'tflite.visua...            []       -\n",
      "DEBUG - Exit MlonMcuContext\n",
      "DEBUG - Cleaning up active sessions\n",
      "DEBUG - Releasing lock on context\n"
     ]
    }
   ],
   "source": [
    "!mlonmcu flow run resnet --verbose"
   ]
  },
  {
   "cell_type": "markdown",
   "id": "4812f846",
   "metadata": {},
   "source": [
    "The report of a run is typically the first thing to check out after invoking MLonMCU. It will be automatically written to the `results` directory declared in the `environments.yml`:"
   ]
  },
  {
   "cell_type": "code",
   "execution_count": 12,
   "id": "a6e147f8",
   "metadata": {
    "scrolled": true
   },
   "outputs": [
    {
     "name": "stdout",
     "output_type": "stream",
     "text": [
      "/tmp/mlonmcu_env/results/unnamed_20221004T141741.csv\r\n",
      "/tmp/mlonmcu_env/results/unnamed_20221004T141752.csv\r\n"
     ]
    }
   ],
   "source": [
    "!ls $MLONMCU_HOME/results/*.csv"
   ]
  },
  {
   "cell_type": "markdown",
   "id": "f1ffb5b9",
   "metadata": {},
   "source": [
    "Let's define some helper functions to print these reports as a table. Of course you could also just open them i.e. with Excel! "
   ]
  },
  {
   "cell_type": "code",
   "execution_count": 13,
   "id": "3ca15186",
   "metadata": {},
   "outputs": [],
   "source": [
    "from helpers import tabularize_latest_report"
   ]
  },
  {
   "cell_type": "markdown",
   "id": "849d148a",
   "metadata": {},
   "source": [
    "In the following line the results or the latest run should be printed as a Pandas dataframe:"
   ]
  },
  {
   "cell_type": "code",
   "execution_count": 14,
   "id": "6d224b05",
   "metadata": {},
   "outputs": [
    {
     "data": {
      "text/html": [
       "<div>\n",
       "<style scoped>\n",
       "    .dataframe tbody tr th:only-of-type {\n",
       "        vertical-align: middle;\n",
       "    }\n",
       "\n",
       "    .dataframe tbody tr th {\n",
       "        vertical-align: top;\n",
       "    }\n",
       "\n",
       "    .dataframe thead th {\n",
       "        text-align: right;\n",
       "    }\n",
       "</style>\n",
       "<table border=\"1\" class=\"dataframe\">\n",
       "  <thead>\n",
       "    <tr style=\"text-align: right;\">\n",
       "      <th></th>\n",
       "      <th>Session</th>\n",
       "      <th>Run</th>\n",
       "      <th>Model</th>\n",
       "      <th>Frontend</th>\n",
       "      <th>Framework</th>\n",
       "      <th>Backend</th>\n",
       "      <th>Platform</th>\n",
       "      <th>Target</th>\n",
       "      <th>Num</th>\n",
       "      <th>Total Cycles</th>\n",
       "      <th>...</th>\n",
       "      <th>Total RAM</th>\n",
       "      <th>ROM read-only</th>\n",
       "      <th>ROM code</th>\n",
       "      <th>ROM misc</th>\n",
       "      <th>RAM data</th>\n",
       "      <th>RAM zero-init data</th>\n",
       "      <th>Features</th>\n",
       "      <th>Config</th>\n",
       "      <th>Postprocesses</th>\n",
       "      <th>Comment</th>\n",
       "    </tr>\n",
       "  </thead>\n",
       "  <tbody>\n",
       "    <tr>\n",
       "      <th>0</th>\n",
       "      <td>1</td>\n",
       "      <td>0</td>\n",
       "      <td>resnet</td>\n",
       "      <td>tflite</td>\n",
       "      <td>tvm</td>\n",
       "      <td>tvmaot</td>\n",
       "      <td>mlif</td>\n",
       "      <td>etiss_pulpino</td>\n",
       "      <td>1</td>\n",
       "      <td>114895000</td>\n",
       "      <td>...</td>\n",
       "      <td>123313</td>\n",
       "      <td>164752</td>\n",
       "      <td>14630</td>\n",
       "      <td>144</td>\n",
       "      <td>1081</td>\n",
       "      <td>122232</td>\n",
       "      <td>[]</td>\n",
       "      <td>{'riscv_gcc.name': 'riscv32-unknown-elf'}</td>\n",
       "      <td>[]</td>\n",
       "      <td>-</td>\n",
       "    </tr>\n",
       "  </tbody>\n",
       "</table>\n",
       "<p>1 rows × 22 columns</p>\n",
       "</div>"
      ],
      "text/plain": [
       "   Session  Run   Model Frontend Framework Backend Platform         Target  \\\n",
       "0        1    0  resnet   tflite       tvm  tvmaot     mlif  etiss_pulpino   \n",
       "\n",
       "   Num  Total Cycles  ...  Total RAM  ROM read-only  ROM code  ROM misc  \\\n",
       "0    1     114895000  ...     123313         164752     14630       144   \n",
       "\n",
       "   RAM data  RAM zero-init data  Features  \\\n",
       "0      1081              122232        []   \n",
       "\n",
       "                                      Config Postprocesses Comment  \n",
       "0  {'riscv_gcc.name': 'riscv32-unknown-elf'}            []       -  \n",
       "\n",
       "[1 rows x 22 columns]"
      ]
     },
     "execution_count": 14,
     "metadata": {},
     "output_type": "execute_result"
    }
   ],
   "source": [
    "tabularize_latest_report()"
   ]
  },
  {
   "cell_type": "markdown",
   "id": "c769e10e",
   "metadata": {},
   "source": [
    "The artifacts for every invocation of the MLonMCU flow can be found in directory inside the environment. Your can find the latest files like this:"
   ]
  },
  {
   "cell_type": "code",
   "execution_count": 15,
   "id": "6483d068",
   "metadata": {},
   "outputs": [
    {
     "name": "stdout",
     "output_type": "stream",
     "text": [
      "/bin/bash: tree: command not found\r\n"
     ]
    }
   ],
   "source": [
    "!tree -L 3 $MLONMCU_HOME/temp/sessions/latest/"
   ]
  },
  {
   "cell_type": "markdown",
   "id": "857b4a47",
   "metadata": {},
   "source": [
    "However there is a more comfortable way to do this: `mlonmcu export`"
   ]
  },
  {
   "cell_type": "code",
   "execution_count": 16,
   "id": "a03858fa",
   "metadata": {},
   "outputs": [
    {
     "name": "stdout",
     "output_type": "stream",
     "text": [
      "INFO - Loading environment cache from file\n",
      "INFO - Successfully initialized cache\n",
      "Creating directory: /tmp/some_directory\n",
      "Done\n"
     ]
    }
   ],
   "source": [
    "!mkdir -p /tmp/some_directory\n",
    "!mlonmcu export /tmp/some_directory --run -f # By default this exports the latest run of the latest session"
   ]
  },
  {
   "cell_type": "markdown",
   "id": "18969447",
   "metadata": {},
   "source": [
    "Check out `mlonmcu export --help` to learn learn how to get the most out of this command. There is also a utility called `mlonmcu cleanup` which helps to get rid of old files after exporting the useful ones."
   ]
  },
  {
   "cell_type": "markdown",
   "id": "d5ee098e",
   "metadata": {},
   "source": [
    "There exist multiple stages which can be processed. The subcommand passed to `mlonmcu flow` defines the stage where the flow should stop. If you are only interested in intermediate artifacts of the process, use one of the following:\n",
    "\n",
    "```\n",
    "mlonmcu flow load  # only process the model with the frontend\n",
    "mlonmcu flow build  # invoke the chosen backend to generate code\n",
    "mlonmcu flow compile  # (cross-)compile the code for the chosen target\n",
    "```\n",
    "\n",
    "Further commands are available to achive further behavior:\n",
    "\n",
    "```\n",
    "mlonmcu flow test  # use provided model-data to invoke the models comparing their outputs with a golden reference\n",
    "```"
   ]
  },
  {
   "cell_type": "markdown",
   "id": "48ce915e",
   "metadata": {},
   "source": [
    "**Explicitly specify the backend and target to use for the flow**"
   ]
  },
  {
   "cell_type": "code",
   "execution_count": 17,
   "id": "47621bbc",
   "metadata": {},
   "outputs": [
    {
     "name": "stdout",
     "output_type": "stream",
     "text": [
      "INFO - Loading environment cache from file\n",
      "INFO - Successfully initialized cache\n",
      "INFO - [session-2]  Processing stage LOAD\n",
      "INFO - [session-2]  Processing stage BUILD\n",
      "INFO - [session-2]  Processing stage COMPILE\n",
      "INFO - [session-2]  Processing stage RUN\n",
      "INFO - All runs completed successfuly!\n",
      "INFO - Postprocessing session report\n",
      "INFO - [session-2] Done processing runs\n",
      "INFO - Report:\n",
      "   Session  Run       Model Frontend Framework Backend Platform    Target  Num  Runtime [s]  Total ROM  Total RAM  ROM read-only  ROM code  ROM misc  RAM data  RAM zero-init data Features Config Postprocesses Comment\n",
      "0        2    0  sine_model   tflite       tvm  tvmaot     mlif  host_x86    1     0.006414       6853        273           1476      3893      1484        25                 248       []     {}            []       -\n"
     ]
    }
   ],
   "source": [
    "!mlonmcu flow run sine_model --backend tvmaot --target host_x86"
   ]
  },
  {
   "cell_type": "markdown",
   "id": "b048c328",
   "metadata": {},
   "source": [
    "**Enable certain features for all defined runs**"
   ]
  },
  {
   "cell_type": "code",
   "execution_count": 18,
   "id": "4dcda1a6",
   "metadata": {},
   "outputs": [
    {
     "name": "stdout",
     "output_type": "stream",
     "text": [
      "INFO - Loading environment cache from file\n",
      "INFO - Successfully initialized cache\n",
      "INFO - [session-3]  Processing stage LOAD\n",
      "INFO - [session-3]  Processing stage BUILD\n",
      "INFO - [session-3]  Processing stage COMPILE\n",
      "INFO - [session-3]  Processing stage RUN\n",
      "INFO - All runs completed successfuly!\n",
      "INFO - Postprocessing session report\n",
      "INFO - [session-3] Done processing runs\n",
      "INFO - Report:\n",
      "   Session  Run   Model Frontend Framework Backend Platform         Target  Num  Total Cycles  MIPS  Total ROM  Total RAM  ROM read-only  ROM code  ROM misc  RAM data  RAM zero-init data        Features                                             Config Postprocesses Comment\n",
      "0        3    0  toycar   tflite       tvm  tvmaot     mlif  etiss_pulpino    1       2444050     9     543824       4361         535548      8132       144      1089                3272  [unpacked_api]  {'tvmaot.unpacked_api': True, 'riscv_gcc.name'...            []       -\n"
     ]
    }
   ],
   "source": [
    "!mlonmcu flow run toycar --backend tvmaot --target etiss_pulpino --feature unpacked_api"
   ]
  },
  {
   "cell_type": "markdown",
   "id": "c539c1bb",
   "metadata": {},
   "source": [
    "**Add additional configuration options to customize internal components**"
   ]
  },
  {
   "cell_type": "code",
   "execution_count": 19,
   "id": "61835423",
   "metadata": {},
   "outputs": [
    {
     "name": "stdout",
     "output_type": "stream",
     "text": [
      "INFO - Loading environment cache from file\n",
      "INFO - Successfully initialized cache\n",
      "INFO - [session-4]  Processing stage LOAD\n",
      "INFO - [session-4]  Processing stage BUILD\n",
      "INFO - [session-4]  Processing stage COMPILE\n",
      "INFO - [session-4]  Processing stage RUN\n",
      "INFO - All runs completed successfuly!\n",
      "INFO - Postprocessing session report\n",
      "INFO - [session-4] Done processing runs\n",
      "INFO - Report:\n",
      "   Session  Run   Model Frontend Framework Backend Platform         Target  Num  Total Cycles  MIPS  Total ROM  Total RAM  ROM read-only  ROM code  ROM misc  RAM data  RAM zero-init data Features                                             Config Postprocesses Comment\n",
      "0        4    0  resnet   tflite       tvm  tvmaot     mlif  etiss_pulpino    1     148694000    29     183424     174241         164748     18532       144      1081              173160       []  {'tvmaot.target_device': 'arm_cpu', 'riscv_gcc...            []       -\n"
     ]
    }
   ],
   "source": [
    "!mlonmcu flow run resnet --backend tvmaot --config tvmaot.target_device=arm_cpu"
   ]
  },
  {
   "cell_type": "markdown",
   "id": "40f38f8f",
   "metadata": {},
   "source": [
    "Instead of defining certain key-value pass on aeach command line, feel free to use the `vars:` property defined in the `environment.yml` to achieve the same result."
   ]
  },
  {
   "cell_type": "markdown",
   "id": "dde2adc5",
   "metadata": {},
   "source": [
    "**Invoke multiple models on multiple backends/targets**"
   ]
  },
  {
   "cell_type": "code",
   "execution_count": 20,
   "id": "acb86cc3",
   "metadata": {},
   "outputs": [
    {
     "name": "stdout",
     "output_type": "stream",
     "text": [
      "INFO - Loading environment cache from file\n",
      "INFO - Successfully initialized cache\n",
      "INFO - [session-5]  Processing stage LOAD\n",
      "INFO - [session-5]  Processing stage BUILD\n",
      "INFO - [session-5]  Processing stage COMPILE\n",
      "INFO - [session-5]  Processing stage RUN\n",
      "INFO - All runs completed successfuly!\n",
      "INFO - Postprocessing session report\n",
      "INFO - [session-5] Done processing runs\n",
      "INFO - Report:\n",
      "   Session  Run   Model Frontend Framework Backend Platform         Target  Num  Total Cycles  MIPS  Total ROM  Total RAM  ROM read-only  ROM code  ROM misc  RAM data  RAM zero-init data Features                                             Config Postprocesses Comment\n",
      "0        5    0  resnet   tflite       tvm  tvmaot     mlif  etiss_pulpino    1     114895000    38     179526     123313         164752     14630       144      1081              122232       []          {'riscv_gcc.name': 'riscv32-unknown-elf'}            []       -\n",
      "1        5    1  resnet   tflite      tflm   tflmi     mlif  etiss_pulpino    1     687730000    28     134386      67137         100080     34162       144      1081               66056       []  {'tflmi.arena_size': 65536, 'tflmi.ops': ['CON...            []       -\n",
      "2        5    2  toycar   tflite       tvm  tvmaot     mlif  etiss_pulpino    1       2444900     7     546206       4365         535556     10506       144      1081                3284       []          {'riscv_gcc.name': 'riscv32-unknown-elf'}            []       -\n",
      "3        5    3  toycar   tflite      tflm   tflmi     mlif  etiss_pulpino    1       3082110     4     296744      17773         278024     18576       144      1081               16692       []  {'tflmi.arena_size': 16384, 'tflmi.ops': ['FUL...            []       -\n",
      "\n",
      "real\t1m50.282s\n",
      "user\t9m30.977s\n",
      "sys\t1m54.739s\n"
     ]
    }
   ],
   "source": [
    "!time mlonmcu flow run resnet toycar --backend tvmaot --backend tflmi  --target etiss_pulpino"
   ]
  },
  {
   "cell_type": "markdown",
   "id": "a0a94aef",
   "metadata": {},
   "source": [
    "**Exploit parallelism to reduce the processing time**"
   ]
  },
  {
   "cell_type": "code",
   "execution_count": 21,
   "id": "a2cd60e3",
   "metadata": {},
   "outputs": [
    {
     "name": "stdout",
     "output_type": "stream",
     "text": [
      "INFO - Loading environment cache from file\n",
      "INFO - Successfully initialized cache\n",
      "INFO - [session-6]  Processing stage LOAD\n",
      "INFO - [session-6]  Processing stage BUILD\n",
      "INFO - [session-6]  Processing stage COMPILE\n",
      "INFO - [session-6]  Processing stage RUN\n",
      "INFO - All runs completed successfuly!\n",
      "INFO - Postprocessing session report\n",
      "INFO - [session-6] Done processing runs\n",
      "INFO - Report:\n",
      "   Session  Run   Model Frontend Framework Backend Platform         Target  Num  Total Cycles  MIPS  Total ROM  Total RAM  ROM read-only  ROM code  ROM misc  RAM data  RAM zero-init data Features                                             Config Postprocesses Comment\n",
      "0        6    0  resnet   tflite       tvm  tvmaot     mlif  etiss_pulpino    1     114895000    38     179526     123313         164752     14630       144      1081              122232       []  {'riscv_gcc.name': 'riscv32-unknown-elf', 'mli...            []       -\n",
      "1        6    1  resnet   tflite      tflm   tflmi     mlif  etiss_pulpino    1     687730000    28     134386      67137         100080     34162       144      1081               66056       []  {'tflmi.arena_size': 65536, 'tflmi.ops': ['CON...            []       -\n",
      "2        6    2  toycar   tflite       tvm  tvmaot     mlif  etiss_pulpino    1       2444900     7     546206       4365         535556     10506       144      1081                3284       []  {'riscv_gcc.name': 'riscv32-unknown-elf', 'mli...            []       -\n",
      "3        6    3  toycar   tflite      tflm   tflmi     mlif  etiss_pulpino    1       3082110     3     296744      17773         278024     18576       144      1081               16692       []  {'tflmi.arena_size': 16384, 'tflmi.ops': ['FUL...            []       -\n",
      "\n",
      "real\t2m36.330s\n",
      "user\t6m29.113s\n",
      "sys\t2m14.348s\n"
     ]
    }
   ],
   "source": [
    "!time mlonmcu flow run resnet toycar --backend tvmaot --backend tflmi --target etiss_pulpino --parallel --config runs_per_stage=0 --config mlif.num_threads=2"
   ]
  },
  {
   "cell_type": "markdown",
   "id": "35b41326",
   "metadata": {},
   "source": [
    "**Display progress information for long-running benchmarks**"
   ]
  },
  {
   "cell_type": "markdown",
   "id": "eb4df598",
   "metadata": {},
   "source": [
    "**WARNING:** The progress output looks bit broken inside the Jupyter Notebook but should look fine on the command-line."
   ]
  },
  {
   "cell_type": "code",
   "execution_count": 22,
   "id": "6fe3057f",
   "metadata": {},
   "outputs": [
    {
     "name": "stdout",
     "output_type": "stream",
     "text": [
      "INFO - Loading environment cache from file\n",
      "INFO - Successfully initialized cache\n",
      "Processing stages:   0%|                                                              | 0/4 [00:00s]\n",
      "Processing stage LOAD:   0%|                                                         | 0/12 [00:00s]\u001b[A\n",
      "Processing stage LOAD:   8%|████▊                                                    | 1/12 [00:00s]\u001b[A\n",
      "Processing stages:  25%|███████████████▌                                              | 1/4 [00:00s]\u001b[A\n",
      "Processing stage BUILD:   0%|                                                        | 0/12 [00:00s]\u001b[A\n",
      "Processing stage BUILD:   8%|████▋                                                   | 1/12 [00:00s]\u001b[A\n",
      "Processing stage BUILD:  17%|█████████▎                                              | 2/12 [00:00s]\u001b[A\n",
      "Processing stage BUILD:  25%|██████████████                                          | 3/12 [00:00s]\u001b[A\n",
      "Processing stage BUILD:  58%|████████████████████████████████▋                       | 7/12 [00:13s]\u001b[A\n",
      "Processing stage BUILD:  67%|█████████████████████████████████████▎                  | 8/12 [00:14s]\u001b[A\n",
      "Processing stage BUILD:  75%|██████████████████████████████████████████              | 9/12 [00:19s]\u001b[A\n",
      "Processing stage BUILD:  83%|█████████████████████████████████████████████▊         | 10/12 [00:20s]\u001b[A\n",
      "Processing stage BUILD:  92%|██████████████████████████████████████████████████▍    | 11/12 [00:23s]\u001b[A\n",
      "Processing stage BUILD: 100%|███████████████████████████████████████████████████████| 12/12 [00:25s]\u001b[A\n",
      "Processing stages:  50%|███████████████████████████████                               | 2/4 [00:25s]\u001b[A\n",
      "Processing stage COMPILE:   0%|                                                      | 0/12 [00:00s]\u001b[A\n",
      "Processing stage COMPILE:   8%|████▌                                                 | 1/12 [00:04s]\u001b[A\n",
      "Processing stage COMPILE:  17%|█████████                                             | 2/12 [00:05s]\u001b[A\n",
      "Processing stage COMPILE:  25%|█████████████▌                                        | 3/12 [00:06s]\u001b[A\n",
      "Processing stage COMPILE:  33%|██████████████████                                    | 4/12 [00:06s]\u001b[A\n",
      "Processing stage COMPILE:  50%|███████████████████████████                           | 6/12 [00:06s]\u001b[A\n",
      "Processing stage COMPILE:  58%|███████████████████████████████▌                      | 7/12 [01:20s]\u001b[A\n",
      "Processing stage COMPILE:  67%|████████████████████████████████████                  | 8/12 [01:21s]\u001b[A\n",
      "Processing stage COMPILE:  75%|████████████████████████████████████████▌             | 9/12 [01:21s]\u001b[A\n",
      "Processing stage COMPILE:  83%|████████████████████████████████████████████▏        | 10/12 [01:26s]\u001b[A\n",
      "Processing stage COMPILE:  92%|████████████████████████████████████████████████▌    | 11/12 [01:26s]\u001b[A\n",
      "Processing stage COMPILE: 100%|█████████████████████████████████████████████████████| 12/12 [01:26s]\u001b[A\n",
      "Processing stages:  75%|██████████████████████████████████████████████▌               | 3/4 [01:52s]\u001b[A\n",
      "Processing stage RUN:   0%|                                                          | 0/12 [00:00s]\u001b[A\n",
      "Processing stage RUN:   8%|████▊                                                     | 1/12 [00:00s]\u001b[A\n",
      "Processing stage RUN:  33%|███████████████████▎                                      | 4/12 [00:00s]\u001b[A\n",
      "Processing stage RUN:  58%|█████████████████████████████████▊                        | 7/12 [00:01s]\u001b[A\n",
      "Processing stage RUN:  75%|███████████████████████████████████████████▌              | 9/12 [00:01s]\u001b[A\n",
      "Processing stage RUN:  92%|████████████████████████████████████████████████████▎    | 11/12 [00:03s]\u001b[A\n",
      "Processing stage RUN: 100%|█████████████████████████████████████████████████████████| 12/12 [00:22s]\u001b[A\n",
      "Processing stages: 100%|██████████████████████████████████████████████████████████████| 4/4 [02:15s]\u001b[A\n",
      "INFO - All runs completed successfuly!\n",
      "INFO - Postprocessing session report\n",
      "INFO - [session-7] Done processing runs\n",
      "INFO - Report:\n",
      "    Session  Run         Model Frontend Framework Backend Platform         Target  Num  Total Cycles  MIPS  Total ROM  Total RAM  ROM read-only  ROM code  ROM misc  RAM data  RAM zero-init data  Runtime [s] Features                                             Config Postprocesses Comment\n",
      "0         7    0        resnet   tflite       tvm  tvmaot     mlif  etiss_pulpino    1   114895000.0  37.0     179526     123313         164752     14630       144      1081              122232          NaN       []  {'riscv_gcc.name': 'riscv32-unknown-elf', 'mli...            []       -\n",
      "1         7    1        resnet   tflite      tflm   tflmi     mlif  etiss_pulpino    1   687730000.0  31.0     134386      67137         100080     34162       144      1081               66056          NaN       []  {'tflmi.arena_size': 65536, 'tflmi.ops': ['CON...            []       -\n",
      "2         7    2        resnet   tflite       tvm  tvmaot     mlif       host_x86    1           NaN   NaN     180293     122321         164396     13525      2372        25              122296     0.044607       []                          {'mlif.num_threads': '2'}            []       -\n",
      "3         7    3        resnet   tflite      tflm   tflmi     mlif       host_x86    1           NaN   NaN     154033      66561          99328     41253     13452        17               66544     0.111955       []  {'tflmi.arena_size': 65536, 'tflmi.ops': ['CON...            []       -\n",
      "4         7    4        toycar   tflite       tvm  tvmaot     mlif  etiss_pulpino    1     2444900.0   7.0     546206       4365         535556     10506       144      1081                3284          NaN       []  {'riscv_gcc.name': 'riscv32-unknown-elf', 'mli...            []       -\n",
      "5         7    5        toycar   tflite      tflm   tflmi     mlif  etiss_pulpino    1     3082110.0   4.0     296744      17773         278024     18576       144      1081               16692          NaN       []  {'tflmi.arena_size': 16384, 'tflmi.ops': ['FUL...            []       -\n",
      "6         7    6        toycar   tflite       tvm  tvmaot     mlif       host_x86    1           NaN   NaN     549025       3345         535280     11461      2284        25                3320     0.045286       []                          {'mlif.num_threads': '2'}            []       -\n",
      "7         7    7        toycar   tflite      tflm   tflmi     mlif       host_x86    1           NaN   NaN     305437      17001         277372     19525      8540        17               16984     0.022997       []  {'tflmi.arena_size': 16384, 'tflmi.ops': ['FUL...            []       -\n",
      "8         7    8  micro_speech   tflite       tvm  tvmaot     mlif  etiss_pulpino    1     3417490.0  13.0      41314      20453          34104      7066       144      1081               19372          NaN       []  {'riscv_gcc.name': 'riscv32-unknown-elf', 'mli...            []       -\n",
      "9         7    9  micro_speech   tflite      tflm   tflmi     mlif  etiss_pulpino    1     7051190.0   5.0      51844       9753          20272     31428       144      1081                8672          NaN       []  {'tflmi.arena_size': 8192, 'tflmi.ops': ['RESH...            []       -\n",
      "10        7   10  micro_speech   tflite       tvm  tvmaot     mlif       host_x86    1           NaN   NaN      40077      19489          33748      4725      1604        25               19464     0.037591       []                          {'mlif.num_threads': '2'}            []       -\n",
      "11        7   11  micro_speech   tflite      tflm   tflmi     mlif       host_x86    1           NaN   NaN      69305       9137          19536     37653     12116        17                9120     0.031343       []  {'tflmi.arena_size': 8192, 'tflmi.ops': ['RESH...            []       -\n"
     ]
    }
   ],
   "source": [
    "!mlonmcu flow run resnet toycar micro_speech --progress --backend tvmaot --backend tflmi --target etiss_pulpino --target host_x86 --parallel --config mlif.num_threads=2"
   ]
  },
  {
   "cell_type": "markdown",
   "id": "0f7d4429",
   "metadata": {},
   "source": [
    "**Inspecting and exporting results and intermediate artifacts**"
   ]
  },
  {
   "cell_type": "code",
   "execution_count": 23,
   "id": "19f7a6d6",
   "metadata": {},
   "outputs": [],
   "source": [
    "# !mlonmcu export --session 0 --run 0 run.zip  # Export run 0 from session 0 to a zip archive \n",
    "# !mlonmcu export --session 1 session.zip  # Export every run of session 1 to a zip archive\n",
    "# !mlonmcu export session/  # Export the latest session to a directory"
   ]
  },
  {
   "cell_type": "markdown",
   "id": "9772e9f6",
   "metadata": {},
   "source": [
    "**Cleanup an MLonMCU environment**"
   ]
  },
  {
   "cell_type": "code",
   "execution_count": 24,
   "id": "879eb342",
   "metadata": {},
   "outputs": [],
   "source": [
    "# !mlonmcu cleanup  # Interactively clean sessions\n",
    "# !mlonmcu cleanup --force  # Clean all sessions\n",
    "# !mlonmcu cleanup --keep 10 --force  # Keep only the latest 10 sessions\n",
    "# !mlonmcu cleanup --dependencies  # Remove every installed dependency"
   ]
  },
  {
   "cell_type": "markdown",
   "id": "56b328e0",
   "metadata": {},
   "source": [
    "**Internal command line interfaces**"
   ]
  },
  {
   "cell_type": "code",
   "execution_count": 25,
   "id": "f941fdec",
   "metadata": {},
   "outputs": [
    {
     "name": "stdout",
     "output_type": "stream",
     "text": [
      "/usr/lib/python3.8/runpy.py:127: RuntimeWarning: 'mlonmcu.target.etiss_pulpino' found in sys.modules after import of package 'mlonmcu.target', but prior to execution of 'mlonmcu.target.etiss_pulpino'; this may result in unpredictable behaviour\r\n",
      "  warn(RuntimeWarning(msg))\r\n",
      "usage: etiss_pulpino.py [-h] {exec,inspect} ...\r\n",
      "\r\n",
      "ML on MCU Target\r\n",
      "\r\n",
      "positional arguments:\r\n",
      "  {exec,inspect}\r\n",
      "\r\n",
      "optional arguments:\r\n",
      "  -h, --help      show this help message and exit\r\n"
     ]
    }
   ],
   "source": [
    "!python -m mlonmcu.target.etiss_pulpino -h"
   ]
  },
  {
   "cell_type": "code",
   "execution_count": 26,
   "id": "73507dd5",
   "metadata": {},
   "outputs": [
    {
     "name": "stdout",
     "output_type": "stream",
     "text": [
      "/usr/lib/python3.8/runpy.py:127: RuntimeWarning: 'mlonmcu.flow.tvm.backend.tvmaot' found in sys.modules after import of package 'mlonmcu.flow.tvm.backend', but prior to execution of 'mlonmcu.flow.tvm.backend.tvmaot'; this may result in unpredictable behaviour\r\n",
      "  warn(RuntimeWarning(msg))\r\n",
      "usage: tvmaot.py [-h] [--output DIR] [--verbose] [--print] [-f FEATURE]\r\n",
      "                 [-c KEY=VALUE [KEY=VALUE ...]]\r\n",
      "                 MODEL\r\n",
      "\r\n",
      "Run tvmaot backend\r\n",
      "\r\n",
      "positional arguments:\r\n",
      "  MODEL                 Model to process\r\n",
      "\r\n",
      "optional arguments:\r\n",
      "  -h, --help            show this help message and exit\r\n",
      "  --output DIR, -o DIR  Output directory/file (default: /nas/ei/share/TUEIEDAscratch/ga87puy/work/mlonmcu/ipynb/out)\r\n",
      "  --verbose, -v         Print detailed messages for easier debugging (default: False)\r\n",
      "  --print, -p           Print the generated code to the command line instead (default: False)\r\n",
      "  -f FEATURE, --feature FEATURE\r\n",
      "                        Enabled features for the backend (default: None choices: autotune, autotuned, cmsisnnbyoc, muriscvnnbyoc, disable_legalize, moiopt, debug_arena, unpacked_api, usmp)\r\n",
      "  -c KEY=VALUE [KEY=VALUE ...], --config KEY=VALUE [KEY=VALUE ...]\r\n",
      "                        Set a number of key-value pairs\r\n",
      "                        \r\n",
      "                        Allowed options:\r\n",
      "                        - [tvmaot].print_outputs (Default: False)\r\n",
      "                        - [tvmaot].opt_level (Default: 3)\r\n",
      "                        - [tvmaot].target_device (Default: None)\r\n",
      "                        - [tvmaot].target_mcpu (Default: None)\r\n",
      "                        - [tvmaot].target_march (Default: None)\r\n",
      "                        - [tvmaot].target_model (Default: None)\r\n",
      "                        - [tvmaot].extra_target (Default: None)\r\n",
      "                        - [tvmaot].extra_target_mcpu (Default: None)\r\n",
      "                        - [tvmaot].desired_layout (Default: None)\r\n",
      "                        - [tvmaot].disabled_passes (Default: [])\r\n",
      "                        - [tvmaot].extra_pass_config (Default: {})\r\n",
      "                        - [tvmaot].use_tuning_results (Default: False)\r\n",
      "                        - [tvmaot].tvmc_extra_args (Default: [])\r\n",
      "                        - [tvmaot].tvmc_custom_script (Default: None)\r\n",
      "                        - [tvmaot].autotuning_enable (Default: False)\r\n",
      "                        - [tvmaot].autotuning_print_outputs (Default: False)\r\n",
      "                        - [tvmaot].autotuning_results_file (Default: None)\r\n",
      "                        - [tvmaot].autotuning_append (Default: None)\r\n",
      "                        - [tvmaot].autotuning_tuner (Default: ga)\r\n",
      "                        - [tvmaot].autotuning_trials (Default: 10)\r\n",
      "                        - [tvmaot].autotuning_early_stopping (Default: None)\r\n",
      "                        - [tvmaot].autotuning_num_workers (Default: 1)\r\n",
      "                        - [tvmaot].autotuning_max_parallel (Default: 1)\r\n",
      "                        - [tvmaot].autotuning_use_rpc (Default: False)\r\n",
      "                        - [tvmaot].autotuning_timeout (Default: 100)\r\n",
      "                        - [tvmaot].debug_arena (Default: False)\r\n",
      "                        - [tvmaot].arena_size (Default: None)\r\n",
      "                        - [tvmaot].unpacked_api (Default: False)\r\n",
      "                        - [tvmaot].alignment_bytes (Default: 4)\r\n",
      "                        - tvm.build_dir (required)\r\n",
      "                        - tvm.pythonpath (required)\r\n",
      "                        - tvm.configs_dir (required)\r\n"
     ]
    }
   ],
   "source": [
    "!python -m mlonmcu.flow.tvm.backend.tvmaot -h"
   ]
  },
  {
   "cell_type": "markdown",
   "id": "c542489c",
   "metadata": {},
   "source": [
    "## Demonstration (Python API)"
   ]
  },
  {
   "cell_type": "markdown",
   "id": "05e8646f",
   "metadata": {},
   "source": [
    "### Preface"
   ]
  },
  {
   "cell_type": "markdown",
   "id": "665848cb",
   "metadata": {},
   "source": [
    "While it is also possible to initialize and setup an MLonMCU environment via Python, it is highly recommended to use the provided command line interfaces for these steps. The following examples demonstrate how to use the MLonMCU flow from within a Python program which enables more customizations of the internal features via scripting."
   ]
  },
  {
   "cell_type": "code",
   "execution_count": 27,
   "id": "6d4cc4f5",
   "metadata": {},
   "outputs": [
    {
     "name": "stdout",
     "output_type": "stream",
     "text": [
      "env: MLONMCU_HOME=/tmp/mlonmcu_env\n"
     ]
    }
   ],
   "source": [
    "%env MLONMCU_HOME=/tmp/mlonmcu_env"
   ]
  },
  {
   "cell_type": "markdown",
   "id": "cdc59158",
   "metadata": {},
   "source": [
    "### Open a MLonMCU context to load the environment"
   ]
  },
  {
   "cell_type": "code",
   "execution_count": 28,
   "id": "faae27e4",
   "metadata": {},
   "outputs": [
    {
     "name": "stdout",
     "output_type": "stream",
     "text": [
      "INFO - Loading environment cache from file\n",
      "INFO - Successfully initialized cache\n"
     ]
    }
   ],
   "source": [
    "import mlonmcu.context\n",
    "\n",
    "with mlonmcu.context.MlonMcuContext() as context:\n",
    "    pass"
   ]
  },
  {
   "cell_type": "markdown",
   "id": "c6046d79",
   "metadata": {},
   "source": [
    "### Running the MLonMCU flow"
   ]
  },
  {
   "cell_type": "code",
   "execution_count": 31,
   "id": "98d6bb90",
   "metadata": {},
   "outputs": [
    {
     "name": "stdout",
     "output_type": "stream",
     "text": [
      "INFO - Loading environment cache from file\n",
      "INFO - Successfully initialized cache\n",
      "INFO - [session-10] Processing all stages\n",
      "INFO - All runs completed successfuly!\n",
      "INFO - Postprocessing session report\n",
      "INFO - [session-10] Done processing runs\n",
      "INFO - Report:\n",
      "   Session  Run         Model Frontend Framework Backend Platform  \\\n",
      "0       10    0    magic_wand   tflite       tvm  tvmaot     mlif   \n",
      "1       10    1  micro_speech   tflite       tvm  tvmaot     mlif   \n",
      "2       10    2        toycar   tflite       tvm  tvmaot     mlif   \n",
      "\n",
      "          Target  Num  Total Cycles  MIPS  Total ROM  Total RAM  \\\n",
      "0  etiss_pulpino    1        710319     1      25952      19065   \n",
      "1  etiss_pulpino    1       3417490    13      41314      20453   \n",
      "2  etiss_pulpino    1       2444900     7     546206       4365   \n",
      "\n",
      "   ROM read-only  ROM code  ROM misc  RAM data  RAM zero-init data Features  \\\n",
      "0          17760      8048       144      1081               17984       []   \n",
      "1          34104      7066       144      1081               19372       []   \n",
      "2         535556     10506       144      1081                3284       []   \n",
      "\n",
      "                                      Config Postprocesses Comment  \n",
      "0  {'riscv_gcc.name': 'riscv32-unknown-elf'}            []       -  \n",
      "1  {'riscv_gcc.name': 'riscv32-unknown-elf'}            []       -  \n",
      "2  {'riscv_gcc.name': 'riscv32-unknown-elf'}            []       -  \n"
     ]
    }
   ],
   "source": [
    "import mlonmcu.context\n",
    "from mlonmcu.session.run import RunStage\n",
    "\n",
    "MODEL_NAMES = [\"magic_wand\", \"micro_speech\", \"toycar\"]\n",
    "\n",
    "with mlonmcu.context.MlonMcuContext() as context:\n",
    "    session = context.create_session()\n",
    "    for model_name in MODEL_NAMES:\n",
    "        run = session.create_run(features=[], config={})\n",
    "        run.add_frontend_by_name(\"tflite\", context=context)\n",
    "        run.add_model_by_name(model_name, context=context)\n",
    "        run.add_backend_by_name(\"tvmaot\", context=context)\n",
    "        run.add_platform_by_name(\"mlif\", context=context)\n",
    "        run.add_target_by_name(\"etiss_pulpino\", context=context)\n",
    "    session.process_runs(until=RunStage.RUN, context=context)\n",
    "    report = session.get_reports()"
   ]
  },
  {
   "cell_type": "markdown",
   "id": "73795038",
   "metadata": {},
   "source": [
    "Now we have the dataframe of the run we just defined and right in out python environment so we can have more fun with it."
   ]
  },
  {
   "cell_type": "code",
   "execution_count": 32,
   "id": "8aa95a0b",
   "metadata": {},
   "outputs": [
    {
     "data": {
      "text/html": [
       "<div>\n",
       "<style scoped>\n",
       "    .dataframe tbody tr th:only-of-type {\n",
       "        vertical-align: middle;\n",
       "    }\n",
       "\n",
       "    .dataframe tbody tr th {\n",
       "        vertical-align: top;\n",
       "    }\n",
       "\n",
       "    .dataframe thead th {\n",
       "        text-align: right;\n",
       "    }\n",
       "</style>\n",
       "<table border=\"1\" class=\"dataframe\">\n",
       "  <thead>\n",
       "    <tr style=\"text-align: right;\">\n",
       "      <th></th>\n",
       "      <th>Session</th>\n",
       "      <th>Run</th>\n",
       "      <th>Model</th>\n",
       "      <th>Frontend</th>\n",
       "      <th>Framework</th>\n",
       "      <th>Backend</th>\n",
       "      <th>Platform</th>\n",
       "      <th>Target</th>\n",
       "      <th>Num</th>\n",
       "      <th>Total Cycles</th>\n",
       "      <th>MIPS</th>\n",
       "      <th>Total ROM</th>\n",
       "      <th>Total RAM</th>\n",
       "      <th>ROM read-only</th>\n",
       "      <th>ROM code</th>\n",
       "      <th>ROM misc</th>\n",
       "      <th>RAM data</th>\n",
       "      <th>RAM zero-init data</th>\n",
       "      <th>Features</th>\n",
       "      <th>Config</th>\n",
       "      <th>Postprocesses</th>\n",
       "      <th>Comment</th>\n",
       "    </tr>\n",
       "  </thead>\n",
       "  <tbody>\n",
       "    <tr>\n",
       "      <th>0</th>\n",
       "      <td>10</td>\n",
       "      <td>0</td>\n",
       "      <td>magic_wand</td>\n",
       "      <td>tflite</td>\n",
       "      <td>tvm</td>\n",
       "      <td>tvmaot</td>\n",
       "      <td>mlif</td>\n",
       "      <td>etiss_pulpino</td>\n",
       "      <td>1</td>\n",
       "      <td>710319</td>\n",
       "      <td>1</td>\n",
       "      <td>25952</td>\n",
       "      <td>19065</td>\n",
       "      <td>17760</td>\n",
       "      <td>8048</td>\n",
       "      <td>144</td>\n",
       "      <td>1081</td>\n",
       "      <td>17984</td>\n",
       "      <td>[]</td>\n",
       "      <td>{'riscv_gcc.name': 'riscv32-unknown-elf'}</td>\n",
       "      <td>[]</td>\n",
       "      <td>-</td>\n",
       "    </tr>\n",
       "    <tr>\n",
       "      <th>1</th>\n",
       "      <td>10</td>\n",
       "      <td>1</td>\n",
       "      <td>micro_speech</td>\n",
       "      <td>tflite</td>\n",
       "      <td>tvm</td>\n",
       "      <td>tvmaot</td>\n",
       "      <td>mlif</td>\n",
       "      <td>etiss_pulpino</td>\n",
       "      <td>1</td>\n",
       "      <td>3417490</td>\n",
       "      <td>13</td>\n",
       "      <td>41314</td>\n",
       "      <td>20453</td>\n",
       "      <td>34104</td>\n",
       "      <td>7066</td>\n",
       "      <td>144</td>\n",
       "      <td>1081</td>\n",
       "      <td>19372</td>\n",
       "      <td>[]</td>\n",
       "      <td>{'riscv_gcc.name': 'riscv32-unknown-elf'}</td>\n",
       "      <td>[]</td>\n",
       "      <td>-</td>\n",
       "    </tr>\n",
       "    <tr>\n",
       "      <th>2</th>\n",
       "      <td>10</td>\n",
       "      <td>2</td>\n",
       "      <td>toycar</td>\n",
       "      <td>tflite</td>\n",
       "      <td>tvm</td>\n",
       "      <td>tvmaot</td>\n",
       "      <td>mlif</td>\n",
       "      <td>etiss_pulpino</td>\n",
       "      <td>1</td>\n",
       "      <td>2444900</td>\n",
       "      <td>7</td>\n",
       "      <td>546206</td>\n",
       "      <td>4365</td>\n",
       "      <td>535556</td>\n",
       "      <td>10506</td>\n",
       "      <td>144</td>\n",
       "      <td>1081</td>\n",
       "      <td>3284</td>\n",
       "      <td>[]</td>\n",
       "      <td>{'riscv_gcc.name': 'riscv32-unknown-elf'}</td>\n",
       "      <td>[]</td>\n",
       "      <td>-</td>\n",
       "    </tr>\n",
       "  </tbody>\n",
       "</table>\n",
       "</div>"
      ],
      "text/plain": [
       "   Session  Run         Model Frontend Framework Backend Platform  \\\n",
       "0       10    0    magic_wand   tflite       tvm  tvmaot     mlif   \n",
       "1       10    1  micro_speech   tflite       tvm  tvmaot     mlif   \n",
       "2       10    2        toycar   tflite       tvm  tvmaot     mlif   \n",
       "\n",
       "          Target  Num  Total Cycles  MIPS  Total ROM  Total RAM  \\\n",
       "0  etiss_pulpino    1        710319     1      25952      19065   \n",
       "1  etiss_pulpino    1       3417490    13      41314      20453   \n",
       "2  etiss_pulpino    1       2444900     7     546206       4365   \n",
       "\n",
       "   ROM read-only  ROM code  ROM misc  RAM data  RAM zero-init data Features  \\\n",
       "0          17760      8048       144      1081               17984       []   \n",
       "1          34104      7066       144      1081               19372       []   \n",
       "2         535556     10506       144      1081                3284       []   \n",
       "\n",
       "                                      Config Postprocesses Comment  \n",
       "0  {'riscv_gcc.name': 'riscv32-unknown-elf'}            []       -  \n",
       "1  {'riscv_gcc.name': 'riscv32-unknown-elf'}            []       -  \n",
       "2  {'riscv_gcc.name': 'riscv32-unknown-elf'}            []       -  "
      ]
     },
     "execution_count": 32,
     "metadata": {},
     "output_type": "execute_result"
    }
   ],
   "source": [
    "report.df"
   ]
  },
  {
   "cell_type": "markdown",
   "id": "c437f1cf",
   "metadata": {},
   "source": [
    "Let's add a quick visualization:"
   ]
  },
  {
   "cell_type": "code",
   "execution_count": 33,
   "id": "d9eb1414",
   "metadata": {},
   "outputs": [
    {
     "data": {
      "image/png": "[encoded data removed]",
      "text/plain": [
       "<Figure size 432x288 with 3 Axes>"
      ]
     },
     "metadata": {
      "needs_background": "light"
     },
     "output_type": "display_data"
    }
   ],
   "source": [
    "import matplotlib.pyplot as plt\n",
    "\n",
    "COLS = [\"Total Cycles\", \"Total ROM\", \"Total RAM\"]\n",
    "\n",
    "fig, axes = plt.subplots(ncols=len(COLS))\n",
    "plt.rcParams[\"figure.figsize\"] = (15, 3) # (w, h)\n",
    "\n",
    "\n",
    "for i, col in enumerate(COLS):\n",
    "    new_df = report.df[[col]].astype(float)\n",
    "    new_df.index = MODEL_NAMES\n",
    "    new_df.plot(kind=\"bar\", ax=axes[i])"
   ]
  },
  {
   "cell_type": "code",
   "execution_count": null,
   "id": "ad7466b9",
   "metadata": {},
   "outputs": [],
   "source": []
  }
 ],
 "metadata": {
  "kernelspec": {
   "display_name": "Python 3 (ipykernel)",
   "language": "python",
   "name": "python3"
  },
  "language_info": {
   "codemirror_mode": {
    "name": "ipython",
    "version": 3
   },
   "file_extension": ".py",
   "mimetype": "text/x-python",
   "name": "python",
   "nbconvert_exporter": "python",
   "pygments_lexer": "ipython3",
   "version": "3.8.10"
  }
 },
 "nbformat": 4,
 "nbformat_minor": 5
}
