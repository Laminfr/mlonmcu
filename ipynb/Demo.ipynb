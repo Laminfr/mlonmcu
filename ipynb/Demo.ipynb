{
 "cells": [
  {
   "cell_type": "markdown",
   "id": "9478e4b0",
   "metadata": {},
   "source": [
    "# MLonMCU"
   ]
  },
  {
   "cell_type": "markdown",
   "id": "8f7d087d",
   "metadata": {},
   "source": [
    "## Prerequisites"
   ]
  },
  {
   "cell_type": "markdown",
   "id": "f5afa492",
   "metadata": {},
   "source": [
    "Before running this notebook, make sure to run the following steps:\n",
    "\n",
    "1. Install the required software for your distribution:\n",
    "\n",
    "   See main `README.md` file!\n",
    "   \n",
    "2. Clone this repository\n",
    "\n",
    "   ```\n",
    "   git clone TODO\n",
    "   cd mlonmcu  # enter cloned repository\n",
    "   ```\n",
    "   \n",
    "3. Setup and enter a new virtualenv (Python 3.7+) for using `mlonmcu`:\n",
    "\n",
    "   ```\n",
    "   Bla!\n",
    "   source .venv/bin/activate\n",
    "   ```\n",
    "   \n",
    "   Hint: You can also use a `conda` environment for this.\n",
    "   \n",
    "4. Install mlonmcu package\n",
    "\n",
    "   ```\n",
    "   python setup.py install\n",
    "   ```\n",
    "   \n",
    "5. Install the required python packages:\n",
    "\n",
    "   ``` \n",
    "   # pip install -r requirements.txt  # Done automatically via setup.py?\n",
    "   pip install -r ipynb/requirements.txt\n",
    "   ```\n",
    "   \n",
    "6. Launch this notebook in jupyter:\n",
    "\n",
    "   ```\n",
    "   jupyter notebook ipynb/Demo.ipynb\n",
    "   ```"
   ]
  },
  {
   "cell_type": "markdown",
   "id": "b6d2c1cf",
   "metadata": {},
   "source": [
    "## Demonstration (Command Line)"
   ]
  },
  {
   "cell_type": "markdown",
   "id": "0a460dde",
   "metadata": {},
   "source": [
    "### Preface"
   ]
  },
  {
   "cell_type": "markdown",
   "id": "71105f6a",
   "metadata": {},
   "source": [
    "This guide should give an idea on the required steps to setup and use MLonMCU using the command line interface. Usage examples are provided as well."
   ]
  },
  {
   "cell_type": "markdown",
   "id": "3744822c",
   "metadata": {},
   "source": [
    "### Initialize a MLonMCU environment"
   ]
  },
  {
   "cell_type": "markdown",
   "id": "7113f996",
   "metadata": {},
   "source": [
    "As MLonMCU requires a directory where dependencies, configurations, intermediate artifacts and results are stored, an environment needs to be initialized first. This also allows to use different configuration (e.g. enabled backends or supported features) for multiple environments."
   ]
  },
  {
   "cell_type": "markdown",
   "id": "23edf711",
   "metadata": {},
   "source": [
    "Create and enter an environment diretcory first to initialize it afterwards:"
   ]
  },
  {
   "cell_type": "code",
   "execution_count": 6,
   "id": "167656d8",
   "metadata": {},
   "outputs": [
    {
     "name": "stdout",
     "output_type": "stream",
     "text": [
      "Initializing ML on MCU environment\r\n",
      "Selected target directory: /Users/philipp/src/work/prj/mlonmcu_open_source/mlonmcu/ipynb\r\n",
      "The directory already exists!\r\n",
      "The directory is not empty! - Aborting...\r\n",
      "Traceback (most recent call last):\r\n",
      "  File \"/usr/local/Caskroom/miniconda/base/envs/mlonmcu_open_source/bin/mlonmcu\", line 33, in <module>\r\n",
      "    sys.exit(load_entry_point('mlonmcu==0.1.0', 'console_scripts', 'mlonmcu')())\r\n",
      "  File \"/usr/local/Caskroom/miniconda/base/envs/mlonmcu_open_source/lib/python3.8/site-packages/mlonmcu-0.1.0-py3.8.egg/mlonmcu/cli/main.py\", line 55, in main\r\n",
      "    args.func(args)\r\n",
      "  File \"/usr/local/Caskroom/miniconda/base/envs/mlonmcu_open_source/lib/python3.8/site-packages/mlonmcu-0.1.0-py3.8.egg/mlonmcu/cli/init.py\", line 83, in handle\r\n",
      "    initialize_environment(\r\n",
      "  File \"/usr/local/Caskroom/miniconda/base/envs/mlonmcu_open_source/lib/python3.8/site-packages/mlonmcu-0.1.0-py3.8.egg/mlonmcu/environment/init.py\", line 109, in initialize_environment\r\n",
      "    sys.exit(1)\r\n",
      "NameError: name 'sys' is not defined\r\n"
     ]
    }
   ],
   "source": [
    "# WARNING: execute this only once! Alternatively remove the environment directory beforehand to start from scratch.\n",
    "!mkdir -p /tmp/mlonmcu_env\n",
    "!mlonmcu init . --non-interactive # Do not add to envs?"
   ]
  },
  {
   "cell_type": "markdown",
   "id": "099ed602",
   "metadata": {},
   "source": [
    "When not using a notebook, the option `--non-interactive` can be omitted which allows to customize the initialization process interactively."
   ]
  },
  {
   "cell_type": "markdown",
   "id": "cc331474",
   "metadata": {},
   "source": [
    "If the environment directory is not passed to the `mlonmcu` script, it will try to setup a `default` environment in the users home directory (On Ubuntu: `~/.config/mlonmcu/environments/default/`) instead. By providing a `--name` of the virtual environment if will be automatically registered in `~/.config/mlonmcy/environments.ini` for the current user which helps to find and distinguish multiple installed environments on a machine."
   ]
  },
  {
   "cell_type": "markdown",
   "id": "be4527e6",
   "metadata": {},
   "source": [
    "In the following the actual environment which should be used by the `mlonmcu` program has to be defined by the user either by defining the environment variable `MLONMCU_HOME` or by using the `-H` (`--home` or `--hint`) command line option. If none of this was done, the following rules are following to look for a suitable environment:\n",
    "\n",
    "1. Check if `$MLONMCU_HOME` points to a valid environment\n",
    "2. Use environment provided via the `-H` flag (path or registered name) if available\n",
    "3. If the local working directory is the root of an environment, use this directory\n",
    "4. If there is a default environment for the current user, fall back to this one instead"
   ]
  },
  {
   "cell_type": "code",
   "execution_count": 8,
   "id": "43e841d3",
   "metadata": {},
   "outputs": [],
   "source": [
    "!export MLONMCU_HOME=/tmp/mlonmcu_env"
   ]
  },
  {
   "cell_type": "markdown",
   "id": "9f59427f",
   "metadata": {},
   "source": [
    "Registered environment can be listed via the command `mlonmcu env list`. In addition there are possibilities to manually update entires in the environments file."
   ]
  },
  {
   "cell_type": "markdown",
   "id": "789b567d",
   "metadata": {},
   "source": [
    "### Customizing the created MLonMCU environment (optional)"
   ]
  },
  {
   "cell_type": "markdown",
   "id": "404b3bb1",
   "metadata": {},
   "source": [
    "The environment was initialized by a template which can be found in the `templates/` directory of the repository chosen via the `--template` flag. Lets inspect the generated configuration file first:"
   ]
  },
  {
   "cell_type": "code",
   "execution_count": 9,
   "id": "64f1a4d5",
   "metadata": {},
   "outputs": [
    {
     "name": "stdout",
     "output_type": "stream",
     "text": [
      "cat: /environment.yml: No such file or directory\r\n"
     ]
    }
   ],
   "source": [
    "!cat $MLONMCU_HOME/environment.yml"
   ]
  },
  {
   "cell_type": "markdown",
   "id": "78b9eb23",
   "metadata": {},
   "source": [
    "The environment should work out of the box, but feel free to update the contents of the `environment.yml` file to achieve one of the following:\n",
    "\n",
    "- Change the default paths used for dependencies, results, models,...\n",
    "- Use different forks/versions of a repository\n",
    "- Disable certain frameworks/backends to reduce the installation time in the next step.\n",
    "- Define which features are supported for the given repositories\n",
    "- Set default backends and targets\n",
    "- Define a set of default configuration variables\n",
    "\n",
    "To learn more about this, check out this document: `docs/ENVIRONMENTS.md` (TODO)"
   ]
  },
  {
   "cell_type": "markdown",
   "id": "10e74d0f",
   "metadata": {},
   "source": [
    "### Setting up all MLonMCU dependencies"
   ]
  },
  {
   "cell_type": "markdown",
   "id": "fbc32554",
   "metadata": {},
   "source": [
    "Depending on the enabled backends and features, a different set of dependencies has to be installed. To reduce the management effort for the user, all these versions are installed and managed automatically using MLonMCU. To trigger this process, run the following in the command line. (This will take a very long time with all frameworks/targets/features enabled when invoked for the first time)"
   ]
  },
  {
   "cell_type": "code",
   "execution_count": 10,
   "id": "6ecce763",
   "metadata": {},
   "outputs": [
    {
     "name": "stdout",
     "output_type": "stream",
     "text": [
      "Traceback (most recent call last):\r\n",
      "  File \"/usr/local/Caskroom/miniconda/base/envs/mlonmcu_open_source/bin/mlonmcu\", line 33, in <module>\r\n",
      "    sys.exit(load_entry_point('mlonmcu==0.1.0', 'console_scripts', 'mlonmcu')())\r\n",
      "  File \"/usr/local/Caskroom/miniconda/base/envs/mlonmcu_open_source/lib/python3.8/site-packages/mlonmcu-0.1.0-py3.8.egg/mlonmcu/cli/main.py\", line 55, in main\r\n",
      "    args.func(args)\r\n",
      "  File \"/usr/local/Caskroom/miniconda/base/envs/mlonmcu_open_source/lib/python3.8/site-packages/mlonmcu-0.1.0-py3.8.egg/mlonmcu/cli/setup.py\", line 29, in handle\r\n",
      "    with mlonmcu.context.MlonMcuContext(path=args.home, lock=True) as context:\r\n",
      "  File \"/usr/local/Caskroom/miniconda/base/envs/mlonmcu_open_source/lib/python3.8/site-packages/mlonmcu-0.1.0-py3.8.egg/mlonmcu/context.py\", line 229, in __init__\r\n",
      "    self.environment = load_environment_from_file(\r\n",
      "  File \"/usr/local/Caskroom/miniconda/base/envs/mlonmcu_open_source/lib/python3.8/site-packages/mlonmcu-0.1.0-py3.8.egg/mlonmcu/environment/loader.py\", line 29, in load_environment_from_file\r\n",
      "    with open(filename, encoding=\"utf-8\") as yaml_file:\r\n",
      "TypeError: expected str, bytes or os.PathLike object, not NoneType\r\n"
     ]
    }
   ],
   "source": [
    "!mlonmcu setup"
   ]
  },
  {
   "cell_type": "markdown",
   "id": "5b47bbba",
   "metadata": {},
   "source": [
    "Some things need to be considered here:\n",
    "- Repositories are only cloned once, so upstream changes or updated urls/branches in the `environments.yml` are not detected automatically\n",
    "- The flag `--rebuild` can be passed to `mlonmcu setup` to ensure that the setup routine of every dependency is triggered again. However this does not guarentee that all artifacts are properly updated\n",
    "- To guarantee that the latest versions of a dependency are installed you can remove the `deps` directory manually or alternative use the provided `mlonmcu cleanup` utility. (Execute `mlonmcu cleanup --help` to learn more) "
   ]
  },
  {
   "cell_type": "markdown",
   "id": "8daa9d4a",
   "metadata": {},
   "source": [
    "### Adding models to MLonMCU"
   ]
  },
  {
   "cell_type": "markdown",
   "id": "55518b0e",
   "metadata": {},
   "source": [
    "By default, the `mlonmcu-models` repository (TODO: url) is cloned to each environment as its contents are designed to perfectly integrate into the MLonMCU flow. In addition a location in the users home directory (`~/.config/mlonmcu/models/` for Ubuntu) is also added to the search path as defined in the `environments.yml`. Feel free to add further model manually or alternatively clone a model-zoo (e.g. TODO:arm) to a random location on the disc and updating the list of model-paths in the environments' config file."
   ]
  },
  {
   "cell_type": "markdown",
   "id": "25d49e86",
   "metadata": {},
   "source": [
    "To list all available models in a environment, the `mlonmcu models` subcommand can be used:"
   ]
  },
  {
   "cell_type": "code",
   "execution_count": 12,
   "id": "32db9a74",
   "metadata": {},
   "outputs": [
    {
     "name": "stdout",
     "output_type": "stream",
     "text": [
      "[2022-01-16 06:53:37,778]::/usr/local/Caskroom/miniconda/base/envs/mlonmcu_open_source/lib/python3.8/site-packages/mlonmcu-0.1.0-py3.8.egg/mlonmcu/context.py:39::DEBUG - Starting lookup for mlonmcu environment\n",
      "[2022-01-16 06:53:37,779]::/usr/local/Caskroom/miniconda/base/envs/mlonmcu_open_source/lib/python3.8/site-packages/mlonmcu-0.1.0-py3.8.egg/mlonmcu/context.py:41::DEBUG - First checking in local working directory\n",
      "[2022-01-16 06:53:37,779]::/usr/local/Caskroom/miniconda/base/envs/mlonmcu_open_source/lib/python3.8/site-packages/mlonmcu-0.1.0-py3.8.egg/mlonmcu/context.py:47::DEBUG - Next checking environment variables\n",
      "[2022-01-16 06:53:37,779]::/usr/local/Caskroom/miniconda/base/envs/mlonmcu_open_source/lib/python3.8/site-packages/mlonmcu-0.1.0-py3.8.egg/mlonmcu/context.py:55::DEBUG - Looking for default environment for current user\n",
      "[2022-01-16 06:53:37,779]::/usr/local/Caskroom/miniconda/base/envs/mlonmcu_open_source/lib/python3.8/site-packages/mlonmcu-0.1.0-py3.8.egg/mlonmcu/context.py:62::DEBUG - Found environment directory: /Users/philipp/.config/mlonmcu/environments/default/environment.yml\n",
      "[2022-01-16 06:53:37,791]::/usr/local/Caskroom/miniconda/base/envs/mlonmcu_open_source/lib/python3.8/site-packages/mlonmcu-0.1.0-py3.8.egg/mlonmcu/context.py:278::DEBUG - Enter MlonMcuContext\n",
      "[2022-01-16 06:53:37,791]::/usr/local/Caskroom/miniconda/base/envs/mlonmcu_open_source/lib/python3.8/site-packages/mlonmcu-0.1.0-py3.8.egg/mlonmcu/context.py:284::DEBUG - Locking context\n",
      "[2022-01-16 06:53:37,791]::/usr/local/Caskroom/miniconda/base/envs/mlonmcu_open_source/lib/python3.8/site-packages/mlonmcu-0.1.0-py3.8.egg/mlonmcu/context.py:263::INFO - No cache found in deps directory\n",
      "[2022-01-16 06:53:37,831]::/usr/local/Caskroom/miniconda/base/envs/mlonmcu_open_source/lib/python3.8/site-packages/mlonmcu-0.1.0-py3.8.egg/mlonmcu/models/lookup.py:124::DEBUG - Found match. Ignoring other files\n",
      "Models Summary\n",
      "\n",
      "Paths:\n",
      "    /Users/philipp/.config/mlonmcu/environments/default/models\n",
      "    /Users/philipp/.config/mlonmcu/models\n",
      "\n",
      "Models:\n",
      "    MobileNetV2\n",
      "    MobileNetV2/MobileNet_V2\n",
      "    aww\n",
      "    bigsine_quant\n",
      "    catdog\n",
      "    catdog/CNN_2L_model_quantized\n",
      "    catdog/CNN_full_quantized\n",
      "    catdog/CNN_full_quantized_70_\n",
      "    catdog/CNN_model\n",
      "    catdog2\n",
      "    cifar10\n",
      "    lstm2\n",
      "    magic_wand\n",
      "    micro_speech\n",
      "    mobilenetv1\n",
      "    model_with_detection_postprocess\n",
      "    model_with_detection_postprocess_static\n",
      "    model_with_logistic\n",
      "    model_with_multiple_outputs\n",
      "    resnet\n",
      "    simple_mnist\n",
      "    simple_mnist/MNIST_best_model\n",
      "    simple_mnist/MNIST_model\n",
      "    simple_mnist/MNIST_model_quantized\n",
      "    simple_mnist/model_data\n",
      "    simple_mnist/model_data_pruned\n",
      "    simple_mnist/model_data_size_optimized\n",
      "    simple_mnist/test_model3_alex\n",
      "    sine_model\n",
      "    sine_model/sine_model_dummyquant\n",
      "    sine_model/sine_model_dummyquant_packed\n",
      "    ssd\n",
      "    toycar\n",
      "    vww\n",
      "\n",
      "Groups:\n",
      "    mlperftiny [4 models]\n",
      "[2022-01-16 06:53:37,832]::/usr/local/Caskroom/miniconda/base/envs/mlonmcu_open_source/lib/python3.8/site-packages/mlonmcu-0.1.0-py3.8.egg/mlonmcu/context.py:307::DEBUG - Exit MlonMcuContext\n",
      "[2022-01-16 06:53:37,833]::/usr/local/Caskroom/miniconda/base/envs/mlonmcu_open_source/lib/python3.8/site-packages/mlonmcu-0.1.0-py3.8.egg/mlonmcu/context.py:296::DEBUG - Cleaning up active sessions\n",
      "[2022-01-16 06:53:37,833]::/usr/local/Caskroom/miniconda/base/envs/mlonmcu_open_source/lib/python3.8/site-packages/mlonmcu-0.1.0-py3.8.egg/mlonmcu/context.py:310::DEBUG - Releasing lock on context\n"
     ]
    }
   ],
   "source": [
    "!mlonmcu models  # TODO: cleanup!"
   ]
  },
  {
   "cell_type": "markdown",
   "id": "c38632a4",
   "metadata": {},
   "source": [
    "The listed \"Paths\" should match the search paths defined in the `environments.yml` and are processed in the provided order. If there are multiple models of the same name, only the first one will be added to MLonMCU. By passing the `--detailed` flag to the command, additional information will be shown for each entry.\n",
    "\n",
    "TODO: allow to search/filter for models by passing an extra arg"
   ]
  },
  {
   "cell_type": "markdown",
   "id": "7feedc70",
   "metadata": {},
   "source": [
    "In addition to individual models, predefined model-groups are also available. I.e. the MLPerf Tiny benchmark defined here:"
   ]
  },
  {
   "cell_type": "code",
   "execution_count": 13,
   "id": "aa765c5a",
   "metadata": {},
   "outputs": [
    {
     "name": "stdout",
     "output_type": "stream",
     "text": [
      "cat: /models/groups.yml: No such file or directory\r\n"
     ]
    }
   ],
   "source": [
    "!cat $MLONMCU_HOME/models/groups.yml"
   ]
  },
  {
   "cell_type": "markdown",
   "id": "fcf550a9",
   "metadata": {},
   "source": [
    "Feel free to manualy define further model-groups for your needs."
   ]
  },
  {
   "cell_type": "markdown",
   "id": "eda64a8c",
   "metadata": {},
   "source": [
    "### Running the MLonMCU flow"
   ]
  },
  {
   "cell_type": "markdown",
   "id": "15f53550",
   "metadata": {},
   "source": [
    "The MLonMCU flow is a major part of the tool and therefore explained by several examples, starting with minimal use cases before discussing more complex examples later."
   ]
  },
  {
   "cell_type": "markdown",
   "id": "b4584f0d",
   "metadata": {},
   "source": [
    "**Invoke a single model on the default backend/target**"
   ]
  },
  {
   "cell_type": "code",
   "execution_count": null,
   "id": "d49d238e",
   "metadata": {},
   "outputs": [],
   "source": [
    "!mlonmcu flow run resnet"
   ]
  },
  {
   "cell_type": "markdown",
   "id": "d5ee098e",
   "metadata": {},
   "source": [
    "There exist multiple stages which can be processed. The subcommand passed to `mlonmcu flow` defines the stage where the flow should stop. If you are only interested in intermediate artifacts of the process, use one of the following:\n",
    "\n",
    "```\n",
    "mlonmcu flow load  # only process the model with the frontend\n",
    "mlonmcu flow build  # invoke the chosen backend to generate code\n",
    "mlonmcu flow compile  # (cross-)compile the code for the chosen target\n",
    "```\n",
    "\n",
    "Further commands are available to achive further behavior:\n",
    "\n",
    "```\n",
    "mlonmcu flow test  # use provided model-data to invoke the models comparing their outputs with a golden reference\n",
    "```"
   ]
  },
  {
   "cell_type": "markdown",
   "id": "48ce915e",
   "metadata": {},
   "source": [
    "**Explicitly specify the backend and target to use for the flow**"
   ]
  },
  {
   "cell_type": "code",
   "execution_count": null,
   "id": "47621bbc",
   "metadata": {},
   "outputs": [],
   "source": [
    "!mlonmcu flow run resnet --backend tvmaot --target host_x86"
   ]
  },
  {
   "cell_type": "markdown",
   "id": "b048c328",
   "metadata": {},
   "source": [
    "**Enable certain features for all defined runs**"
   ]
  },
  {
   "cell_type": "code",
   "execution_count": null,
   "id": "4dcda1a6",
   "metadata": {},
   "outputs": [],
   "source": [
    "!mlonmcu flow run resnet --backend tvmaot --target etiss_pulpino --feature unpacked_api"
   ]
  },
  {
   "cell_type": "markdown",
   "id": "c539c1bb",
   "metadata": {},
   "source": [
    "**Add additional configuration options to customize internal components**"
   ]
  },
  {
   "cell_type": "code",
   "execution_count": null,
   "id": "61835423",
   "metadata": {},
   "outputs": [],
   "source": [
    "!mlonmcu flow run resnet --backend tvmaot --config tvmaot.target_device=arm_cpu"
   ]
  },
  {
   "cell_type": "markdown",
   "id": "40f38f8f",
   "metadata": {},
   "source": [
    "Instead of defining certain key-value pass on aeach command line, feel free to use the `vars:` property defined in the `environment.yml` to achieve the same result."
   ]
  },
  {
   "cell_type": "markdown",
   "id": "dde2adc5",
   "metadata": {},
   "source": [
    "**Invoke multiple models on multiple backends/targets**"
   ]
  },
  {
   "cell_type": "code",
   "execution_count": null,
   "id": "acb86cc3",
   "metadata": {},
   "outputs": [],
   "source": [
    "!mlonmcu flow run resnet toycar --backend tvmaot --backend tflmi --target host_x86 --target etiss_pulpino"
   ]
  },
  {
   "cell_type": "markdown",
   "id": "a0a94aef",
   "metadata": {},
   "source": [
    "**Exploit parallelism to reduce the processing time**"
   ]
  },
  {
   "cell_type": "code",
   "execution_count": null,
   "id": "a2cd60e3",
   "metadata": {},
   "outputs": [],
   "source": [
    "!mlonmcu flow run resnet toycar --backend tvmaot --backend tflmi --target host_x86 --target etiss_pulpino --parallel 4"
   ]
  },
  {
   "cell_type": "markdown",
   "id": "24174401",
   "metadata": {},
   "source": [
    "???"
   ]
  },
  {
   "cell_type": "markdown",
   "id": "0f7d4429",
   "metadata": {},
   "source": [
    "**Inspecting and exporting results and intermediate artifacts**"
   ]
  },
  {
   "cell_type": "markdown",
   "id": "91c749df",
   "metadata": {},
   "source": [
    "TODO"
   ]
  },
  {
   "cell_type": "code",
   "execution_count": null,
   "id": "57cc9909",
   "metadata": {},
   "outputs": [],
   "source": [
    "mlonmcu sess or mlonmcu export -l?"
   ]
  },
  {
   "cell_type": "code",
   "execution_count": null,
   "id": "19f7a6d6",
   "metadata": {},
   "outputs": [],
   "source": [
    "!mlonmcu export --session 0 --run 0 run.zip\n",
    "!mlonmcu export --session 0 session.zip\n",
    "!mlonmcu export session/"
   ]
  },
  {
   "cell_type": "markdown",
   "id": "c966fd54",
   "metadata": {},
   "source": [
    "### Further MLonMCU usage"
   ]
  },
  {
   "cell_type": "code",
   "execution_count": null,
   "id": "53defd29",
   "metadata": {},
   "outputs": [],
   "source": [
    "see below?"
   ]
  },
  {
   "cell_type": "markdown",
   "id": "c542489c",
   "metadata": {},
   "source": [
    "## Demonstration (Python API)"
   ]
  },
  {
   "cell_type": "markdown",
   "id": "05e8646f",
   "metadata": {},
   "source": [
    "### Preface"
   ]
  },
  {
   "cell_type": "markdown",
   "id": "665848cb",
   "metadata": {},
   "source": [
    "While it is also possible to initialize and setup an MLonMCU environment via Python, it is highly recommended to use the provided command line interfaces for these steps. The following examples demonstrate how to use the MLonMCU flow from within a Python program which enables more customizations of the internal features via scripting."
   ]
  },
  {
   "cell_type": "markdown",
   "id": "cdc59158",
   "metadata": {},
   "source": [
    "### Open a MLonMCU context to load the environment"
   ]
  },
  {
   "cell_type": "markdown",
   "id": "c6046d79",
   "metadata": {},
   "source": [
    "### Running the MLonMCU flow"
   ]
  },
  {
   "cell_type": "code",
   "execution_count": null,
   "id": "98d6bb90",
   "metadata": {},
   "outputs": [],
   "source": []
  },
  {
   "cell_type": "markdown",
   "id": "31f10075",
   "metadata": {},
   "source": [
    "### Low level APIs"
   ]
  },
  {
   "cell_type": "markdown",
   "id": "f1b6f99e",
   "metadata": {},
   "source": [
    "Core components of MLonMC (Frontends, Backends, Targets) can also be invoked individually as demonstrated in the following examples:"
   ]
  },
  {
   "cell_type": "code",
   "execution_count": null,
   "id": "659e0dfd",
   "metadata": {},
   "outputs": [],
   "source": []
  }
 ],
 "metadata": {
  "kernelspec": {
   "display_name": "Python 3 (ipykernel)",
   "language": "python",
   "name": "python3"
  },
  "language_info": {
   "codemirror_mode": {
    "name": "ipython",
    "version": 3
   },
   "file_extension": ".py",
   "mimetype": "text/x-python",
   "name": "python",
   "nbconvert_exporter": "python",
   "pygments_lexer": "ipython3",
   "version": "3.8.12"
  }
 },
 "nbformat": 4,
 "nbformat_minor": 5
}
