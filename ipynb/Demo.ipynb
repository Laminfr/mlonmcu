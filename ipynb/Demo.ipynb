{
 "cells": [
  {
   "cell_type": "markdown",
   "id": "9478e4b0",
   "metadata": {},
   "source": [
    "# MLonMCU"
   ]
  },
  {
   "cell_type": "markdown",
   "id": "32435a5e",
   "metadata": {},
   "source": [
    "<table class=\"tfo-notebook-buttons\" align=\"left\">\n",
    "  <td>\n",
    "    <a target=\"_blank\" href=\"https://colab.research.google.com/github/tum-ei-eda/mlonmcu/blob/main/ipynb/Demo.ipynb\"><img src=\"https://quantumai.google/site-assets/images/buttons/colab_logo_1x.png\" />Run in Google Colab</a>\n",
    "  </td>\n",
    "  <td>\n",
    "    <a target=\"_blank\" href=\"https://github.com/tum-ei-eda/mlonmcu/blob/main/ipynb/Demo.ipynb\"><img src=\"https://quantumai.google/site-assets/images/buttons/github_logo_1x.png\" />View source on GitHub</a>\n",
    "  </td>\n",
    "</table>"
   ]
  },
  {
   "cell_type": "markdown",
   "id": "8f7d087d",
   "metadata": {},
   "source": [
    "## Prerequisites"
   ]
  },
  {
   "cell_type": "markdown",
   "id": "f5afa492",
   "metadata": {},
   "source": [
    "Before running this notebook, make sure to run the following steps:\n",
    "\n",
    "1. Install the required software for your distribution:\n",
    "\n",
    "   See main `README.md` file!\n",
    "   \n",
    "2. Clone this repository\n",
    "\n",
    "   ```\n",
    "   git clone https://github.com/tum-ei-eda/mlonmcu.git\n",
    "   cd mlonmcu  # enter cloned repository\n",
    "   ```\n",
    "   \n",
    "3. Setup and enter a new virtualenv (Python 3.7+) for using `mlonmcu`:\n",
    "\n",
    "   ```\n",
    "   python -m venv .venv\n",
    "   source .venv/bin/activate\n",
    "   ```\n",
    "   \n",
    "   Hint: You can also use a `conda` environment for this.\n",
    "   \n",
    "4. Install mlonmcu package\n",
    "\n",
    "   ```\n",
    "   make install  # alternative: python setup.py install\n",
    "   ```\n",
    "   \n",
    "5. Install the required python packages:\n",
    "\n",
    "   ``` \n",
    "   # pip install -r requirements.txt  # Done automatically via setup.py?\n",
    "   pip install -r ipynb/requirements.txt\n",
    "   ```\n",
    "   \n",
    "6. Launch this notebook in jupyter:\n",
    "\n",
    "   ```\n",
    "   jupyter notebook ipynb/Demo.ipynb\n",
    "   ```"
   ]
  },
  {
   "cell_type": "markdown",
   "id": "ade663bb",
   "metadata": {},
   "source": [
    "*Hint for Developers:* If you do not want to install MLonMCU first, you can just replace `mlonmcu` with `python -m mlonmcu.cli.main` in every command to just use the latest development version."
   ]
  },
  {
   "cell_type": "markdown",
   "id": "b6d2c1cf",
   "metadata": {},
   "source": [
    "## Demonstration (Command Line)"
   ]
  },
  {
   "cell_type": "markdown",
   "id": "0a460dde",
   "metadata": {},
   "source": [
    "### Preface"
   ]
  },
  {
   "cell_type": "markdown",
   "id": "71105f6a",
   "metadata": {},
   "source": [
    "This guide should give an idea on the required steps to setup and use MLonMCU using the command line interface. Usage examples are provided as well."
   ]
  },
  {
   "cell_type": "markdown",
   "id": "3744822c",
   "metadata": {},
   "source": [
    "### Initialize a MLonMCU environment"
   ]
  },
  {
   "cell_type": "markdown",
   "id": "7113f996",
   "metadata": {},
   "source": [
    "As MLonMCU requires a directory where dependencies, configurations, intermediate artifacts and results are stored, an environment needs to be initialized first. This also allows to use different configuration (e.g. enabled backends or supported features) for multiple environments."
   ]
  },
  {
   "cell_type": "markdown",
   "id": "23edf711",
   "metadata": {},
   "source": [
    "Create and enter an environment diretcory first to initialize it afterwards:"
   ]
  },
  {
   "cell_type": "code",
   "execution_count": 1,
   "id": "167656d8",
   "metadata": {},
   "outputs": [
    {
     "name": "stdout",
     "output_type": "stream",
     "text": [
      "Initializing ML on MCU environment\n",
      "Selected target directory: /tmp/mlonmcu_env\n",
      "The directory does not exist! - Created directory.\n",
      "Creating environment.yml based on template 'default'.\n",
      "Skipping creation of virtual environment. (already inside one)\n",
      "Initializing directories in environment: deps plugins\n",
      "Finished. Please add `export MLONMCU_HOME=/tmp/mlonmcu_env` to your shell configuration to use it anywhere\n",
      "Recommended next step: `mlonmcu setup` inside your virtual environment.\n",
      "Optional: `mlonmcu setup -g`\n"
     ]
    }
   ],
   "source": [
    "# WARNING: execute this only once! Alternatively remove the environment directory beforehand to start from scratch.\n",
    "!test -d /tmp/mlonmcu_env && echo \"Skipped initialization of environment\" \\\n",
    "  || mlonmcu init /tmp/mlonmcu_env --non-interactive"
   ]
  },
  {
   "cell_type": "markdown",
   "id": "099ed602",
   "metadata": {},
   "source": [
    "When not using a notebook, the option `--non-interactive` can be omitted which allows to customize the initialization process interactively."
   ]
  },
  {
   "cell_type": "markdown",
   "id": "cc331474",
   "metadata": {},
   "source": [
    "If the environment directory is not passed to the `mlonmcu` script, it will try to setup a `default` environment in the users home directory (On Ubuntu: `~/.config/mlonmcu/environments/default/`) instead. By providing a `--name` of the virtual environment if will be automatically registered in `~/.config/mlonmcy/environments.ini` for the current user which helps to find and distinguish multiple installed environments on a machine."
   ]
  },
  {
   "cell_type": "markdown",
   "id": "be4527e6",
   "metadata": {},
   "source": [
    "In the following the actual environment which should be used by the `mlonmcu` program has to be defined by the user either by defining the environment variable `MLONMCU_HOME` or by using the `-H` (`--home` or `--hint`) command line option. If none of this was done, the following rules are following to look for a suitable environment:\n",
    "\n",
    "1. Check if `$MLONMCU_HOME` points to a valid environment\n",
    "2. Use environment provided via the `-H` flag (path or registered name) if available\n",
    "3. If the local working directory is the root of an environment, use this directory\n",
    "4. If there is a default environment for the current user, fall back to this one instead"
   ]
  },
  {
   "cell_type": "code",
   "execution_count": 2,
   "id": "43e841d3",
   "metadata": {},
   "outputs": [
    {
     "name": "stdout",
     "output_type": "stream",
     "text": [
      "env: MLONMCU_HOME=/tmp/mlonmcu_env\n"
     ]
    }
   ],
   "source": [
    "# Use this for bash: `export MLONMCU_HOME=/tmp/mlonmcu_env`\n",
    "%env MLONMCU_HOME=/tmp/mlonmcu_env"
   ]
  },
  {
   "cell_type": "markdown",
   "id": "9f59427f",
   "metadata": {},
   "source": [
    "Registered environment can be listed via the command `mlonmcu env`. In addition there are possibilities to manually update entires in the environments file."
   ]
  },
  {
   "cell_type": "code",
   "execution_count": 3,
   "id": "8838f071",
   "metadata": {},
   "outputs": [
    {
     "name": "stdout",
     "output_type": "stream",
     "text": [
      "Looking for user environments config file: /home/ga87puy/.config/mlonmcu/environments.ini\r\n",
      "Found 3 mlonmcu environment(s):\r\n",
      "    - default (/home/ga87puy/.config/mlonmcu/environments/default)\r\n",
      "    - unnamed (/nfs/TUEIEDAscratch/ga87puy/mlonmcu_research)\r\n",
      "    - unnamed_0 (/tmp/vankempen/mlonmcu/workspace)\r\n",
      "Point the environment variable MLONMCU_HOME to a environment directory to get started\r\n"
     ]
    }
   ],
   "source": [
    "!mlonmcu env"
   ]
  },
  {
   "cell_type": "markdown",
   "id": "789b567d",
   "metadata": {},
   "source": [
    "### Customizing the created MLonMCU environment (optional)"
   ]
  },
  {
   "cell_type": "markdown",
   "id": "404b3bb1",
   "metadata": {},
   "source": [
    "The environment was initialized by a template which can be found in the `templates/` directory of the repository chosen via the `--template` flag. Lets inspect the generated configuration file first:"
   ]
  },
  {
   "cell_type": "code",
   "execution_count": 4,
   "id": "64f1a4d5",
   "metadata": {
    "scrolled": true
   },
   "outputs": [
    {
     "name": "stdout",
     "output_type": "stream",
     "text": [
      "---\r\n",
      "# The MLONMCU_HOME is filled in automatically when creating the environment\r\n",
      "home: \"/tmp/mlonmcu_env\"\r\n",
      "logging:\r\n",
      "  level: DEBUG\r\n",
      "  to_file: false\r\n",
      "  rotate: false\r\n",
      "cleanup:\r\n",
      "  auto: true\r\n",
      "  keep: 50\r\n",
      "# Default locations for certain directoriescan be changed here\r\n",
      "# Non-absolute paths will always be threated relative to the MLONMCU_HOME\r\n",
      "paths:\r\n",
      "  # Where the dependencies are downloaded and installed\r\n",
      "  deps: deps\r\n",
      "  # If logging to file is used keep logs in this directory\r\n",
      "  logs: logs\r\n",
      "  # Location where reports and artifacts are written to\r\n",
      "  results: results\r\n",
      "  # Directory where custom extensions can be integrated\r\n",
      "  plugins: plugins\r\n",
      "  # Directory for intermediate build products, should be located on a large enough drive\r\n",
      "  temp: temp\r\n",
      "  # A collection of models which will be used to look for models\r\n",
      "  # The paths will be checked in the order defined here stopping at the first match\r\n",
      "  # Non-existant paths will be skipped without throwing an error\r\n",
      "  models:\r\n",
      "    - \"/tmp/mlonmcu_env/models\"\r\n",
      "    - \"/home/ga87puy/.config/mlonmcu/models\"\r\n",
      "# Here default clone_urls\r\n",
      "repos:\r\n",
      "  tensorflow:\r\n",
      "    url: \"https://github.com/tensorflow/tflite-micro.git\"\r\n",
      "    ref: f050eec7e32a0895f7658db21a4bdbd0975087a5\r\n",
      "  tvm:\r\n",
      "    url: \"https://github.com/apache/tvm.git\"\r\n",
      "    ref: de6d8067754d746d88262c530b5241b5577b9aae\r\n",
      "  utvm_staticrt_codegen:\r\n",
      "    url: \"https://github.com/tum-ei-eda/utvm_staticrt_codegen.git\"\r\n",
      "    ref: 1b296f1efcc28671ee21ccbe86a81b968db8b1e5\r\n",
      "  tvm_extensions:\r\n",
      "    url: \"https://github.com/tum-ei-eda/tvm_extensions.git\"\r\n",
      "    ref: 3ccd1ad8e4eed0cd86bfbd866d066833fd174dcb\r\n",
      "  muriscvnn:\r\n",
      "    url: \"https://github.com/tum-ei-eda/muriscv-nn.git\"\r\n",
      "    ref: c023b80a51c1b48ec62b9b092d047e9ac0bab3e8\r\n",
      "  etiss:\r\n",
      "    url: \"https://github.com/tum-ei-eda/etiss.git\"\r\n",
      "    ref: 4d2d26fb1fdb17e1da3a397c35d6f8877bf3ceab\r\n",
      "  spike:\r\n",
      "    url: \"https://github.com/riscv-software-src/riscv-isa-sim.git\"\r\n",
      "    ref: 0bc176b3fca43560b9e8586cdbc41cfde073e17a\r\n",
      "  spikepk:\r\n",
      "    url: \"https://github.com/riscv-software-src/riscv-pk.git\"\r\n",
      "    ref: 7e9b671c0415dfd7b562ac934feb9380075d4aa2\r\n",
      "  cmsis:\r\n",
      "    url: \"https://github.com/PhilippvK/CMSIS_5.git\"\r\n",
      "    ref: ad1c3cad8f1240ef14a2c55381a78d792d76ec4d\r\n",
      "  mlif:\r\n",
      "    url: \"https://github.com/tum-ei-eda/mlonmcu-sw.git\"\r\n",
      "    ref: 4b9a32659f7c5340e8de26a0b8c4135ca67d64ac\r\n",
      "  espidf:\r\n",
      "    url: \"https://github.com/espressif/esp-idf.git\"\r\n",
      "    ref: release/v4.4\r\n",
      "  microtvm_etissvp:\r\n",
      "    url: \"https://github.com/PhilippvK/microtvm-etissvp-template.git\"\r\n",
      "    ref: 95ed42e4cc1dfbcccb39a0a5b8f95ca22bbef9cc\r\n",
      "  zephyr:\r\n",
      "    url: \"https://github.com/zephyrproject-rtos/zephyr.git\"\r\n",
      "    ref: v3.2.0\r\n",
      "# Here all supported frameworks with their specific features are defined\r\n",
      "# Optionally disable unwanted or incomatible backends or features here\r\n",
      "# The configured defaults are used if no backend was specified in the command line options\r\n",
      "frameworks:\r\n",
      "  default: tvm\r\n",
      "  tflm:\r\n",
      "    enabled: true\r\n",
      "    backends:\r\n",
      "      default: tflmi\r\n",
      "      tflmi:\r\n",
      "        enabled: true\r\n",
      "        features:\r\n",
      "          debug_arena: true\r\n",
      "    features:\r\n",
      "      muriscvnn: true\r\n",
      "      cmsisnn: false\r\n",
      "  tvm:\r\n",
      "    enabled: true\r\n",
      "    backends:\r\n",
      "      default: tvmaot\r\n",
      "      tvmrt:\r\n",
      "        enabled: true\r\n",
      "        features:\r\n",
      "          debug_arena: true\r\n",
      "          disable_legalize: false\r\n",
      "          autotuned: true\r\n",
      "          moiopt: true\r\n",
      "      tvmaot:\r\n",
      "        enabled: true\r\n",
      "        features:\r\n",
      "          debug_arena: true\r\n",
      "          unpacked_api: true\r\n",
      "          usmp: true\r\n",
      "          disable_legalize: false\r\n",
      "          autotuned: true\r\n",
      "          moiopt: true\r\n",
      "      tvmaotplus:\r\n",
      "        enabled: true\r\n",
      "        features:\r\n",
      "          debug_arena: true\r\n",
      "          disable_legalize: false\r\n",
      "          autotuned: true\r\n",
      "          moiopt: true\r\n",
      "      tvmllvm:\r\n",
      "        enabled: true\r\n",
      "        features:\r\n",
      "          # unpacked_api: true\r\n",
      "          disable_legalize: false\r\n",
      "          autotuned: true\r\n",
      "          moiopt: true\r\n",
      "      tvmcg:\r\n",
      "        enabled: true\r\n",
      "        features:\r\n",
      "          debug_arena: true\r\n",
      "          disable_legalize: false\r\n",
      "          autotuned: true\r\n",
      "    features:\r\n",
      "      cmsisnnbyoc: false\r\n",
      "      muriscvnnbyoc: false\r\n",
      "# Some frontends are experimental and therefore disabled here\r\n",
      "# Features like packing are only available in certain environments\r\n",
      "frontends:\r\n",
      "  tflite:\r\n",
      "    enabled: true\r\n",
      "    features:\r\n",
      "      validate: true\r\n",
      "      visualize: true\r\n",
      "  relay:\r\n",
      "    enabled: true\r\n",
      "    features:\r\n",
      "      relayviz: true\r\n",
      "  packed:\r\n",
      "    enabled: false\r\n",
      "    features:\r\n",
      "      packing: true\r\n",
      "      packed: true\r\n",
      "  onnx:\r\n",
      "    enabled: true\r\n",
      "  pb:\r\n",
      "    enabled: true\r\n",
      "  paddle:\r\n",
      "    enabled: true\r\n",
      "  # TODO: saved_model (TF->TFLITE), ipynb (IPYNB->?)\r\n",
      "# Some targets/platforms support multiple toolchains\r\n",
      "toolchains:\r\n",
      "  gcc: true\r\n",
      "  llvm: true\r\n",
      "# Platform extend the number of supported targets\r\n",
      "platforms:\r\n",
      "  mlif:\r\n",
      "    enabled: true\r\n",
      "    features:\r\n",
      "      debug: true\r\n",
      "      validate: true\r\n",
      "      benchmark: true\r\n",
      "  espidf:\r\n",
      "    enabled: false\r\n",
      "    features:\r\n",
      "      debug: true\r\n",
      "  zephyr:\r\n",
      "    enabled: false\r\n",
      "    features:\r\n",
      "      debug: true\r\n",
      "  tvm:\r\n",
      "    enabled: true\r\n",
      "    features:\r\n",
      "      benchmark: true\r\n",
      "      tvm_rpc: true\r\n",
      "      autotune: true\r\n",
      "      tvm_profile: true\r\n",
      "  microtvm:\r\n",
      "    enabled: true\r\n",
      "    features: []\r\n",
      "      # validate: true\r\n",
      "# List of supported targets in the environment\r\n",
      "targets:\r\n",
      "  default: etiss_pulpino\r\n",
      "  etiss_pulpino:\r\n",
      "    enabled: true\r\n",
      "    features:\r\n",
      "      gdbserver: true\r\n",
      "      etissdbg: true\r\n",
      "      trace: true\r\n",
      "      log_instrs: true\r\n",
      "      # vext: true\r\n",
      "      # pext: true\r\n",
      "  host_x86:\r\n",
      "    enabled: true\r\n",
      "    features:\r\n",
      "      gdbserver: true\r\n",
      "  spike:\r\n",
      "    enabled: true\r\n",
      "    features:\r\n",
      "      vext: false\r\n",
      "      pext: false\r\n",
      "      cachesim: true\r\n",
      "      log_instrs: true\r\n",
      "  ovpsim:\r\n",
      "    enabled: false\r\n",
      "    features:\r\n",
      "      vext: false\r\n",
      "      pext: false\r\n",
      "      log_instrs: true\r\n",
      "  corstone300:\r\n",
      "    enabled: false\r\n",
      "    features:\r\n",
      "      ethosu: false\r\n",
      "      arm_mvei: true\r\n",
      "      arm_dsp: true\r\n",
      "  riscv_qemu:\r\n",
      "    enabled: true\r\n",
      "    features:\r\n",
      "      vext: false\r\n",
      "  microtvm_host:\r\n",
      "    enabled: true\r\n",
      "  microtvm_spike:\r\n",
      "    enabled: true\r\n",
      "  microtvm_zephyr:\r\n",
      "    enabled: false\r\n",
      "  microtvm_arduino:\r\n",
      "    enabled: false\r\n",
      "  microtvm_etissvp:\r\n",
      "    enabled: true\r\n",
      "  microtvm_espidf:\r\n",
      "    enabled: false\r\n",
      "  tvm_cpu:\r\n",
      "    enabled: true\r\n",
      "postprocesses:\r\n",
      "  use:\r\n",
      "  # - detailed_cycles\r\n",
      "  # - average_cycles\r\n",
      "  # - filter_cols\r\n",
      "  # - features2cols\r\n",
      "  # - config2cols\r\n",
      "  # - bytes2kb\r\n",
      "  # - visualize\r\n",
      "# This is where further options such as specific versions of dependencies can be set in the furture\r\n",
      "vars:\r\n",
      "  allow_extensions: false\r\n",
      "  # tvm.make_tool: \"ninja\"\r\n",
      "  llvm.version: \"14.0.0\"\r\n",
      "  runs_per_stage: true\r\n",
      "  riscv_gcc.dl_url: \"https://syncandshare.lrz.de/dl/fiD9HnHYkb2V8kNbVQYv242m/rv32gc.tar.gz\"\r\n",
      "  riscv_gcc.dl_url_vext: \"https://syncandshare.lrz.de/dl/fiGp4r3f6SZaC5QyDi6QUiNQ/rv32gcv_new.tar.gz\"\r\n",
      "  riscv_gcc.dl_url_pext: \"https://syncandshare.lrz.de/dl/fiNvP4mzVQ8uDvgT9Yf2bqNk/rv32gcp.tar.xz\"\r\n",
      "flags:\r\n",
      "  tflmc.exe:\r\n",
      "  - x86"
     ]
    }
   ],
   "source": [
    "!cat $MLONMCU_HOME/environment.yml"
   ]
  },
  {
   "cell_type": "markdown",
   "id": "78b9eb23",
   "metadata": {},
   "source": [
    "The environment should work out of the box, but feel free to update the contents of the `environment.yml` file to achieve one of the following:\n",
    "\n",
    "- Change the default paths used for dependencies, results, models,...\n",
    "- Use different forks/versions of a repository\n",
    "- Disable certain frameworks/backends to reduce the installation time in the next step.\n",
    "- Define which features are supported for the given repositories\n",
    "- Set default backends and targets\n",
    "- Define a set of default configuration variables\n",
    "\n",
    "To learn more about this, check out this document: `ENVIRONMENTS.md`"
   ]
  },
  {
   "cell_type": "markdown",
   "id": "10e74d0f",
   "metadata": {},
   "source": [
    "### Setting up all MLonMCU dependencies"
   ]
  },
  {
   "cell_type": "markdown",
   "id": "fbc32554",
   "metadata": {},
   "source": [
    "Depending on the enabled backends and features, a different set of dependencies has to be installed. To reduce the management effort for the user, all these versions are installed and managed automatically using MLonMCU. To trigger this process, run the following in the command line. (This will take a very long time with all frameworks/targets/features enabled when invoked for the first time)"
   ]
  },
  {
   "cell_type": "code",
   "execution_count": 5,
   "id": "6ecce763",
   "metadata": {
    "scrolled": true
   },
   "outputs": [
    {
     "name": "stdout",
     "output_type": "stream",
     "text": [
      "INFO - No cache found in deps directory\n",
      "INFO - Loading extensions.py (User)\n",
      "INFO - Installing dependencies...\n",
      "INFO - Processing task: install_riscv_gcc{'pext': False, 'vext': False}\n",
      "INFO - Processing task: install_arm_gcc\n",
      "INFO - Processing task: clone_cmsis\n",
      "INFO - Processing task: clone_espidf\n",
      "INFO - Processing task: clone_etiss\n",
      "INFO - Processing task: clone_muriscvnn\n",
      "INFO - Processing task: clone_spike_pk\n",
      "INFO - Processing task: clone_spike\n",
      "INFO - Processing task: clone_tensorflow\n",
      "INFO - Processing task: clone_tflite_micro_compiler\n",
      "INFO - Processing task: clone_tvm_extensions\n",
      "INFO - Processing task: install_llvm\n",
      "INFO - Processing task: clone_utvm_staticrt_codegen\n",
      "INFO - Processing task: clone_pulp_freertos\n",
      "INFO - Processing task: install_corstone300\n",
      "INFO - Processing task: clone_microtvm_etissvp\n",
      "INFO - Processing task: clone_mlif\n",
      "INFO - Processing task: download_tflite_vizualize\n",
      "INFO - Processing task: install_zephyr\n",
      "INFO - Processing task: install_pulp_gcc\n",
      "INFO - Processing task: build_cmsisnn\n",
      "INFO - Processing task: install_espidf\n",
      "INFO - Processing task: build_etiss{'dbg': False}\n",
      "INFO - Processing task: build_etiss{'dbg': True}\n",
      "INFO - Processing task: build_muriscvnn{'target_arch': 'x86', 'toolchain': 'gcc', 'pext': False, 'vext': False, 'dbg': False}\n",
      "INFO - Processing task: build_muriscvnn{'target_arch': 'riscv', 'toolchain': 'gcc', 'pext': False, 'vext': False, 'dbg': False}\n",
      "INFO - Processing task: build_spike_pk\n",
      "INFO - Processing task: build_spike\n",
      "INFO - Processing task: build_tensorflow{'dbg': True}\n",
      "INFO - Processing task: clone_tvm{'patch': False}\n",
      "INFO - Processing task: install_gvsoc\n",
      "INFO - Processing task: install_etiss{'dbg': False}\n",
      "INFO - Processing task: install_etiss{'dbg': True}\n",
      "INFO - Processing task: build_tflite_micro_compiler\n",
      "INFO - Processing task: build_tvm{'cmsisnn': False, 'dbg': False}\n",
      "INFO - Processing task: build_tvm{'cmsisnn': True, 'dbg': False}\n",
      "INFO - Processing task: build_utvm_staticrt_codegen{'dbg': False}\n",
      "INFO - Finished installing dependencies\n"
     ]
    }
   ],
   "source": [
    "!mlonmcu setup"
   ]
  },
  {
   "cell_type": "markdown",
   "id": "5b47bbba",
   "metadata": {},
   "source": [
    "Some things need to be considered here:\n",
    "- Repositories are only cloned once, so upstream changes or updated urls/branches in the `environments.yml` are not detected automatically\n",
    "- The flag `--rebuild` can be passed to `mlonmcu setup` to ensure that the setup routine of every dependency is triggered again. However this does not guarentee that all artifacts are properly updated. Also there is a `--task` option which allows to invoke individual tasks manually.\n",
    "- To guarantee that the latest versions of a dependency are installed you can remove the `deps` directory manually or alternative use the provided `mlonmcu cleanup` utility. (Execute `mlonmcu cleanup --help` to learn more)\n",
    "- In addition to the installed dependencies, a file named `cache.ini` can be found in the environments `deps/` directory. Here all paths to relevant dependencies are stored with their different sets of flags."
   ]
  },
  {
   "cell_type": "markdown",
   "id": "8daa9d4a",
   "metadata": {},
   "source": [
    "### Adding models to MLonMCU"
   ]
  },
  {
   "cell_type": "markdown",
   "id": "55518b0e",
   "metadata": {},
   "source": [
    "By default, the `mlonmcu-models` repository (https://github.com/tum-ei-eda/mlonmcu-models) is cloned to each environment as its contents are designed to perfectly integrate into the MLonMCU flow. In addition a location in the users home directory (`~/.config/mlonmcu/models/` for Ubuntu) is also added to the search path as defined in the `environments.yml`. Feel free to add further model manually or alternatively clone a model-zoo (e.g. https://github.com/ARM-software/ML-zoo) to a random location on the disc and updating the list of model-paths in the environments' config file."
   ]
  },
  {
   "cell_type": "markdown",
   "id": "25d49e86",
   "metadata": {},
   "source": [
    "To list all available models in a environment, the `mlonmcu models` subcommand can be used:"
   ]
  },
  {
   "cell_type": "code",
   "execution_count": 6,
   "id": "32db9a74",
   "metadata": {
    "scrolled": true
   },
   "outputs": [
    {
     "name": "stdout",
     "output_type": "stream",
     "text": [
      "INFO - Loading environment cache from file\n",
      "INFO - Successfully initialized cache\n",
      "INFO - Loading extensions.py (User)\n",
      "Models Summary\n",
      "\n",
      "Paths:\n",
      "    /tmp/mlonmcu_env/models\n",
      "    /nas/ei/home/ga87puy/.config/mlonmcu/models\n",
      "\n",
      "Models:\n",
      "    MobileNetV2\n",
      "    MobileNetV2/MobileNet_V2\n",
      "    aww\n",
      "    bigsine_quant\n",
      "    catdog\n",
      "    catdog/CNN_2L_model_quantized\n",
      "    catdog/CNN_full_quantized\n",
      "    catdog/CNN_full_quantized_70_\n",
      "    catdog/CNN_model\n",
      "    catdog2\n",
      "    cifar10\n",
      "    cnn_s_quantized\n",
      "    lstm2\n",
      "    magic_wand\n",
      "    micro_speech (1 duplicates)\n",
      "    micro_speech_custom\n",
      "    micro_speech_custom_lr\n",
      "    micro_speech_custom_ud\n",
      "    micro_speech_ds_cnn_s_15000_2w\n",
      "    micro_speech_ds_cnn_s_15000_4w\n",
      "    micro_speech_micro_speech_15000_2w\n",
      "    micro_speech_micro_speech_15000_4w\n",
      "    mobilenet_v1_0_25_128\n",
      "    mobilenet_v1_10_224\n",
      "    mobilenet_v1_1_0_224_quant\n",
      "    mobilenetv1\n",
      "    person_detect\n",
      "    resnet\n",
      "    simple_mnist\n",
      "    simple_mnist/MNIST_best_model\n",
      "    simple_mnist/MNIST_model\n",
      "    simple_mnist/MNIST_model_quantized\n",
      "    simple_mnist/model_data\n",
      "    simple_mnist/model_data_pruned\n",
      "    simple_mnist/model_data_size_optimized\n",
      "    sine_model\n",
      "    sine_model/hello_world\n",
      "    ssd\n",
      "    text_class\n",
      "    toycar\n",
      "    vww\n",
      "\n",
      "Groups:\n",
      "    tinymlperf [4 models]\n",
      "    minimal [1 models]\n",
      "    tinymlbook [3 models]\n"
     ]
    }
   ],
   "source": [
    "!mlonmcu models"
   ]
  },
  {
   "cell_type": "markdown",
   "id": "c38632a4",
   "metadata": {},
   "source": [
    "The listed \"Paths\" should match the search paths defined in the `environments.yml` and are processed in the provided order. If there are multiple models of the same name, only the first one will be added to MLonMCU. By passing the `--detailed` flag to the command, additional information will be shown for each entry.\n",
    "\n",
    "TODO: allow to search/filter for models by passing an extra arg"
   ]
  },
  {
   "cell_type": "markdown",
   "id": "7feedc70",
   "metadata": {},
   "source": [
    "In addition to individual models, predefined model-groups are also available. I.e. the MLPerf Tiny benchmark defined here:"
   ]
  },
  {
   "cell_type": "code",
   "execution_count": 7,
   "id": "aa765c5a",
   "metadata": {},
   "outputs": [
    {
     "name": "stdout",
     "output_type": "stream",
     "text": [
      "---\r\n",
      "tinymlperf:\r\n",
      "  - aww\r\n",
      "  - vww\r\n",
      "  - resnet\r\n",
      "  - toycar\r\n",
      "\r\n",
      "minimal:\r\n",
      "  - sine_model\r\n",
      "\r\n",
      "tinymlbook:\r\n",
      "  - sine_model  # hello_world\r\n",
      "  - micro_speech\r\n",
      "  - magic_wand\r\n"
     ]
    }
   ],
   "source": [
    "!cat $MLONMCU_HOME/models/modelgroups.yml"
   ]
  },
  {
   "cell_type": "markdown",
   "id": "fcf550a9",
   "metadata": {},
   "source": [
    "Feel free to manualy define further model-groups for your needs."
   ]
  },
  {
   "cell_type": "markdown",
   "id": "eda64a8c",
   "metadata": {},
   "source": [
    "### Running the MLonMCU flow"
   ]
  },
  {
   "cell_type": "markdown",
   "id": "15f53550",
   "metadata": {},
   "source": [
    "The MLonMCU flow is a major part of the tool and therefore explained by several examples, starting with minimal use cases before discussing more complex examples later."
   ]
  },
  {
   "cell_type": "markdown",
   "id": "b4584f0d",
   "metadata": {},
   "source": [
    "**Invoke a single model on the default backend/target**"
   ]
  },
  {
   "cell_type": "code",
   "execution_count": 8,
   "id": "d49d238e",
   "metadata": {},
   "outputs": [
    {
     "name": "stdout",
     "output_type": "stream",
     "text": [
      "INFO - Loading environment cache from file\n",
      "INFO - Successfully initialized cache\n",
      "INFO - Loading extensions.py (User)\n",
      "INFO -  Processing stage LOAD\n",
      "INFO -  Processing stage BUILD\n",
      "INFO -  Processing stage COMPILE\n",
      "INFO -  Processing stage RUN\n",
      "INFO - All runs completed successfuly!\n",
      "INFO - Postprocessing session report\n",
      "INFO - Done processing runs\n",
      "INFO - Report:\n",
      "   Session  Run   Model Frontend Framework Backend Platform         Target    Cycles  MIPS  Total ROM  Total RAM  ROM read-only  ROM code  ROM misc  RAM data  RAM zero-init data Features                                             Config Postprocesses Comment\n",
      "0        0    0  resnet   tflite       tvm  tvmaot     mlif  etiss_pulpino  82445446    79     233292     124785         167456     65692       144      2485              122300       []  {'tflite.use_inout_data': False, 'tflite.visua...            []       -\n"
     ]
    }
   ],
   "source": [
    "!mlonmcu flow run resnet"
   ]
  },
  {
   "cell_type": "markdown",
   "id": "fde27af0",
   "metadata": {},
   "source": [
    "While this looks pretty clean, in the background, there is a lot of thing being processed. You can find out more using the `--verbose` flag:"
   ]
  },
  {
   "cell_type": "code",
   "execution_count": 9,
   "id": "67b6fb50",
   "metadata": {
    "scrolled": true
   },
   "outputs": [
    {
     "name": "stdout",
     "output_type": "stream",
     "text": [
      "DEBUG - Cleaning up old sessions automaticaly\n",
      "DEBUG - Restored 1 recent sessions\n",
      "DEBUG - Enter MlonMcuContext\n",
      "DEBUG - Locking context\n",
      "INFO - Loading environment cache from file\n",
      "INFO - Successfully initialized cache\n",
      "INFO - Loading extensions.py (User)\n",
      "DEBUG - Creating a new session with idx 1\n",
      "DEBUG - Found match. Ignoring other files\n",
      "DEBUG - Creating a new run with id 0\n",
      "DEBUG - Found match. Ignoring other files\n",
      "INFO - [session-1]  Processing stage LOAD\n",
      "DEBUG - [session-1] [run-0] Continuing run from stage LOAD until stage LOAD\n",
      "DEBUG - [session-1] [run-0] Processing stage LOAD\n",
      "DEBUG - [session-1] [run-0] Exporting run to disk\n",
      "DEBUG - [session-1] [run-0] Writing run file\n",
      "INFO - [session-1]  Processing stage BUILD\n",
      "DEBUG - [session-1] [run-0] Continuing run from stage BUILD until stage BUILD\n",
      "DEBUG - [session-1] [run-0] Processing stage BUILD\n",
      "DEBUG - - Executing: ('/var/tmp/ga87puy/mlonmcu/mlonmcu/venv/bin/python', '-m', 'tvm.driver.tvmc', 'compile', PosixPath('/tmp/mlonmcu_env/temp/sessions/1/runs/0/resnet.tflite'), '--target', 'c', '--runtime', 'crt', '--executor', 'aot', '--pass-config', 'tir.disable_vectorize=True', '--input-shapes', 'input_1_int8:[1,32,32,3]', '--opt-level', '3', '--output', '/tmp/tmpi8leikik/default.tar', '-f', 'mlf', '--model-format', 'tflite', '--runtime-crt-system-lib', '0', '--target-c-constants-byte-alignment', '4', '--target-c-workspace-byte-alignment', '4', '--executor-aot-unpacked-api', '0', '--executor-aot-interface-api', 'packed')\n",
      "DEBUG - [session-1] [run-0] Exporting run to disk\n",
      "DEBUG - [session-1] [run-0] Writing run file\n",
      "INFO - [session-1]  Processing stage COMPILE\n",
      "DEBUG - [session-1] [run-0] Continuing run from stage COMPILE until stage COMPILE\n",
      "DEBUG - [session-1] [run-0] Processing stage COMPILE\n",
      "DEBUG - - Executing: ('cmake', '/tmp/mlonmcu_env/deps/src/mlif', '-DCMAKE_BUILD_TYPE=Release', '-DMLONMCU_BACKEND=tvmaot', '-DMLONMCU_FRAMEWORK=tvm', '-DTVM_CRT_CONFIG_DIR=/var/tmp/ga87puy/mlonmcu/mlonmcu/venv/lib/python3.8/site-packages/mlonmcu-0.3.0.dev0-py3.8.egg/mlonmcu/../resources/frameworks/tvm/crt_config', '-DTVM_DIR=/tmp/mlonmcu_env/deps/src/tvm', '-DRISCV_ELF_GCC_PREFIX=/tmp/mlonmcu_env/deps/install/riscv_gcc', '-DRISCV_ELF_GCC_BASENAME=riscv32-unknown-elf', '-DRISCV_ARCH=rv32gc', '-DRISCV_ABI=ilp32d', '-DRISCV_ATTR=+f,+a,+m,+d,+c,+i', '-DETISS_DIR=/tmp/mlonmcu_env/deps/install/etiss', '-DPULPINO_ROM_START=0', '-DPULPINO_ROM_SIZE=8388608', '-DPULPINO_RAM_START=8388608', '-DPULPINO_RAM_SIZE=67108864', '-DTARGET_SYSTEM=etiss_pulpino', '-DTOOLCHAIN=gcc', '-DLLVM_DIR=/tmp/mlonmcu_env/deps/install/llvm', '-DCMAKE_VERBOSE_MAKEFILE:BOOL=ON', '-DMODEL_SUPPORT_DIR=/tmp/mlonmcu_env/models/resnet/support', '-DSRC_DIR=/tmp/mlonmcu_env/temp/sessions/1/runs/0', '-DDATA_SRC=')\n",
      "DEBUG - - Executing: ('make', '-j64', 'generic_mlif')\n",
      "DEBUG - [session-1] [run-0] Exporting run to disk\n",
      "DEBUG - [session-1] [run-0] Writing run file\n",
      "INFO - [session-1]  Processing stage RUN\n",
      "DEBUG - [session-1] [run-0] Continuing run from stage RUN until stage RUN\n",
      "DEBUG - [session-1] [run-0] Processing stage RUN\n",
      "DEBUG - - Executing: (PosixPath('/tmp/mlonmcu_env/deps/install/etiss/bin/run_helper.sh'), PosixPath('/tmp/mlonmcu_env/temp/sessions/1/runs/0/generic_mlif'), '-i/tmp/tmpyqr7f1so/custom.ini')\n",
      "DEBUG - - Executing: (PosixPath('/tmp/mlonmcu_env/deps/src/etiss/src/bare_etiss_processor/get_metrics.py'), PosixPath('/tmp/mlonmcu_env/temp/sessions/1/runs/0/generic_mlif'), '--ini', '/tmp/tmpyqr7f1so/custom.ini', '--out', '/tmp/tmpyqr7f1so/metrics.csv')\n",
      "DEBUG - [session-1] [run-0] Exporting run to disk\n",
      "DEBUG - [session-1] [run-0] Writing run file\n",
      "INFO - All runs completed successfuly!\n",
      "INFO - Postprocessing session report\n",
      "INFO - [session-1] Done processing runs\n",
      "INFO - Report:\n",
      "   Session  Run   Model Frontend Framework Backend Platform         Target    Cycles  MIPS  Total ROM  Total RAM  ROM read-only  ROM code  ROM misc  RAM data  RAM zero-init data Features                                             Config Postprocesses Comment\n",
      "0        1    0  resnet   tflite       tvm  tvmaot     mlif  etiss_pulpino  82445446    78     233292     124785         167456     65692       144      2485              122300       []  {'tflite.use_inout_data': False, 'tflite.visua...            []       -\n",
      "DEBUG - Exit MlonMcuContext\n",
      "DEBUG - Cleaning up active sessions\n",
      "DEBUG - Releasing lock on context\n"
     ]
    }
   ],
   "source": [
    "!mlonmcu flow run resnet --verbose"
   ]
  },
  {
   "cell_type": "markdown",
   "id": "4812f846",
   "metadata": {},
   "source": [
    "The report of a run is typically the first thing to check out after invoking MLonMCU. It will be automatically written to the `results` directory declared in the `environments.yml`:"
   ]
  },
  {
   "cell_type": "code",
   "execution_count": 10,
   "id": "a6e147f8",
   "metadata": {
    "scrolled": true
   },
   "outputs": [
    {
     "name": "stdout",
     "output_type": "stream",
     "text": [
      "/tmp/mlonmcu_env/results/unnamed_20230119T102731.csv\r\n",
      "/tmp/mlonmcu_env/results/unnamed_20230119T103308.csv\r\n"
     ]
    }
   ],
   "source": [
    "!ls $MLONMCU_HOME/results/*.csv"
   ]
  },
  {
   "cell_type": "markdown",
   "id": "f1ffb5b9",
   "metadata": {},
   "source": [
    "Let's define some helper functions to print these reports as a table. Of course you could also just open them i.e. with Excel! "
   ]
  },
  {
   "cell_type": "code",
   "execution_count": 11,
   "id": "3ca15186",
   "metadata": {},
   "outputs": [],
   "source": [
    "from helpers import tabularize_latest_report"
   ]
  },
  {
   "cell_type": "markdown",
   "id": "849d148a",
   "metadata": {},
   "source": [
    "In the following line the results or the latest run should be printed as a Pandas dataframe:"
   ]
  },
  {
   "cell_type": "code",
   "execution_count": 12,
   "id": "6d224b05",
   "metadata": {},
   "outputs": [
    {
     "data": {
      "text/html": [
       "<div>\n",
       "<style scoped>\n",
       "    .dataframe tbody tr th:only-of-type {\n",
       "        vertical-align: middle;\n",
       "    }\n",
       "\n",
       "    .dataframe tbody tr th {\n",
       "        vertical-align: top;\n",
       "    }\n",
       "\n",
       "    .dataframe thead th {\n",
       "        text-align: right;\n",
       "    }\n",
       "</style>\n",
       "<table border=\"1\" class=\"dataframe\">\n",
       "  <thead>\n",
       "    <tr style=\"text-align: right;\">\n",
       "      <th></th>\n",
       "      <th>Session</th>\n",
       "      <th>Run</th>\n",
       "      <th>Model</th>\n",
       "      <th>Frontend</th>\n",
       "      <th>Framework</th>\n",
       "      <th>Backend</th>\n",
       "      <th>Platform</th>\n",
       "      <th>Target</th>\n",
       "      <th>Cycles</th>\n",
       "      <th>MIPS</th>\n",
       "      <th>...</th>\n",
       "      <th>Total RAM</th>\n",
       "      <th>ROM read-only</th>\n",
       "      <th>ROM code</th>\n",
       "      <th>ROM misc</th>\n",
       "      <th>RAM data</th>\n",
       "      <th>RAM zero-init data</th>\n",
       "      <th>Features</th>\n",
       "      <th>Config</th>\n",
       "      <th>Postprocesses</th>\n",
       "      <th>Comment</th>\n",
       "    </tr>\n",
       "  </thead>\n",
       "  <tbody>\n",
       "    <tr>\n",
       "      <th>0</th>\n",
       "      <td>1</td>\n",
       "      <td>0</td>\n",
       "      <td>resnet</td>\n",
       "      <td>tflite</td>\n",
       "      <td>tvm</td>\n",
       "      <td>tvmaot</td>\n",
       "      <td>mlif</td>\n",
       "      <td>etiss_pulpino</td>\n",
       "      <td>82445446</td>\n",
       "      <td>78</td>\n",
       "      <td>...</td>\n",
       "      <td>124785</td>\n",
       "      <td>167456</td>\n",
       "      <td>65692</td>\n",
       "      <td>144</td>\n",
       "      <td>2485</td>\n",
       "      <td>122300</td>\n",
       "      <td>[]</td>\n",
       "      <td>{'tflite.use_inout_data': False, 'tflite.visua...</td>\n",
       "      <td>[]</td>\n",
       "      <td>-</td>\n",
       "    </tr>\n",
       "  </tbody>\n",
       "</table>\n",
       "<p>1 rows × 21 columns</p>\n",
       "</div>"
      ],
      "text/plain": [
       "   Session  Run   Model Frontend Framework Backend Platform         Target  \\\n",
       "0        1    0  resnet   tflite       tvm  tvmaot     mlif  etiss_pulpino   \n",
       "\n",
       "     Cycles  MIPS  ...  Total RAM  ROM read-only  ROM code  ROM misc  \\\n",
       "0  82445446    78  ...     124785         167456     65692       144   \n",
       "\n",
       "   RAM data  RAM zero-init data  Features  \\\n",
       "0      2485              122300        []   \n",
       "\n",
       "                                              Config Postprocesses Comment  \n",
       "0  {'tflite.use_inout_data': False, 'tflite.visua...            []       -  \n",
       "\n",
       "[1 rows x 21 columns]"
      ]
     },
     "execution_count": 12,
     "metadata": {},
     "output_type": "execute_result"
    }
   ],
   "source": [
    "tabularize_latest_report()"
   ]
  },
  {
   "cell_type": "markdown",
   "id": "c769e10e",
   "metadata": {},
   "source": [
    "The artifacts for every invocation of the MLonMCU flow can be found in directory inside the environment. Your can find the latest files like this:"
   ]
  },
  {
   "cell_type": "code",
   "execution_count": 15,
   "id": "6483d068",
   "metadata": {},
   "outputs": [],
   "source": [
    "# Install the `tree` package before running this cell!\n",
    "# !tree -L 3 $MLONMCU_HOME/temp/sessions/latest/"
   ]
  },
  {
   "cell_type": "markdown",
   "id": "857b4a47",
   "metadata": {},
   "source": [
    "However there is a more comfortable way to do this: `mlonmcu export`"
   ]
  },
  {
   "cell_type": "code",
   "execution_count": 16,
   "id": "a03858fa",
   "metadata": {},
   "outputs": [
    {
     "name": "stdout",
     "output_type": "stream",
     "text": [
      "INFO - Loading environment cache from file\n",
      "INFO - Successfully initialized cache\n",
      "INFO - Loading extensions.py (User)\n",
      "Creating directory: /tmp/some_directory\n",
      "Done\n"
     ]
    }
   ],
   "source": [
    "!mkdir -p /tmp/some_directory\n",
    "!mlonmcu export /tmp/some_directory --run -f # By default this exports the latest run of the latest session"
   ]
  },
  {
   "cell_type": "markdown",
   "id": "18969447",
   "metadata": {},
   "source": [
    "Check out `mlonmcu export --help` to learn learn how to get the most out of this command. There is also a utility called `mlonmcu cleanup` which helps to get rid of old files after exporting the useful ones."
   ]
  },
  {
   "cell_type": "markdown",
   "id": "d5ee098e",
   "metadata": {},
   "source": [
    "There exist multiple stages which can be processed. The subcommand passed to `mlonmcu flow` defines the stage where the flow should stop. If you are only interested in intermediate artifacts of the process, use one of the following:\n",
    "\n",
    "```\n",
    "mlonmcu flow load  # only process the model with the frontend\n",
    "mlonmcu flow build  # invoke the chosen backend to generate code\n",
    "mlonmcu flow compile  # (cross-)compile the code for the chosen target\n",
    "```\n",
    "\n",
    "Further commands are available to achive further behavior:\n",
    "\n",
    "```\n",
    "mlonmcu flow test  # use provided model-data to invoke the models comparing their outputs with a golden reference\n",
    "```"
   ]
  },
  {
   "cell_type": "markdown",
   "id": "48ce915e",
   "metadata": {},
   "source": [
    "**Explicitly specify the backend and target to use for the flow**"
   ]
  },
  {
   "cell_type": "code",
   "execution_count": 17,
   "id": "47621bbc",
   "metadata": {},
   "outputs": [
    {
     "name": "stdout",
     "output_type": "stream",
     "text": [
      "INFO - Loading environment cache from file\n",
      "INFO - Successfully initialized cache\n",
      "INFO - Loading extensions.py (User)\n",
      "INFO - [session-2]  Processing stage LOAD\n",
      "INFO - [session-2]  Processing stage BUILD\n",
      "INFO - [session-2]  Processing stage COMPILE\n",
      "INFO - [session-2]  Processing stage RUN\n",
      "INFO - All runs completed successfuly!\n",
      "INFO - Postprocessing session report\n",
      "INFO - [session-2] Done processing runs\n",
      "INFO - Report:\n",
      "   Session  Run       Model Frontend Framework Backend Platform    Target  Runtime [s]  Total ROM  Total RAM  ROM read-only  ROM code  ROM misc  RAM data  RAM zero-init data Features                                             Config Postprocesses Comment\n",
      "0        2    0  sine_model   tflite       tvm  tvmaot     mlif  host_x86     0.006793       6697        273           1504      3813      1380        25                 248       []  {'tflite.use_inout_data': False, 'tflite.visua...            []       -\n"
     ]
    }
   ],
   "source": [
    "!mlonmcu flow run sine_model --backend tvmaot --target host_x86"
   ]
  },
  {
   "cell_type": "markdown",
   "id": "b048c328",
   "metadata": {},
   "source": [
    "**Enable certain features for all defined runs**"
   ]
  },
  {
   "cell_type": "code",
   "execution_count": 18,
   "id": "4dcda1a6",
   "metadata": {},
   "outputs": [
    {
     "name": "stdout",
     "output_type": "stream",
     "text": [
      "INFO - Loading environment cache from file\n",
      "INFO - Successfully initialized cache\n",
      "INFO - Loading extensions.py (User)\n",
      "INFO - [session-3]  Processing stage LOAD\n",
      "INFO - [session-3]  Processing stage BUILD\n",
      "INFO - [session-3]  Processing stage COMPILE\n",
      "INFO - [session-3]  Processing stage RUN\n",
      "INFO - All runs completed successfuly!\n",
      "INFO - Postprocessing session report\n",
      "INFO - [session-3] Done processing runs\n",
      "INFO - Report:\n",
      "   Session  Run   Model Frontend Framework Backend Platform         Target  Cycles  MIPS  Total ROM  Total RAM  ROM read-only  ROM code  ROM misc  RAM data  RAM zero-init data        Features                                             Config Postprocesses Comment\n",
      "0        3    0  toycar   tflite       tvm  tvmaot     mlif  etiss_pulpino  956456     3     598424       5837         538216     60064       144      2493                3344  [unpacked_api]  {'tflite.use_inout_data': False, 'tflite.visua...            []       -\n"
     ]
    }
   ],
   "source": [
    "!mlonmcu flow run toycar --backend tvmaot --target etiss_pulpino --feature unpacked_api"
   ]
  },
  {
   "cell_type": "markdown",
   "id": "c539c1bb",
   "metadata": {},
   "source": [
    "**Add additional configuration options to customize internal components**"
   ]
  },
  {
   "cell_type": "code",
   "execution_count": 19,
   "id": "61835423",
   "metadata": {},
   "outputs": [
    {
     "name": "stdout",
     "output_type": "stream",
     "text": [
      "INFO - Loading environment cache from file\n",
      "INFO - Successfully initialized cache\n",
      "INFO - Loading extensions.py (User)\n",
      "INFO - [session-4]  Processing stage LOAD\n",
      "INFO - [session-4]  Processing stage BUILD\n",
      "INFO - [session-4]  Processing stage COMPILE\n",
      "INFO - [session-4]  Processing stage RUN\n",
      "INFO - All runs completed successfuly!\n",
      "INFO - Postprocessing session report\n",
      "INFO - [session-4] Done processing runs\n",
      "INFO - Report:\n",
      "   Session  Run   Model Frontend Framework Backend Platform         Target     Cycles  MIPS  Total ROM  Total RAM  ROM read-only  ROM code  ROM misc  RAM data  RAM zero-init data Features                                             Config Postprocesses Comment\n",
      "0        4    0  resnet   tflite       tvm  tvmaot     mlif  etiss_pulpino  109585361    71     245416     198321         168120     77152       144      2485              195836       []  {'tflite.use_inout_data': False, 'tflite.visua...            []       -\n"
     ]
    }
   ],
   "source": [
    "!mlonmcu flow run resnet --backend tvmaot --config tvmaot.target_device=arm_cpu"
   ]
  },
  {
   "cell_type": "markdown",
   "id": "40f38f8f",
   "metadata": {},
   "source": [
    "Instead of defining certain key-value pass on each command line, feel free to use the `vars:` property defined in the `environment.yml` to achieve the same result."
   ]
  },
  {
   "cell_type": "markdown",
   "id": "dde2adc5",
   "metadata": {},
   "source": [
    "**Invoke multiple models on multiple backends/targets**"
   ]
  },
  {
   "cell_type": "code",
   "execution_count": 20,
   "id": "acb86cc3",
   "metadata": {},
   "outputs": [
    {
     "name": "stdout",
     "output_type": "stream",
     "text": [
      "INFO - Loading environment cache from file\n",
      "INFO - Successfully initialized cache\n",
      "INFO - Loading extensions.py (User)\n",
      "INFO - [session-5]  Processing stage LOAD\n",
      "INFO - [session-5]  Processing stage BUILD\n",
      "INFO - [session-5]  Processing stage COMPILE\n",
      "INFO - [session-5]  Processing stage RUN\n",
      "INFO - All runs completed successfuly!\n",
      "INFO - Postprocessing session report\n",
      "INFO - [session-5] Done processing runs\n",
      "INFO - Report:\n",
      "   Session  Run   Model Frontend Framework Backend Platform         Target     Cycles  MIPS  Total ROM  Total RAM  ROM read-only  ROM code  ROM misc  RAM data  RAM zero-init data Features                                             Config Postprocesses Comment\n",
      "0        5    0  resnet   tflite       tvm  tvmaot     mlif  etiss_pulpino   82445446    95     233292     124785         167456     65692       144      2485              122300       []  {'tflite.use_inout_data': False, 'tflite.visua...            []       -\n",
      "1        5    1  resnet   tflite      tflm   tflmi     mlif  etiss_pulpino  154847506    93     198356      68613         102784     95424       148      2485               66128       []  {'tflite.use_inout_data': False, 'tflite.visua...            []       -\n",
      "2        5    2  toycar   tflite       tvm  tvmaot     mlif  etiss_pulpino     957312     3     600594       5837         538224     62226       144      2485                3352       []  {'tflite.use_inout_data': False, 'tflite.visua...            []       -\n",
      "3        5    3  toycar   tflite      tflm   tflmi     mlif  etiss_pulpino    3026331     8     349124      19249         280912     68064       148      2485               16764       []  {'tflite.use_inout_data': False, 'tflite.visua...            []       -\n",
      "\n",
      "real\t0m36.849s\n",
      "user\t9m8.806s\n",
      "sys\t0m43.597s\n"
     ]
    }
   ],
   "source": [
    "!time mlonmcu flow run resnet toycar --backend tvmaot --backend tflmi  --target etiss_pulpino"
   ]
  },
  {
   "cell_type": "markdown",
   "id": "a0a94aef",
   "metadata": {},
   "source": [
    "**Exploit parallelism to reduce the processing time**"
   ]
  },
  {
   "cell_type": "code",
   "execution_count": 21,
   "id": "a2cd60e3",
   "metadata": {},
   "outputs": [
    {
     "name": "stdout",
     "output_type": "stream",
     "text": [
      "INFO - Loading environment cache from file\n",
      "INFO - Successfully initialized cache\n",
      "INFO - Loading extensions.py (User)\n",
      "INFO - [session-6]  Processing stage LOAD\n",
      "INFO - [session-6]  Processing stage BUILD\n",
      "INFO - [session-6]  Processing stage COMPILE\n",
      "INFO - [session-6]  Processing stage RUN\n",
      "INFO - All runs completed successfuly!\n",
      "INFO - Postprocessing session report\n",
      "INFO - [session-6] Done processing runs\n",
      "INFO - Report:\n",
      "   Session  Run   Model Frontend Framework Backend Platform         Target     Cycles  MIPS  Total ROM  Total RAM  ROM read-only  ROM code  ROM misc  RAM data  RAM zero-init data Features                                             Config Postprocesses Comment\n",
      "0        6    0  resnet   tflite       tvm  tvmaot     mlif  etiss_pulpino   82445446    78     233292     124785         167456     65692       144      2485              122300       []  {'tflite.use_inout_data': False, 'tflite.visua...            []       -\n",
      "1        6    1  resnet   tflite      tflm   tflmi     mlif  etiss_pulpino  154847506    77     198356      68613         102784     95424       148      2485               66128       []  {'tflite.use_inout_data': False, 'tflite.visua...            []       -\n",
      "2        6    2  toycar   tflite       tvm  tvmaot     mlif  etiss_pulpino     957312     3     600594       5837         538224     62226       144      2485                3352       []  {'tflite.use_inout_data': False, 'tflite.visua...            []       -\n",
      "3        6    3  toycar   tflite      tflm   tflmi     mlif  etiss_pulpino    3026331     6     349124      19249         280912     68064       148      2485               16764       []  {'tflite.use_inout_data': False, 'tflite.visua...            []       -\n",
      "\n",
      "real\t1m31.527s\n",
      "user\t5m17.817s\n",
      "sys\t0m30.534s\n"
     ]
    }
   ],
   "source": [
    "!time mlonmcu flow run resnet toycar --backend tvmaot --backend tflmi --target etiss_pulpino --parallel --config runs_per_stage=0 --config mlif.num_threads=2"
   ]
  },
  {
   "cell_type": "markdown",
   "id": "35b41326",
   "metadata": {},
   "source": [
    "**Display progress information for long-running benchmarks**"
   ]
  },
  {
   "cell_type": "markdown",
   "id": "eb4df598",
   "metadata": {},
   "source": [
    "**WARNING:** The progress output looks bit broken inside the Jupyter Notebook but should look fine on the command-line."
   ]
  },
  {
   "cell_type": "code",
   "execution_count": 22,
   "id": "6fe3057f",
   "metadata": {},
   "outputs": [
    {
     "name": "stdout",
     "output_type": "stream",
     "text": [
      "INFO - Loading environment cache from file\n",
      "INFO - Successfully initialized cache\n",
      "INFO - Loading extensions.py (User)\n",
      "Processing stages:   0%|                                                              | 0/4 [00:00s]\n",
      "Processing stage LOAD:   0%|                                                         | 0/12 [00:00s]\u001b[A\n",
      "Processing stage LOAD:  17%|█████████▌                                               | 2/12 [00:00s]\u001b[A\n",
      "Processing stages:  25%|███████████████▌                                              | 1/4 [00:00s]\u001b[A\n",
      "Processing stage BUILD:   0%|                                                        | 0/12 [00:00s]\u001b[A\n",
      "Processing stage BUILD:   8%|████▋                                                   | 1/12 [00:00s]\u001b[A\n",
      "Processing stage BUILD:  42%|███████████████████████▎                                | 5/12 [00:00s]\u001b[A\n",
      "Processing stage BUILD:  67%|█████████████████████████████████████▎                  | 8/12 [00:03s]\u001b[A\n",
      "Processing stage BUILD:  83%|█████████████████████████████████████████████▊         | 10/12 [00:04s]\u001b[A\n",
      "Processing stage BUILD:  92%|██████████████████████████████████████████████████▍    | 11/12 [00:07s]\u001b[A\n",
      "Processing stage BUILD: 100%|███████████████████████████████████████████████████████| 12/12 [00:07s]\u001b[A\n",
      "Processing stages:  50%|███████████████████████████████                               | 2/4 [00:08s]\u001b[A\n",
      "Processing stage COMPILE:   0%|                                                      | 0/12 [00:00s]\u001b[A\n",
      "Processing stage COMPILE:   8%|████▌                                                 | 1/12 [00:01s]\u001b[A\n",
      "Processing stage COMPILE:  17%|█████████                                             | 2/12 [00:01s]\u001b[A\n",
      "Processing stage COMPILE:  25%|█████████████▌                                        | 3/12 [00:02s]\u001b[A\n",
      "Processing stage COMPILE:  42%|██████████████████████▌                               | 5/12 [00:02s]\u001b[A\n",
      "Processing stage COMPILE:  50%|███████████████████████████                           | 6/12 [00:02s]\u001b[A\n",
      "Processing stage COMPILE:  58%|███████████████████████████████▌                      | 7/12 [01:25s]\u001b[A\n",
      "Processing stage COMPILE:  67%|████████████████████████████████████                  | 8/12 [01:26s]\u001b[A\n",
      "Processing stage COMPILE:  75%|████████████████████████████████████████▌             | 9/12 [01:26s]\u001b[A\n",
      "Processing stage COMPILE:  83%|████████████████████████████████████████████▏        | 10/12 [01:33s]\u001b[A\n",
      "Processing stage COMPILE:  92%|████████████████████████████████████████████████▌    | 11/12 [01:34s]\u001b[A\n",
      "Processing stages:  75%|██████████████████████████████████████████████▌               | 3/4 [01:42s]\u001b[A\n",
      "Processing stage RUN:   0%|                                                          | 0/12 [00:00s]\u001b[A\n",
      "Processing stage RUN:   8%|████▊                                                     | 1/12 [00:00s]\u001b[A\n",
      "Processing stage RUN:  58%|█████████████████████████████████▊                        | 7/12 [00:00s]\u001b[A\n",
      "Processing stage RUN:  75%|███████████████████████████████████████████▌              | 9/12 [00:00s]\u001b[A\n",
      "Processing stage RUN:  92%|████████████████████████████████████████████████████▎    | 11/12 [00:01s]\u001b[A\n",
      "Processing stages: 100%|██████████████████████████████████████████████████████████████| 4/4 [01:44s]\u001b[A\n",
      "INFO - All runs completed successfuly!\n",
      "INFO - Postprocessing session report\n",
      "INFO - [session-7] Done processing runs\n",
      "INFO - Report:\n",
      "    Session  Run         Model Frontend Framework Backend Platform         Target       Cycles  MIPS  Total ROM  Total RAM  ROM read-only  ROM code  ROM misc  RAM data  RAM zero-init data  Runtime [s] Features                                             Config Postprocesses Comment\n",
      "0         7    0        resnet   tflite       tvm  tvmaot     mlif  etiss_pulpino   82445446.0  78.0     233292     124785         167456     65692       144      2485              122300          NaN       []  {'tflite.use_inout_data': False, 'tflite.visua...            []       -\n",
      "1         7    1        resnet   tflite      tflm   tflmi     mlif  etiss_pulpino  154847506.0  80.0     198356      68613         102784     95424       148      2485               66128          NaN       []  {'tflite.use_inout_data': False, 'tflite.visua...            []       -\n",
      "2         7    2        resnet   tflite       tvm  tvmaot     mlif       host_x86          NaN   NaN     187825     122321         164640     20933      2252        25              122296     0.037227       []  {'tflite.use_inout_data': False, 'tflite.visua...            []       -\n",
      "3         7    3        resnet   tflite      tflm   tflmi     mlif       host_x86          NaN   NaN     185577      66561          99512     74677     11388        17               66544     0.030765       []  {'tflite.use_inout_data': False, 'tflite.visua...            []       -\n",
      "4         7    4        toycar   tflite       tvm  tvmaot     mlif  etiss_pulpino     957312.0   3.0     600594       5837         538224     62226       144      2485                3352          NaN       []  {'tflite.use_inout_data': False, 'tflite.visua...            []       -\n",
      "5         7    5        toycar   tflite      tflm   tflmi     mlif  etiss_pulpino    3026331.0   7.0     349124      19249         280912     68064       148      2485               16764          NaN       []  {'tflite.use_inout_data': False, 'tflite.visua...            []       -\n",
      "6         7    6        toycar   tflite       tvm  tvmaot     mlif       host_x86          NaN   NaN     582953       3345         535360     45365      2228        25                3320     0.035795       []  {'tflite.use_inout_data': False, 'tflite.visua...            []       -\n",
      "7         7    7        toycar   tflite      tflm   tflmi     mlif       host_x86          NaN   NaN     316049      16985         277672     30101      8276        17               16968     0.012690       []  {'tflite.use_inout_data': False, 'tflite.visua...            []       -\n",
      "8         7    8  micro_speech   tflite       tvm  tvmaot     mlif  etiss_pulpino    1685426.0   7.0      90960      21925          36792     54024       144      2485               19440          NaN       []  {'tflite.use_inout_data': False, 'tflite.visua...            []       -\n",
      "9         7    9  micro_speech   tflite      tflm   tflmi     mlif  etiss_pulpino    6506034.0  11.0     110236      11229          22968     87120       148      2485                8744          NaN       []  {'tflite.use_inout_data': False, 'tflite.visua...            []       -\n",
      "10        7   10  micro_speech   tflite       tvm  tvmaot     mlif       host_x86          NaN   NaN      41953      19489          33904      6517      1532        25               19464     0.021336       []  {'tflite.use_inout_data': False, 'tflite.visua...            []       -\n",
      "11        7   11  micro_speech   tflite      tflm   tflmi     mlif       host_x86          NaN   NaN      91225       9121          19608     61029     10588        17                9104     0.017746       []  {'tflite.use_inout_data': False, 'tflite.visua...            []       -\n"
     ]
    }
   ],
   "source": [
    "!mlonmcu flow run resnet toycar micro_speech --progress --backend tvmaot --backend tflmi --target etiss_pulpino --target host_x86 --parallel --config mlif.num_threads=2"
   ]
  },
  {
   "cell_type": "markdown",
   "id": "0f7d4429",
   "metadata": {},
   "source": [
    "**Inspecting and exporting results and intermediate artifacts**"
   ]
  },
  {
   "cell_type": "code",
   "execution_count": 23,
   "id": "19f7a6d6",
   "metadata": {},
   "outputs": [],
   "source": [
    "# !mlonmcu export --session 0 --run 0 run.zip  # Export run 0 from session 0 to a zip archive \n",
    "# !mlonmcu export --session 1 session.zip  # Export every run of session 1 to a zip archive\n",
    "# !mlonmcu export session/  # Export the latest session to a directory"
   ]
  },
  {
   "cell_type": "markdown",
   "id": "9772e9f6",
   "metadata": {},
   "source": [
    "**Cleanup an MLonMCU environment**"
   ]
  },
  {
   "cell_type": "code",
   "execution_count": 24,
   "id": "879eb342",
   "metadata": {},
   "outputs": [],
   "source": [
    "# !mlonmcu cleanup  # Interactively clean sessions\n",
    "# !mlonmcu cleanup --force  # Clean all sessions\n",
    "# !mlonmcu cleanup --keep 10 --force  # Keep only the latest 10 sessions\n",
    "# !mlonmcu cleanup --dependencies  # Remove every installed dependency"
   ]
  },
  {
   "cell_type": "markdown",
   "id": "56b328e0",
   "metadata": {},
   "source": [
    "**Internal command line interfaces**"
   ]
  },
  {
   "cell_type": "code",
   "execution_count": 29,
   "id": "f941fdec",
   "metadata": {},
   "outputs": [
    {
     "name": "stdout",
     "output_type": "stream",
     "text": [
      "/usr/lib/python3.8/runpy.py:127: RuntimeWarning: 'mlonmcu.target.riscv.etiss_pulpino' found in sys.modules after import of package 'mlonmcu.target.riscv', but prior to execution of 'mlonmcu.target.riscv.etiss_pulpino'; this may result in unpredictable behaviour\r\n",
      "  warn(RuntimeWarning(msg))\r\n",
      "usage: etiss_pulpino.py [-h] {exec,inspect} ...\r\n",
      "\r\n",
      "ML on MCU Target\r\n",
      "\r\n",
      "positional arguments:\r\n",
      "  {exec,inspect}\r\n",
      "\r\n",
      "optional arguments:\r\n",
      "  -h, --help      show this help message and exit\r\n"
     ]
    }
   ],
   "source": [
    "!python -m mlonmcu.target.riscv.etiss_pulpino -h"
   ]
  },
  {
   "cell_type": "code",
   "execution_count": 30,
   "id": "cae7f54a",
   "metadata": {},
   "outputs": [
    {
     "name": "stdout",
     "output_type": "stream",
     "text": [
      "/usr/lib/python3.8/runpy.py:127: RuntimeWarning: 'mlonmcu.flow.tvm.backend.tvmaot' found in sys.modules after import of package 'mlonmcu.flow.tvm.backend', but prior to execution of 'mlonmcu.flow.tvm.backend.tvmaot'; this may result in unpredictable behaviour\r\n",
      "  warn(RuntimeWarning(msg))\r\n",
      "usage: tvmaot.py [-h] [--output DIR] [--verbose] [--print] [-f FEATURE]\r\n",
      "                 [-c KEY=VALUE [KEY=VALUE ...]]\r\n",
      "                 MODEL\r\n",
      "\r\n",
      "Run tvmaot backend\r\n",
      "\r\n",
      "positional arguments:\r\n",
      "  MODEL                 Model to process\r\n",
      "\r\n",
      "optional arguments:\r\n",
      "  -h, --help            show this help message and exit\r\n",
      "  --output DIR, -o DIR  Output directory/file (default: /var/tmp/ga87puy/mlonmcu/mlonmcu/ipynb/out)\r\n",
      "  --verbose, -v         Print detailed messages for easier debugging (default: False)\r\n",
      "  --print, -p           Print the generated code to the command line instead (default: False)\r\n",
      "  -f FEATURE, --feature FEATURE\r\n",
      "                        Enabled features for the backend (default: None choices: autotuned, cmsisnnbyoc, muriscvnnbyoc, disable_legalize, moiopt, debug_arena, unpacked_api, usmp)\r\n",
      "  -c KEY=VALUE [KEY=VALUE ...], --config KEY=VALUE [KEY=VALUE ...]\r\n",
      "                        Set a number of key-value pairs\r\n",
      "                        \r\n",
      "                        Allowed options:\r\n",
      "                        - [tvmaot].print_outputs (Default: False)\r\n",
      "                        - [tvmaot].opt_level (Default: 3)\r\n",
      "                        - [tvmaot].target_device (Default: None)\r\n",
      "                        - [tvmaot].target_mcpu (Default: None)\r\n",
      "                        - [tvmaot].target_march (Default: None)\r\n",
      "                        - [tvmaot].target_model (Default: None)\r\n",
      "                        - [tvmaot].target_mtriple (Default: None)\r\n",
      "                        - [tvmaot].target_mabi (Default: None)\r\n",
      "                        - [tvmaot].target_mattr (Default: None)\r\n",
      "                        - [tvmaot].extra_target (Default: None)\r\n",
      "                        - [tvmaot].extra_target_mcpu (Default: None)\r\n",
      "                        - [tvmaot].desired_layout (Default: None)\r\n",
      "                        - [tvmaot].disabled_passes (Default: [])\r\n",
      "                        - [tvmaot].extra_pass_config (Default: {})\r\n",
      "                        - [tvmaot].use_tuning_results (Default: False)\r\n",
      "                        - [tvmaot].tvmc_extra_args (Default: [])\r\n",
      "                        - [tvmaot].tvmc_custom_script (Default: None)\r\n",
      "                        - [tvmaot].tophub_url (Default: None)\r\n",
      "                        - [tvmaot].num_threads (Default: 64)\r\n",
      "                        - [tvmaot].debug_arena (Default: False)\r\n",
      "                        - [tvmaot].arena_size (Default: None)\r\n",
      "                        - [tvmaot].unpacked_api (Default: False)\r\n",
      "                        - [tvmaot].alignment_bytes (Default: 4)\r\n"
     ]
    }
   ],
   "source": [
    "!python -m mlonmcu.flow.tvm.backend.tvmaot -h"
   ]
  },
  {
   "cell_type": "markdown",
   "id": "c542489c",
   "metadata": {},
   "source": [
    "## Demonstration (Python API)"
   ]
  },
  {
   "cell_type": "markdown",
   "id": "05e8646f",
   "metadata": {},
   "source": [
    "### Preface"
   ]
  },
  {
   "cell_type": "markdown",
   "id": "665848cb",
   "metadata": {},
   "source": [
    "While it is also possible to initialize and setup an MLonMCU environment via Python, it is highly recommended to use the provided command line interfaces for these steps. The following examples demonstrate how to use the MLonMCU flow from within a Python program which enables more customizations of the internal features via scripting."
   ]
  },
  {
   "cell_type": "code",
   "execution_count": 31,
   "id": "6d4cc4f5",
   "metadata": {},
   "outputs": [
    {
     "name": "stdout",
     "output_type": "stream",
     "text": [
      "env: MLONMCU_HOME=/tmp/mlonmcu_env\n"
     ]
    }
   ],
   "source": [
    "%env MLONMCU_HOME=/tmp/mlonmcu_env"
   ]
  },
  {
   "cell_type": "markdown",
   "id": "cdc59158",
   "metadata": {},
   "source": [
    "### Open a MLonMCU context to load the environment"
   ]
  },
  {
   "cell_type": "code",
   "execution_count": 32,
   "id": "faae27e4",
   "metadata": {},
   "outputs": [
    {
     "name": "stdout",
     "output_type": "stream",
     "text": [
      "INFO - Loading environment cache from file\n",
      "INFO - Successfully initialized cache\n",
      "INFO - Loading extensions.py (User)\n"
     ]
    }
   ],
   "source": [
    "import mlonmcu.context\n",
    "\n",
    "with mlonmcu.context.MlonMcuContext() as context:\n",
    "    pass"
   ]
  },
  {
   "cell_type": "markdown",
   "id": "c6046d79",
   "metadata": {},
   "source": [
    "### Running the MLonMCU flow"
   ]
  },
  {
   "cell_type": "code",
   "execution_count": 33,
   "id": "98d6bb90",
   "metadata": {},
   "outputs": [
    {
     "name": "stdout",
     "output_type": "stream",
     "text": [
      "INFO - Loading environment cache from file\n",
      "INFO - Successfully initialized cache\n",
      "INFO - Loading extensions.py (User)\n",
      "INFO - [session-8] Processing all stages\n",
      "INFO - All runs completed successfuly!\n",
      "INFO - Postprocessing session report\n",
      "INFO - [session-8] Done processing runs\n"
     ]
    }
   ],
   "source": [
    "import mlonmcu.context\n",
    "from mlonmcu.session.run import RunStage\n",
    "\n",
    "MODEL_NAMES = [\"magic_wand\", \"micro_speech\", \"toycar\"]\n",
    "\n",
    "with mlonmcu.context.MlonMcuContext() as context:\n",
    "    session = context.create_session()\n",
    "    for model_name in MODEL_NAMES:\n",
    "        run = session.create_run(features=[], config={})\n",
    "        run.add_frontend_by_name(\"tflite\", context=context)\n",
    "        run.add_model_by_name(model_name, context=context)\n",
    "        run.add_backend_by_name(\"tvmaot\", context=context)\n",
    "        run.add_platform_by_name(\"mlif\", context=context)\n",
    "        run.add_target_by_name(\"etiss_pulpino\", context=context)\n",
    "    session.process_runs(until=RunStage.RUN, context=context)\n",
    "    report = session.get_reports()"
   ]
  },
  {
   "cell_type": "markdown",
   "id": "73795038",
   "metadata": {},
   "source": [
    "Now we have the dataframe of the run we just defined and right in out python environment so we can have more fun with it."
   ]
  },
  {
   "cell_type": "code",
   "execution_count": 34,
   "id": "8aa95a0b",
   "metadata": {},
   "outputs": [
    {
     "data": {
      "text/html": [
       "<div>\n",
       "<style scoped>\n",
       "    .dataframe tbody tr th:only-of-type {\n",
       "        vertical-align: middle;\n",
       "    }\n",
       "\n",
       "    .dataframe tbody tr th {\n",
       "        vertical-align: top;\n",
       "    }\n",
       "\n",
       "    .dataframe thead th {\n",
       "        text-align: right;\n",
       "    }\n",
       "</style>\n",
       "<table border=\"1\" class=\"dataframe\">\n",
       "  <thead>\n",
       "    <tr style=\"text-align: right;\">\n",
       "      <th></th>\n",
       "      <th>Session</th>\n",
       "      <th>Run</th>\n",
       "      <th>Model</th>\n",
       "      <th>Frontend</th>\n",
       "      <th>Framework</th>\n",
       "      <th>Backend</th>\n",
       "      <th>Platform</th>\n",
       "      <th>Target</th>\n",
       "      <th>Cycles</th>\n",
       "      <th>MIPS</th>\n",
       "      <th>Total ROM</th>\n",
       "      <th>Total RAM</th>\n",
       "      <th>ROM read-only</th>\n",
       "      <th>ROM code</th>\n",
       "      <th>ROM misc</th>\n",
       "      <th>RAM data</th>\n",
       "      <th>RAM zero-init data</th>\n",
       "      <th>Features</th>\n",
       "      <th>Config</th>\n",
       "      <th>Postprocesses</th>\n",
       "      <th>Comment</th>\n",
       "    </tr>\n",
       "  </thead>\n",
       "  <tbody>\n",
       "    <tr>\n",
       "      <th>0</th>\n",
       "      <td>8</td>\n",
       "      <td>0</td>\n",
       "      <td>magic_wand</td>\n",
       "      <td>tflite</td>\n",
       "      <td>tvm</td>\n",
       "      <td>tvmaot</td>\n",
       "      <td>mlif</td>\n",
       "      <td>etiss_pulpino</td>\n",
       "      <td>278386</td>\n",
       "      <td>1</td>\n",
       "      <td>75610</td>\n",
       "      <td>20489</td>\n",
       "      <td>20464</td>\n",
       "      <td>55002</td>\n",
       "      <td>144</td>\n",
       "      <td>2485</td>\n",
       "      <td>18004</td>\n",
       "      <td>[]</td>\n",
       "      <td>{'tflite.use_inout_data': False, 'tflite.visua...</td>\n",
       "      <td>[]</td>\n",
       "      <td>-</td>\n",
       "    </tr>\n",
       "    <tr>\n",
       "      <th>1</th>\n",
       "      <td>8</td>\n",
       "      <td>1</td>\n",
       "      <td>micro_speech</td>\n",
       "      <td>tflite</td>\n",
       "      <td>tvm</td>\n",
       "      <td>tvmaot</td>\n",
       "      <td>mlif</td>\n",
       "      <td>etiss_pulpino</td>\n",
       "      <td>1685426</td>\n",
       "      <td>7</td>\n",
       "      <td>90960</td>\n",
       "      <td>21925</td>\n",
       "      <td>36792</td>\n",
       "      <td>54024</td>\n",
       "      <td>144</td>\n",
       "      <td>2485</td>\n",
       "      <td>19440</td>\n",
       "      <td>[]</td>\n",
       "      <td>{'tflite.use_inout_data': False, 'tflite.visua...</td>\n",
       "      <td>[]</td>\n",
       "      <td>-</td>\n",
       "    </tr>\n",
       "    <tr>\n",
       "      <th>2</th>\n",
       "      <td>8</td>\n",
       "      <td>2</td>\n",
       "      <td>toycar</td>\n",
       "      <td>tflite</td>\n",
       "      <td>tvm</td>\n",
       "      <td>tvmaot</td>\n",
       "      <td>mlif</td>\n",
       "      <td>etiss_pulpino</td>\n",
       "      <td>957312</td>\n",
       "      <td>3</td>\n",
       "      <td>600594</td>\n",
       "      <td>5837</td>\n",
       "      <td>538224</td>\n",
       "      <td>62226</td>\n",
       "      <td>144</td>\n",
       "      <td>2485</td>\n",
       "      <td>3352</td>\n",
       "      <td>[]</td>\n",
       "      <td>{'tflite.use_inout_data': False, 'tflite.visua...</td>\n",
       "      <td>[]</td>\n",
       "      <td>-</td>\n",
       "    </tr>\n",
       "  </tbody>\n",
       "</table>\n",
       "</div>"
      ],
      "text/plain": [
       "   Session  Run         Model Frontend Framework Backend Platform  \\\n",
       "0        8    0    magic_wand   tflite       tvm  tvmaot     mlif   \n",
       "1        8    1  micro_speech   tflite       tvm  tvmaot     mlif   \n",
       "2        8    2        toycar   tflite       tvm  tvmaot     mlif   \n",
       "\n",
       "          Target   Cycles  MIPS  Total ROM  Total RAM  ROM read-only  \\\n",
       "0  etiss_pulpino   278386     1      75610      20489          20464   \n",
       "1  etiss_pulpino  1685426     7      90960      21925          36792   \n",
       "2  etiss_pulpino   957312     3     600594       5837         538224   \n",
       "\n",
       "   ROM code  ROM misc  RAM data  RAM zero-init data Features  \\\n",
       "0     55002       144      2485               18004       []   \n",
       "1     54024       144      2485               19440       []   \n",
       "2     62226       144      2485                3352       []   \n",
       "\n",
       "                                              Config Postprocesses Comment  \n",
       "0  {'tflite.use_inout_data': False, 'tflite.visua...            []       -  \n",
       "1  {'tflite.use_inout_data': False, 'tflite.visua...            []       -  \n",
       "2  {'tflite.use_inout_data': False, 'tflite.visua...            []       -  "
      ]
     },
     "execution_count": 34,
     "metadata": {},
     "output_type": "execute_result"
    }
   ],
   "source": [
    "report.df"
   ]
  },
  {
   "cell_type": "markdown",
   "id": "c437f1cf",
   "metadata": {},
   "source": [
    "Let's add a quick visualization:"
   ]
  },
  {
   "cell_type": "code",
   "execution_count": 35,
   "id": "d9eb1414",
   "metadata": {},
   "outputs": [
    {
     "ename": "KeyError",
     "evalue": "\"None of [Index(['Total Cycles'], dtype='object')] are in the [columns]\"",
     "output_type": "error",
     "traceback": [
      "\u001b[0;31m---------------------------------------------------------------------------\u001b[0m",
      "\u001b[0;31mKeyError\u001b[0m                                  Traceback (most recent call last)",
      "Cell \u001b[0;32mIn[35], line 10\u001b[0m\n\u001b[1;32m      6\u001b[0m plt\u001b[38;5;241m.\u001b[39mrcParams[\u001b[38;5;124m\"\u001b[39m\u001b[38;5;124mfigure.figsize\u001b[39m\u001b[38;5;124m\"\u001b[39m] \u001b[38;5;241m=\u001b[39m (\u001b[38;5;241m15\u001b[39m, \u001b[38;5;241m3\u001b[39m) \u001b[38;5;66;03m# (w, h)\u001b[39;00m\n\u001b[1;32m      9\u001b[0m \u001b[38;5;28;01mfor\u001b[39;00m i, col \u001b[38;5;129;01min\u001b[39;00m \u001b[38;5;28menumerate\u001b[39m(COLS):\n\u001b[0;32m---> 10\u001b[0m     new_df \u001b[38;5;241m=\u001b[39m \u001b[43mreport\u001b[49m\u001b[38;5;241;43m.\u001b[39;49m\u001b[43mdf\u001b[49m\u001b[43m[\u001b[49m\u001b[43m[\u001b[49m\u001b[43mcol\u001b[49m\u001b[43m]\u001b[49m\u001b[43m]\u001b[49m\u001b[38;5;241m.\u001b[39mastype(\u001b[38;5;28mfloat\u001b[39m)\n\u001b[1;32m     11\u001b[0m     new_df\u001b[38;5;241m.\u001b[39mindex \u001b[38;5;241m=\u001b[39m MODEL_NAMES\n\u001b[1;32m     12\u001b[0m     new_df\u001b[38;5;241m.\u001b[39mplot(kind\u001b[38;5;241m=\u001b[39m\u001b[38;5;124m\"\u001b[39m\u001b[38;5;124mbar\u001b[39m\u001b[38;5;124m\"\u001b[39m, ax\u001b[38;5;241m=\u001b[39maxes[i])\n",
      "File \u001b[0;32m/var/tmp/ga87puy/mlonmcu/mlonmcu/venv/lib/python3.8/site-packages/pandas-1.5.3-py3.8-linux-x86_64.egg/pandas/core/frame.py:3813\u001b[0m, in \u001b[0;36mDataFrame.__getitem__\u001b[0;34m(self, key)\u001b[0m\n\u001b[1;32m   3811\u001b[0m     \u001b[38;5;28;01mif\u001b[39;00m is_iterator(key):\n\u001b[1;32m   3812\u001b[0m         key \u001b[38;5;241m=\u001b[39m \u001b[38;5;28mlist\u001b[39m(key)\n\u001b[0;32m-> 3813\u001b[0m     indexer \u001b[38;5;241m=\u001b[39m \u001b[38;5;28;43mself\u001b[39;49m\u001b[38;5;241;43m.\u001b[39;49m\u001b[43mcolumns\u001b[49m\u001b[38;5;241;43m.\u001b[39;49m\u001b[43m_get_indexer_strict\u001b[49m\u001b[43m(\u001b[49m\u001b[43mkey\u001b[49m\u001b[43m,\u001b[49m\u001b[43m \u001b[49m\u001b[38;5;124;43m\"\u001b[39;49m\u001b[38;5;124;43mcolumns\u001b[39;49m\u001b[38;5;124;43m\"\u001b[39;49m\u001b[43m)\u001b[49m[\u001b[38;5;241m1\u001b[39m]\n\u001b[1;32m   3815\u001b[0m \u001b[38;5;66;03m# take() does not accept boolean indexers\u001b[39;00m\n\u001b[1;32m   3816\u001b[0m \u001b[38;5;28;01mif\u001b[39;00m \u001b[38;5;28mgetattr\u001b[39m(indexer, \u001b[38;5;124m\"\u001b[39m\u001b[38;5;124mdtype\u001b[39m\u001b[38;5;124m\"\u001b[39m, \u001b[38;5;28;01mNone\u001b[39;00m) \u001b[38;5;241m==\u001b[39m \u001b[38;5;28mbool\u001b[39m:\n",
      "File \u001b[0;32m/var/tmp/ga87puy/mlonmcu/mlonmcu/venv/lib/python3.8/site-packages/pandas-1.5.3-py3.8-linux-x86_64.egg/pandas/core/indexes/base.py:6070\u001b[0m, in \u001b[0;36mIndex._get_indexer_strict\u001b[0;34m(self, key, axis_name)\u001b[0m\n\u001b[1;32m   6067\u001b[0m \u001b[38;5;28;01melse\u001b[39;00m:\n\u001b[1;32m   6068\u001b[0m     keyarr, indexer, new_indexer \u001b[38;5;241m=\u001b[39m \u001b[38;5;28mself\u001b[39m\u001b[38;5;241m.\u001b[39m_reindex_non_unique(keyarr)\n\u001b[0;32m-> 6070\u001b[0m \u001b[38;5;28;43mself\u001b[39;49m\u001b[38;5;241;43m.\u001b[39;49m\u001b[43m_raise_if_missing\u001b[49m\u001b[43m(\u001b[49m\u001b[43mkeyarr\u001b[49m\u001b[43m,\u001b[49m\u001b[43m \u001b[49m\u001b[43mindexer\u001b[49m\u001b[43m,\u001b[49m\u001b[43m \u001b[49m\u001b[43maxis_name\u001b[49m\u001b[43m)\u001b[49m\n\u001b[1;32m   6072\u001b[0m keyarr \u001b[38;5;241m=\u001b[39m \u001b[38;5;28mself\u001b[39m\u001b[38;5;241m.\u001b[39mtake(indexer)\n\u001b[1;32m   6073\u001b[0m \u001b[38;5;28;01mif\u001b[39;00m \u001b[38;5;28misinstance\u001b[39m(key, Index):\n\u001b[1;32m   6074\u001b[0m     \u001b[38;5;66;03m# GH 42790 - Preserve name from an Index\u001b[39;00m\n",
      "File \u001b[0;32m/var/tmp/ga87puy/mlonmcu/mlonmcu/venv/lib/python3.8/site-packages/pandas-1.5.3-py3.8-linux-x86_64.egg/pandas/core/indexes/base.py:6130\u001b[0m, in \u001b[0;36mIndex._raise_if_missing\u001b[0;34m(self, key, indexer, axis_name)\u001b[0m\n\u001b[1;32m   6128\u001b[0m     \u001b[38;5;28;01mif\u001b[39;00m use_interval_msg:\n\u001b[1;32m   6129\u001b[0m         key \u001b[38;5;241m=\u001b[39m \u001b[38;5;28mlist\u001b[39m(key)\n\u001b[0;32m-> 6130\u001b[0m     \u001b[38;5;28;01mraise\u001b[39;00m \u001b[38;5;167;01mKeyError\u001b[39;00m(\u001b[38;5;124mf\u001b[39m\u001b[38;5;124m\"\u001b[39m\u001b[38;5;124mNone of [\u001b[39m\u001b[38;5;132;01m{\u001b[39;00mkey\u001b[38;5;132;01m}\u001b[39;00m\u001b[38;5;124m] are in the [\u001b[39m\u001b[38;5;132;01m{\u001b[39;00maxis_name\u001b[38;5;132;01m}\u001b[39;00m\u001b[38;5;124m]\u001b[39m\u001b[38;5;124m\"\u001b[39m)\n\u001b[1;32m   6132\u001b[0m not_found \u001b[38;5;241m=\u001b[39m \u001b[38;5;28mlist\u001b[39m(ensure_index(key)[missing_mask\u001b[38;5;241m.\u001b[39mnonzero()[\u001b[38;5;241m0\u001b[39m]]\u001b[38;5;241m.\u001b[39munique())\n\u001b[1;32m   6133\u001b[0m \u001b[38;5;28;01mraise\u001b[39;00m \u001b[38;5;167;01mKeyError\u001b[39;00m(\u001b[38;5;124mf\u001b[39m\u001b[38;5;124m\"\u001b[39m\u001b[38;5;132;01m{\u001b[39;00mnot_found\u001b[38;5;132;01m}\u001b[39;00m\u001b[38;5;124m not in index\u001b[39m\u001b[38;5;124m\"\u001b[39m)\n",
      "\u001b[0;31mKeyError\u001b[0m: \"None of [Index(['Total Cycles'], dtype='object')] are in the [columns]\""
     ]
    },
    {
     "data": {
      "image/png": "[encoded data removed]",
      "text/plain": [
       "<Figure size 640x480 with 3 Axes>"
      ]
     },
     "metadata": {},
     "output_type": "display_data"
    }
   ],
   "source": [
    "import matplotlib.pyplot as plt\n",
    "\n",
    "COLS = [\"Cycles\", \"Total ROM\", \"Total RAM\"]\n",
    "\n",
    "fig, axes = plt.subplots(ncols=len(COLS))\n",
    "plt.rcParams[\"figure.figsize\"] = (15, 3) # (w, h)\n",
    "\n",
    "\n",
    "for i, col in enumerate(COLS):\n",
    "    new_df = report.df[[col]].astype(float)\n",
    "    new_df.index = MODEL_NAMES\n",
    "    new_df.plot(kind=\"bar\", ax=axes[i])"
   ]
  }
 ],
 "metadata": {
  "kernelspec": {
   "display_name": "Python 3 (ipykernel)",
   "language": "python",
   "name": "python3"
  },
  "language_info": {
   "codemirror_mode": {
    "name": "ipython",
    "version": 3
   },
   "file_extension": ".py",
   "mimetype": "text/x-python",
   "name": "python",
   "nbconvert_exporter": "python",
   "pygments_lexer": "ipython3",
   "version": "3.8.10"
  }
 },
 "nbformat": 4,
 "nbformat_minor": 5
}
