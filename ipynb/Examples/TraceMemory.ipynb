{
 "cells": [
  {
   "attachments": {},
   "cell_type": "markdown",
   "id": "67a623c3",
   "metadata": {},
   "source": [
    "# Example: Memory Tracing for detailed dyn. Memory Estimations using ETISS"
   ]
  },
  {
   "cell_type": "markdown",
   "id": "1025ee11",
   "metadata": {},
   "source": [
    "When measuring RAM usage of a program we can differentiate between two different classes:\n",
    "- Static RAM usage (known after compilation/linking)\n",
    "- Dynamic RAM usage (e.g. max. Heap/Stack utilization)\n",
    "\n",
    "In the following an example is shown on how to use the `trace` feature of the `etiss_pulpino` target to measure the dynamic RAM usage in addition to the static usage for a simple benchmark."
   ]
  },
  {
   "cell_type": "markdown",
   "id": "87fd1387",
   "metadata": {},
   "source": [
    "## Supported components"
   ]
  },
  {
   "cell_type": "markdown",
   "id": "584a911d",
   "metadata": {},
   "source": [
    "**Models:** Any (`sine_model` used below)\n",
    "\n",
    "**Frontends:** Any (`tflite` used below)\n",
    "\n",
    "**Frameworks/Backends:** Any (`tvmaotplus` and `tvmrt` used below)\n",
    "\n",
    "**Platforms/Targets:** `etiss_pulpino` only"
   ]
  },
  {
   "cell_type": "markdown",
   "id": "74ce776e",
   "metadata": {},
   "source": [
    "## Prerequisites"
   ]
  },
  {
   "cell_type": "markdown",
   "id": "18955525",
   "metadata": {},
   "source": [
    "Set up MLonmCU as usual, i.e. initializa an environment and install all required dependencies. Feel free to use the following minimal `environment.yml.j2` template:"
   ]
  },
  {
   "cell_type": "markdown",
   "id": "51eb8539",
   "metadata": {},
   "source": [
    "```yaml\n",
    "---\n",
    "TODO\n",
    "```"
   ]
  },
  {
   "cell_type": "markdown",
   "id": "4d140308",
   "metadata": {},
   "source": [
    "Do not forget to set your `MLONMCU_HOME` environment variable first if not using the default location!"
   ]
  },
  {
   "cell_type": "markdown",
   "id": "a3bac781",
   "metadata": {},
   "source": [
    "## Usage"
   ]
  },
  {
   "cell_type": "markdown",
   "id": "1352b362",
   "metadata": {},
   "source": [
    "*Warning:* Since memory tracing involves writing a log of every single memory access to disk, this might drastically slow down the execution time as well as write a lot of data to your disk. (For larger models this might exceed 10GB per inference!)"
   ]
  },
  {
   "cell_type": "markdown",
   "id": "f01b54e2",
   "metadata": {},
   "source": [
    "### A) Command Line Interface"
   ]
  },
  {
   "cell_type": "markdown",
   "id": "2b333851",
   "metadata": {},
   "source": [
    "As an example, let's compare `tvmaotplus` (MicroTVM lightweight Ahead-of-Time runtime) with `tvmrt` (MicroTVMs legacy graph runtime).\n",
    "\n",
    "To use the `trace` feature, just add `--feature trace` to the command line:"
   ]
  },
  {
   "cell_type": "code",
   "execution_count": 1,
   "id": "43576c35",
   "metadata": {},
   "outputs": [
    {
     "name": "stdout",
     "output_type": "stream",
     "text": [
      "INFO - Loading environment cache from file\n",
      "INFO - Successfully initialized cache\n",
      "INFO - Loading extensions.py (User)\n",
      "INFO - [session-270]  Processing stage LOAD\n",
      "INFO - [session-270]  Processing stage BUILD\n",
      "INFO - [session-270]  Processing stage COMPILE\n",
      "INFO - [session-270]  Processing stage RUN\n",
      "INFO - All runs completed successfuly!\n",
      "INFO - Postprocessing session report\n",
      "INFO - [session-270] Done processing runs\n",
      "INFO - Report:\n",
      "   Session  Run       Model Frontend Framework Backend Platform         Target  Cycles  MIPS  Total ROM  Total RAM  ROM read-only  ROM code  ROM misc  RAM data  RAM zero-init data  RAM stack  RAM heap Features                                             Config Postprocesses Comment\n",
      "0      270    0  sine_model   tflite       tvm  tvmaot     mlif  etiss_pulpino    1522     0      56662       4513           4432     52086       144      2485                 268        720      1040  [trace]  {'tflite.use_inout_data': False, 'tflite.visua...            []       -\n"
     ]
    }
   ],
   "source": [
    "!mlonmcu flow run sine_model --backend tvmaotplus --backend tvmrt --target etiss_pulpino --feature trace"
   ]
  },
  {
   "cell_type": "markdown",
   "id": "5ccc2ec8",
   "metadata": {},
   "source": [
    "By using the `filter_cols` postprocess we can strip away all unneeded information from the benchmark report to make it a bit more reabile:"
   ]
  },
  {
   "cell_type": "code",
   "execution_count": 2,
   "id": "53c89e22",
   "metadata": {},
   "outputs": [
    {
     "name": "stdout",
     "output_type": "stream",
     "text": [
      "INFO - Loading environment cache from file\n",
      "INFO - Successfully initialized cache\n",
      "INFO - Loading extensions.py (User)\n",
      "INFO - [session-271]  Processing stage LOAD\n",
      "INFO - [session-271]  Processing stage BUILD\n",
      "INFO - [session-271]  Processing stage COMPILE\n",
      "INFO - [session-271]  Processing stage RUN\n",
      "INFO - [session-271]  Processing stage POSTPROCESS\n",
      "INFO - All runs completed successfuly!\n",
      "INFO - Postprocessing session report\n",
      "value 'Backend,Total RAM,RAM data,RAM zero-init data,RAM stack,RAM heap'\n",
      "value 'Backend,Total RAM,RAM data,RAM zero-init data,RAM stack,RAM heap'\n",
      "value 'Backend,Total RAM,RAM data,RAM zero-init data,RAM stack,RAM heap'\n",
      "INFO - [session-271] Done processing runs\n",
      "INFO - Report:\n",
      "      Backend  Total RAM  RAM data  RAM zero-init data  RAM stack  RAM heap\n",
      "0  tvmaotplus       4497      2493                 244        720      1040\n",
      "1       tvmrt     141397      2501              132256       5604      1036\n"
     ]
    }
   ],
   "source": [
    "!mlonmcu flow run sine_model --backend tvmaotplus --backend tvmrt --target etiss_pulpino --feature trace \\\n",
    "    --postprocess filter_cols --config filter_cols.keep=\"Backend,Total RAM,RAM data,RAM zero-init data,RAM stack,RAM heap\""
   ]
  },
  {
   "cell_type": "markdown",
   "id": "c9776cd6",
   "metadata": {},
   "source": [
    "It can be seen, that for this simple benchmark, the `tvmrt` backend uses approx. 8 times more stack than `tvmaotplus`. However this is probably neglectible compared to the total RAM usage in this scenario."
   ]
  },
  {
   "cell_type": "markdown",
   "id": "4238333c",
   "metadata": {},
   "source": [
    "### B) Python Scripting"
   ]
  },
  {
   "cell_type": "markdown",
   "id": "b500fc47",
   "metadata": {},
   "source": [
    "TODO\n",
    "\n",
    "Use pandas instead of postprocess"
   ]
  },
  {
   "cell_type": "code",
   "execution_count": 3,
   "id": "78c53970",
   "metadata": {},
   "outputs": [],
   "source": [
    "from tempfile import TemporaryDirectory\n",
    "from pathlib import Path\n",
    "import pandas as pd\n",
    "\n",
    "from mlonmcu.context.context import MlonMcuContext\n",
    "from mlonmcu.session.run import RunStage"
   ]
  },
  {
   "cell_type": "markdown",
   "id": "86046913",
   "metadata": {},
   "source": [
    "Benchmark Configuration"
   ]
  },
  {
   "cell_type": "code",
   "execution_count": 4,
   "id": "2f6c5e5a",
   "metadata": {},
   "outputs": [],
   "source": [
    "FRONTEND = \"tflite\"\n",
    "MODEL = \"sine_model\"\n",
    "BACKEND = \"tvmaotplus\"\n",
    "PLATFORM = \"mlif\"\n",
    "TARGET = \"etiss_pulpino\"\n",
    "FEATURES = [\"log_instrs\"]\n",
    "CONFIG = {\"log_instrs.to_file\": True}\n",
    "POSTPROCESSES = [\"analyse_instructions\"]"
   ]
  },
  {
   "cell_type": "markdown",
   "id": "966cc3fe",
   "metadata": {},
   "source": [
    "Initialize and run a single benchmark"
   ]
  },
  {
   "cell_type": "code",
   "execution_count": 5,
   "id": "ebe63369",
   "metadata": {},
   "outputs": [
    {
     "name": "stdout",
     "output_type": "stream",
     "text": [
      "INFO - Loading environment cache from file\n",
      "INFO - Successfully initialized cache\n",
      "INFO - Loading extensions.py (User)\n",
      "INFO - [session-241] Processing all stages\n",
      "WARNING - unexpected script output (cycles)\n",
      "ERROR - 'builtin_function_or_method' object is not subscriptable\n",
      "Traceback (most recent call last):\n",
      "  File \"/var/tmp/ga87puy/mlonmcu/mlonmcu/venv/lib/python3.8/site-packages/mlonmcu-0.3.0.dev0-py3.8.egg/mlonmcu/session/run.py\", line 782, in process\n",
      "    func()\n",
      "  File \"/var/tmp/ga87puy/mlonmcu/mlonmcu/venv/lib/python3.8/site-packages/mlonmcu-0.3.0.dev0-py3.8.egg/mlonmcu/session/run.py\", line 549, in postprocess\n",
      "    artifacts = postprocess.post_run(temp_report, self.artifacts)\n",
      "  File \"/var/tmp/ga87puy/mlonmcu/mlonmcu/venv/lib/python3.8/site-packages/mlonmcu-0.3.0.dev0-py3.8.egg/mlonmcu/session/run.py\", line 507, in artifacts\n",
      "    itertools.chain([subs[subs.keys[0]] for stage, subs in self.artifacts_per_stage.items()])\n",
      "  File \"/var/tmp/ga87puy/mlonmcu/mlonmcu/venv/lib/python3.8/site-packages/mlonmcu-0.3.0.dev0-py3.8.egg/mlonmcu/session/run.py\", line 507, in <listcomp>\n",
      "    itertools.chain([subs[subs.keys[0]] for stage, subs in self.artifacts_per_stage.items()])\n",
      "TypeError: 'builtin_function_or_method' object is not subscriptable\n",
      "ERROR - [session-241] [run-0] Run failed at stage 'POSTPROCESS', aborting...\n",
      "ERROR - All runs have failed to complete!\n",
      "INFO - Postprocessing session report\n",
      "INFO - [session-241] Done processing runs\n"
     ]
    },
    {
     "data": {
      "text/html": [
       "<div>\n",
       "<style scoped>\n",
       "    .dataframe tbody tr th:only-of-type {\n",
       "        vertical-align: middle;\n",
       "    }\n",
       "\n",
       "    .dataframe tbody tr th {\n",
       "        vertical-align: top;\n",
       "    }\n",
       "\n",
       "    .dataframe thead th {\n",
       "        text-align: right;\n",
       "    }\n",
       "</style>\n",
       "<table border=\"1\" class=\"dataframe\">\n",
       "  <thead>\n",
       "    <tr style=\"text-align: right;\">\n",
       "      <th></th>\n",
       "      <th>Session</th>\n",
       "      <th>Run</th>\n",
       "      <th>Model</th>\n",
       "      <th>Frontend</th>\n",
       "      <th>Framework</th>\n",
       "      <th>Backend</th>\n",
       "      <th>Platform</th>\n",
       "      <th>Target</th>\n",
       "      <th>Total ROM</th>\n",
       "      <th>Total RAM</th>\n",
       "      <th>ROM read-only</th>\n",
       "      <th>ROM code</th>\n",
       "      <th>ROM misc</th>\n",
       "      <th>RAM data</th>\n",
       "      <th>RAM zero-init data</th>\n",
       "      <th>Features</th>\n",
       "      <th>Config</th>\n",
       "      <th>Postprocesses</th>\n",
       "      <th>Comment</th>\n",
       "      <th>Failing</th>\n",
       "    </tr>\n",
       "  </thead>\n",
       "  <tbody>\n",
       "    <tr>\n",
       "      <th>0</th>\n",
       "      <td>241</td>\n",
       "      <td>0</td>\n",
       "      <td>sine_model</td>\n",
       "      <td>tflite</td>\n",
       "      <td>tvm</td>\n",
       "      <td>tvmaotplus</td>\n",
       "      <td>mlif</td>\n",
       "      <td>etiss_pulpino</td>\n",
       "      <td>56100</td>\n",
       "      <td>2737</td>\n",
       "      <td>4280</td>\n",
       "      <td>51676</td>\n",
       "      <td>144</td>\n",
       "      <td>2493</td>\n",
       "      <td>244</td>\n",
       "      <td>[log_instrs]</td>\n",
       "      <td>{'tflite.use_inout_data': False, 'tflite.visua...</td>\n",
       "      <td>[analyse_instructions]</td>\n",
       "      <td>-</td>\n",
       "      <td>True</td>\n",
       "    </tr>\n",
       "  </tbody>\n",
       "</table>\n",
       "</div>"
      ],
      "text/plain": [
       "   Session  Run       Model Frontend Framework     Backend Platform  \\\n",
       "0      241    0  sine_model   tflite       tvm  tvmaotplus     mlif   \n",
       "\n",
       "          Target  Total ROM  Total RAM  ROM read-only  ROM code  ROM misc  \\\n",
       "0  etiss_pulpino      56100       2737           4280     51676       144   \n",
       "\n",
       "   RAM data  RAM zero-init data      Features  \\\n",
       "0      2493                 244  [log_instrs]   \n",
       "\n",
       "                                              Config           Postprocesses  \\\n",
       "0  {'tflite.use_inout_data': False, 'tflite.visua...  [analyse_instructions]   \n",
       "\n",
       "  Comment  Failing  \n",
       "0       -     True  "
      ]
     },
     "execution_count": 5,
     "metadata": {},
     "output_type": "execute_result"
    }
   ],
   "source": [
    "with MlonMcuContext() as context:\n",
    "    session = context.create_session()\n",
    "    run = session.create_run(config=CONFIG)\n",
    "    run.add_features_by_name(FEATURES, context=context)\n",
    "    run.add_frontend_by_name(FRONTEND, context=context)\n",
    "    run.add_model_by_name(MODEL, context=context)\n",
    "    run.add_backend_by_name(BACKEND, context=context)\n",
    "    run.add_platform_by_name(PLATFORM, context=context)\n",
    "    run.add_target_by_name(TARGET, context=context)\n",
    "    run.add_postprocesses_by_name(POSTPROCESSES)\n",
    "    session.process_runs(context=context)\n",
    "    report = session.get_reports()\n",
    "report.df"
   ]
  }
 ],
 "metadata": {
  "kernelspec": {
   "display_name": "Python 3 (ipykernel)",
   "language": "python",
   "name": "python3"
  },
  "language_info": {
   "codemirror_mode": {
    "name": "ipython",
    "version": 3
   },
   "file_extension": ".py",
   "mimetype": "text/x-python",
   "name": "python",
   "nbconvert_exporter": "python",
   "pygments_lexer": "ipython3",
   "version": "3.8.10"
  }
 },
 "nbformat": 4,
 "nbformat_minor": 5
}
