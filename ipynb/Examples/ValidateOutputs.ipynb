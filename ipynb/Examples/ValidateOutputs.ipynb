{
 "cells": [
  {
   "attachments": {},
   "cell_type": "markdown",
   "id": "67a623c3",
   "metadata": {},
   "source": [
    "# Example: Validate Model Outputs for correctness"
   ]
  },
  {
   "cell_type": "markdown",
   "id": "1025ee11",
   "metadata": {},
   "source": [
    "TODO"
   ]
  },
  {
   "cell_type": "markdown",
   "id": "3f7078e1",
   "metadata": {},
   "source": [
    "*Warning:* The current version can only verify the bit-excactness of model outputs. Hence why it is very sensitive to even small derivations compared to the reference (golden) outputs. This limitation might be eliminated with a future revision of MLonMCUs `validate` feature."
   ]
  },
  {
   "cell_type": "markdown",
   "id": "87fd1387",
   "metadata": {},
   "source": [
    "## Supported components"
   ]
  },
  {
   "cell_type": "markdown",
   "id": "584a911d",
   "metadata": {},
   "source": [
    "**Models:** Any (`aww` and `resnet` used below)\n",
    "\n",
    "**Frontends:** Any (`tflite` used below)\n",
    "\n",
    "**Frameworks/Backends:** Any (`tvmaotplus` and `tflmi` used below)\n",
    "\n",
    "**Platforms/Targets:** Any target supported by `mlif` or `espidf` platform\n",
    "\n",
    "**Features:** `validate` and `debug` platform features have to be enabled "
   ]
  },
  {
   "cell_type": "markdown",
   "id": "74ce776e",
   "metadata": {},
   "source": [
    "## Prerequisites"
   ]
  },
  {
   "cell_type": "markdown",
   "id": "18955525",
   "metadata": {},
   "source": [
    "Set up MLonmCU as usual, i.e. initializa an environment and install all required dependencies. Feel free to use the following minimal `environment.yml.j2` template:"
   ]
  },
  {
   "cell_type": "markdown",
   "id": "51eb8539",
   "metadata": {},
   "source": [
    "```yaml\n",
    "---\n",
    "TODO\n",
    "```"
   ]
  },
  {
   "cell_type": "markdown",
   "id": "4d140308",
   "metadata": {},
   "source": [
    "Do not forget to set your `MLONMCU_HOME` environment variable first if not using the default location!"
   ]
  },
  {
   "cell_type": "markdown",
   "id": "a3bac781",
   "metadata": {},
   "source": [
    "## Usage"
   ]
  },
  {
   "cell_type": "markdown",
   "id": "1352b362",
   "metadata": {},
   "source": [
    "*Hint*: Due to the program being build in debug mode and running one inference for each provided input-output combination, the simulation time will likely decrease by some factors. Add the `--parallel` flag to your command line to allow MLonMCU to run multiple simulations in parallel.\n",
    "\n",
    "*Hint:* We are not able to provide reference data for every model in out model zoo. If you might want to add reference data for your own models, see: TODO"
   ]
  },
  {
   "cell_type": "markdown",
   "id": "f01b54e2",
   "metadata": {},
   "source": [
    "### A) Command Line Interface"
   ]
  },
  {
   "cell_type": "markdown",
   "id": "2b333851",
   "metadata": {},
   "source": [
    "As an example, let's see if the `tflmi` and `tvmaotplus` backend produce different model outputs for the same model.\n",
    "\n",
    "To enable the validation, just add `--feature debug --feature validate` to the command line:"
   ]
  },
  {
   "cell_type": "code",
   "execution_count": 2,
   "id": "43576c35",
   "metadata": {},
   "outputs": [
    {
     "name": "stdout",
     "output_type": "stream",
     "text": [
      "INFO - Loading environment cache from file\n",
      "INFO - Successfully initialized cache\n",
      "INFO - Loading extensions.py (User)\n",
      "INFO - [session-281]  Processing stage LOAD\n",
      "INFO - [session-281]  Processing stage BUILD\n",
      "INFO - [session-281]  Processing stage COMPILE\n",
      "INFO - [session-281]  Processing stage RUN\n",
      "ERROR - A platform error occured during the simulation. Reason: OUTPUT_MISSMATCH\n",
      "WARNING - unexpected script output (cycles)\n",
      "INFO - All runs completed successfuly!\n",
      "INFO - Postprocessing session report\n",
      "INFO - [session-281] Done processing runs\n",
      "INFO - Report:\n",
      "   Session  Run   Model Frontend Framework     Backend Platform         Target      Cycles  MIPS  Total ROM  Total RAM  ROM read-only  ROM code  ROM misc  RAM data  RAM zero-init data  Validation           Features                                             Config Postprocesses Comment\n",
      "0      281    0     aww   tflite      tflm       tflmi     mlif  etiss_pulpino   708303725    72     372308      35989         105528    266632       148      2501               33488        True  [validate, debug]  {'tflite.use_inout_data': True, 'tflite.visual...            []       -\n",
      "1      281    1     aww   tflite       tvm  tvmaotplus     mlif  etiss_pulpino   133933546    63     147596     123281          65232     82220       144      2497              120784        True  [validate, debug]  {'tflite.use_inout_data': True, 'tflite.visual...            []       -\n",
      "2      281    2  resnet   tflite      tflm       tflmi     mlif  etiss_pulpino  6003722681    88     421024      68757         149784    271092       148      2501               66256        True  [validate, debug]  {'tflite.use_inout_data': True, 'tflite.visual...            []       -\n",
      "3      281    3  resnet   tflite       tvm  tvmaotplus     mlif  etiss_pulpino        None   129     252976     108193         174992     77840       144      2497              105696       False  [validate, debug]  {'tflite.use_inout_data': True, 'tflite.visual...            []       -\n"
     ]
    }
   ],
   "source": [
    "!python -m mlonmcu.cli.main flow run aww resnet -b tflmi -b tvmaotplus -t etiss_pulpino -f debug -f validate"
   ]
  },
  {
   "cell_type": "markdown",
   "id": "8fc7aaaf",
   "metadata": {},
   "source": [
    "Since we are building in debug mode, most of the reported metrics are not meaningful. Let's get rid of the using the `filter_cols` postprocess:"
   ]
  },
  {
   "cell_type": "code",
   "execution_count": 3,
   "id": "53c89e22",
   "metadata": {},
   "outputs": [
    {
     "name": "stdout",
     "output_type": "stream",
     "text": [
      "INFO - Loading environment cache from file\n",
      "INFO - Successfully initialized cache\n",
      "INFO - Loading extensions.py (User)\n",
      "INFO - [session-282]  Processing stage LOAD\n",
      "INFO - [session-282]  Processing stage BUILD\n",
      "INFO - [session-282]  Processing stage COMPILE\n",
      "INFO - [session-282]  Processing stage RUN\n",
      "ERROR - A platform error occured during the simulation. Reason: OUTPUT_MISSMATCH\n",
      "WARNING - unexpected script output (cycles)\n",
      "INFO - [session-282]  Processing stage POSTPROCESS\n",
      "INFO - All runs completed successfuly!\n",
      "INFO - Postprocessing session report\n",
      "INFO - [session-282] Done processing runs\n",
      "INFO - Report:\n",
      "    Model     Backend  Validation\n",
      "0     aww       tflmi        True\n",
      "1     aww  tvmaotplus        True\n",
      "2  resnet       tflmi        True\n",
      "3  resnet  tvmaotplus       False\n"
     ]
    }
   ],
   "source": [
    "!python -m mlonmcu.cli.main flow run aww resnet -b tflmi -b tvmaotplus -t etiss_pulpino -f debug -f validate \\\n",
    "        --postprocess filter_cols --config filter_cols.keep=\"Model,Backend,Validation\""
   ]
  },
  {
   "cell_type": "markdown",
   "id": "c9776cd6",
   "metadata": {},
   "source": [
    "By investigating the 'Validation' column or the `OUTPUT_MISSMATCH` printed earlier (at least at the time of testing this example) you can see, that one out of 4 validation have failed. TVM beeing not bit-accurate for quantized models is a known issue which needs further investigation."
   ]
  },
  {
   "cell_type": "markdown",
   "id": "b58021dd",
   "metadata": {},
   "source": [
    "It is also possible to find out which model output has caused the missmatch by looking at the simulation outputs:"
   ]
  },
  {
   "cell_type": "code",
   "execution_count": 4,
   "id": "230211f7",
   "metadata": {},
   "outputs": [
    {
     "name": "stdout",
     "output_type": "stream",
     "text": [
      "INFO - Loading environment cache from file\n",
      "INFO - Successfully initialized cache\n",
      "INFO - Loading extensions.py (User)\n",
      "INFO - [session-283]  Processing stage LOAD\n",
      "INFO - [session-283]  Processing stage BUILD\n",
      "INFO - [session-283]  Processing stage COMPILE\n",
      "INFO - [session-283]  Processing stage RUN\n",
      "=== Setting up configurations ===\n",
      "Initializer::loadIni(): Ini sucessfully loaded /var/tmp/ga87puy/mlonmcu/mlonmcu/workspace/deps/install/etiss/examples/base.ini\n",
      "Initializer::loadIni(): Ini sucessfully loaded /tmp/etiss_dynamic_S8YtAiov0d.ini\n",
      "Initializer::loadIni(): Ini sucessfully loaded /tmp/tmp5r2o0p5x/custom.ini\n",
      "  Load Configs from .ini files:\n",
      "ETISS: Info: Created new config container: global\n",
      "ETISS: Info:   [BoolConfigurations]\n",
      "ETISS: Info:     arch.or1k.ignore_sr_iee=false,\n",
      "ETISS: Info:     etiss.enable_dmi=true,\n",
      "ETISS: Info:     etiss.load_integrated_libraries=true,\n",
      "ETISS: Info:     etiss.log_pc=false,\n",
      "ETISS: Info:     jit.debug=false,\n",
      "ETISS: Info:     jit.gcc.cleanup=true,\n",
      "ETISS: Info:     jit.verify=false,\n",
      "ETISS: Info:     testing=false,\n",
      "ETISS: Info:   [IntConfigurations]\n",
      "ETISS: Warning:     arch.cpu_cycle_time_ps=31250,31250,   Multi values. Take only LAST one!\n",
      "ETISS: Info:     arch.or1k.if_stall_cycles=0,\n",
      "ETISS: Info:     arch.rv32imacfdpv.mstatus_fs=1,\n",
      "ETISS: Info:     etiss.max_block_size=100,\n",
      "ETISS: Info:     ETISS::CPU_quantum_ps=100000,\n",
      "ETISS: Info:     ETISS::sim_mode=0,\n",
      "ETISS: Info:     ETISS::write_pc_trace_from_time_us=0,\n",
      "ETISS: Info:     ETISS::write_pc_trace_until_time_us=3000000,\n",
      "ETISS: Warning:     simple_mem_system.memseg_length_00=0x00080000,0x800000,   Multi values. Take only LAST one!\n",
      "ETISS: Warning:     simple_mem_system.memseg_length_01=0x00080000,0x4000000,   Multi values. Take only LAST one!\n",
      "ETISS: Warning:     simple_mem_system.memseg_origin_00=0x00000000,0x0,   Multi values. Take only LAST one!\n",
      "ETISS: Warning:     simple_mem_system.memseg_origin_01=0x00080000,0x800000,   Multi values. Take only LAST one!\n",
      "ETISS: Info:     vp::simulation_time_us=20000000,\n",
      "ETISS: Info:   [StringConfigurations]\n",
      "ETISS: Info:     arch.cpu=RV32IMACFD,\n",
      "ETISS: Info:     etiss.output_path_prefix=,\n",
      "ETISS: Info:     jit.type=TCCJIT,\n",
      "ETISS: Info:     vp.elf_file=/var/tmp/ga87puy/mlonmcu/mlonmcu/workspace/temp/sessions/283/runs/0/generic_mlif,\n",
      "=== Finished setting up configurations ===\n",
      "\n",
      "=== Setting up test system ===\n",
      "  Setting up Memory\n",
      "ETISS: Info: New Memory segment added: 1 - [0x00000000007fffff - 0x0000000000000000]\n",
      "ETISS: Info: New Memory segment added: 2 - [0x00000000047fffff - 0x0000000000800000]\n",
      "ETISS: Info: Assuming CPU architecture RV32IMACFD as set in configuration file. ELF architecture field will be ignored\n",
      "ETISS: Info: Initialized the memory segment 1 - RWX[0x0000000000000000 - 0x000000000003dce3] from ELF-file\n",
      "ETISS: Info: Initialized the memory segment 2 - RW[0x0000000000800000 - 0x00000000008226af] from ELF-file\n",
      "  Setting up CPUCore\n",
      "  CPU start address: 0xc0\n",
      "=== Finished Setting up test system ===\n",
      "\n",
      "=== Setting up plug-ins ===\n",
      "ETISS: Info:   Adding Plugin Logger\n",
      "\n",
      "ETISS: Info: plugin.logger.logaddr not set on the command line. Checking in .ini file.\n",
      "ETISS: Info:     options[plugin.logger.logaddr] = 0x80000000\n",
      "\n",
      "\n",
      "ETISS: Info: plugin.logger.logmask not set on the command line. Checking in .ini file.\n",
      "ETISS: Info:     options[plugin.logger.logmask] = 0x80000000\n",
      "\n",
      "\n",
      "ETISS: Info: Plugin \"Logger\" loaded via library interface \"ETISSINCLUDED\"\n",
      "\n",
      "ETISS: Info:  Adding JIT \"TCCJIT\"\n",
      "=== Setting up plug-ins ===\n",
      "\n",
      "\n",
      "=== Simulation start ===\n",
      "ETISS: Info: Init Plugin Logger{SYSTEMWRAPPER}\n",
      "Program start.\n",
      "Category 0: 0.03125\n",
      "Category 1: 0.91015625\n",
      "Category 2: 0.0078125\n",
      "Category 3: 0.05078125\n",
      "Category 4: 0\n",
      "Category 5: 0\n",
      "Category 6: 0\n",
      "Category 7: 0\n",
      "Category 8: 0\n",
      "Category 9: 0.00390625\n",
      "Predicted category: 1\n",
      "MLIF: Wrong output in category 0! Expected 0.01953125\n",
      "exit called with code: 18\n",
      "CPU Time: 21.5403s    Simulation Time: 5.50929s\n",
      "CPU Cycles (estimated): 6.8929e+08\n",
      "MIPS (estimated): 125.114\n",
      "=== Simulation end ===\n",
      "\n",
      "CPU0 exited with exception: 0x80000000: Finished cpu execution. This is the proper way to exit from etiss::CPUCore::execute.\n",
      "ERROR - A platform error occured during the simulation. Reason: OUTPUT_MISSMATCH\n",
      "WARNING - unexpected script output (cycles)\n",
      "warning: ignored: .eh_frame / size: 180\n",
      "heap starts at: 0x81a6b0\n",
      "=== Results ===\n",
      "ROM usage:        253.0 kB (0x3dc30)\n",
      "  read-only data: 175.0 kB (0x2ab90)\n",
      "  code:           77.8 kB (0x13010)\n",
      "  other required: 144 Bytes (0x90)\n",
      "RAM usage:        108.2 kB (0x1a6a1) [stack and heap usage not included]\n",
      "  data:           2.5 kB (0x9c1)\n",
      "  zero-init data: 105.7 kB (0x19ce0)\n",
      "  stack:          unknown [missing trace file]\n",
      "  heap:           unknown [missing trace file]\n",
      "INFO - All runs completed successfuly!\n",
      "INFO - Postprocessing session report\n",
      "INFO - [session-283] Done processing runs\n",
      "INFO - Report:\n",
      "   Session  Run   Model Frontend Framework     Backend Platform         Target Cycles  MIPS  Total ROM  Total RAM  ROM read-only  ROM code  ROM misc  RAM data  RAM zero-init data  Validation           Features                                             Config Postprocesses Comment\n",
      "0      283    0  resnet   tflite       tvm  tvmaotplus     mlif  etiss_pulpino   None   125     252976     108193         174992     77840       144      2497              105696       False  [debug, validate]  {'tflite.use_inout_data': True, 'tflite.visual...            []       -\n"
     ]
    }
   ],
   "source": [
    "!python -m mlonmcu.cli.main flow run resnet -b tvmaotplus -t etiss_pulpino -f debug -f validate \\\n",
    "        --config etiss_pulpino.print_outputs=1"
   ]
  },
  {
   "cell_type": "markdown",
   "id": "4238333c",
   "metadata": {},
   "source": [
    "### B) Python Scripting"
   ]
  },
  {
   "cell_type": "markdown",
   "id": "b500fc47",
   "metadata": {},
   "source": [
    "TODO\n",
    "\n",
    "Use pandas instead of postprocess"
   ]
  },
  {
   "cell_type": "code",
   "execution_count": 3,
   "id": "78c53970",
   "metadata": {},
   "outputs": [],
   "source": [
    "from tempfile import TemporaryDirectory\n",
    "from pathlib import Path\n",
    "import pandas as pd\n",
    "\n",
    "from mlonmcu.context.context import MlonMcuContext\n",
    "from mlonmcu.session.run import RunStage"
   ]
  },
  {
   "cell_type": "markdown",
   "id": "86046913",
   "metadata": {},
   "source": [
    "Benchmark Configuration"
   ]
  },
  {
   "cell_type": "code",
   "execution_count": 4,
   "id": "2f6c5e5a",
   "metadata": {},
   "outputs": [],
   "source": [
    "FRONTEND = \"tflite\"\n",
    "MODEL = \"sine_model\"\n",
    "BACKEND = \"tvmaotplus\"\n",
    "PLATFORM = \"mlif\"\n",
    "TARGET = \"etiss_pulpino\"\n",
    "FEATURES = [\"log_instrs\"]\n",
    "CONFIG = {\"log_instrs.to_file\": True}\n",
    "POSTPROCESSES = [\"analyse_instructions\"]"
   ]
  },
  {
   "cell_type": "markdown",
   "id": "966cc3fe",
   "metadata": {},
   "source": [
    "Initialize and run a single benchmark"
   ]
  },
  {
   "cell_type": "code",
   "execution_count": 5,
   "id": "ebe63369",
   "metadata": {},
   "outputs": [
    {
     "name": "stdout",
     "output_type": "stream",
     "text": [
      "INFO - Loading environment cache from file\n",
      "INFO - Successfully initialized cache\n",
      "INFO - Loading extensions.py (User)\n",
      "INFO - [session-241] Processing all stages\n",
      "WARNING - unexpected script output (cycles)\n",
      "ERROR - 'builtin_function_or_method' object is not subscriptable\n",
      "Traceback (most recent call last):\n",
      "  File \"/var/tmp/ga87puy/mlonmcu/mlonmcu/venv/lib/python3.8/site-packages/mlonmcu-0.3.0.dev0-py3.8.egg/mlonmcu/session/run.py\", line 782, in process\n",
      "    func()\n",
      "  File \"/var/tmp/ga87puy/mlonmcu/mlonmcu/venv/lib/python3.8/site-packages/mlonmcu-0.3.0.dev0-py3.8.egg/mlonmcu/session/run.py\", line 549, in postprocess\n",
      "    artifacts = postprocess.post_run(temp_report, self.artifacts)\n",
      "  File \"/var/tmp/ga87puy/mlonmcu/mlonmcu/venv/lib/python3.8/site-packages/mlonmcu-0.3.0.dev0-py3.8.egg/mlonmcu/session/run.py\", line 507, in artifacts\n",
      "    itertools.chain([subs[subs.keys[0]] for stage, subs in self.artifacts_per_stage.items()])\n",
      "  File \"/var/tmp/ga87puy/mlonmcu/mlonmcu/venv/lib/python3.8/site-packages/mlonmcu-0.3.0.dev0-py3.8.egg/mlonmcu/session/run.py\", line 507, in <listcomp>\n",
      "    itertools.chain([subs[subs.keys[0]] for stage, subs in self.artifacts_per_stage.items()])\n",
      "TypeError: 'builtin_function_or_method' object is not subscriptable\n",
      "ERROR - [session-241] [run-0] Run failed at stage 'POSTPROCESS', aborting...\n",
      "ERROR - All runs have failed to complete!\n",
      "INFO - Postprocessing session report\n",
      "INFO - [session-241] Done processing runs\n"
     ]
    },
    {
     "data": {
      "text/html": [
       "<div>\n",
       "<style scoped>\n",
       "    .dataframe tbody tr th:only-of-type {\n",
       "        vertical-align: middle;\n",
       "    }\n",
       "\n",
       "    .dataframe tbody tr th {\n",
       "        vertical-align: top;\n",
       "    }\n",
       "\n",
       "    .dataframe thead th {\n",
       "        text-align: right;\n",
       "    }\n",
       "</style>\n",
       "<table border=\"1\" class=\"dataframe\">\n",
       "  <thead>\n",
       "    <tr style=\"text-align: right;\">\n",
       "      <th></th>\n",
       "      <th>Session</th>\n",
       "      <th>Run</th>\n",
       "      <th>Model</th>\n",
       "      <th>Frontend</th>\n",
       "      <th>Framework</th>\n",
       "      <th>Backend</th>\n",
       "      <th>Platform</th>\n",
       "      <th>Target</th>\n",
       "      <th>Total ROM</th>\n",
       "      <th>Total RAM</th>\n",
       "      <th>ROM read-only</th>\n",
       "      <th>ROM code</th>\n",
       "      <th>ROM misc</th>\n",
       "      <th>RAM data</th>\n",
       "      <th>RAM zero-init data</th>\n",
       "      <th>Features</th>\n",
       "      <th>Config</th>\n",
       "      <th>Postprocesses</th>\n",
       "      <th>Comment</th>\n",
       "      <th>Failing</th>\n",
       "    </tr>\n",
       "  </thead>\n",
       "  <tbody>\n",
       "    <tr>\n",
       "      <th>0</th>\n",
       "      <td>241</td>\n",
       "      <td>0</td>\n",
       "      <td>sine_model</td>\n",
       "      <td>tflite</td>\n",
       "      <td>tvm</td>\n",
       "      <td>tvmaotplus</td>\n",
       "      <td>mlif</td>\n",
       "      <td>etiss_pulpino</td>\n",
       "      <td>56100</td>\n",
       "      <td>2737</td>\n",
       "      <td>4280</td>\n",
       "      <td>51676</td>\n",
       "      <td>144</td>\n",
       "      <td>2493</td>\n",
       "      <td>244</td>\n",
       "      <td>[log_instrs]</td>\n",
       "      <td>{'tflite.use_inout_data': False, 'tflite.visua...</td>\n",
       "      <td>[analyse_instructions]</td>\n",
       "      <td>-</td>\n",
       "      <td>True</td>\n",
       "    </tr>\n",
       "  </tbody>\n",
       "</table>\n",
       "</div>"
      ],
      "text/plain": [
       "   Session  Run       Model Frontend Framework     Backend Platform  \\\n",
       "0      241    0  sine_model   tflite       tvm  tvmaotplus     mlif   \n",
       "\n",
       "          Target  Total ROM  Total RAM  ROM read-only  ROM code  ROM misc  \\\n",
       "0  etiss_pulpino      56100       2737           4280     51676       144   \n",
       "\n",
       "   RAM data  RAM zero-init data      Features  \\\n",
       "0      2493                 244  [log_instrs]   \n",
       "\n",
       "                                              Config           Postprocesses  \\\n",
       "0  {'tflite.use_inout_data': False, 'tflite.visua...  [analyse_instructions]   \n",
       "\n",
       "  Comment  Failing  \n",
       "0       -     True  "
      ]
     },
     "execution_count": 5,
     "metadata": {},
     "output_type": "execute_result"
    }
   ],
   "source": [
    "with MlonMcuContext() as context:\n",
    "    session = context.create_session()\n",
    "    run = session.create_run(config=CONFIG)\n",
    "    run.add_features_by_name(FEATURES, context=context)\n",
    "    run.add_frontend_by_name(FRONTEND, context=context)\n",
    "    run.add_model_by_name(MODEL, context=context)\n",
    "    run.add_backend_by_name(BACKEND, context=context)\n",
    "    run.add_platform_by_name(PLATFORM, context=context)\n",
    "    run.add_target_by_name(TARGET, context=context)\n",
    "    run.add_postprocesses_by_name(POSTPROCESSES)\n",
    "    session.process_runs(context=context)\n",
    "    report = session.get_reports()\n",
    "report.df"
   ]
  }
 ],
 "metadata": {
  "kernelspec": {
   "display_name": "Python 3 (ipykernel)",
   "language": "python",
   "name": "python3"
  },
  "language_info": {
   "codemirror_mode": {
    "name": "ipython",
    "version": 3
   },
   "file_extension": ".py",
   "mimetype": "text/x-python",
   "name": "python",
   "nbconvert_exporter": "python",
   "pygments_lexer": "ipython3",
   "version": "3.8.10"
  }
 },
 "nbformat": 4,
 "nbformat_minor": 5
}
