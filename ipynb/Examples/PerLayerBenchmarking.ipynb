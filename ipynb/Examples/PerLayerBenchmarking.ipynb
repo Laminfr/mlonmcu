{
 "cells": [
  {
   "attachments": {},
   "cell_type": "markdown",
   "id": "67a623c3",
   "metadata": {},
   "source": [
    "# Example: Per-Layer Model Benchmarking"
   ]
  },
  {
   "cell_type": "markdown",
   "id": "1025ee11",
   "metadata": {},
   "source": [
    "When investigating why a given model performs not as expected or implementing optimiations for specific types of layers, it is often useful to consider the runtime individual layers instead of the end-to-end execution time.\n",
    "\n",
    "MLonMCU currently supports to approaches for per-layer benchmarking:\n",
    "1. Using the `split_layers` feature of the `tflite` frontend\n",
    "2. Using the profiling feature provided by the `tvm` and `microtvm` (WIP) platform\n",
    "\n",
    "Both use-cases are explained briefly in the rest of this notebook."
   ]
  },
  {
   "cell_type": "markdown",
   "id": "c7164b6a",
   "metadata": {},
   "source": [
    "## 1. Splitting TFLite Models into individual layers"
   ]
  },
  {
   "cell_type": "markdown",
   "id": "87fd1387",
   "metadata": {},
   "source": [
    "### Supported components"
   ]
  },
  {
   "cell_type": "markdown",
   "id": "584a911d",
   "metadata": {},
   "source": [
    "**Models:** Any (`resnet` used below)\n",
    "\n",
    "**Frontends:** `tflite` only\n",
    "\n",
    "**Frameworks/Backends:** Any (`tvmaotplus` used below)\n",
    "\n",
    "**Platforms/Targets:** Any (`etiss_pulpino` used below)\n",
    "\n",
    "**Features:** The `split_layers` feature of the `tflite` frontend needs to be enabled"
   ]
  },
  {
   "cell_type": "markdown",
   "id": "74ce776e",
   "metadata": {},
   "source": [
    "### Prerequisites"
   ]
  },
  {
   "cell_type": "markdown",
   "id": "18955525",
   "metadata": {},
   "source": [
    "Set up MLonmCU as usual, i.e. initializa an environment and install all required dependencies. Feel free to use the following minimal `environment.yml.j2` template:"
   ]
  },
  {
   "cell_type": "markdown",
   "id": "51eb8539",
   "metadata": {},
   "source": [
    "```yaml\n",
    "---\n",
    "TODO\n",
    "```"
   ]
  },
  {
   "cell_type": "markdown",
   "id": "4d140308",
   "metadata": {},
   "source": [
    "Do not forget to set your `MLONMCU_HOME` environment variable first if not using the default location!"
   ]
  },
  {
   "cell_type": "markdown",
   "id": "a3bac781",
   "metadata": {},
   "source": [
    "### Usage"
   ]
  },
  {
   "cell_type": "markdown",
   "id": "1352b362",
   "metadata": {},
   "source": [
    "TODO"
   ]
  },
  {
   "cell_type": "markdown",
   "id": "f01b54e2",
   "metadata": {},
   "source": [
    "#### A) Command Line Interface"
   ]
  },
  {
   "cell_type": "markdown",
   "id": "2b333851",
   "metadata": {},
   "source": [
    "First define a simple benchmark of a single model/backend/target combination:"
   ]
  },
  {
   "cell_type": "code",
   "execution_count": 1,
   "id": "43576c35",
   "metadata": {},
   "outputs": [
    {
     "name": "stdout",
     "output_type": "stream",
     "text": [
      "INFO - Loading environment cache from file\n",
      "INFO - Successfully initialized cache\n",
      "INFO - Loading extensions.py (User)\n",
      "INFO - [session-272]  Processing stage LOAD\n",
      "INFO - [session-272]  Processing stage BUILD\n",
      "INFO - [session-272]  Processing stage COMPILE\n",
      "INFO - [session-272]  Processing stage RUN\n",
      "INFO - All runs completed successfuly!\n",
      "INFO - Postprocessing session report\n",
      "INFO - [session-272] Done processing runs\n",
      "INFO - Report:\n",
      "   Session  Run   Model Frontend Framework     Backend Platform         Target    Cycles  MIPS  Total ROM  Total RAM  ROM read-only  ROM code  ROM misc  RAM data  RAM zero-init data Features                                             Config Postprocesses Comment\n",
      "0      272    0  resnet   tflite       tvm  tvmaotplus     mlif  etiss_pulpino  81824730    71     229042     108185         167384     61514       144      2493              105692       []  {'tflite.use_inout_data': False, 'tflite.visua...            []       -\n"
     ]
    }
   ],
   "source": [
    "!mlonmcu flow run resnet --backend tvmaotplus --target etiss_pulpino"
   ]
  },
  {
   "cell_type": "markdown",
   "id": "5ccc2ec8",
   "metadata": {},
   "source": [
    "Now lets enable the `split_layers` feature:"
   ]
  },
  {
   "cell_type": "code",
   "execution_count": 2,
   "id": "53c89e22",
   "metadata": {},
   "outputs": [
    {
     "name": "stdout",
     "output_type": "stream",
     "text": [
      "INFO - Loading environment cache from file\n",
      "INFO - Successfully initialized cache\n",
      "INFO - Loading extensions.py (User)\n",
      "INFO - [session-273]  Processing stage LOAD\n",
      "INFO - [session-273]  Processing stage BUILD\n",
      "INFO - [session-273]  Processing stage COMPILE\n",
      "INFO - [session-273]  Processing stage RUN\n",
      "INFO - All runs completed successfuly!\n",
      "INFO - Postprocessing session report\n",
      "INFO - [session-273] Done processing runs\n",
      "INFO - Report:\n",
      "    Session  Run   Model Frontend Framework     Backend Platform         Target      Sub    Cycles  MIPS  Total ROM  Total RAM  ROM read-only  ROM code  ROM misc  RAM data  RAM zero-init data        Features                                             Config Postprocesses Comment\n",
      "0       273    0  resnet   tflite       tvm  tvmaotplus     mlif  etiss_pulpino      NaN  81824730    73     229042     108185         167384     61514       144      2493              105692  [split_layers]  {'tflite.split_layers': True, 'tflite.use_inou...            []       -\n",
      "1       273    0  resnet   tflite       tvm  tvmaotplus     mlif  etiss_pulpino   layer0   3871968    12      56350      35113           4304     51902       144      2493               32620  [split_layers]  {'tflite.split_layers': True, 'tflite.use_inou...            []       -\n",
      "2       273    0  resnet   tflite       tvm  tvmaotplus     mlif  etiss_pulpino   layer1  13006152    33      59694     105097           8048     51502       144      2493              102604  [split_layers]  {'tflite.split_layers': True, 'tflite.use_inou...            []       -\n",
      "3       273    0  resnet   tflite       tvm  tvmaotplus     mlif  etiss_pulpino   layer2  13024494    32      59688     105097           8048     51496       144      2493              102604  [split_layers]  {'tflite.split_layers': True, 'tflite.use_inou...            []       -\n",
      "4       273    0  resnet   tflite       tvm  tvmaotplus     mlif  etiss_pulpino   layer3    629131     2      53862      51729           3024     50694       144      2501               49228  [split_layers]  {'tflite.split_layers': True, 'tflite.use_inou...            []       -\n",
      "5       273    0  resnet   tflite       tvm  tvmaotplus     mlif  etiss_pulpino   layer4   6504429    20      64938      94761          13104     51690       144      2493               92268  [split_layers]  {'tflite.split_layers': True, 'tflite.use_inou...            []       -\n",
      "6       273    0  resnet   tflite       tvm  tvmaotplus     mlif  etiss_pulpino   layer5  17546278    47      73902      56073          22320     51438       144      2493               53580  [split_layers]  {'tflite.split_layers': True, 'tflite.use_inou...            []       -\n",
      "7       273    0  resnet   tflite       tvm  tvmaotplus     mlif  etiss_pulpino   layer6   1138722     4      56796      90665           4912     51740       144      2493               88172  [split_layers]  {'tflite.split_layers': True, 'tflite.use_inou...            []       -\n",
      "8       273    0  resnet   tflite       tvm  tvmaotplus     mlif  etiss_pulpino   layer7    316038     1      53898      27153           3024     50730       144      2501               24652  [split_layers]  {'tflite.split_layers': True, 'tflite.use_inou...            []       -\n",
      "9       273    0  resnet   tflite       tvm  tvmaotplus     mlif  etiss_pulpino   layer8   8854578    28      93314      49737          41648     51522       144      2493               47244  [split_layers]  {'tflite.split_layers': True, 'tflite.use_inou...            []       -\n",
      "10      273    0  resnet   tflite       tvm  tvmaotplus     mlif  etiss_pulpino   layer9  17076623    46     130104      31753          78512     51448       144      2493               29260  [split_layers]  {'tflite.split_layers': True, 'tflite.use_inou...            []       -\n",
      "11      273    0  resnet   tflite       tvm  tvmaotplus     mlif  etiss_pulpino  layer10   1157186     4      60500      45641           8880     51476       144      2493               43148  [split_layers]  {'tflite.split_layers': True, 'tflite.use_inou...            []       -\n",
      "12      273    0  resnet   tflite       tvm  tvmaotplus     mlif  etiss_pulpino  layer11    153790     0      53908      14865           3024     50740       144      2501               12364  [split_layers]  {'tflite.split_layers': True, 'tflite.use_inou...            []       -\n",
      "13      273    0  resnet   tflite       tvm  tvmaotplus     mlif  etiss_pulpino  layer12     39321     0      53828      23369           2976     50708       144      2493               20876  [split_layers]  {'tflite.split_layers': True, 'tflite.use_inou...            []       -\n",
      "14      273    0  resnet   tflite       tvm  tvmaotplus     mlif  etiss_pulpino  layer13       199     0      54112       2697           2976     50992       144      2493                 204  [split_layers]  {'tflite.split_layers': True, 'tflite.use_inou...            []       -\n",
      "15      273    0  resnet   tflite       tvm  tvmaotplus     mlif  etiss_pulpino  layer14      2965     0      55508       2801           4320     51044       144      2493                 308  [split_layers]  {'tflite.split_layers': True, 'tflite.use_inou...            []       -\n",
      "16      273    0  resnet   tflite       tvm  tvmaotplus     mlif  etiss_pulpino  layer15      1380     0      55700       2705           3096     52460       144      2493                 212  [split_layers]  {'tflite.split_layers': True, 'tflite.use_inou...            []       -\n"
     ]
    }
   ],
   "source": [
    "!mlonmcu flow run resnet --backend tvmaotplus --target etiss_pulpino -f split_layers"
   ]
  },
  {
   "cell_type": "markdown",
   "id": "c9776cd6",
   "metadata": {},
   "source": [
    "The resulting report should contain the the original benchmark results (for the whole model) in the first row. The remaining 16 rows are for each of the layers found in the `resnet.tflite` model. The layer-index can be found in the 'Sub' column. The cycle count of these should roughly sum up to the total execution time measured in row one."
   ]
  },
  {
   "cell_type": "markdown",
   "id": "4238333c",
   "metadata": {},
   "source": [
    "#### B) Python Scripting"
   ]
  },
  {
   "cell_type": "markdown",
   "id": "b500fc47",
   "metadata": {},
   "source": [
    "TODO\n",
    "\n",
    "Use pandas instead of postprocess"
   ]
  },
  {
   "cell_type": "code",
   "execution_count": 3,
   "id": "78c53970",
   "metadata": {},
   "outputs": [],
   "source": [
    "from tempfile import TemporaryDirectory\n",
    "from pathlib import Path\n",
    "import pandas as pd\n",
    "\n",
    "from mlonmcu.context.context import MlonMcuContext\n",
    "from mlonmcu.session.run import RunStage"
   ]
  },
  {
   "cell_type": "markdown",
   "id": "86046913",
   "metadata": {},
   "source": [
    "Benchmark Configuration"
   ]
  },
  {
   "cell_type": "code",
   "execution_count": 4,
   "id": "2f6c5e5a",
   "metadata": {},
   "outputs": [],
   "source": [
    "FRONTEND = \"tflite\"\n",
    "MODEL = \"sine_model\"\n",
    "BACKEND = \"tvmaotplus\"\n",
    "PLATFORM = \"mlif\"\n",
    "TARGET = \"etiss_pulpino\"\n",
    "FEATURES = [\"log_instrs\"]\n",
    "CONFIG = {\"log_instrs.to_file\": True}\n",
    "POSTPROCESSES = [\"analyse_instructions\"]"
   ]
  },
  {
   "cell_type": "markdown",
   "id": "966cc3fe",
   "metadata": {},
   "source": [
    "Initialize and run a single benchmark"
   ]
  },
  {
   "cell_type": "code",
   "execution_count": 5,
   "id": "ebe63369",
   "metadata": {},
   "outputs": [
    {
     "name": "stdout",
     "output_type": "stream",
     "text": [
      "INFO - Loading environment cache from file\n",
      "INFO - Successfully initialized cache\n",
      "INFO - Loading extensions.py (User)\n",
      "INFO - [session-241] Processing all stages\n",
      "WARNING - unexpected script output (cycles)\n",
      "ERROR - 'builtin_function_or_method' object is not subscriptable\n",
      "Traceback (most recent call last):\n",
      "  File \"/var/tmp/ga87puy/mlonmcu/mlonmcu/venv/lib/python3.8/site-packages/mlonmcu-0.3.0.dev0-py3.8.egg/mlonmcu/session/run.py\", line 782, in process\n",
      "    func()\n",
      "  File \"/var/tmp/ga87puy/mlonmcu/mlonmcu/venv/lib/python3.8/site-packages/mlonmcu-0.3.0.dev0-py3.8.egg/mlonmcu/session/run.py\", line 549, in postprocess\n",
      "    artifacts = postprocess.post_run(temp_report, self.artifacts)\n",
      "  File \"/var/tmp/ga87puy/mlonmcu/mlonmcu/venv/lib/python3.8/site-packages/mlonmcu-0.3.0.dev0-py3.8.egg/mlonmcu/session/run.py\", line 507, in artifacts\n",
      "    itertools.chain([subs[subs.keys[0]] for stage, subs in self.artifacts_per_stage.items()])\n",
      "  File \"/var/tmp/ga87puy/mlonmcu/mlonmcu/venv/lib/python3.8/site-packages/mlonmcu-0.3.0.dev0-py3.8.egg/mlonmcu/session/run.py\", line 507, in <listcomp>\n",
      "    itertools.chain([subs[subs.keys[0]] for stage, subs in self.artifacts_per_stage.items()])\n",
      "TypeError: 'builtin_function_or_method' object is not subscriptable\n",
      "ERROR - [session-241] [run-0] Run failed at stage 'POSTPROCESS', aborting...\n",
      "ERROR - All runs have failed to complete!\n",
      "INFO - Postprocessing session report\n",
      "INFO - [session-241] Done processing runs\n"
     ]
    },
    {
     "data": {
      "text/html": [
       "<div>\n",
       "<style scoped>\n",
       "    .dataframe tbody tr th:only-of-type {\n",
       "        vertical-align: middle;\n",
       "    }\n",
       "\n",
       "    .dataframe tbody tr th {\n",
       "        vertical-align: top;\n",
       "    }\n",
       "\n",
       "    .dataframe thead th {\n",
       "        text-align: right;\n",
       "    }\n",
       "</style>\n",
       "<table border=\"1\" class=\"dataframe\">\n",
       "  <thead>\n",
       "    <tr style=\"text-align: right;\">\n",
       "      <th></th>\n",
       "      <th>Session</th>\n",
       "      <th>Run</th>\n",
       "      <th>Model</th>\n",
       "      <th>Frontend</th>\n",
       "      <th>Framework</th>\n",
       "      <th>Backend</th>\n",
       "      <th>Platform</th>\n",
       "      <th>Target</th>\n",
       "      <th>Total ROM</th>\n",
       "      <th>Total RAM</th>\n",
       "      <th>ROM read-only</th>\n",
       "      <th>ROM code</th>\n",
       "      <th>ROM misc</th>\n",
       "      <th>RAM data</th>\n",
       "      <th>RAM zero-init data</th>\n",
       "      <th>Features</th>\n",
       "      <th>Config</th>\n",
       "      <th>Postprocesses</th>\n",
       "      <th>Comment</th>\n",
       "      <th>Failing</th>\n",
       "    </tr>\n",
       "  </thead>\n",
       "  <tbody>\n",
       "    <tr>\n",
       "      <th>0</th>\n",
       "      <td>241</td>\n",
       "      <td>0</td>\n",
       "      <td>sine_model</td>\n",
       "      <td>tflite</td>\n",
       "      <td>tvm</td>\n",
       "      <td>tvmaotplus</td>\n",
       "      <td>mlif</td>\n",
       "      <td>etiss_pulpino</td>\n",
       "      <td>56100</td>\n",
       "      <td>2737</td>\n",
       "      <td>4280</td>\n",
       "      <td>51676</td>\n",
       "      <td>144</td>\n",
       "      <td>2493</td>\n",
       "      <td>244</td>\n",
       "      <td>[log_instrs]</td>\n",
       "      <td>{'tflite.use_inout_data': False, 'tflite.visua...</td>\n",
       "      <td>[analyse_instructions]</td>\n",
       "      <td>-</td>\n",
       "      <td>True</td>\n",
       "    </tr>\n",
       "  </tbody>\n",
       "</table>\n",
       "</div>"
      ],
      "text/plain": [
       "   Session  Run       Model Frontend Framework     Backend Platform  \\\n",
       "0      241    0  sine_model   tflite       tvm  tvmaotplus     mlif   \n",
       "\n",
       "          Target  Total ROM  Total RAM  ROM read-only  ROM code  ROM misc  \\\n",
       "0  etiss_pulpino      56100       2737           4280     51676       144   \n",
       "\n",
       "   RAM data  RAM zero-init data      Features  \\\n",
       "0      2493                 244  [log_instrs]   \n",
       "\n",
       "                                              Config           Postprocesses  \\\n",
       "0  {'tflite.use_inout_data': False, 'tflite.visua...  [analyse_instructions]   \n",
       "\n",
       "  Comment  Failing  \n",
       "0       -     True  "
      ]
     },
     "execution_count": 5,
     "metadata": {},
     "output_type": "execute_result"
    }
   ],
   "source": [
    "with MlonMcuContext() as context:\n",
    "    session = context.create_session()\n",
    "    run = session.create_run(config=CONFIG)\n",
    "    run.add_features_by_name(FEATURES, context=context)\n",
    "    run.add_frontend_by_name(FRONTEND, context=context)\n",
    "    run.add_model_by_name(MODEL, context=context)\n",
    "    run.add_backend_by_name(BACKEND, context=context)\n",
    "    run.add_platform_by_name(PLATFORM, context=context)\n",
    "    run.add_target_by_name(TARGET, context=context)\n",
    "    run.add_postprocesses_by_name(POSTPROCESSES)\n",
    "    session.process_runs(context=context)\n",
    "    report = session.get_reports()\n",
    "report.df"
   ]
  },
  {
   "cell_type": "markdown",
   "id": "5f257b8a",
   "metadata": {},
   "source": [
    "## 2. Using ~~(Micro)~~TVMs profiling functionality"
   ]
  },
  {
   "cell_type": "markdown",
   "id": "57914347",
   "metadata": {},
   "source": [
    "Instead of splitting the model layer wise before optimization, this will use the functionality of TVMs graph runtime to benchmark individual functions conatine din the model graph. These functions do not nessessarily map directly to a single layer in the original model operator fusing is automatically performed by TVMs compilation pipeline."
   ]
  },
  {
   "cell_type": "markdown",
   "id": "09da8a16",
   "metadata": {},
   "source": [
    "### Supported components"
   ]
  },
  {
   "cell_type": "markdown",
   "id": "9f12e37b",
   "metadata": {},
   "source": [
    "**Models:** Any (`resnet` used below)\n",
    "\n",
    "**Frontends:** Any frontend supported by TVM (`tflite` used below)\n",
    "\n",
    "**Frameworks/Backends:** TVM: `tvmllvm` ~~MicroTVM: `tvmrt`~~\n",
    "\n",
    "**Platforms/Targets:** TVM: `tvm_cpu` ~~MicroTVM: Any~~\n",
    "\n",
    "**Features:** The `tvm_profile` feature needs to be enabled"
   ]
  },
  {
   "cell_type": "markdown",
   "id": "501b6cb5",
   "metadata": {},
   "source": [
    "Let's only consider the `tvm_cpu` target here until this is supported officially by upstream TVM. Hence we are profiling on the host cpu here, not on a MCU or simulator. "
   ]
  },
  {
   "cell_type": "markdown",
   "id": "bab34b8e",
   "metadata": {},
   "source": [
    "### Prerequisites"
   ]
  },
  {
   "cell_type": "markdown",
   "id": "9f28ad19",
   "metadata": {},
   "source": [
    "Set up MLonmCU as usual, i.e. initializa an environment and install all required dependencies. Feel free to use the following minimal `environment.yml.j2` template:"
   ]
  },
  {
   "cell_type": "markdown",
   "id": "7da8b2d7",
   "metadata": {},
   "source": [
    "```yaml\n",
    "---\n",
    "TODO\n",
    "```"
   ]
  },
  {
   "cell_type": "markdown",
   "id": "aea3abab",
   "metadata": {},
   "source": [
    "Do not forget to set your `MLONMCU_HOME` environment variable first if not using the default location!"
   ]
  },
  {
   "cell_type": "markdown",
   "id": "06760327",
   "metadata": {},
   "source": [
    "### Usage"
   ]
  },
  {
   "cell_type": "markdown",
   "id": "bfb3a68f",
   "metadata": {},
   "source": [
    "TODO"
   ]
  },
  {
   "cell_type": "markdown",
   "id": "5dc993c4",
   "metadata": {},
   "source": [
    "#### A) Command Line Interface"
   ]
  },
  {
   "cell_type": "markdown",
   "id": "fb42b68b",
   "metadata": {},
   "source": [
    "First define a simple benchmark of a single model/backend/target combination:"
   ]
  },
  {
   "cell_type": "code",
   "execution_count": 3,
   "id": "ba9203cf",
   "metadata": {},
   "outputs": [
    {
     "name": "stdout",
     "output_type": "stream",
     "text": [
      "INFO - Loading environment cache from file\n",
      "INFO - Successfully initialized cache\n",
      "INFO - Loading extensions.py (User)\n",
      "INFO - [session-274]  Processing stage LOAD\n",
      "INFO - [session-274]  Processing stage BUILD\n",
      "INFO - [session-274]  Processing stage RUN\n",
      "INFO - All runs completed successfuly!\n",
      "INFO - Postprocessing session report\n",
      "INFO - [session-274] Done processing runs\n",
      "INFO - Report:\n",
      "   Session  Run   Model Frontend Framework  Backend Platform   Target  Runtime [s] Features                                             Config Postprocesses Comment\n",
      "0      274    0  resnet   tflite       tvm  tvmllvm      tvm  tvm_cpu     0.001342       []  {'tflite.use_inout_data': False, 'tflite.visua...            []       -\n"
     ]
    }
   ],
   "source": [
    "!python -m mlonmcu.cli.main flow run resnet -b tvmllvm -t tvm_cpu"
   ]
  },
  {
   "cell_type": "markdown",
   "id": "4f73578c",
   "metadata": {},
   "source": [
    "To enable TVM's profiling feature just just add `-f tvm_profile` to the command line:"
   ]
  },
  {
   "cell_type": "code",
   "execution_count": 5,
   "id": "ef315def",
   "metadata": {},
   "outputs": [
    {
     "name": "stdout",
     "output_type": "stream",
     "text": [
      "INFO - Loading environment cache from file\n",
      "INFO - Successfully initialized cache\n",
      "INFO - Loading extensions.py (User)\n",
      "INFO - [session-276]  Processing stage LOAD\n",
      "INFO - [session-276]  Processing stage BUILD\n",
      "INFO - [session-276]  Processing stage RUN\n",
      "INFO - All runs completed successfuly!\n",
      "INFO - Postprocessing session report\n",
      "INFO - [session-276] Done processing runs\n",
      "INFO - Report:\n",
      "    Session  Run   Model Frontend Framework  Backend Platform   Target                                                Sub   Runtime [s]       Features                                             Config Postprocesses Comment\n",
      "0       276    0  resnet   tflite       tvm  tvmllvm      tvm  tvm_cpu                                                NaN  8.562000e-04  [tvm_profile]  {'tflite.use_inout_data': False, 'tflite.visua...            []       -\n",
      "1       276    0  resnet   tflite       tvm  tvmllvm      tvm  tvm_cpu  tvmgen_default_fused_cast_subtract_fixed_point...  1.568800e-04  [tvm_profile]  {'tflite.use_inout_data': False, 'tflite.visua...            []       -\n",
      "2       276    0  resnet   tflite       tvm  tvmllvm      tvm  tvm_cpu  tvmgen_default_fused_nn_conv2d_add_cast_multip...  1.549100e-04  [tvm_profile]  {'tflite.use_inout_data': False, 'tflite.visua...            []       -\n",
      "3       276    0  resnet   tflite       tvm  tvmllvm      tvm  tvm_cpu  tvmgen_default_fused_nn_conv2d_add_cast_multip...  1.479600e-04  [tvm_profile]  {'tflite.use_inout_data': False, 'tflite.visua...            []       -\n",
      "4       276    0  resnet   tflite       tvm  tvmllvm      tvm  tvm_cpu  tvmgen_default_fused_nn_conv2d_add_cast_multip...  1.346800e-04  [tvm_profile]  {'tflite.use_inout_data': False, 'tflite.visua...            []       -\n",
      "5       276    0  resnet   tflite       tvm  tvmllvm      tvm  tvm_cpu  tvmgen_default_fused_nn_conv2d_add_cast_multip...  8.445000e-05  [tvm_profile]  {'tflite.use_inout_data': False, 'tflite.visua...            []       -\n",
      "6       276    0  resnet   tflite       tvm  tvmllvm      tvm  tvm_cpu  tvmgen_default_fused_nn_conv2d_add_cast_multip...  8.060000e-05  [tvm_profile]  {'tflite.use_inout_data': False, 'tflite.visua...            []       -\n",
      "7       276    0  resnet   tflite       tvm  tvmllvm      tvm  tvm_cpu  tvmgen_default_fused_nn_conv2d_add_cast_multip...  3.071000e-05  [tvm_profile]  {'tflite.use_inout_data': False, 'tflite.visua...            []       -\n",
      "8       276    0  resnet   tflite       tvm  tvmllvm      tvm  tvm_cpu  tvmgen_default_fused_nn_conv2d_add_cast_multip...  1.984000e-05  [tvm_profile]  {'tflite.use_inout_data': False, 'tflite.visua...            []       -\n",
      "9       276    0  resnet   tflite       tvm  tvmllvm      tvm  tvm_cpu  tvmgen_default_fused_nn_conv2d_add_cast_multip...  1.677000e-05  [tvm_profile]  {'tflite.use_inout_data': False, 'tflite.visua...            []       -\n",
      "10      276    0  resnet   tflite       tvm  tvmllvm      tvm  tvm_cpu                 tvmgen_default_fused_cast_subtract  7.770000e-06  [tvm_profile]  {'tflite.use_inout_data': False, 'tflite.visua...            []       -\n",
      "11      276    0  resnet   tflite       tvm  tvmllvm      tvm  tvm_cpu               tvmgen_default_fused_cast_subtract_1  7.470000e-06  [tvm_profile]  {'tflite.use_inout_data': False, 'tflite.visua...            []       -\n",
      "12      276    0  resnet   tflite       tvm  tvmllvm      tvm  tvm_cpu  tvmgen_default_fused_nn_contrib_dense_pack_add...  6.410000e-06  [tvm_profile]  {'tflite.use_inout_data': False, 'tflite.visua...            []       -\n",
      "13      276    0  resnet   tflite       tvm  tvmllvm      tvm  tvm_cpu            tvmgen_default_fused_nn_avg_pool2d_cast  2.150000e-06  [tvm_profile]  {'tflite.use_inout_data': False, 'tflite.visua...            []       -\n",
      "14      276    0  resnet   tflite       tvm  tvmllvm      tvm  tvm_cpu  tvmgen_default_fused_nn_softmax_divide_round_a...  1.200000e-06  [tvm_profile]  {'tflite.use_inout_data': False, 'tflite.visua...            []       -\n",
      "15      276    0  resnet   tflite       tvm  tvmllvm      tvm  tvm_cpu         tvmgen_default_fused_reshape_cast_subtract  7.200000e-07  [tvm_profile]  {'tflite.use_inout_data': False, 'tflite.visua...            []       -\n"
     ]
    }
   ],
   "source": [
    "!python -m mlonmcu.cli.main flow run resnet -b tvmllvm -t tvm_cpu -f tvm_profile"
   ]
  },
  {
   "cell_type": "markdown",
   "id": "25f50cb1",
   "metadata": {},
   "source": [
    "Since tvm used quite long function-names, this might not be very reaible. As a last step, let's try to improve that using the `filter_cols` postprocess:"
   ]
  },
  {
   "cell_type": "code",
   "execution_count": 7,
   "id": "7387412a",
   "metadata": {},
   "outputs": [
    {
     "name": "stdout",
     "output_type": "stream",
     "text": [
      "INFO - Loading environment cache from file\n",
      "INFO - Successfully initialized cache\n",
      "INFO - Loading extensions.py (User)\n",
      "INFO - [session-278]  Processing stage LOAD\n",
      "INFO - [session-278]  Processing stage BUILD\n",
      "INFO - [session-278]  Processing stage RUN\n",
      "INFO - [session-278]  Processing stage POSTPROCESS\n",
      "INFO - All runs completed successfuly!\n",
      "INFO - Postprocessing session report\n",
      "INFO - [session-278] Done processing runs\n",
      "INFO - Report:\n",
      "     Model                                                Sub   Runtime [s]\n",
      "0   resnet                                                NaN  1.063600e-03\n",
      "1   resnet  tvmgen_default_fused_cast_subtract_fixed_point...  2.024000e-04\n",
      "2   resnet  tvmgen_default_fused_nn_conv2d_add_cast_multip...  1.971900e-04\n",
      "3   resnet  tvmgen_default_fused_nn_conv2d_add_cast_multip...  1.941100e-04\n",
      "4   resnet  tvmgen_default_fused_nn_conv2d_add_cast_multip...  1.896400e-04\n",
      "5   resnet  tvmgen_default_fused_nn_conv2d_add_cast_multip...  1.057300e-04\n",
      "6   resnet  tvmgen_default_fused_nn_conv2d_add_cast_multip...  1.020000e-04\n",
      "7   resnet  tvmgen_default_fused_nn_conv2d_add_cast_multip...  3.309000e-05\n",
      "8   resnet  tvmgen_default_fused_nn_conv2d_add_cast_multip...  2.302000e-05\n",
      "9   resnet  tvmgen_default_fused_nn_conv2d_add_cast_multip...  1.850000e-05\n",
      "10  resnet               tvmgen_default_fused_cast_subtract_1  7.390000e-06\n",
      "11  resnet                 tvmgen_default_fused_cast_subtract  7.310000e-06\n",
      "12  resnet  tvmgen_default_fused_nn_contrib_dense_pack_add...  6.310000e-06\n",
      "13  resnet            tvmgen_default_fused_nn_avg_pool2d_cast  1.890000e-06\n",
      "14  resnet  tvmgen_default_fused_nn_softmax_divide_round_a...  8.300000e-07\n",
      "15  resnet         tvmgen_default_fused_reshape_cast_subtract  5.700000e-07\n"
     ]
    }
   ],
   "source": [
    "!python -m mlonmcu.cli.main flow run resnet -b tvmllvm -t tvm_cpu -f tvm_profile \\\n",
    "        --postprocess filter_cols -c filter_cols.keep=\"Model,Sub,Runtime [s]\""
   ]
  },
  {
   "cell_type": "markdown",
   "id": "9923e157",
   "metadata": {},
   "source": [
    "#### B) Python Scripting"
   ]
  },
  {
   "cell_type": "markdown",
   "id": "7b423f33",
   "metadata": {},
   "source": [
    "TODO"
   ]
  }
 ],
 "metadata": {
  "kernelspec": {
   "display_name": "Python 3 (ipykernel)",
   "language": "python",
   "name": "python3"
  },
  "language_info": {
   "codemirror_mode": {
    "name": "ipython",
    "version": 3
   },
   "file_extension": ".py",
   "mimetype": "text/x-python",
   "name": "python",
   "nbconvert_exporter": "python",
   "pygments_lexer": "ipython3",
   "version": "3.8.10"
  }
 },
 "nbformat": 4,
 "nbformat_minor": 5
}
